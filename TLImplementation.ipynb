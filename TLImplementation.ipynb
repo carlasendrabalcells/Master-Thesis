{
 "cells": [
  {
   "cell_type": "markdown",
   "metadata": {
    "colab": {
     "base_uri": "https://localhost:8080/",
     "height": 17
    },
    "colab_type": "code",
    "executionInfo": {
     "elapsed": 3813,
     "status": "ok",
     "timestamp": 1600433980331,
     "user": {
      "displayName": "Carla Sendra Balcells",
      "photoUrl": "https://lh5.googleusercontent.com/-M_Gw7n6lBfA/AAAAAAAAAAI/AAAAAAAAFwA/PeCXexgY6_8/s64/photo.jpg",
      "userId": "01855518481907913222"
     },
     "user_tz": -120
    },
    "id": "39l1p_BsLOgz",
    "outputId": "311d6d8c-57b2-47ac-e058-2bf41dab5135"
   },
   "source": [
    "## Fine-tuning"
   ]
  },
  {
   "cell_type": "markdown",
   "metadata": {},
   "source": [
    "Here the data preparation and data processing is implemented. Then, the training and validation of the model is performed, using a data augmentation pipeline, which includes spatial and intensity-based techniques. However, a pre-trained model is loaded and just a few layers are fine-tuned. The GOAL is to re-train a model to segment the left ventricle and the myocardium using LGE-MRI images from a new dataset. "
   ]
  },
  {
   "cell_type": "markdown",
   "metadata": {},
   "source": [
    "##### Import libraries:"
   ]
  },
  {
   "cell_type": "code",
   "execution_count": 1,
   "metadata": {},
   "outputs": [],
   "source": [
    "import nibabel as nib\n",
    "import matplotlib.pyplot as plt\n",
    "import random\n",
    "import torch\n",
    "import torch.nn as nn\n",
    "import numpy as np\n",
    "from tqdm import tqdm\n",
    "import torch.nn.functional as F\n",
    "from matplotlib.backends.backend_pdf import PdfPages\n",
    "import os \n",
    "import pandas as pd\n",
    "from torch.utils.data import Dataset\n",
    "from torch.utils.data import DataLoader\n",
    "from albumentations.augmentations.transforms import HorizontalFlip, VerticalFlip, Rotate, RandomScale, GaussNoise, RandomGamma, RandomBrightnessContrast, Resize\n",
    "import re\n",
    "import cv2\n",
    "from skimage import measure, exposure\n",
    "import torchvision"
   ]
  },
  {
   "cell_type": "markdown",
   "metadata": {},
   "source": [
    "##### Data preparation: "
   ]
  },
  {
   "cell_type": "code",
   "execution_count": 2,
   "metadata": {
    "colab": {},
    "colab_type": "code",
    "executionInfo": {
     "elapsed": 3761,
     "status": "ok",
     "timestamp": 1600433980339,
     "user": {
      "displayName": "Carla Sendra Balcells",
      "photoUrl": "https://lh5.googleusercontent.com/-M_Gw7n6lBfA/AAAAAAAAAAI/AAAAAAAAFwA/PeCXexgY6_8/s64/photo.jpg",
      "userId": "01855518481907913222"
     },
     "user_tz": -120
    },
    "id": "Ne5ooydHyQFk"
   },
   "outputs": [],
   "source": [
    "#Function to load nifti files\n",
    "\n",
    "def load_nii(path): \n",
    "    data = nib.load(path)\n",
    "    return data.get_fdata()"
   ]
  },
  {
   "cell_type": "markdown",
   "metadata": {},
   "source": [
    "Define paths to the training and validation folders to access LGE-MRI volumes and the corresponding masks: "
   ]
  },
  {
   "cell_type": "code",
   "execution_count": 3,
   "metadata": {
    "colab": {
     "base_uri": "https://localhost:8080/",
     "height": 110
    },
    "colab_type": "code",
    "executionInfo": {
     "elapsed": 3723,
     "status": "ok",
     "timestamp": 1600433980345,
     "user": {
      "displayName": "Carla Sendra Balcells",
      "photoUrl": "https://lh5.googleusercontent.com/-M_Gw7n6lBfA/AAAAAAAAAAI/AAAAAAAAFwA/PeCXexgY6_8/s64/photo.jpg",
      "userId": "01855518481907913222"
     },
     "user_tz": -120
    },
    "id": "57p4sAO-OvWb",
    "outputId": "4ccd1402-2682-4418-c975-8d61f0543b0e"
   },
   "outputs": [],
   "source": [
    "data_path_train = '/home/carla/Desktop/euCanSHare/Datasets/training/training_STPAU'\n",
    "listdir_train = os.listdir(data_path_train)\n",
    "df_train = pd.DataFrame({'patient': listdir_train})\n",
    "df_train = df_train[:1] #number of samples used to fine-tune"
   ]
  },
  {
   "cell_type": "code",
   "execution_count": 4,
   "metadata": {},
   "outputs": [],
   "source": [
    "imgs_path_train = [d + '/' + 'patient' + re.findall(r'\\d+', d)[0] + '_LGE.nii.gz' for d in df_train.patient]\n",
    "masks_path_train = [d + '/' + 'patient' + re.findall(r'\\d+', d)[0] + '_LGE_gt.nii.gz' for d in df_train.patient]"
   ]
  },
  {
   "cell_type": "code",
   "execution_count": 5,
   "metadata": {},
   "outputs": [],
   "source": [
    "data_path_val = '/home/carla/Desktop/euCanSHare/Datasets/validation/validation_STPAU'\n",
    "listdir_val = os.listdir(data_path_val)\n",
    "df_val = pd.DataFrame({'patient': listdir_val})\n",
    "df_val = df_val[:1] #number of samples used to fine-tune"
   ]
  },
  {
   "cell_type": "code",
   "execution_count": 6,
   "metadata": {},
   "outputs": [],
   "source": [
    "imgs_path_val = [d + '/' + 'patient' + re.findall(r'\\d+', d)[0] + '_LGE.nii.gz' for d in df_val.patient]\n",
    "masks_path_val = [d + '/' + 'patient' + re.findall(r'\\d+', d)[0] + '_LGE_gt.nii.gz' for d in df_val.patient]"
   ]
  },
  {
   "cell_type": "markdown",
   "metadata": {},
   "source": [
    "Read data and save each slice as .npy file so that it is faster to load during training:"
   ]
  },
  {
   "cell_type": "code",
   "execution_count": 7,
   "metadata": {
    "colab": {},
    "colab_type": "code",
    "executionInfo": {
     "elapsed": 845,
     "status": "ok",
     "timestamp": 1600433982901,
     "user": {
      "displayName": "Carla Sendra Balcells",
      "photoUrl": "https://lh5.googleusercontent.com/-M_Gw7n6lBfA/AAAAAAAAAAI/AAAAAAAAFwA/PeCXexgY6_8/s64/photo.jpg",
      "userId": "01855518481907913222"
     },
     "user_tz": -120
    },
    "id": "6SuM5HCmg2sk"
   },
   "outputs": [],
   "source": [
    "#Function to load the data volumes and masks to save each slice in .npy format and in separate folders\n",
    "\n",
    "def generate_slices(data_path, df_path, imgs_path, masks_path): \n",
    "    \n",
    "    for ix, p in enumerate (tqdm(df_path.patient)): \n",
    "        if \"VH\" in imgs_path[ix] or \"STPAU\" in imgs_path[ix]:\n",
    "            v_lge = load_nii('{}/{}'.format(data_path, imgs_path[ix]))[:,:,:,0]\n",
    "            v_gt = load_nii('{}/{}'.format(data_path, masks_path[ix]))[:,:,:,0]\n",
    "        else: \n",
    "            v_lge = load_nii('{}/{}'.format(data_path, imgs_path[ix]))\n",
    "            v_gt = load_nii('{}/{}'.format(data_path, masks_path[ix]))\n",
    "            \n",
    "        img_folder = '{}/{}/img_slices'.format(data_path, p)\n",
    "        if not os.path.exists(img_folder): \n",
    "            os.mkdir(img_folder) #create folder for each subject to save image slices \n",
    "        channels = v_lge.shape[2]\n",
    "        for c in range (channels):\n",
    "            img = v_lge[:, :, c]\n",
    "            if img.shape[0] < img.shape[1]: \n",
    "                img = np.rot90(img)  \n",
    "            np.save('{}/img_{}'.format(img_folder,c) + '.npy', img)\n",
    "\n",
    "        mask_folder = '{}/{}/gt_slices'.format(data_path, p)\n",
    "        if not os.path.exists(mask_folder): \n",
    "            os.mkdir(mask_folder) #create folder for each subject to save segmentation slices\n",
    "        channels = v_gt.shape[2]\n",
    "        for c in range (channels):\n",
    "            gt = np.array(v_gt[:, :, c], dtype=np.uint8)\n",
    "            if gt.shape[0] < gt.shape[1]:\n",
    "                gt = np.rot90(gt)\n",
    "            np.save('{}/gt_{}'.format(mask_folder,c) + '.npy', gt)"
   ]
  },
  {
   "cell_type": "markdown",
   "metadata": {},
   "source": [
    "Load volumes and masks and save each slice as .npy file in separate folders:"
   ]
  },
  {
   "cell_type": "code",
   "execution_count": 8,
   "metadata": {
    "colab": {
     "base_uri": "https://localhost:8080/",
     "height": 35
    },
    "colab_type": "code",
    "executionInfo": {
     "elapsed": 454,
     "status": "ok",
     "timestamp": 1600433983206,
     "user": {
      "displayName": "Carla Sendra Balcells",
      "photoUrl": "https://lh5.googleusercontent.com/-M_Gw7n6lBfA/AAAAAAAAAAI/AAAAAAAAFwA/PeCXexgY6_8/s64/photo.jpg",
      "userId": "01855518481907913222"
     },
     "user_tz": -120
    },
    "id": "2CZaqTFdwbQR",
    "outputId": "b1564355-d548-48b3-832d-d8eca07c40b5"
   },
   "outputs": [
    {
     "name": "stderr",
     "output_type": "stream",
     "text": [
      "100%|██████████| 1/1 [00:00<00:00, 20.38it/s]\n"
     ]
    }
   ],
   "source": [
    "generate_slices(data_path_train, df_train, imgs_path_train, masks_path_train)"
   ]
  },
  {
   "cell_type": "code",
   "execution_count": 9,
   "metadata": {},
   "outputs": [
    {
     "name": "stderr",
     "output_type": "stream",
     "text": [
      "100%|██████████| 1/1 [00:00<00:00, 19.04it/s]\n"
     ]
    }
   ],
   "source": [
    "generate_slices(data_path_val, df_val, imgs_path_val, masks_path_val)"
   ]
  },
  {
   "cell_type": "code",
   "execution_count": 10,
   "metadata": {},
   "outputs": [
    {
     "data": {
      "text/plain": [
       "(1, 1)"
      ]
     },
     "execution_count": 10,
     "metadata": {},
     "output_type": "execute_result"
    }
   ],
   "source": [
    "len(df_train), len(df_val) #number of training and validation subjects"
   ]
  },
  {
   "cell_type": "markdown",
   "metadata": {},
   "source": [
    "Define paths to call folder with .npy slices"
   ]
  },
  {
   "cell_type": "code",
   "execution_count": 11,
   "metadata": {
    "colab": {},
    "colab_type": "code",
    "executionInfo": {
     "elapsed": 701,
     "status": "ok",
     "timestamp": 1600433986165,
     "user": {
      "displayName": "Carla Sendra Balcells",
      "photoUrl": "https://lh5.googleusercontent.com/-M_Gw7n6lBfA/AAAAAAAAAAI/AAAAAAAAFwA/PeCXexgY6_8/s64/photo.jpg",
      "userId": "01855518481907913222"
     },
     "user_tz": -120
    },
    "id": "EgUDJIf2ZbWY"
   },
   "outputs": [],
   "source": [
    "img_path_train = [d + '/img_slices' for d in df_train.patient]\n",
    "gt_path_train = [d + '/gt_slices' for d in df_train.patient]\n",
    "\n",
    "img_path_val = [d + '/img_slices' for d in df_val.patient]\n",
    "gt_path_val = [d + '/gt_slices' for d in df_val.patient]"
   ]
  },
  {
   "cell_type": "markdown",
   "metadata": {},
   "source": [
    "Visualisation of images and groundtruths of the training data to make sure that the data is loaded properly: "
   ]
  },
  {
   "cell_type": "code",
   "execution_count": 12,
   "metadata": {
    "colab": {
     "base_uri": "https://localhost:8080/",
     "height": 263
    },
    "colab_type": "code",
    "executionInfo": {
     "elapsed": 2221,
     "status": "ok",
     "timestamp": 1600433988279,
     "user": {
      "displayName": "Carla Sendra Balcells",
      "photoUrl": "https://lh5.googleusercontent.com/-M_Gw7n6lBfA/AAAAAAAAAAI/AAAAAAAAFwA/PeCXexgY6_8/s64/photo.jpg",
      "userId": "01855518481907913222"
     },
     "user_tz": -120
    },
    "id": "p43E62LxRLj4",
    "outputId": "2840992e-de70-417b-d442-6508bafb276c"
   },
   "outputs": [
    {
     "name": "stdout",
     "output_type": "stream",
     "text": [
      "3\n",
      "(288, 288) float64 682.0 0.0\n",
      "(288, 288) uint8 2 0\n"
     ]
    },
    {
     "data": {
      "image/png": "[encoded data removed]",
      "text/plain": [
       "<Figure size 2160x720 with 3 Axes>"
      ]
     },
     "metadata": {
      "needs_background": "light"
     },
     "output_type": "display_data"
    }
   ],
   "source": [
    "fig, (ax1, ax2, ax3) = plt.subplots(1, 3,figsize=(30,10))\n",
    "ix = random.randint(0, len(gt_path_train)-1)\n",
    "channel = random.randint(0, 5)\n",
    "img = np.load('{}/{}/img_{}.npy'.format(data_path_train, img_path_train[ix], channel))\n",
    "gt = np.load('{}/{}/gt_{}.npy'.format(data_path_train, gt_path_train[ix], channel))\n",
    "ax1.imshow(img[:,:], cmap='gist_gray')\n",
    "ax2.imshow(gt[:,:], cmap='nipy_spectral')\n",
    "ax3.imshow(img[:,:], cmap='gist_gray')\n",
    "ax3.imshow(gt[:,:], alpha=0.5, cmap='nipy_spectral')\n",
    "\n",
    "print(channel)\n",
    "print(img.shape, img.dtype, img.max(), img.min())\n",
    "print(gt.shape, gt.dtype, gt.max(), gt.min())"
   ]
  },
  {
   "cell_type": "code",
   "execution_count": 13,
   "metadata": {},
   "outputs": [],
   "source": [
    "#Function to obtain center coordinates\n",
    "\n",
    "def get_center_crop_coords(width, height, crop_width, crop_height):\n",
    "    y1 = (width - crop_width) // 2\n",
    "    y2 = y1 + crop_width\n",
    "    x1 = (height - crop_height) // 2\n",
    "    x2 = x1 + crop_height\n",
    "    return x1, y1, x2, y2\n",
    "\n",
    "#Function to implement a center cropping\n",
    "\n",
    "def center_crop(img, gt, crop_width, crop_height):\n",
    "    width, height = img.shape[:2]\n",
    "    case = 0\n",
    "    \n",
    "    if width <= 256 and height >= 256: #crop height\n",
    "        crop = 256\n",
    "        x1 = (height - crop) // 2\n",
    "        x2 = x1 + crop\n",
    "        y1 = 0\n",
    "        y2 = width\n",
    "        case = 1\n",
    "    \n",
    "    if width >= 256 and height <= 256: #crop width\n",
    "        crop = 256\n",
    "        y1 = (width - crop) // 2\n",
    "        y2 = y1 + crop \n",
    "        x1 = 0\n",
    "        x2 = height\n",
    "        case = 2\n",
    "        \n",
    "    if width >= 256 and height >= 256: #crop both \n",
    "        x1, y1, x2, y2 = get_center_crop_coords(width, height, crop_width, crop_height)\n",
    "        case = 3\n",
    "    \n",
    "    if width <= 256 and height <= 256: #crop none of them\n",
    "        case = 4\n",
    "\n",
    "    sum_MYO_LV = gt.sum() #make sure the gt is not removed\n",
    "    count = 0\n",
    "    while True:\n",
    "        if case == 1: \n",
    "            y1 = 0\n",
    "            y2 = width\n",
    "            img_cropped = img[y1:y2, x1:x2]\n",
    "            gt_cropped = gt[y1:y2, x1:x2]\n",
    "        if case == 2: \n",
    "            x1 = 0\n",
    "            x2 = height \n",
    "            img_cropped = img[y1:y2, x1:x2]\n",
    "            gt_cropped = gt[y1:y2, x1:x2]\n",
    "        if case == 3: \n",
    "            img_cropped = img[y1:y2, x1:x2]\n",
    "            gt_cropped = gt[y1:y2, x1:x2]\n",
    "        else: \n",
    "            img_cropped = img\n",
    "            gt_cropped = gt\n",
    "        \n",
    "        if gt_cropped.sum() == sum_MYO_LV: \n",
    "            #gt is not removed\n",
    "            break\n",
    "        \n",
    "        #gt is removed\n",
    "        \n",
    "        #go for a center cropping \n",
    "        if count == 0:   \n",
    "            x1, y1, x2, y2 = get_center_crop_coords(width, height, crop_width, crop_height)\n",
    "        #else:\n",
    "        if count > 0 and count < 30: #shorten height \n",
    "            x1 += 10\n",
    "            x2 -= 10\n",
    "        if count == 30: \n",
    "            x1, y1, x2, y2 = get_center_crop_coords(width, height, crop_width, crop_height)\n",
    "        \n",
    "        if count > 30 and count < 60: #lengthen height \n",
    "            x2 += 10\n",
    "            x1 -= 10\n",
    "        if count == 60: \n",
    "            x1, y1, x2, y2 = get_center_crop_coords(width, height, crop_width, crop_height)            \n",
    "        \n",
    "        if count > 60 and count < 90: #shorten width \n",
    "            y1 += 10\n",
    "            y2 -= 10\n",
    "        if count == 90: \n",
    "            x1, y1, x2, y2 = get_center_crop_coords(width, height, crop_width, crop_height) \n",
    "        \n",
    "        if count > 90 and count < 120: #lengthen width \n",
    "            y2 += 10\n",
    "            y1 -= 10\n",
    "        if count == 120: \n",
    "            x1, y1, x2, y2 = get_center_crop_coords(width, height, crop_width, crop_height)            \n",
    "        \n",
    "        if count > 120 and count < 150: #lengthen width and height\n",
    "            y2 += 10\n",
    "            y1 -= 10\n",
    "            x2 += 10\n",
    "            x1 -= 10\n",
    "        if count == 150: \n",
    "            x1, y1, x2, y2 = get_center_crop_coords(width, height, crop_width, crop_height)            \n",
    "        \n",
    "        if count > 150 and count < 180: #legthen width and shorten height\n",
    "            y2 += 10\n",
    "            y1 -= 10\n",
    "            x2 -= 10\n",
    "            x1 += 10\n",
    "        if count == 180: \n",
    "            x1, y1, x2, y2 = get_center_crop_coords(width, height, crop_width, crop_height)            \n",
    "        \n",
    "        if count > 180 and count < 210: #shorten width and height\n",
    "            y2 -= 10\n",
    "            y1 += 10\n",
    "            x2 -= 10\n",
    "            x1 += 10\n",
    "        if count == 210: \n",
    "            x1, y1, x2, y2 = get_center_crop_coords(width, height, crop_width, crop_height)            \n",
    "        \n",
    "        if count > 210: #shorten width and lengthen height\n",
    "            y2 -= 10\n",
    "            y1 += 10\n",
    "            x2 += 10\n",
    "            x1 -= 10\n",
    "        count += 1\n",
    "    \n",
    "    if img_cropped.shape[0] != 256 or img_cropped.shape[1] != 256: #if the size is not the desired one resize\n",
    "        resize = Resize(256, 256)\n",
    "        img_cropped = resize(image=img_cropped)['image']\n",
    "        gt_cropped = resize(image=gt_cropped)['image']\n",
    "               \n",
    "    return img_cropped, gt_cropped"
   ]
  },
  {
   "cell_type": "code",
   "execution_count": 14,
   "metadata": {},
   "outputs": [],
   "source": [
    "#Function to obtain random coordinates\n",
    "\n",
    "def get_random_crop_coords(width, height, crop_width, crop_height, h_start, w_start):\n",
    "    y1 = int((width - crop_width) * h_start)\n",
    "    y2 = y1 + crop_width\n",
    "    x1 = int((height - crop_height) * w_start)\n",
    "    x2 = x1 + crop_height\n",
    "    return x1, y1, x2, y2\n",
    "\n",
    "\n",
    "#Function to implement a random cropping\n",
    "\n",
    "def random_crop(img, gt, crop_width, crop_height):\n",
    "    width, height = img.shape[:2]\n",
    "    case = 0\n",
    "    \n",
    "    if width <= 256 and height >= 256: #crop height\n",
    "        crop = 256\n",
    "        x1 = (height - crop) // 2\n",
    "        x2 = x1 + crop\n",
    "        y1 = 0\n",
    "        y2 = width\n",
    "        case = 1\n",
    "    \n",
    "    if width >= 256 and height <= 256: #crop width\n",
    "        crop = 256\n",
    "        y1 = (width - crop) // 2\n",
    "        y2 = y1 + crop \n",
    "        x1 = 0\n",
    "        x2 = height\n",
    "        case = 2\n",
    "        \n",
    "    if width >= 256 and height >= 256: #crop both \n",
    "        h_start = random.random()\n",
    "        w_start = random.random()\n",
    "        x1, y1, x2, y2 = get_random_crop_coords(width, height, crop_width, crop_height, h_start, w_start)\n",
    "        case = 3\n",
    "    \n",
    "    if width <= 256 and height <= 256: #crop none of them\n",
    "        case = 4\n",
    "\n",
    "    sum_MYO_LV = gt.sum() #make sure the gt is not removed\n",
    "    count = 0\n",
    "    while True:\n",
    "        if case == 1: \n",
    "            y1 = 0\n",
    "            y2 = width\n",
    "            img_cropped = img[y1:y2, x1:x2]\n",
    "            gt_cropped = gt[y1:y2, x1:x2]\n",
    "        if case == 2: \n",
    "            x1 = 0\n",
    "            x2 = height \n",
    "            img_cropped = img[y1:y2, x1:x2]\n",
    "            gt_cropped = gt[y1:y2, x1:x2]\n",
    "        if case == 3: \n",
    "            img_cropped = img[y1:y2, x1:x2]\n",
    "            gt_cropped = gt[y1:y2, x1:x2]\n",
    "        else: \n",
    "            img_cropped = img\n",
    "            gt_cropped = gt\n",
    "        \n",
    "        if gt_cropped.sum() == sum_MYO_LV: \n",
    "            #gt is not removed\n",
    "            break\n",
    "        \n",
    "        #gt is removed\n",
    "        if count<15: #try random coordinates 14 times more    \n",
    "            h_start = random.random()\n",
    "            w_start = random.random()\n",
    "            x1, y1, x2, y2 = get_random_crop_coords(width, height, crop_width, crop_height, h_start, w_start)     \n",
    "        \n",
    "        #otherwise go for a center cropping \n",
    "        if count == 15:   \n",
    "            x1, y1, x2, y2 = get_center_crop_coords(width, height, crop_width, crop_height)\n",
    "        #else:\n",
    "        if count > 15 and count < 45: #shorten height \n",
    "            x1 += 10\n",
    "            x2 -= 10\n",
    "        if count == 45: \n",
    "            x1, y1, x2, y2 = get_center_crop_coords(width, height, crop_width, crop_height)\n",
    "        \n",
    "        if count > 45 and count < 75: #lengthen height \n",
    "            x2 += 10\n",
    "            x1 -= 10\n",
    "        if count == 75: \n",
    "            x1, y1, x2, y2 = get_center_crop_coords(width, height, crop_width, crop_height)            \n",
    "        \n",
    "        if count > 75 and count < 105: #shorten width \n",
    "            y1 += 10\n",
    "            y2 -= 10\n",
    "        if count == 105: \n",
    "            x1, y1, x2, y2 = get_center_crop_coords(width, height, crop_width, crop_height) \n",
    "        \n",
    "        if count > 105 and count < 135: #lengthen width \n",
    "            y2 += 10\n",
    "            y1 -= 10\n",
    "        if count == 135: \n",
    "            x1, y1, x2, y2 = get_center_crop_coords(width, height, crop_width, crop_height)            \n",
    "        \n",
    "        if count > 135 and count < 165: #lengthen width and height\n",
    "            y2 += 10\n",
    "            y1 -= 10\n",
    "            x2 += 10\n",
    "            x1 -= 10\n",
    "        if count == 165: \n",
    "            x1, y1, x2, y2 = get_center_crop_coords(width, height, crop_width, crop_height)            \n",
    "        \n",
    "        if count > 165 and count < 195: #legthen width and shorten height\n",
    "            y2 += 10\n",
    "            y1 -= 10\n",
    "            x2 -= 10\n",
    "            x1 += 10\n",
    "        if count == 195: \n",
    "            x1, y1, x2, y2 = get_center_crop_coords(width, height, crop_width, crop_height)            \n",
    "        \n",
    "        if count > 195 and count < 225: #shorten width and height\n",
    "            y2 -= 10\n",
    "            y1 += 10\n",
    "            x2 -= 10\n",
    "            x1 += 10\n",
    "        if count == 225: \n",
    "            x1, y1, x2, y2 = get_center_crop_coords(width, height, crop_width, crop_height)            \n",
    "        \n",
    "        if count > 225: #shorten width and lengthen height\n",
    "            y2 -= 10\n",
    "            y1 += 10\n",
    "            x2 += 10\n",
    "            x1 -= 10\n",
    "        count += 1\n",
    "    \n",
    "    if img_cropped.shape[0] != 256 or img_cropped.shape[1] != 256: #if the size is not the desired one resize\n",
    "        resize = Resize(256, 256)\n",
    "        img_cropped = resize(image=img_cropped)['image']\n",
    "        gt_cropped = resize(image=gt_cropped)['image']\n",
    "               \n",
    "    return img_cropped, gt_cropped"
   ]
  },
  {
   "cell_type": "code",
   "execution_count": 15,
   "metadata": {},
   "outputs": [],
   "source": [
    "#Function to apply inverse gamma\n",
    "\n",
    "def gamma_inverse(img, gamma_limit):\n",
    "    gamma = random.randint(gamma_limit[0], gamma_limit[1]) / 100.0\n",
    "    if img.dtype == np.uint8:\n",
    "        table = (np.arange(0, 256.0 / 255, 1.0 / 255) ** (1/gamma)) * 255\n",
    "        img = cv2.LUT(img, table.astype(np.uint8))\n",
    "    else:\n",
    "        img = np.power(img, gamma)\n",
    "\n",
    "    return img"
   ]
  },
  {
   "cell_type": "code",
   "execution_count": 16,
   "metadata": {},
   "outputs": [],
   "source": [
    "#Funtion to keep only the largest connected components in the mask  \n",
    "\n",
    "def keep_largest_connected_components(mask):\n",
    "    '''\n",
    "    Keeps only the largest connected components of each label for a segmentation mask.\n",
    "    '''\n",
    "\n",
    "    out_img = np.zeros(mask.shape, dtype=np.uint8)\n",
    "\n",
    "    for struc_id in [1, 2, 3]:\n",
    "\n",
    "        binary_img = mask == struc_id\n",
    "        blobs = measure.label(binary_img, connectivity=1)\n",
    "\n",
    "        props = measure.regionprops(blobs)\n",
    "\n",
    "        if not props:\n",
    "            continue\n",
    "\n",
    "        area = [ele.area for ele in props]\n",
    "        largest_blob_ind = np.argmax(area)\n",
    "        largest_blob_label = props[largest_blob_ind].label\n",
    "\n",
    "        out_img[blobs == largest_blob_label] = struc_id\n",
    "\n",
    "    return out_img"
   ]
  },
  {
   "cell_type": "markdown",
   "metadata": {},
   "source": [
    "Create the DataLoader:"
   ]
  },
  {
   "cell_type": "code",
   "execution_count": 17,
   "metadata": {},
   "outputs": [],
   "source": [
    "class MRIDataset(Dataset): \n",
    "    def __init__(self, data_path, img_path, gt_path, augmentation=True, num_classes=3):\n",
    "        self.data_path = data_path\n",
    "        self.img_path = img_path\n",
    "        self.gt_path = gt_path\n",
    "        self.augmentation = augmentation\n",
    "        self.num_classes = num_classes\n",
    "    def __len__(self):\n",
    "        return len(self.img_path) \n",
    "    def __getitem__(self, ix): #slice by slice \n",
    "                \n",
    "        img = np.load('{}/{}'.format(self.data_path, self.img_path[ix]))\n",
    "                \n",
    "        gt = np.load('{}/{}'.format(self.data_path, self.gt_path[ix]))\n",
    "                                         \n",
    "        if \"MSCMR\" in self.img_path[ix]: \n",
    "            self.num_classes = 4 \n",
    "        if \"EMIDEC\" in self.img_path[ix]:\n",
    "            mask = img>0 #remove black background\n",
    "            img = img[np.ix_(mask.any(1),mask.any(0))]\n",
    "            gt = gt[np.ix_(mask.any(1),mask.any(0))]\n",
    "            self.num_classes = 5\n",
    "        if \"VH\" in self.img_path[ix]: \n",
    "            mask = img>0 #remove black background\n",
    "            img = img[np.ix_(mask.any(1),mask.any(0))]\n",
    "            gt = gt[np.ix_(mask.any(1),mask.any(0))]\n",
    "        \n",
    "        if self.augmentation: #spatial-based data augmentation\n",
    "                \n",
    "            horizontal_flip = HorizontalFlip(p=0.2)\n",
    "            vertical_flip = VerticalFlip(p=0.2)\n",
    "            rotation = Rotate(p=0.2, limit=[-30, 30])\n",
    "            rescale = RandomScale(scale_limit=[0.75, 1.18], p=0.2) \n",
    "            \n",
    "            data = horizontal_flip(image=img, mask=gt) #horizational flip\n",
    "            img = data['image']\n",
    "            gt = data['mask']\n",
    "\n",
    "            data = vertical_flip(image=img, mask=gt) #vertical flip\n",
    "            img = data['image']\n",
    "            gt = data['mask']\n",
    "            \n",
    "            data = rotation(image=img, mask=gt) #rotation\n",
    "            img = data['image']\n",
    "            gt = data['mask'] \n",
    "\n",
    "            data = rescale(image=img, mask=gt) #rescaling\n",
    "            img = data['image']\n",
    "            gt = data['mask']\n",
    "            \n",
    "            [img, gt] = random_crop(img, gt, 256, 256) #cropping\n",
    "        \n",
    "        else: #baseline\n",
    "            [img, gt] = center_crop(img, gt, 256, 256) #cropping\n",
    "            \n",
    "        img = np.array((img-np.min(img))/(np.max(img)-np.min(img)), dtype=np.float32) #min-max normalisation\n",
    "               \n",
    "        if self.augmentation: #intensity-based data augmentation\n",
    "        \n",
    "            gaussian = GaussNoise(var_limit=(0, 0.001), p=0.2)\n",
    "            gamma = RandomGamma(gamma_limit=(70, 150), p=0.2)\n",
    "            brightness = RandomBrightnessContrast(brightness_limit=(0.5), contrast_limit=0, p=0.2)\n",
    "            contrast = RandomBrightnessContrast(brightness_limit=0, contrast_limit=(0.5), p=0.2)\n",
    "            \n",
    "            img = img.astype('float32')\n",
    "            if random.uniform(0,1) < 0.2: \n",
    "                img = cv2.bilateralFilter(img,7,75,75) #bilateral filtering\n",
    "            \n",
    "            img = gaussian(image=img)['image'] #gaussian\n",
    "            \n",
    "            img = gamma(image=img)['image'] #gamma\n",
    "            \n",
    "            if random.uniform(0,1) < 0.2:\n",
    "                img = gamma_inverse(img=img, gamma_limit=(70, 150)) #inverse gamma\n",
    "            \n",
    "            img = brightness(image=img)['image'] #brightness\n",
    "            \n",
    "            img = contrast(image=img)['image'] #contrast\n",
    "                    \n",
    "        gt = (np.arange(self.num_classes) == gt[...,None]).astype(int) #create binary gt\n",
    "        \n",
    "        if \"MSCMR\" in self.img_path[ix]: #remove noise from the resize of the groundtruth\n",
    "            gt[:,:,3] = keep_largest_connected_components(gt[:,:,3])\n",
    "        else:\n",
    "            gt[:,:,1] = keep_largest_connected_components(gt[:,:,1])        \n",
    "        \n",
    "        #keep only 3 labels: BG (0), MYO(1) and LV(2)\n",
    "        if \"MSCMR\" in self.img_path[ix]:\n",
    "            gt[:, :, 0] += gt[:, :, 1] #0:BG\n",
    "            gt[:, :, 1] = gt[:, :, 2] #1:MYO\n",
    "            gt[:, :, 2] = gt[:, :, 3] #2:LV\n",
    "            gt = gt[:, :, 0:3] \n",
    "            \n",
    "        if \"EMIDEC\" in self.img_path[ix]:            \n",
    "            gt[:,:,3] += gt[:,:,2] #1:MYO\n",
    "            gt[:,:,3] += gt[:,:,4] #1:MYO\n",
    "            gt[:,:,2] = gt[:,:,1] #2:LV\n",
    "            gt[:,:,1] = gt[:,:,3] #1:MYO\n",
    "            gt = gt [:,:,0:3]\n",
    "            \n",
    "        if \"VH\" in self.img_path[ix] or \"STPAU\" in self.img_path[ix]: \n",
    "            gt_ = np.zeros((gt.shape))\n",
    "            gt_[:,:,0] = gt[:,:,0] #0:BG\n",
    "            gt_[:,:,1] = gt[:,:,2] #1:MYO\n",
    "            gt_[:,:,2] = gt[:,:,1] #2:LV\n",
    "            gt = gt_\n",
    "                 \n",
    "        gt[:,:,0] = np.ones((gt.shape[0], gt.shape[1])) - gt[:, :, 1] - gt[:, :, 2]\n",
    "                \n",
    "        return torch.from_numpy(img).unsqueeze(0).float(), torch.from_numpy(gt.transpose((2,0,1))).float()"
   ]
  },
  {
   "cell_type": "markdown",
   "metadata": {},
   "source": [
    "Define paths to call .npy slices:"
   ]
  },
  {
   "cell_type": "code",
   "execution_count": 18,
   "metadata": {},
   "outputs": [],
   "source": [
    "#Training\n",
    "\n",
    "img_train = []\n",
    "gt_train = []\n",
    "for patient in img_path_train:\n",
    "\n",
    "    img_train += ['{}/{}'.format(patient,i) for i in sorted(os.listdir('{}/{}'.format(data_path_train, patient)))]\n",
    "\n",
    "for patient in gt_path_train:\n",
    "\n",
    "    gt_train += ['{}/{}'.format(patient,i) for i in sorted(os.listdir('{}/{}'.format(data_path_train, patient)))]\n",
    "\n",
    "#Validation\n",
    "\n",
    "img_val = []\n",
    "gt_val = []\n",
    "for patient in img_path_val:\n",
    "\n",
    "    img_val += ['{}/{}'.format(patient,i) for i in sorted(os.listdir('{}/{}'.format(data_path_val, patient)))]\n",
    "\n",
    "for patient in gt_path_val:\n",
    "\n",
    "    gt_val += ['{}/{}'.format(patient,i) for i in sorted(os.listdir('{}/{}'.format(data_path_val, patient)))]"
   ]
  },
  {
   "cell_type": "markdown",
   "metadata": {},
   "source": [
    "Define DataLoader for training and validation data:"
   ]
  },
  {
   "cell_type": "code",
   "execution_count": 19,
   "metadata": {
    "colab": {
     "base_uri": "https://localhost:8080/",
     "height": 35
    },
    "colab_type": "code",
    "executionInfo": {
     "elapsed": 468,
     "status": "ok",
     "timestamp": 1600433988294,
     "user": {
      "displayName": "Carla Sendra Balcells",
      "photoUrl": "https://lh5.googleusercontent.com/-M_Gw7n6lBfA/AAAAAAAAAAI/AAAAAAAAFwA/PeCXexgY6_8/s64/photo.jpg",
      "userId": "01855518481907913222"
     },
     "user_tz": -120
    },
    "id": "pTuQ6Nc1H8lX",
    "outputId": "8eed7f2d-bf7e-4a14-f5cc-41e4c949cda3"
   },
   "outputs": [
    {
     "data": {
      "text/plain": [
       "(20, 20)"
      ]
     },
     "execution_count": 19,
     "metadata": {},
     "output_type": "execute_result"
    }
   ],
   "source": [
    "dataset = {\n",
    "    'train': MRIDataset(data_path_train, img_train, gt_train, augmentation=True),\n",
    "    'val': MRIDataset(data_path_val, img_val, gt_val, augmentation=False), \n",
    "}\n",
    "\n",
    "len(dataset['train']), len(dataset['val']) #number of samples"
   ]
  },
  {
   "cell_type": "markdown",
   "metadata": {},
   "source": [
    "Visualisation of images and groundtruths of the training data to make sure that the data is processed properly: "
   ]
  },
  {
   "cell_type": "code",
   "execution_count": 20,
   "metadata": {
    "colab": {
     "base_uri": "https://localhost:8080/",
     "height": 263
    },
    "colab_type": "code",
    "executionInfo": {
     "elapsed": 3122,
     "status": "ok",
     "timestamp": 1600433991501,
     "user": {
      "displayName": "Carla Sendra Balcells",
      "photoUrl": "https://lh5.googleusercontent.com/-M_Gw7n6lBfA/AAAAAAAAAAI/AAAAAAAAFwA/PeCXexgY6_8/s64/photo.jpg",
      "userId": "01855518481907913222"
     },
     "user_tz": -120
    },
    "id": "OBgCbJRxJXR5",
    "outputId": "ebfffb41-9b26-49a3-eac9-8d0d4f46438c"
   },
   "outputs": [
    {
     "name": "stdout",
     "output_type": "stream",
     "text": [
      "torch.Size([1, 256, 256]) torch.float32 tensor(1.) tensor(0.)\n",
      "torch.Size([3, 256, 256]) torch.float32 tensor(1.) tensor(0.) True\n"
     ]
    },
    {
     "data": {
      "text/plain": [
       "<matplotlib.image.AxesImage at 0x7f3c2416bbe0>"
      ]
     },
     "execution_count": 20,
     "metadata": {},
     "output_type": "execute_result"
    },
    {
     "data": {
      "image/png": "[encoded data removed]",
      "text/plain": [
       "<Figure size 2160x720 with 3 Axes>"
      ]
     },
     "metadata": {
      "needs_background": "light"
     },
     "output_type": "display_data"
    }
   ],
   "source": [
    "ds = dataset['val']\n",
    "fig, (ax1, ax2, ax3) = plt.subplots(1, 3,figsize=(30,10))\n",
    "ix = random.randint(0, len(ds)-1)\n",
    "img, gt = ds[ix]\n",
    "print(img.shape, img.dtype, img.max(), img.min())\n",
    "print(gt.shape, gt.dtype, gt.max\n",
    "      (), gt.min(), gt.sum().item() == gt.shape[1]*gt.shape[2])\n",
    "_img = img.numpy().transpose((1,2,0))\n",
    "ax1.imshow(_img[:, :, 0].squeeze(), cmap='gist_gray') \n",
    "ax2.imshow(_img[:, :, 0].squeeze(), cmap='gist_gray')\n",
    "ax3.imshow(_img[:, :, 0].squeeze(), cmap='gist_gray')\n",
    "_gt = gt.numpy().transpose((1,2,0))\n",
    "ax1.imshow(_gt[:,:,1], alpha=0.6, cmap='nipy_spectral')\n",
    "ax2.imshow(_gt[:,:,2], alpha=0.6, cmap='nipy_spectral')"
   ]
  },
  {
   "cell_type": "markdown",
   "metadata": {},
   "source": [
    "Define batch size for each DataLoader:"
   ]
  },
  {
   "cell_type": "code",
   "execution_count": 21,
   "metadata": {
    "colab": {},
    "colab_type": "code",
    "executionInfo": {
     "elapsed": 2301,
     "status": "ok",
     "timestamp": 1600433991510,
     "user": {
      "displayName": "Carla Sendra Balcells",
      "photoUrl": "https://lh5.googleusercontent.com/-M_Gw7n6lBfA/AAAAAAAAAAI/AAAAAAAAFwA/PeCXexgY6_8/s64/photo.jpg",
      "userId": "01855518481907913222"
     },
     "user_tz": -120
    },
    "id": "BnHtPKQ6ODXx"
   },
   "outputs": [],
   "source": [
    "bs = 16\n",
    "dataloader = {\n",
    "    'train': DataLoader(dataset['train'], batch_size=bs, shuffle=True, num_workers=4),\n",
    "    'val': DataLoader(dataset['val'], batch_size=1, shuffle=False, num_workers=4), \n",
    "}"
   ]
  },
  {
   "cell_type": "markdown",
   "metadata": {},
   "source": [
    "##### Training implementation: "
   ]
  },
  {
   "cell_type": "markdown",
   "metadata": {},
   "source": [
    "Model:"
   ]
  },
  {
   "cell_type": "code",
   "execution_count": 22,
   "metadata": {},
   "outputs": [],
   "source": [
    "class DoubleConvNN(nn.Module):\n",
    "\n",
    "    def __init__(self, in_channels, out_channels):\n",
    "        super().__init__()\n",
    "        self.double_conv = nn.Sequential(\n",
    "            nn.Conv2d(in_channels, out_channels, kernel_size=3, padding=1),\n",
    "            nn.InstanceNorm2d(out_channels),\n",
    "            nn.LeakyReLU(inplace=True),\n",
    "            nn.Conv2d(out_channels, out_channels, kernel_size=3, padding=1),\n",
    "            nn.InstanceNorm2d(out_channels),\n",
    "            nn.LeakyReLU(inplace=True)\n",
    "        )\n",
    "\n",
    "    def forward(self, x):\n",
    "        return self.double_conv(x)     \n",
    "\n",
    "class UpsampleNN(nn.Module):\n",
    "\n",
    "    def __init__(self, in_channels, out_channels, bilinear=True):\n",
    "        super().__init__()\n",
    "\n",
    "        self.upsample = nn.ConvTranspose2d(in_channels , out_channels, kernel_size=3, stride=2)\n",
    "        self.conv = DoubleConvNN(in_channels, out_channels)\n",
    "\n",
    "\n",
    "    def forward(self, x1, x2):\n",
    "        x1 = self.upsample(x1)\n",
    "        diffY = x2.size()[2] - x1.size()[2]\n",
    "        diffX = x2.size()[3] - x1.size()[3]\n",
    "\n",
    "        x1 = F.pad(x1, [diffX // 2, diffX - diffX // 2,\n",
    "                      diffY // 2, diffY - diffY // 2])\n",
    "        x = torch.cat([x2, x1], dim=1)\n",
    "        return self.conv(x) \n",
    "\n",
    "class nnUNet(nn.Module):\n",
    "    def __init__(self, num_labels): \n",
    "        super().__init__()\n",
    "\n",
    "        self.inconv = DoubleConvNN(1, 32)\n",
    "\n",
    "        self.maxpool1 = nn.MaxPool2d(2)\n",
    "        self.conv1 = DoubleConvNN(32, 64)\n",
    "        self.maxpool2 = nn.MaxPool2d(2)\n",
    "        self.conv2 = DoubleConvNN(64, 128)\n",
    "        self.maxpool3 = nn.MaxPool2d(2)\n",
    "        self.conv3 = DoubleConvNN(128, 256)\n",
    "        self.maxpool4 = nn.MaxPool2d(2)\n",
    "        self.conv4 = DoubleConvNN(256, 512)\n",
    "        self.maxpool5 = nn.MaxPool2d(2)\n",
    "        self.conv5 = DoubleConvNN(512, 1024)\n",
    "        \n",
    "        self.upsample1 = UpsampleNN(1024, 512)\n",
    "        self.upsample2 = UpsampleNN(512, 256)\n",
    "        self.upsample3 = UpsampleNN(256, 128)\n",
    "        self.upsample4 = UpsampleNN(128, 64)\n",
    "        self.upsample5 = UpsampleNN(64, 32)\n",
    "\n",
    "        self.outconv = nn.Conv2d(32, num_labels, kernel_size=1)\n",
    "\n",
    "        self.deep_conv1 = nn.Conv2d(512, num_labels, kernel_size=1)\n",
    "        self.deep_conv2 = nn.Conv2d(256, num_labels, kernel_size=1)\n",
    "        self.deep_conv3 = nn.Conv2d(128, num_labels, kernel_size=1)\n",
    "        self.deep_conv4 = nn.Conv2d(64, num_labels, kernel_size=1)\n",
    "\n",
    "        self.deep_deconv = nn.ConvTranspose2d(num_labels, num_labels, kernel_size=3, stride=2)\n",
    "\n",
    "    def forward(self, x):\n",
    "        x1 = self.inconv(x)\n",
    "\n",
    "        x2 = self.maxpool1(x1)\n",
    "        x2 = self.conv1(x2)\n",
    "        x3 = self.maxpool2(x2)\n",
    "        x3 = self.conv2(x3)\n",
    "        x4 = self.maxpool3(x3)\n",
    "        x4 = self.conv3(x4)\n",
    "        x5 = self.maxpool4(x4)\n",
    "        x5 = self.conv4(x5)\n",
    "        x6 = self.maxpool5(x5)\n",
    "        x6 = self.conv5(x6)\n",
    "\n",
    "        x  = self.upsample1(x6, x5)\n",
    "        x_ = self.deep_conv1(x)\n",
    "        x1_deep = self.deep_deconv(x_)\n",
    "        \n",
    "        x = self.upsample2(x, x4)\n",
    "        x_ = self.deep_conv2(x)\n",
    "        diffY = x_.size()[2] - x1_deep.size()[2]\n",
    "        diffX = x_.size()[3] - x1_deep.size()[3]\n",
    "        x1_deep = F.pad(x1_deep, [diffX // 2, diffX - diffX // 2,\n",
    "                      diffY // 2, diffY - diffY // 2])\n",
    "        x_ = torch.add(x1_deep, x_)\n",
    "        x2_deep = self.deep_deconv(x_)\n",
    "\n",
    "        x = self.upsample3(x, x3)\n",
    "        x_ = self.deep_conv3(x)\n",
    "        diffY = x_.size()[2] - x2_deep.size()[2]\n",
    "        diffX = x_.size()[3] - x2_deep.size()[3]\n",
    "        x2_deep = F.pad(x2_deep, [diffX // 2, diffX - diffX // 2,\n",
    "                      diffY // 2, diffY - diffY // 2])\n",
    "        x_ = torch.add(x2_deep, x_)\n",
    "        x3_deep = self.deep_deconv(x_)\n",
    "\n",
    "        x = self.upsample4(x, x2)     \n",
    "        x_ = self.deep_conv4(x)\n",
    "        diffY = x_.size()[2] - x3_deep.size()[2]\n",
    "        diffX = x_.size()[3] - x3_deep.size()[3]\n",
    "        x3_deep = F.pad(x3_deep, [diffX // 2, diffX - diffX // 2,\n",
    "                      diffY // 2, diffY - diffY // 2])\n",
    "        x_ = torch.add(x3_deep, x_)\n",
    "        x4_deep = self.deep_deconv(x_)\n",
    "\n",
    "        x = self.upsample5(x, x1)\n",
    "\n",
    "        x = self.outconv(x)\n",
    "\n",
    "        diffY = x.size()[2] - x4_deep.size()[2]\n",
    "        diffX = x.size()[3] - x4_deep.size()[3]\n",
    "        x4_deep = F.pad(x4_deep, [diffX // 2, diffX - diffX // 2,\n",
    "                      diffY // 2, diffY - diffY // 2])\n",
    "\n",
    "        x = torch.add(x4_deep, x)\n",
    "        return x"
   ]
  },
  {
   "cell_type": "code",
   "execution_count": 23,
   "metadata": {
    "colab": {
     "base_uri": "https://localhost:8080/",
     "height": 35
    },
    "colab_type": "code",
    "executionInfo": {
     "elapsed": 45736,
     "status": "ok",
     "timestamp": 1600434036781,
     "user": {
      "displayName": "Carla Sendra Balcells",
      "photoUrl": "https://lh5.googleusercontent.com/-M_Gw7n6lBfA/AAAAAAAAAAI/AAAAAAAAFwA/PeCXexgY6_8/s64/photo.jpg",
      "userId": "01855518481907913222"
     },
     "user_tz": -120
    },
    "id": "gq4440kVRa0f",
    "outputId": "accb26da-af22-41db-f087-ba9f732b3760"
   },
   "outputs": [
    {
     "data": {
      "text/plain": [
       "<All keys matched successfully>"
      ]
     },
     "execution_count": 23,
     "metadata": {},
     "output_type": "execute_result"
    }
   ],
   "source": [
    "device = torch.device(\"cuda:0\" if torch.cuda.is_available() else \"cpu\")\n",
    "\n",
    "model = nnUNet(num_labels=3)\n",
    "\n",
    "model.load_state_dict(torch.load('../../Models/state_dict.pth')['model_state_dict']) #pre-trained model"
   ]
  },
  {
   "cell_type": "markdown",
   "metadata": {},
   "source": [
    "The 5 blocks of the encoder are unfreezed: "
   ]
  },
  {
   "cell_type": "code",
   "execution_count": 24,
   "metadata": {},
   "outputs": [],
   "source": [
    "ct = 0\n",
    "for child in model.children():\n",
    "    ct += 1\n",
    "    if ct > 10:\n",
    "        for param in child.parameters():\n",
    "            param.requires_grad = False"
   ]
  },
  {
   "cell_type": "markdown",
   "metadata": {},
   "source": [
    "Loss: "
   ]
  },
  {
   "cell_type": "code",
   "execution_count": 25,
   "metadata": {},
   "outputs": [],
   "source": [
    "class DiceBCELoss(nn.Module):\n",
    "    def __init__(self):\n",
    "        super(DiceBCELoss, self).__init__()\n",
    "        self.BCE_loss = nn.BCEWithLogitsLoss()\n",
    "\n",
    "    def forward(self, outputs, target):\n",
    "        smooth = 1.\n",
    "        # have to use contiguous since they may from a torch.view op\n",
    "        pred = torch.sigmoid(outputs)\n",
    "        \n",
    "        iflat = pred.contiguous().view(-1)\n",
    "        tflat = target.contiguous().view(-1)\n",
    "        intersection = (iflat * tflat).sum()\n",
    "        A_sum = torch.sum(iflat * iflat)\n",
    "        B_sum = torch.sum(tflat * tflat)\n",
    "        dice_loss = 1 - ((2. * intersection + smooth) / (A_sum + B_sum + smooth))\n",
    "        \n",
    "        BCE = self.BCE_loss(outputs, target)\n",
    "        Dice_BCE = (dice_loss + BCE)/2\n",
    "\n",
    "        return Dice_BCE"
   ]
  },
  {
   "cell_type": "code",
   "execution_count": 26,
   "metadata": {},
   "outputs": [],
   "source": [
    "criterion = DiceBCELoss() #definition of loss"
   ]
  },
  {
   "cell_type": "code",
   "execution_count": 27,
   "metadata": {
    "colab": {
     "base_uri": "https://localhost:8080/",
     "height": 1000
    },
    "colab_type": "code",
    "executionInfo": {
     "elapsed": 54990,
     "status": "ok",
     "timestamp": 1600434049574,
     "user": {
      "displayName": "Carla Sendra Balcells",
      "photoUrl": "https://lh5.googleusercontent.com/-M_Gw7n6lBfA/AAAAAAAAAAI/AAAAAAAAFwA/PeCXexgY6_8/s64/photo.jpg",
      "userId": "01855518481907913222"
     },
     "user_tz": -120
    },
    "id": "cJbu4Tru-LSK",
    "outputId": "49b8addf-a01a-4925-fe1d-641fe9e02262"
   },
   "outputs": [
    {
     "data": {
      "text/plain": [
       "nnUNet(\n",
       "  (inconv): DoubleConvNN(\n",
       "    (double_conv): Sequential(\n",
       "      (0): Conv2d(1, 32, kernel_size=(3, 3), stride=(1, 1), padding=(1, 1))\n",
       "      (1): InstanceNorm2d(32, eps=1e-05, momentum=0.1, affine=False, track_running_stats=False)\n",
       "      (2): LeakyReLU(negative_slope=0.01, inplace=True)\n",
       "      (3): Conv2d(32, 32, kernel_size=(3, 3), stride=(1, 1), padding=(1, 1))\n",
       "      (4): InstanceNorm2d(32, eps=1e-05, momentum=0.1, affine=False, track_running_stats=False)\n",
       "      (5): LeakyReLU(negative_slope=0.01, inplace=True)\n",
       "    )\n",
       "  )\n",
       "  (maxpool1): MaxPool2d(kernel_size=2, stride=2, padding=0, dilation=1, ceil_mode=False)\n",
       "  (conv1): DoubleConvNN(\n",
       "    (double_conv): Sequential(\n",
       "      (0): Conv2d(32, 64, kernel_size=(3, 3), stride=(1, 1), padding=(1, 1))\n",
       "      (1): InstanceNorm2d(64, eps=1e-05, momentum=0.1, affine=False, track_running_stats=False)\n",
       "      (2): LeakyReLU(negative_slope=0.01, inplace=True)\n",
       "      (3): Conv2d(64, 64, kernel_size=(3, 3), stride=(1, 1), padding=(1, 1))\n",
       "      (4): InstanceNorm2d(64, eps=1e-05, momentum=0.1, affine=False, track_running_stats=False)\n",
       "      (5): LeakyReLU(negative_slope=0.01, inplace=True)\n",
       "    )\n",
       "  )\n",
       "  (maxpool2): MaxPool2d(kernel_size=2, stride=2, padding=0, dilation=1, ceil_mode=False)\n",
       "  (conv2): DoubleConvNN(\n",
       "    (double_conv): Sequential(\n",
       "      (0): Conv2d(64, 128, kernel_size=(3, 3), stride=(1, 1), padding=(1, 1))\n",
       "      (1): InstanceNorm2d(128, eps=1e-05, momentum=0.1, affine=False, track_running_stats=False)\n",
       "      (2): LeakyReLU(negative_slope=0.01, inplace=True)\n",
       "      (3): Conv2d(128, 128, kernel_size=(3, 3), stride=(1, 1), padding=(1, 1))\n",
       "      (4): InstanceNorm2d(128, eps=1e-05, momentum=0.1, affine=False, track_running_stats=False)\n",
       "      (5): LeakyReLU(negative_slope=0.01, inplace=True)\n",
       "    )\n",
       "  )\n",
       "  (maxpool3): MaxPool2d(kernel_size=2, stride=2, padding=0, dilation=1, ceil_mode=False)\n",
       "  (conv3): DoubleConvNN(\n",
       "    (double_conv): Sequential(\n",
       "      (0): Conv2d(128, 256, kernel_size=(3, 3), stride=(1, 1), padding=(1, 1))\n",
       "      (1): InstanceNorm2d(256, eps=1e-05, momentum=0.1, affine=False, track_running_stats=False)\n",
       "      (2): LeakyReLU(negative_slope=0.01, inplace=True)\n",
       "      (3): Conv2d(256, 256, kernel_size=(3, 3), stride=(1, 1), padding=(1, 1))\n",
       "      (4): InstanceNorm2d(256, eps=1e-05, momentum=0.1, affine=False, track_running_stats=False)\n",
       "      (5): LeakyReLU(negative_slope=0.01, inplace=True)\n",
       "    )\n",
       "  )\n",
       "  (maxpool4): MaxPool2d(kernel_size=2, stride=2, padding=0, dilation=1, ceil_mode=False)\n",
       "  (conv4): DoubleConvNN(\n",
       "    (double_conv): Sequential(\n",
       "      (0): Conv2d(256, 512, kernel_size=(3, 3), stride=(1, 1), padding=(1, 1))\n",
       "      (1): InstanceNorm2d(512, eps=1e-05, momentum=0.1, affine=False, track_running_stats=False)\n",
       "      (2): LeakyReLU(negative_slope=0.01, inplace=True)\n",
       "      (3): Conv2d(512, 512, kernel_size=(3, 3), stride=(1, 1), padding=(1, 1))\n",
       "      (4): InstanceNorm2d(512, eps=1e-05, momentum=0.1, affine=False, track_running_stats=False)\n",
       "      (5): LeakyReLU(negative_slope=0.01, inplace=True)\n",
       "    )\n",
       "  )\n",
       "  (maxpool5): MaxPool2d(kernel_size=2, stride=2, padding=0, dilation=1, ceil_mode=False)\n",
       "  (conv5): DoubleConvNN(\n",
       "    (double_conv): Sequential(\n",
       "      (0): Conv2d(512, 1024, kernel_size=(3, 3), stride=(1, 1), padding=(1, 1))\n",
       "      (1): InstanceNorm2d(1024, eps=1e-05, momentum=0.1, affine=False, track_running_stats=False)\n",
       "      (2): LeakyReLU(negative_slope=0.01, inplace=True)\n",
       "      (3): Conv2d(1024, 1024, kernel_size=(3, 3), stride=(1, 1), padding=(1, 1))\n",
       "      (4): InstanceNorm2d(1024, eps=1e-05, momentum=0.1, affine=False, track_running_stats=False)\n",
       "      (5): LeakyReLU(negative_slope=0.01, inplace=True)\n",
       "    )\n",
       "  )\n",
       "  (upsample1): UpsampleNN(\n",
       "    (upsample): ConvTranspose2d(1024, 512, kernel_size=(3, 3), stride=(2, 2))\n",
       "    (conv): DoubleConvNN(\n",
       "      (double_conv): Sequential(\n",
       "        (0): Conv2d(1024, 512, kernel_size=(3, 3), stride=(1, 1), padding=(1, 1))\n",
       "        (1): InstanceNorm2d(512, eps=1e-05, momentum=0.1, affine=False, track_running_stats=False)\n",
       "        (2): LeakyReLU(negative_slope=0.01, inplace=True)\n",
       "        (3): Conv2d(512, 512, kernel_size=(3, 3), stride=(1, 1), padding=(1, 1))\n",
       "        (4): InstanceNorm2d(512, eps=1e-05, momentum=0.1, affine=False, track_running_stats=False)\n",
       "        (5): LeakyReLU(negative_slope=0.01, inplace=True)\n",
       "      )\n",
       "    )\n",
       "  )\n",
       "  (upsample2): UpsampleNN(\n",
       "    (upsample): ConvTranspose2d(512, 256, kernel_size=(3, 3), stride=(2, 2))\n",
       "    (conv): DoubleConvNN(\n",
       "      (double_conv): Sequential(\n",
       "        (0): Conv2d(512, 256, kernel_size=(3, 3), stride=(1, 1), padding=(1, 1))\n",
       "        (1): InstanceNorm2d(256, eps=1e-05, momentum=0.1, affine=False, track_running_stats=False)\n",
       "        (2): LeakyReLU(negative_slope=0.01, inplace=True)\n",
       "        (3): Conv2d(256, 256, kernel_size=(3, 3), stride=(1, 1), padding=(1, 1))\n",
       "        (4): InstanceNorm2d(256, eps=1e-05, momentum=0.1, affine=False, track_running_stats=False)\n",
       "        (5): LeakyReLU(negative_slope=0.01, inplace=True)\n",
       "      )\n",
       "    )\n",
       "  )\n",
       "  (upsample3): UpsampleNN(\n",
       "    (upsample): ConvTranspose2d(256, 128, kernel_size=(3, 3), stride=(2, 2))\n",
       "    (conv): DoubleConvNN(\n",
       "      (double_conv): Sequential(\n",
       "        (0): Conv2d(256, 128, kernel_size=(3, 3), stride=(1, 1), padding=(1, 1))\n",
       "        (1): InstanceNorm2d(128, eps=1e-05, momentum=0.1, affine=False, track_running_stats=False)\n",
       "        (2): LeakyReLU(negative_slope=0.01, inplace=True)\n",
       "        (3): Conv2d(128, 128, kernel_size=(3, 3), stride=(1, 1), padding=(1, 1))\n",
       "        (4): InstanceNorm2d(128, eps=1e-05, momentum=0.1, affine=False, track_running_stats=False)\n",
       "        (5): LeakyReLU(negative_slope=0.01, inplace=True)\n",
       "      )\n",
       "    )\n",
       "  )\n",
       "  (upsample4): UpsampleNN(\n",
       "    (upsample): ConvTranspose2d(128, 64, kernel_size=(3, 3), stride=(2, 2))\n",
       "    (conv): DoubleConvNN(\n",
       "      (double_conv): Sequential(\n",
       "        (0): Conv2d(128, 64, kernel_size=(3, 3), stride=(1, 1), padding=(1, 1))\n",
       "        (1): InstanceNorm2d(64, eps=1e-05, momentum=0.1, affine=False, track_running_stats=False)\n",
       "        (2): LeakyReLU(negative_slope=0.01, inplace=True)\n",
       "        (3): Conv2d(64, 64, kernel_size=(3, 3), stride=(1, 1), padding=(1, 1))\n",
       "        (4): InstanceNorm2d(64, eps=1e-05, momentum=0.1, affine=False, track_running_stats=False)\n",
       "        (5): LeakyReLU(negative_slope=0.01, inplace=True)\n",
       "      )\n",
       "    )\n",
       "  )\n",
       "  (upsample5): UpsampleNN(\n",
       "    (upsample): ConvTranspose2d(64, 32, kernel_size=(3, 3), stride=(2, 2))\n",
       "    (conv): DoubleConvNN(\n",
       "      (double_conv): Sequential(\n",
       "        (0): Conv2d(64, 32, kernel_size=(3, 3), stride=(1, 1), padding=(1, 1))\n",
       "        (1): InstanceNorm2d(32, eps=1e-05, momentum=0.1, affine=False, track_running_stats=False)\n",
       "        (2): LeakyReLU(negative_slope=0.01, inplace=True)\n",
       "        (3): Conv2d(32, 32, kernel_size=(3, 3), stride=(1, 1), padding=(1, 1))\n",
       "        (4): InstanceNorm2d(32, eps=1e-05, momentum=0.1, affine=False, track_running_stats=False)\n",
       "        (5): LeakyReLU(negative_slope=0.01, inplace=True)\n",
       "      )\n",
       "    )\n",
       "  )\n",
       "  (outconv): Conv2d(32, 3, kernel_size=(1, 1), stride=(1, 1))\n",
       "  (deep_conv1): Conv2d(512, 3, kernel_size=(1, 1), stride=(1, 1))\n",
       "  (deep_conv2): Conv2d(256, 3, kernel_size=(1, 1), stride=(1, 1))\n",
       "  (deep_conv3): Conv2d(128, 3, kernel_size=(1, 1), stride=(1, 1))\n",
       "  (deep_conv4): Conv2d(64, 3, kernel_size=(1, 1), stride=(1, 1))\n",
       "  (deep_deconv): ConvTranspose2d(3, 3, kernel_size=(3, 3), stride=(2, 2))\n",
       ")"
      ]
     },
     "execution_count": 27,
     "metadata": {},
     "output_type": "execute_result"
    }
   ],
   "source": [
    "optimizer = torch.optim.Adam(model.parameters(), lr=1e-4) #definition of optimizer\n",
    "model.to(device)"
   ]
  },
  {
   "cell_type": "markdown",
   "metadata": {},
   "source": [
    "Dice coefficient:"
   ]
  },
  {
   "cell_type": "code",
   "execution_count": 28,
   "metadata": {},
   "outputs": [],
   "source": [
    "def dice_batch_multiclass(outputs, target, numpy=False): #metric definition\n",
    "    smooth = 1.\n",
    "    \n",
    "    if numpy: #input is a numpy and by subject\n",
    "        #flatten label and prediction tensors\n",
    "        \n",
    "        iflat = outputs[:,:,:,1].reshape(-1)\n",
    "        tflat = target[:,:,:,1].reshape(-1)\n",
    "        intersection = (iflat * tflat).sum()\n",
    "        A_sum = np.sum(iflat * iflat)\n",
    "        B_sum = np.sum(tflat * tflat)\n",
    "        dice_1 = ((2. * intersection + smooth) / (A_sum + B_sum + smooth))\n",
    "        \n",
    "        iflat = outputs[:,:,:,2].reshape(-1)\n",
    "        tflat = target[:,:,:,2].reshape(-1)\n",
    "        intersection = (iflat * tflat).sum()\n",
    "        A_sum = np.sum(iflat * iflat)\n",
    "        B_sum = np.sum(tflat * tflat)\n",
    "        dice_2 = ((2. * intersection + smooth) / (A_sum + B_sum + smooth))\n",
    "        \n",
    "        \n",
    "    else: #input is a tensor\n",
    "        \n",
    "        # have to use contiguous since they may from a torch.view op\n",
    "        pred = torch.sigmoid(outputs)\n",
    "        \n",
    "        iflat = pred[:,1,:,:].contiguous().view(-1)\n",
    "        tflat = target[:,1,:,:].contiguous().view(-1)\n",
    "        intersection = (iflat * tflat).sum()\n",
    "        A_sum = torch.sum(iflat * iflat)\n",
    "        B_sum = torch.sum(tflat * tflat)\n",
    "        dice_1 = ((2. * intersection + smooth) / (A_sum + B_sum + smooth))\n",
    "        \n",
    "        iflat = pred[:,2,:,:].contiguous().view(-1)\n",
    "        tflat = target[:,2,:,:].contiguous().view(-1)\n",
    "        intersection = (iflat * tflat).sum()\n",
    "        A_sum = torch.sum(iflat * iflat)\n",
    "        B_sum = torch.sum(tflat * tflat)\n",
    "        dice_2 = ((2. * intersection + smooth) / (A_sum + B_sum + smooth))\n",
    "        \n",
    "    return dice_1, dice_2"
   ]
  },
  {
   "cell_type": "markdown",
   "metadata": {},
   "source": [
    "Model learning: "
   ]
  },
  {
   "cell_type": "code",
   "execution_count": 29,
   "metadata": {
    "colab": {
     "base_uri": "https://localhost:8080/",
     "height": 450
    },
    "colab_type": "code",
    "executionInfo": {
     "elapsed": 54649,
     "status": "error",
     "timestamp": 1600434053874,
     "user": {
      "displayName": "Carla Sendra Balcells",
      "photoUrl": "https://lh5.googleusercontent.com/-M_Gw7n6lBfA/AAAAAAAAAAI/AAAAAAAAFwA/PeCXexgY6_8/s64/photo.jpg",
      "userId": "01855518481907913222"
     },
     "user_tz": -120
    },
    "id": "5_VEWGvsi8-I",
    "outputId": "c9012464-6932-4f06-c622-36c2f13814d6",
    "scrolled": true
   },
   "outputs": [
    {
     "name": "stderr",
     "output_type": "stream",
     "text": [
      "100%|##########| 2/2 [00:00<00:00,  2.18it/s]\n",
      "100%|##########| 20/20 [00:00<00:00, 77.50it/s]\n",
      "  0%|          | 0/2 [00:00<?, ?it/s]"
     ]
    },
    {
     "name": "stdout",
     "output_type": "stream",
     "text": [
      "Epoch: 0. Train Loss: 0.01161. Val Loss: 0.02046. Val DC LV: 0.88553. Val DC MYO: 0.69050.\n"
     ]
    },
    {
     "name": "stderr",
     "output_type": "stream",
     "text": [
      "100%|##########| 2/2 [00:00<00:00,  5.14it/s]\n",
      "100%|##########| 20/20 [00:00<00:00, 79.20it/s]\n",
      "  0%|          | 0/2 [00:00<?, ?it/s]"
     ]
    },
    {
     "name": "stdout",
     "output_type": "stream",
     "text": [
      "Epoch: 1. Train Loss: 0.01027. Val Loss: 0.02004. Val DC LV: 0.88760. Val DC MYO: 0.69605.\n"
     ]
    },
    {
     "name": "stderr",
     "output_type": "stream",
     "text": [
      "100%|##########| 2/2 [00:00<00:00,  5.26it/s]\n",
      "100%|##########| 20/20 [00:00<00:00, 79.24it/s]\n",
      "  0%|          | 0/2 [00:00<?, ?it/s]"
     ]
    },
    {
     "name": "stdout",
     "output_type": "stream",
     "text": [
      "Epoch: 2. Train Loss: 0.01224. Val Loss: 0.01938. Val DC LV: 0.89108. Val DC MYO: 0.70486.\n"
     ]
    },
    {
     "name": "stderr",
     "output_type": "stream",
     "text": [
      "100%|##########| 2/2 [00:00<00:00,  5.21it/s]\n",
      "100%|##########| 20/20 [00:00<00:00, 75.80it/s]\n",
      "  0%|          | 0/2 [00:00<?, ?it/s]"
     ]
    },
    {
     "name": "stdout",
     "output_type": "stream",
     "text": [
      "Epoch: 3. Train Loss: 0.01149. Val Loss: 0.01876. Val DC LV: 0.89433. Val DC MYO: 0.71336.\n"
     ]
    },
    {
     "name": "stderr",
     "output_type": "stream",
     "text": [
      "100%|##########| 2/2 [00:00<00:00,  4.85it/s]\n",
      "100%|##########| 20/20 [00:00<00:00, 77.33it/s]\n",
      "  0%|          | 0/2 [00:00<?, ?it/s]"
     ]
    },
    {
     "name": "stdout",
     "output_type": "stream",
     "text": [
      "Epoch: 4. Train Loss: 0.01268. Val Loss: 0.01815. Val DC LV: 0.89751. Val DC MYO: 0.72172.\n"
     ]
    },
    {
     "name": "stderr",
     "output_type": "stream",
     "text": [
      "100%|##########| 2/2 [00:00<00:00,  4.95it/s]\n",
      "100%|##########| 20/20 [00:00<00:00, 68.79it/s]\n",
      "  0%|          | 0/2 [00:00<?, ?it/s]"
     ]
    },
    {
     "name": "stdout",
     "output_type": "stream",
     "text": [
      "Epoch: 5. Train Loss: 0.01060. Val Loss: 0.01763. Val DC LV: 0.90023. Val DC MYO: 0.72896.\n"
     ]
    },
    {
     "name": "stderr",
     "output_type": "stream",
     "text": [
      "100%|##########| 2/2 [00:00<00:00,  4.96it/s]\n",
      "100%|##########| 20/20 [00:00<00:00, 79.87it/s]\n",
      "  0%|          | 0/2 [00:00<?, ?it/s]"
     ]
    },
    {
     "name": "stdout",
     "output_type": "stream",
     "text": [
      "Epoch: 6. Train Loss: 0.01222. Val Loss: 0.01719. Val DC LV: 0.90254. Val DC MYO: 0.73530.\n"
     ]
    },
    {
     "name": "stderr",
     "output_type": "stream",
     "text": [
      "100%|##########| 2/2 [00:00<00:00,  5.46it/s]\n",
      "100%|##########| 20/20 [00:00<00:00, 76.57it/s]\n",
      "  0%|          | 0/2 [00:00<?, ?it/s]"
     ]
    },
    {
     "name": "stdout",
     "output_type": "stream",
     "text": [
      "Epoch: 7. Train Loss: 0.01039. Val Loss: 0.01686. Val DC LV: 0.90423. Val DC MYO: 0.74025.\n"
     ]
    },
    {
     "name": "stderr",
     "output_type": "stream",
     "text": [
      "100%|##########| 2/2 [00:00<00:00,  5.02it/s]\n",
      "100%|##########| 20/20 [00:00<00:00, 79.56it/s]\n",
      "  0%|          | 0/2 [00:00<?, ?it/s]"
     ]
    },
    {
     "name": "stdout",
     "output_type": "stream",
     "text": [
      "Epoch: 8. Train Loss: 0.01727. Val Loss: 0.01664. Val DC LV: 0.90523. Val DC MYO: 0.74371.\n"
     ]
    },
    {
     "name": "stderr",
     "output_type": "stream",
     "text": [
      "100%|##########| 2/2 [00:00<00:00,  5.46it/s]\n",
      "100%|##########| 20/20 [00:00<00:00, 79.65it/s]\n",
      "  0%|          | 0/2 [00:00<?, ?it/s]"
     ]
    },
    {
     "name": "stdout",
     "output_type": "stream",
     "text": [
      "Epoch: 9. Train Loss: 0.01166. Val Loss: 0.01652. Val DC LV: 0.90557. Val DC MYO: 0.74593.\n"
     ]
    },
    {
     "name": "stderr",
     "output_type": "stream",
     "text": [
      "100%|##########| 2/2 [00:00<00:00,  5.12it/s]\n",
      "100%|##########| 20/20 [00:00<00:00, 79.50it/s]\n",
      "  0%|          | 0/2 [00:00<?, ?it/s]"
     ]
    },
    {
     "name": "stdout",
     "output_type": "stream",
     "text": [
      "Epoch: 10. Train Loss: 0.00955. Val Loss: 0.01638. Val DC LV: 0.90611. Val DC MYO: 0.74826.\n"
     ]
    },
    {
     "name": "stderr",
     "output_type": "stream",
     "text": [
      "100%|##########| 2/2 [00:00<00:00,  5.05it/s]\n",
      "100%|##########| 20/20 [00:00<00:00, 76.17it/s]\n",
      "  0%|          | 0/2 [00:00<?, ?it/s]"
     ]
    },
    {
     "name": "stdout",
     "output_type": "stream",
     "text": [
      "Epoch: 11. Train Loss: 0.00862. Val Loss: 0.01622. Val DC LV: 0.90687. Val DC MYO: 0.75100.\n"
     ]
    },
    {
     "name": "stderr",
     "output_type": "stream",
     "text": [
      "100%|##########| 2/2 [00:00<00:00,  5.05it/s]\n",
      "100%|##########| 20/20 [00:00<00:00, 78.79it/s]\n",
      "  0%|          | 0/2 [00:00<?, ?it/s]"
     ]
    },
    {
     "name": "stdout",
     "output_type": "stream",
     "text": [
      "Epoch: 12. Train Loss: 0.00954. Val Loss: 0.01604. Val DC LV: 0.90769. Val DC MYO: 0.75385.\n"
     ]
    },
    {
     "name": "stderr",
     "output_type": "stream",
     "text": [
      "100%|##########| 2/2 [00:00<00:00,  5.28it/s]\n",
      "100%|##########| 20/20 [00:00<00:00, 79.10it/s]\n",
      "  0%|          | 0/2 [00:00<?, ?it/s]"
     ]
    },
    {
     "name": "stdout",
     "output_type": "stream",
     "text": [
      "Epoch: 13. Train Loss: 0.01181. Val Loss: 0.01585. Val DC LV: 0.90869. Val DC MYO: 0.75705.\n"
     ]
    },
    {
     "name": "stderr",
     "output_type": "stream",
     "text": [
      "100%|##########| 2/2 [00:00<00:00,  5.17it/s]\n",
      "100%|##########| 20/20 [00:00<00:00, 77.04it/s]\n",
      "  0%|          | 0/2 [00:00<?, ?it/s]"
     ]
    },
    {
     "name": "stdout",
     "output_type": "stream",
     "text": [
      "Epoch: 14. Train Loss: 0.00928. Val Loss: 0.01569. Val DC LV: 0.90950. Val DC MYO: 0.75973.\n"
     ]
    },
    {
     "name": "stderr",
     "output_type": "stream",
     "text": [
      "100%|##########| 2/2 [00:00<00:00,  5.08it/s]\n",
      "100%|##########| 20/20 [00:00<00:00, 79.28it/s]\n",
      "  0%|          | 0/2 [00:00<?, ?it/s]"
     ]
    },
    {
     "name": "stdout",
     "output_type": "stream",
     "text": [
      "Epoch: 15. Train Loss: 0.00835. Val Loss: 0.01557. Val DC LV: 0.91010. Val DC MYO: 0.76194.\n"
     ]
    },
    {
     "name": "stderr",
     "output_type": "stream",
     "text": [
      "100%|##########| 2/2 [00:00<00:00,  5.39it/s]\n",
      "100%|##########| 20/20 [00:00<00:00, 79.71it/s]\n",
      "  0%|          | 0/2 [00:00<?, ?it/s]"
     ]
    },
    {
     "name": "stdout",
     "output_type": "stream",
     "text": [
      "Epoch: 16. Train Loss: 0.00747. Val Loss: 0.01544. Val DC LV: 0.91084. Val DC MYO: 0.76435.\n"
     ]
    },
    {
     "name": "stderr",
     "output_type": "stream",
     "text": [
      "100%|##########| 2/2 [00:00<00:00,  5.15it/s]\n",
      "100%|##########| 20/20 [00:00<00:00, 78.74it/s]\n",
      "  0%|          | 0/2 [00:00<?, ?it/s]"
     ]
    },
    {
     "name": "stdout",
     "output_type": "stream",
     "text": [
      "Epoch: 17. Train Loss: 0.01063. Val Loss: 0.01531. Val DC LV: 0.91146. Val DC MYO: 0.76673.\n"
     ]
    },
    {
     "name": "stderr",
     "output_type": "stream",
     "text": [
      "100%|##########| 2/2 [00:00<00:00,  5.05it/s]\n",
      "100%|##########| 20/20 [00:00<00:00, 79.40it/s]\n",
      "  0%|          | 0/2 [00:00<?, ?it/s]"
     ]
    },
    {
     "name": "stdout",
     "output_type": "stream",
     "text": [
      "Epoch: 18. Train Loss: 0.00749. Val Loss: 0.01519. Val DC LV: 0.91196. Val DC MYO: 0.76902.\n"
     ]
    },
    {
     "name": "stderr",
     "output_type": "stream",
     "text": [
      "100%|##########| 2/2 [00:00<00:00,  5.03it/s]\n",
      "100%|##########| 20/20 [00:00<00:00, 79.06it/s]\n",
      "  0%|          | 0/2 [00:00<?, ?it/s]"
     ]
    },
    {
     "name": "stdout",
     "output_type": "stream",
     "text": [
      "Epoch: 19. Train Loss: 0.00820. Val Loss: 0.01506. Val DC LV: 0.91253. Val DC MYO: 0.77148.\n"
     ]
    },
    {
     "name": "stderr",
     "output_type": "stream",
     "text": [
      "100%|##########| 2/2 [00:00<00:00,  5.31it/s]\n",
      "100%|##########| 20/20 [00:00<00:00, 79.75it/s]\n",
      "  0%|          | 0/2 [00:00<?, ?it/s]"
     ]
    },
    {
     "name": "stdout",
     "output_type": "stream",
     "text": [
      "Epoch: 20. Train Loss: 0.00812. Val Loss: 0.01492. Val DC LV: 0.91318. Val DC MYO: 0.77404.\n"
     ]
    },
    {
     "name": "stderr",
     "output_type": "stream",
     "text": [
      "100%|##########| 2/2 [00:00<00:00,  5.01it/s]\n",
      "100%|##########| 20/20 [00:00<00:00, 79.38it/s]\n",
      "  0%|          | 0/2 [00:00<?, ?it/s]"
     ]
    },
    {
     "name": "stdout",
     "output_type": "stream",
     "text": [
      "Epoch: 21. Train Loss: 0.00997. Val Loss: 0.01477. Val DC LV: 0.91399. Val DC MYO: 0.77673.\n"
     ]
    },
    {
     "name": "stderr",
     "output_type": "stream",
     "text": [
      "100%|##########| 2/2 [00:00<00:00,  5.31it/s]\n",
      "100%|##########| 20/20 [00:00<00:00, 79.98it/s]\n",
      "  0%|          | 0/2 [00:00<?, ?it/s]"
     ]
    },
    {
     "name": "stdout",
     "output_type": "stream",
     "text": [
      "Epoch: 22. Train Loss: 0.00954. Val Loss: 0.01464. Val DC LV: 0.91474. Val DC MYO: 0.77910.\n"
     ]
    },
    {
     "name": "stderr",
     "output_type": "stream",
     "text": [
      "100%|##########| 2/2 [00:00<00:00,  5.21it/s]\n",
      "100%|##########| 20/20 [00:00<00:00, 78.72it/s]\n",
      "  0%|          | 0/2 [00:00<?, ?it/s]"
     ]
    },
    {
     "name": "stdout",
     "output_type": "stream",
     "text": [
      "Epoch: 23. Train Loss: 0.01003. Val Loss: 0.01452. Val DC LV: 0.91533. Val DC MYO: 0.78107.\n"
     ]
    },
    {
     "name": "stderr",
     "output_type": "stream",
     "text": [
      "100%|##########| 2/2 [00:00<00:00,  5.46it/s]\n",
      "100%|##########| 20/20 [00:00<00:00, 75.66it/s]\n",
      "  0%|          | 0/2 [00:00<?, ?it/s]"
     ]
    },
    {
     "name": "stdout",
     "output_type": "stream",
     "text": [
      "Epoch: 24. Train Loss: 0.01140. Val Loss: 0.01441. Val DC LV: 0.91599. Val DC MYO: 0.78291.\n"
     ]
    },
    {
     "name": "stderr",
     "output_type": "stream",
     "text": [
      "100%|##########| 2/2 [00:00<00:00,  5.51it/s]\n",
      "100%|##########| 20/20 [00:00<00:00, 79.27it/s]\n",
      "  0%|          | 0/2 [00:00<?, ?it/s]"
     ]
    },
    {
     "name": "stdout",
     "output_type": "stream",
     "text": [
      "Epoch: 25. Train Loss: 0.01468. Val Loss: 0.01437. Val DC LV: 0.91613. Val DC MYO: 0.78371.\n"
     ]
    },
    {
     "name": "stderr",
     "output_type": "stream",
     "text": [
      "100%|##########| 2/2 [00:00<00:00,  4.94it/s]\n",
      "100%|##########| 20/20 [00:00<00:00, 78.03it/s]\n",
      "  0%|          | 0/2 [00:00<?, ?it/s]"
     ]
    },
    {
     "name": "stdout",
     "output_type": "stream",
     "text": [
      "Epoch: 26. Train Loss: 0.00990. Val Loss: 0.01430. Val DC LV: 0.91649. Val DC MYO: 0.78482.\n"
     ]
    },
    {
     "name": "stderr",
     "output_type": "stream",
     "text": [
      "100%|##########| 2/2 [00:00<00:00,  4.95it/s]\n",
      "100%|##########| 20/20 [00:00<00:00, 79.28it/s]\n",
      "  0%|          | 0/2 [00:00<?, ?it/s]"
     ]
    },
    {
     "name": "stdout",
     "output_type": "stream",
     "text": [
      "Epoch: 27. Train Loss: 0.00723. Val Loss: 0.01424. Val DC LV: 0.91682. Val DC MYO: 0.78594.\n"
     ]
    },
    {
     "name": "stderr",
     "output_type": "stream",
     "text": [
      "100%|##########| 2/2 [00:00<00:00,  5.24it/s]\n",
      "100%|##########| 20/20 [00:00<00:00, 79.49it/s]\n",
      "  0%|          | 0/2 [00:00<?, ?it/s]"
     ]
    },
    {
     "name": "stdout",
     "output_type": "stream",
     "text": [
      "Epoch: 28. Train Loss: 0.00788. Val Loss: 0.01416. Val DC LV: 0.91719. Val DC MYO: 0.78716.\n"
     ]
    },
    {
     "name": "stderr",
     "output_type": "stream",
     "text": [
      "100%|##########| 2/2 [00:00<00:00,  5.44it/s]\n",
      "100%|##########| 20/20 [00:00<00:00, 77.03it/s]\n",
      "  0%|          | 0/2 [00:00<?, ?it/s]"
     ]
    },
    {
     "name": "stdout",
     "output_type": "stream",
     "text": [
      "Epoch: 29. Train Loss: 0.01494. Val Loss: 0.01404. Val DC LV: 0.91792. Val DC MYO: 0.78911.\n"
     ]
    },
    {
     "name": "stderr",
     "output_type": "stream",
     "text": [
      "100%|##########| 2/2 [00:00<00:00,  5.22it/s]\n",
      "100%|##########| 20/20 [00:00<00:00, 79.25it/s]\n",
      "  0%|          | 0/2 [00:00<?, ?it/s]"
     ]
    },
    {
     "name": "stdout",
     "output_type": "stream",
     "text": [
      "Epoch: 30. Train Loss: 0.01183. Val Loss: 0.01392. Val DC LV: 0.91856. Val DC MYO: 0.79096.\n"
     ]
    },
    {
     "name": "stderr",
     "output_type": "stream",
     "text": [
      "100%|##########| 2/2 [00:00<00:00,  4.82it/s]\n",
      "100%|##########| 20/20 [00:00<00:00, 77.91it/s]\n",
      "  0%|          | 0/2 [00:00<?, ?it/s]"
     ]
    },
    {
     "name": "stdout",
     "output_type": "stream",
     "text": [
      "Epoch: 31. Train Loss: 0.01749. Val Loss: 0.01394. Val DC LV: 0.91837. Val DC MYO: 0.79112.\n"
     ]
    },
    {
     "name": "stderr",
     "output_type": "stream",
     "text": [
      "100%|##########| 2/2 [00:00<00:00,  5.22it/s]\n",
      "100%|##########| 20/20 [00:00<00:00, 78.22it/s]\n",
      "  0%|          | 0/2 [00:00<?, ?it/s]"
     ]
    },
    {
     "name": "stdout",
     "output_type": "stream",
     "text": [
      "Epoch: 32. Train Loss: 0.01224. Val Loss: 0.01395. Val DC LV: 0.91829. Val DC MYO: 0.79135.\n"
     ]
    },
    {
     "name": "stderr",
     "output_type": "stream",
     "text": [
      "100%|##########| 2/2 [00:00<00:00,  5.02it/s]\n",
      "100%|##########| 20/20 [00:00<00:00, 74.99it/s]\n",
      "  0%|          | 0/2 [00:00<?, ?it/s]"
     ]
    },
    {
     "name": "stdout",
     "output_type": "stream",
     "text": [
      "Epoch: 33. Train Loss: 0.00762. Val Loss: 0.01394. Val DC LV: 0.91831. Val DC MYO: 0.79175.\n"
     ]
    },
    {
     "name": "stderr",
     "output_type": "stream",
     "text": [
      "100%|##########| 2/2 [00:00<00:00,  4.92it/s]\n",
      "100%|##########| 20/20 [00:00<00:00, 79.08it/s]\n",
      "  0%|          | 0/2 [00:00<?, ?it/s]"
     ]
    },
    {
     "name": "stdout",
     "output_type": "stream",
     "text": [
      "Epoch: 34. Train Loss: 0.01056. Val Loss: 0.01393. Val DC LV: 0.91830. Val DC MYO: 0.79215.\n"
     ]
    },
    {
     "name": "stderr",
     "output_type": "stream",
     "text": [
      "100%|##########| 2/2 [00:00<00:00,  5.03it/s]\n",
      "100%|##########| 20/20 [00:00<00:00, 78.84it/s]\n",
      "  0%|          | 0/2 [00:00<?, ?it/s]"
     ]
    },
    {
     "name": "stdout",
     "output_type": "stream",
     "text": [
      "Epoch: 35. Train Loss: 0.00632. Val Loss: 0.01391. Val DC LV: 0.91843. Val DC MYO: 0.79285.\n"
     ]
    },
    {
     "name": "stderr",
     "output_type": "stream",
     "text": [
      "100%|##########| 2/2 [00:00<00:00,  4.99it/s]\n",
      "100%|##########| 20/20 [00:00<00:00, 79.18it/s]\n",
      "  0%|          | 0/2 [00:00<?, ?it/s]"
     ]
    },
    {
     "name": "stdout",
     "output_type": "stream",
     "text": [
      "Epoch: 36. Train Loss: 0.00950. Val Loss: 0.01386. Val DC LV: 0.91871. Val DC MYO: 0.79382.\n"
     ]
    },
    {
     "name": "stderr",
     "output_type": "stream",
     "text": [
      "100%|##########| 2/2 [00:00<00:00,  5.49it/s]\n",
      "100%|##########| 20/20 [00:00<00:00, 79.08it/s]\n",
      "  0%|          | 0/2 [00:00<?, ?it/s]"
     ]
    },
    {
     "name": "stdout",
     "output_type": "stream",
     "text": [
      "Epoch: 37. Train Loss: 0.00884. Val Loss: 0.01382. Val DC LV: 0.91899. Val DC MYO: 0.79461.\n"
     ]
    },
    {
     "name": "stderr",
     "output_type": "stream",
     "text": [
      "100%|##########| 2/2 [00:00<00:00,  5.06it/s]\n",
      "100%|##########| 20/20 [00:00<00:00, 76.47it/s]\n",
      "  0%|          | 0/2 [00:00<?, ?it/s]"
     ]
    },
    {
     "name": "stdout",
     "output_type": "stream",
     "text": [
      "Epoch: 38. Train Loss: 0.00912. Val Loss: 0.01376. Val DC LV: 0.91935. Val DC MYO: 0.79555.\n"
     ]
    },
    {
     "name": "stderr",
     "output_type": "stream",
     "text": [
      "100%|##########| 2/2 [00:00<00:00,  5.07it/s]\n",
      "100%|##########| 20/20 [00:00<00:00, 77.47it/s]\n",
      "  0%|          | 0/2 [00:00<?, ?it/s]"
     ]
    },
    {
     "name": "stdout",
     "output_type": "stream",
     "text": [
      "Epoch: 39. Train Loss: 0.01455. Val Loss: 0.01371. Val DC LV: 0.91978. Val DC MYO: 0.79638.\n"
     ]
    },
    {
     "name": "stderr",
     "output_type": "stream",
     "text": [
      "100%|##########| 2/2 [00:00<00:00,  5.16it/s]\n",
      "100%|##########| 20/20 [00:00<00:00, 79.47it/s]\n",
      "  0%|          | 0/2 [00:00<?, ?it/s]"
     ]
    },
    {
     "name": "stdout",
     "output_type": "stream",
     "text": [
      "Epoch: 40. Train Loss: 0.00907. Val Loss: 0.01366. Val DC LV: 0.92020. Val DC MYO: 0.79715.\n"
     ]
    },
    {
     "name": "stderr",
     "output_type": "stream",
     "text": [
      "100%|##########| 2/2 [00:00<00:00,  5.18it/s]\n",
      "100%|##########| 20/20 [00:00<00:00, 76.28it/s]\n",
      "  0%|          | 0/2 [00:00<?, ?it/s]"
     ]
    },
    {
     "name": "stdout",
     "output_type": "stream",
     "text": [
      "Epoch: 41. Train Loss: 0.01001. Val Loss: 0.01360. Val DC LV: 0.92065. Val DC MYO: 0.79816.\n"
     ]
    },
    {
     "name": "stderr",
     "output_type": "stream",
     "text": [
      "100%|##########| 2/2 [00:00<00:00,  5.26it/s]\n",
      "100%|##########| 20/20 [00:00<00:00, 78.63it/s]\n",
      "  0%|          | 0/2 [00:00<?, ?it/s]"
     ]
    },
    {
     "name": "stdout",
     "output_type": "stream",
     "text": [
      "Epoch: 42. Train Loss: 0.01040. Val Loss: 0.01352. Val DC LV: 0.92118. Val DC MYO: 0.79934.\n"
     ]
    },
    {
     "name": "stderr",
     "output_type": "stream",
     "text": [
      "100%|##########| 2/2 [00:00<00:00,  5.28it/s]\n",
      "100%|##########| 20/20 [00:00<00:00, 77.08it/s]\n",
      "  0%|          | 0/2 [00:00<?, ?it/s]"
     ]
    },
    {
     "name": "stdout",
     "output_type": "stream",
     "text": [
      "Epoch: 43. Train Loss: 0.00962. Val Loss: 0.01341. Val DC LV: 0.92187. Val DC MYO: 0.80094.\n"
     ]
    },
    {
     "name": "stderr",
     "output_type": "stream",
     "text": [
      "100%|##########| 2/2 [00:00<00:00,  5.06it/s]\n",
      "100%|##########| 20/20 [00:00<00:00, 79.14it/s]\n",
      "  0%|          | 0/2 [00:00<?, ?it/s]"
     ]
    },
    {
     "name": "stdout",
     "output_type": "stream",
     "text": [
      "Epoch: 44. Train Loss: 0.00738. Val Loss: 0.01331. Val DC LV: 0.92250. Val DC MYO: 0.80236.\n"
     ]
    },
    {
     "name": "stderr",
     "output_type": "stream",
     "text": [
      "100%|##########| 2/2 [00:00<00:00,  5.26it/s]\n",
      "100%|##########| 20/20 [00:00<00:00, 78.75it/s]\n",
      "  0%|          | 0/2 [00:00<?, ?it/s]"
     ]
    },
    {
     "name": "stdout",
     "output_type": "stream",
     "text": [
      "Epoch: 45. Train Loss: 0.01151. Val Loss: 0.01318. Val DC LV: 0.92337. Val DC MYO: 0.80414.\n"
     ]
    },
    {
     "name": "stderr",
     "output_type": "stream",
     "text": [
      "100%|##########| 2/2 [00:00<00:00,  5.40it/s]\n",
      "100%|##########| 20/20 [00:00<00:00, 79.08it/s]\n",
      "  0%|          | 0/2 [00:00<?, ?it/s]"
     ]
    },
    {
     "name": "stdout",
     "output_type": "stream",
     "text": [
      "Epoch: 46. Train Loss: 0.00780. Val Loss: 0.01306. Val DC LV: 0.92424. Val DC MYO: 0.80580.\n"
     ]
    },
    {
     "name": "stderr",
     "output_type": "stream",
     "text": [
      "100%|##########| 2/2 [00:00<00:00,  5.40it/s]\n",
      "100%|##########| 20/20 [00:00<00:00, 79.42it/s]\n",
      "  0%|          | 0/2 [00:00<?, ?it/s]"
     ]
    },
    {
     "name": "stdout",
     "output_type": "stream",
     "text": [
      "Epoch: 47. Train Loss: 0.00678. Val Loss: 0.01294. Val DC LV: 0.92508. Val DC MYO: 0.80737.\n"
     ]
    },
    {
     "name": "stderr",
     "output_type": "stream",
     "text": [
      "100%|##########| 2/2 [00:00<00:00,  5.27it/s]\n",
      "100%|##########| 20/20 [00:00<00:00, 76.21it/s]\n",
      "  0%|          | 0/2 [00:00<?, ?it/s]"
     ]
    },
    {
     "name": "stdout",
     "output_type": "stream",
     "text": [
      "Epoch: 48. Train Loss: 0.01491. Val Loss: 0.01292. Val DC LV: 0.92519. Val DC MYO: 0.80784.\n"
     ]
    },
    {
     "name": "stderr",
     "output_type": "stream",
     "text": [
      "100%|##########| 2/2 [00:00<00:00,  5.05it/s]\n",
      "100%|##########| 20/20 [00:00<00:00, 78.83it/s]\n",
      "  0%|          | 0/2 [00:00<?, ?it/s]"
     ]
    },
    {
     "name": "stdout",
     "output_type": "stream",
     "text": [
      "Epoch: 49. Train Loss: 0.00667. Val Loss: 0.01289. Val DC LV: 0.92535. Val DC MYO: 0.80836.\n"
     ]
    },
    {
     "name": "stderr",
     "output_type": "stream",
     "text": [
      "100%|##########| 2/2 [00:00<00:00,  5.19it/s]\n",
      "100%|##########| 20/20 [00:00<00:00, 79.31it/s]\n",
      "  0%|          | 0/2 [00:00<?, ?it/s]"
     ]
    },
    {
     "name": "stdout",
     "output_type": "stream",
     "text": [
      "Epoch: 50. Train Loss: 0.00670. Val Loss: 0.01286. Val DC LV: 0.92546. Val DC MYO: 0.80891.\n"
     ]
    },
    {
     "name": "stderr",
     "output_type": "stream",
     "text": [
      "100%|##########| 2/2 [00:00<00:00,  4.82it/s]\n",
      "100%|##########| 20/20 [00:00<00:00, 75.45it/s]\n",
      "  0%|          | 0/2 [00:00<?, ?it/s]"
     ]
    },
    {
     "name": "stdout",
     "output_type": "stream",
     "text": [
      "Epoch: 51. Train Loss: 0.00681. Val Loss: 0.01284. Val DC LV: 0.92554. Val DC MYO: 0.80940.\n"
     ]
    },
    {
     "name": "stderr",
     "output_type": "stream",
     "text": [
      "100%|##########| 2/2 [00:00<00:00,  5.24it/s]\n",
      "100%|##########| 20/20 [00:00<00:00, 79.47it/s]\n",
      "  0%|          | 0/2 [00:00<?, ?it/s]"
     ]
    },
    {
     "name": "stdout",
     "output_type": "stream",
     "text": [
      "Epoch: 52. Train Loss: 0.00981. Val Loss: 0.01282. Val DC LV: 0.92559. Val DC MYO: 0.80973.\n"
     ]
    },
    {
     "name": "stderr",
     "output_type": "stream",
     "text": [
      "100%|##########| 2/2 [00:00<00:00,  4.95it/s]\n",
      "100%|##########| 20/20 [00:00<00:00, 73.56it/s]\n",
      "  0%|          | 0/2 [00:00<?, ?it/s]"
     ]
    },
    {
     "name": "stdout",
     "output_type": "stream",
     "text": [
      "Epoch: 53. Train Loss: 0.00883. Val Loss: 0.01281. Val DC LV: 0.92566. Val DC MYO: 0.81004.\n"
     ]
    },
    {
     "name": "stderr",
     "output_type": "stream",
     "text": [
      "100%|##########| 2/2 [00:00<00:00,  5.10it/s]\n",
      "100%|##########| 20/20 [00:00<00:00, 77.71it/s]\n",
      "  0%|          | 0/2 [00:00<?, ?it/s]"
     ]
    },
    {
     "name": "stdout",
     "output_type": "stream",
     "text": [
      "Epoch: 54. Train Loss: 0.00845. Val Loss: 0.01280. Val DC LV: 0.92566. Val DC MYO: 0.81024.\n"
     ]
    },
    {
     "name": "stderr",
     "output_type": "stream",
     "text": [
      "100%|##########| 2/2 [00:00<00:00,  5.13it/s]\n",
      "100%|##########| 20/20 [00:00<00:00, 79.35it/s]\n",
      "  0%|          | 0/2 [00:00<?, ?it/s]"
     ]
    },
    {
     "name": "stdout",
     "output_type": "stream",
     "text": [
      "Epoch: 55. Train Loss: 0.00738. Val Loss: 0.01281. Val DC LV: 0.92557. Val DC MYO: 0.81019.\n"
     ]
    },
    {
     "name": "stderr",
     "output_type": "stream",
     "text": [
      "100%|##########| 2/2 [00:00<00:00,  5.34it/s]\n",
      "100%|##########| 20/20 [00:00<00:00, 78.88it/s]\n",
      "  0%|          | 0/2 [00:00<?, ?it/s]"
     ]
    },
    {
     "name": "stdout",
     "output_type": "stream",
     "text": [
      "Epoch: 56. Train Loss: 0.00781. Val Loss: 0.01280. Val DC LV: 0.92557. Val DC MYO: 0.81034.\n"
     ]
    },
    {
     "name": "stderr",
     "output_type": "stream",
     "text": [
      "100%|##########| 2/2 [00:00<00:00,  5.20it/s]\n",
      "100%|##########| 20/20 [00:00<00:00, 79.14it/s]\n",
      "  0%|          | 0/2 [00:00<?, ?it/s]"
     ]
    },
    {
     "name": "stdout",
     "output_type": "stream",
     "text": [
      "Epoch: 57. Train Loss: 0.01082. Val Loss: 0.01278. Val DC LV: 0.92573. Val DC MYO: 0.81071.\n"
     ]
    },
    {
     "name": "stderr",
     "output_type": "stream",
     "text": [
      "100%|##########| 2/2 [00:00<00:00,  4.93it/s]\n",
      "100%|##########| 20/20 [00:00<00:00, 78.60it/s]\n",
      "  0%|          | 0/2 [00:00<?, ?it/s]"
     ]
    },
    {
     "name": "stdout",
     "output_type": "stream",
     "text": [
      "Epoch: 58. Train Loss: 0.00560. Val Loss: 0.01275. Val DC LV: 0.92593. Val DC MYO: 0.81113.\n"
     ]
    },
    {
     "name": "stderr",
     "output_type": "stream",
     "text": [
      "100%|##########| 2/2 [00:00<00:00,  5.36it/s]\n",
      "100%|##########| 20/20 [00:00<00:00, 79.30it/s]\n",
      "  0%|          | 0/2 [00:00<?, ?it/s]"
     ]
    },
    {
     "name": "stdout",
     "output_type": "stream",
     "text": [
      "Epoch: 59. Train Loss: 0.00807. Val Loss: 0.01273. Val DC LV: 0.92612. Val DC MYO: 0.81151.\n"
     ]
    },
    {
     "name": "stderr",
     "output_type": "stream",
     "text": [
      "100%|##########| 2/2 [00:00<00:00,  5.21it/s]\n",
      "100%|##########| 20/20 [00:00<00:00, 78.71it/s]\n",
      "  0%|          | 0/2 [00:00<?, ?it/s]"
     ]
    },
    {
     "name": "stdout",
     "output_type": "stream",
     "text": [
      "Epoch: 60. Train Loss: 0.00962. Val Loss: 0.01271. Val DC LV: 0.92630. Val DC MYO: 0.81185.\n"
     ]
    },
    {
     "name": "stderr",
     "output_type": "stream",
     "text": [
      "100%|##########| 2/2 [00:00<00:00,  5.10it/s]\n",
      "100%|##########| 20/20 [00:00<00:00, 79.19it/s]\n",
      "  0%|          | 0/2 [00:00<?, ?it/s]"
     ]
    },
    {
     "name": "stdout",
     "output_type": "stream",
     "text": [
      "Epoch: 61. Train Loss: 0.00779. Val Loss: 0.01270. Val DC LV: 0.92640. Val DC MYO: 0.81205.\n"
     ]
    },
    {
     "name": "stderr",
     "output_type": "stream",
     "text": [
      "100%|##########| 2/2 [00:00<00:00,  5.35it/s]\n",
      "100%|##########| 20/20 [00:00<00:00, 78.72it/s]\n",
      "  0%|          | 0/2 [00:00<?, ?it/s]"
     ]
    },
    {
     "name": "stdout",
     "output_type": "stream",
     "text": [
      "Epoch: 62. Train Loss: 0.03340. Val Loss: 0.01272. Val DC LV: 0.92633. Val DC MYO: 0.81167.\n"
     ]
    },
    {
     "name": "stderr",
     "output_type": "stream",
     "text": [
      "100%|##########| 2/2 [00:00<00:00,  5.07it/s]\n",
      "100%|##########| 20/20 [00:00<00:00, 75.80it/s]\n",
      "  0%|          | 0/2 [00:00<?, ?it/s]"
     ]
    },
    {
     "name": "stdout",
     "output_type": "stream",
     "text": [
      "Epoch: 63. Train Loss: 0.00502. Val Loss: 0.01277. Val DC LV: 0.92618. Val DC MYO: 0.81094.\n"
     ]
    },
    {
     "name": "stderr",
     "output_type": "stream",
     "text": [
      "100%|##########| 2/2 [00:00<00:00,  5.23it/s]\n",
      "100%|##########| 20/20 [00:00<00:00, 74.98it/s]\n",
      "  0%|          | 0/2 [00:00<?, ?it/s]"
     ]
    },
    {
     "name": "stdout",
     "output_type": "stream",
     "text": [
      "Epoch: 64. Train Loss: 0.00932. Val Loss: 0.01281. Val DC LV: 0.92603. Val DC MYO: 0.81028.\n"
     ]
    },
    {
     "name": "stderr",
     "output_type": "stream",
     "text": [
      "100%|##########| 2/2 [00:00<00:00,  5.34it/s]\n",
      "100%|##########| 20/20 [00:00<00:00, 78.94it/s]\n",
      "  0%|          | 0/2 [00:00<?, ?it/s]"
     ]
    },
    {
     "name": "stdout",
     "output_type": "stream",
     "text": [
      "Epoch: 65. Train Loss: 0.00816. Val Loss: 0.01285. Val DC LV: 0.92589. Val DC MYO: 0.80972.\n"
     ]
    },
    {
     "name": "stderr",
     "output_type": "stream",
     "text": [
      "100%|##########| 2/2 [00:00<00:00,  4.89it/s]\n",
      "100%|##########| 20/20 [00:00<00:00, 76.43it/s]\n",
      "  0%|          | 0/2 [00:00<?, ?it/s]"
     ]
    },
    {
     "name": "stdout",
     "output_type": "stream",
     "text": [
      "Epoch: 66. Train Loss: 0.00853. Val Loss: 0.01287. Val DC LV: 0.92586. Val DC MYO: 0.80938.\n"
     ]
    },
    {
     "name": "stderr",
     "output_type": "stream",
     "text": [
      "100%|##########| 2/2 [00:00<00:00,  5.18it/s]\n",
      "100%|##########| 20/20 [00:00<00:00, 78.47it/s]\n",
      "  0%|          | 0/2 [00:00<?, ?it/s]"
     ]
    },
    {
     "name": "stdout",
     "output_type": "stream",
     "text": [
      "Epoch: 67. Train Loss: 0.00823. Val Loss: 0.01287. Val DC LV: 0.92596. Val DC MYO: 0.80937.\n"
     ]
    },
    {
     "name": "stderr",
     "output_type": "stream",
     "text": [
      "100%|##########| 2/2 [00:00<00:00,  4.91it/s]\n",
      "100%|##########| 20/20 [00:00<00:00, 77.65it/s]\n",
      "  0%|          | 0/2 [00:00<?, ?it/s]"
     ]
    },
    {
     "name": "stdout",
     "output_type": "stream",
     "text": [
      "Epoch: 68. Train Loss: 0.00736. Val Loss: 0.01286. Val DC LV: 0.92606. Val DC MYO: 0.80953.\n"
     ]
    },
    {
     "name": "stderr",
     "output_type": "stream",
     "text": [
      "100%|##########| 2/2 [00:00<00:00,  5.09it/s]\n",
      "100%|##########| 20/20 [00:00<00:00, 79.14it/s]\n",
      "  0%|          | 0/2 [00:00<?, ?it/s]"
     ]
    },
    {
     "name": "stdout",
     "output_type": "stream",
     "text": [
      "Epoch: 69. Train Loss: 0.01222. Val Loss: 0.01284. Val DC LV: 0.92615. Val DC MYO: 0.80970.\n"
     ]
    },
    {
     "name": "stderr",
     "output_type": "stream",
     "text": [
      "100%|##########| 2/2 [00:00<00:00,  4.93it/s]\n",
      "100%|##########| 20/20 [00:00<00:00, 78.24it/s]\n",
      "  0%|          | 0/2 [00:00<?, ?it/s]"
     ]
    },
    {
     "name": "stdout",
     "output_type": "stream",
     "text": [
      "Epoch: 70. Train Loss: 0.00876. Val Loss: 0.01283. Val DC LV: 0.92624. Val DC MYO: 0.80994.\n"
     ]
    },
    {
     "name": "stderr",
     "output_type": "stream",
     "text": [
      "100%|##########| 2/2 [00:00<00:00,  5.33it/s]\n",
      "100%|##########| 20/20 [00:00<00:00, 76.12it/s]\n",
      "  0%|          | 0/2 [00:00<?, ?it/s]"
     ]
    },
    {
     "name": "stdout",
     "output_type": "stream",
     "text": [
      "Epoch: 71. Train Loss: 0.00746. Val Loss: 0.01280. Val DC LV: 0.92633. Val DC MYO: 0.81031.\n"
     ]
    },
    {
     "name": "stderr",
     "output_type": "stream",
     "text": [
      "100%|##########| 2/2 [00:00<00:00,  4.92it/s]\n",
      "100%|##########| 20/20 [00:00<00:00, 78.29it/s]\n",
      "  0%|          | 0/2 [00:00<?, ?it/s]"
     ]
    },
    {
     "name": "stdout",
     "output_type": "stream",
     "text": [
      "Epoch: 72. Train Loss: 0.00471. Val Loss: 0.01278. Val DC LV: 0.92635. Val DC MYO: 0.81060.\n"
     ]
    },
    {
     "name": "stderr",
     "output_type": "stream",
     "text": [
      "100%|##########| 2/2 [00:00<00:00,  5.29it/s]\n",
      "100%|##########| 20/20 [00:00<00:00, 76.67it/s]\n",
      "  0%|          | 0/2 [00:00<?, ?it/s]"
     ]
    },
    {
     "name": "stdout",
     "output_type": "stream",
     "text": [
      "Epoch: 73. Train Loss: 0.00665. Val Loss: 0.01276. Val DC LV: 0.92641. Val DC MYO: 0.81097.\n"
     ]
    },
    {
     "name": "stderr",
     "output_type": "stream",
     "text": [
      "100%|##########| 2/2 [00:00<00:00,  5.22it/s]\n",
      "100%|##########| 20/20 [00:00<00:00, 79.30it/s]\n",
      "  0%|          | 0/2 [00:00<?, ?it/s]"
     ]
    },
    {
     "name": "stdout",
     "output_type": "stream",
     "text": [
      "Epoch: 74. Train Loss: 0.01028. Val Loss: 0.01274. Val DC LV: 0.92645. Val DC MYO: 0.81127.\n"
     ]
    },
    {
     "name": "stderr",
     "output_type": "stream",
     "text": [
      "100%|##########| 2/2 [00:00<00:00,  4.80it/s]\n",
      "100%|##########| 20/20 [00:00<00:00, 79.24it/s]\n",
      "  0%|          | 0/2 [00:00<?, ?it/s]"
     ]
    },
    {
     "name": "stdout",
     "output_type": "stream",
     "text": [
      "Epoch: 75. Train Loss: 0.00729. Val Loss: 0.01272. Val DC LV: 0.92652. Val DC MYO: 0.81154.\n"
     ]
    },
    {
     "name": "stderr",
     "output_type": "stream",
     "text": [
      "100%|##########| 2/2 [00:00<00:00,  5.10it/s]\n",
      "100%|##########| 20/20 [00:00<00:00, 79.19it/s]\n",
      "  0%|          | 0/2 [00:00<?, ?it/s]"
     ]
    },
    {
     "name": "stdout",
     "output_type": "stream",
     "text": [
      "Epoch: 76. Train Loss: 0.00557. Val Loss: 0.01270. Val DC LV: 0.92663. Val DC MYO: 0.81188.\n"
     ]
    },
    {
     "name": "stderr",
     "output_type": "stream",
     "text": [
      "100%|##########| 2/2 [00:00<00:00,  5.17it/s]\n",
      "100%|##########| 20/20 [00:00<00:00, 76.15it/s]\n",
      "  0%|          | 0/2 [00:00<?, ?it/s]"
     ]
    },
    {
     "name": "stdout",
     "output_type": "stream",
     "text": [
      "Epoch: 77. Train Loss: 0.00645. Val Loss: 0.01268. Val DC LV: 0.92674. Val DC MYO: 0.81225.\n"
     ]
    },
    {
     "name": "stderr",
     "output_type": "stream",
     "text": [
      "100%|##########| 2/2 [00:00<00:00,  5.12it/s]\n",
      "100%|##########| 20/20 [00:00<00:00, 78.64it/s]\n",
      "  0%|          | 0/2 [00:00<?, ?it/s]"
     ]
    },
    {
     "name": "stdout",
     "output_type": "stream",
     "text": [
      "Epoch: 78. Train Loss: 0.00676. Val Loss: 0.01265. Val DC LV: 0.92690. Val DC MYO: 0.81270.\n"
     ]
    },
    {
     "name": "stderr",
     "output_type": "stream",
     "text": [
      "100%|##########| 2/2 [00:00<00:00,  5.27it/s]\n",
      "100%|##########| 20/20 [00:00<00:00, 79.40it/s]\n",
      "  0%|          | 0/2 [00:00<?, ?it/s]"
     ]
    },
    {
     "name": "stdout",
     "output_type": "stream",
     "text": [
      "Epoch: 79. Train Loss: 0.01172. Val Loss: 0.01263. Val DC LV: 0.92706. Val DC MYO: 0.81293.\n"
     ]
    },
    {
     "name": "stderr",
     "output_type": "stream",
     "text": [
      "100%|##########| 2/2 [00:00<00:00,  5.09it/s]\n",
      "100%|##########| 20/20 [00:00<00:00, 76.66it/s]\n",
      "  0%|          | 0/2 [00:00<?, ?it/s]"
     ]
    },
    {
     "name": "stdout",
     "output_type": "stream",
     "text": [
      "Epoch: 80. Train Loss: 0.00812. Val Loss: 0.01262. Val DC LV: 0.92723. Val DC MYO: 0.81297.\n"
     ]
    },
    {
     "name": "stderr",
     "output_type": "stream",
     "text": [
      "100%|##########| 2/2 [00:00<00:00,  5.20it/s]\n",
      "100%|##########| 20/20 [00:00<00:00, 76.07it/s]\n",
      "  0%|          | 0/2 [00:00<?, ?it/s]"
     ]
    },
    {
     "name": "stdout",
     "output_type": "stream",
     "text": [
      "Epoch: 81. Train Loss: 0.00584. Val Loss: 0.01261. Val DC LV: 0.92748. Val DC MYO: 0.81327.\n"
     ]
    },
    {
     "name": "stderr",
     "output_type": "stream",
     "text": [
      "100%|##########| 2/2 [00:00<00:00,  4.98it/s]\n",
      "100%|##########| 20/20 [00:00<00:00, 74.33it/s]\n",
      "  0%|          | 0/2 [00:00<?, ?it/s]"
     ]
    },
    {
     "name": "stdout",
     "output_type": "stream",
     "text": [
      "Epoch: 82. Train Loss: 0.00934. Val Loss: 0.01260. Val DC LV: 0.92757. Val DC MYO: 0.81345.\n"
     ]
    },
    {
     "name": "stderr",
     "output_type": "stream",
     "text": [
      "100%|##########| 2/2 [00:00<00:00,  5.46it/s]\n",
      "100%|##########| 20/20 [00:00<00:00, 76.99it/s]\n",
      "  0%|          | 0/2 [00:00<?, ?it/s]"
     ]
    },
    {
     "name": "stdout",
     "output_type": "stream",
     "text": [
      "Epoch: 83. Train Loss: 0.00661. Val Loss: 0.01260. Val DC LV: 0.92751. Val DC MYO: 0.81350.\n"
     ]
    },
    {
     "name": "stderr",
     "output_type": "stream",
     "text": [
      "100%|##########| 2/2 [00:00<00:00,  4.95it/s]\n",
      "100%|##########| 20/20 [00:00<00:00, 79.02it/s]\n",
      "  0%|          | 0/2 [00:00<?, ?it/s]"
     ]
    },
    {
     "name": "stdout",
     "output_type": "stream",
     "text": [
      "Epoch: 84. Train Loss: 0.00734. Val Loss: 0.01259. Val DC LV: 0.92746. Val DC MYO: 0.81363.\n"
     ]
    },
    {
     "name": "stderr",
     "output_type": "stream",
     "text": [
      "100%|##########| 2/2 [00:00<00:00,  5.41it/s]\n",
      "100%|##########| 20/20 [00:00<00:00, 75.38it/s]\n",
      "  0%|          | 0/2 [00:00<?, ?it/s]"
     ]
    },
    {
     "name": "stdout",
     "output_type": "stream",
     "text": [
      "Epoch: 85. Train Loss: 0.01020. Val Loss: 0.01258. Val DC LV: 0.92748. Val DC MYO: 0.81385.\n"
     ]
    },
    {
     "name": "stderr",
     "output_type": "stream",
     "text": [
      "100%|##########| 2/2 [00:00<00:00,  5.11it/s]\n",
      "100%|##########| 20/20 [00:00<00:00, 78.13it/s]\n",
      "  0%|          | 0/2 [00:00<?, ?it/s]"
     ]
    },
    {
     "name": "stdout",
     "output_type": "stream",
     "text": [
      "Epoch: 86. Train Loss: 0.00834. Val Loss: 0.01257. Val DC LV: 0.92753. Val DC MYO: 0.81407.\n"
     ]
    },
    {
     "name": "stderr",
     "output_type": "stream",
     "text": [
      "100%|##########| 2/2 [00:00<00:00,  5.08it/s]\n",
      "100%|##########| 20/20 [00:00<00:00, 79.09it/s]\n",
      "  0%|          | 0/2 [00:00<?, ?it/s]"
     ]
    },
    {
     "name": "stdout",
     "output_type": "stream",
     "text": [
      "Epoch: 87. Train Loss: 0.00601. Val Loss: 0.01255. Val DC LV: 0.92764. Val DC MYO: 0.81442.\n"
     ]
    },
    {
     "name": "stderr",
     "output_type": "stream",
     "text": [
      "100%|##########| 2/2 [00:00<00:00,  5.50it/s]\n",
      "100%|##########| 20/20 [00:00<00:00, 78.52it/s]\n",
      "  0%|          | 0/2 [00:00<?, ?it/s]"
     ]
    },
    {
     "name": "stdout",
     "output_type": "stream",
     "text": [
      "Epoch: 88. Train Loss: 0.02223. Val Loss: 0.01251. Val DC LV: 0.92786. Val DC MYO: 0.81492.\n"
     ]
    },
    {
     "name": "stderr",
     "output_type": "stream",
     "text": [
      "100%|##########| 2/2 [00:00<00:00,  5.02it/s]\n",
      "100%|##########| 20/20 [00:00<00:00, 79.04it/s]\n",
      "  0%|          | 0/2 [00:00<?, ?it/s]"
     ]
    },
    {
     "name": "stdout",
     "output_type": "stream",
     "text": [
      "Epoch: 89. Train Loss: 0.00750. Val Loss: 0.01247. Val DC LV: 0.92810. Val DC MYO: 0.81544.\n"
     ]
    },
    {
     "name": "stderr",
     "output_type": "stream",
     "text": [
      "100%|##########| 2/2 [00:00<00:00,  5.03it/s]\n",
      "100%|##########| 20/20 [00:00<00:00, 75.53it/s]\n",
      "  0%|          | 0/2 [00:00<?, ?it/s]"
     ]
    },
    {
     "name": "stdout",
     "output_type": "stream",
     "text": [
      "Epoch: 90. Train Loss: 0.00706. Val Loss: 0.01243. Val DC LV: 0.92830. Val DC MYO: 0.81582.\n"
     ]
    },
    {
     "name": "stderr",
     "output_type": "stream",
     "text": [
      "100%|##########| 2/2 [00:00<00:00,  4.97it/s]\n",
      "100%|##########| 20/20 [00:00<00:00, 79.11it/s]\n",
      "  0%|          | 0/2 [00:00<?, ?it/s]"
     ]
    },
    {
     "name": "stdout",
     "output_type": "stream",
     "text": [
      "Epoch: 91. Train Loss: 0.00641. Val Loss: 0.01240. Val DC LV: 0.92840. Val DC MYO: 0.81614.\n"
     ]
    },
    {
     "name": "stderr",
     "output_type": "stream",
     "text": [
      "100%|##########| 2/2 [00:00<00:00,  5.11it/s]\n",
      "100%|##########| 20/20 [00:00<00:00, 75.79it/s]\n",
      "  0%|          | 0/2 [00:00<?, ?it/s]"
     ]
    },
    {
     "name": "stdout",
     "output_type": "stream",
     "text": [
      "Epoch: 92. Train Loss: 0.00576. Val Loss: 0.01237. Val DC LV: 0.92851. Val DC MYO: 0.81646.\n"
     ]
    },
    {
     "name": "stderr",
     "output_type": "stream",
     "text": [
      "100%|##########| 2/2 [00:00<00:00,  5.28it/s]\n",
      "100%|##########| 20/20 [00:00<00:00, 79.45it/s]\n",
      "  0%|          | 0/2 [00:00<?, ?it/s]"
     ]
    },
    {
     "name": "stdout",
     "output_type": "stream",
     "text": [
      "Epoch: 93. Train Loss: 0.00478. Val Loss: 0.01235. Val DC LV: 0.92859. Val DC MYO: 0.81678.\n"
     ]
    },
    {
     "name": "stderr",
     "output_type": "stream",
     "text": [
      "100%|##########| 2/2 [00:00<00:00,  5.46it/s]\n",
      "100%|##########| 20/20 [00:00<00:00, 78.56it/s]\n",
      "  0%|          | 0/2 [00:00<?, ?it/s]"
     ]
    },
    {
     "name": "stdout",
     "output_type": "stream",
     "text": [
      "Epoch: 94. Train Loss: 0.00749. Val Loss: 0.01231. Val DC LV: 0.92871. Val DC MYO: 0.81718.\n"
     ]
    },
    {
     "name": "stderr",
     "output_type": "stream",
     "text": [
      "100%|##########| 2/2 [00:00<00:00,  5.30it/s]\n",
      "100%|##########| 20/20 [00:00<00:00, 78.24it/s]\n",
      "  0%|          | 0/2 [00:00<?, ?it/s]"
     ]
    },
    {
     "name": "stdout",
     "output_type": "stream",
     "text": [
      "Epoch: 95. Train Loss: 0.01137. Val Loss: 0.01228. Val DC LV: 0.92890. Val DC MYO: 0.81765.\n"
     ]
    },
    {
     "name": "stderr",
     "output_type": "stream",
     "text": [
      "100%|##########| 2/2 [00:00<00:00,  5.32it/s]\n",
      "100%|##########| 20/20 [00:00<00:00, 75.23it/s]\n",
      "  0%|          | 0/2 [00:00<?, ?it/s]"
     ]
    },
    {
     "name": "stdout",
     "output_type": "stream",
     "text": [
      "Epoch: 96. Train Loss: 0.00716. Val Loss: 0.01224. Val DC LV: 0.92905. Val DC MYO: 0.81800.\n"
     ]
    },
    {
     "name": "stderr",
     "output_type": "stream",
     "text": [
      "100%|##########| 2/2 [00:00<00:00,  5.11it/s]\n",
      "100%|##########| 20/20 [00:00<00:00, 76.91it/s]\n",
      "  0%|          | 0/2 [00:00<?, ?it/s]"
     ]
    },
    {
     "name": "stdout",
     "output_type": "stream",
     "text": [
      "Epoch: 97. Train Loss: 0.00910. Val Loss: 0.01221. Val DC LV: 0.92927. Val DC MYO: 0.81848.\n"
     ]
    },
    {
     "name": "stderr",
     "output_type": "stream",
     "text": [
      "100%|##########| 2/2 [00:00<00:00,  5.41it/s]\n",
      "100%|##########| 20/20 [00:00<00:00, 76.47it/s]\n",
      "  0%|          | 0/2 [00:00<?, ?it/s]"
     ]
    },
    {
     "name": "stdout",
     "output_type": "stream",
     "text": [
      "Epoch: 98. Train Loss: 0.00590. Val Loss: 0.01218. Val DC LV: 0.92947. Val DC MYO: 0.81895.\n"
     ]
    },
    {
     "name": "stderr",
     "output_type": "stream",
     "text": [
      "100%|##########| 2/2 [00:00<00:00,  5.10it/s]\n",
      "100%|##########| 20/20 [00:00<00:00, 79.28it/s]\n",
      "  0%|          | 0/2 [00:00<?, ?it/s]"
     ]
    },
    {
     "name": "stdout",
     "output_type": "stream",
     "text": [
      "Epoch: 99. Train Loss: 0.00597. Val Loss: 0.01215. Val DC LV: 0.92965. Val DC MYO: 0.81940.\n"
     ]
    },
    {
     "name": "stderr",
     "output_type": "stream",
     "text": [
      "100%|##########| 2/2 [00:00<00:00,  5.27it/s]\n",
      "100%|##########| 20/20 [00:00<00:00, 77.34it/s]\n",
      "  0%|          | 0/2 [00:00<?, ?it/s]"
     ]
    },
    {
     "name": "stdout",
     "output_type": "stream",
     "text": [
      "Epoch: 100. Train Loss: 0.00633. Val Loss: 0.01212. Val DC LV: 0.92979. Val DC MYO: 0.81978.\n"
     ]
    },
    {
     "name": "stderr",
     "output_type": "stream",
     "text": [
      "100%|##########| 2/2 [00:00<00:00,  4.92it/s]\n",
      "100%|##########| 20/20 [00:00<00:00, 79.64it/s]\n",
      "  0%|          | 0/2 [00:00<?, ?it/s]"
     ]
    },
    {
     "name": "stdout",
     "output_type": "stream",
     "text": [
      "Epoch: 101. Train Loss: 0.00984. Val Loss: 0.01210. Val DC LV: 0.92991. Val DC MYO: 0.82012.\n"
     ]
    },
    {
     "name": "stderr",
     "output_type": "stream",
     "text": [
      "100%|##########| 2/2 [00:00<00:00,  5.30it/s]\n",
      "100%|##########| 20/20 [00:00<00:00, 78.35it/s]\n",
      "  0%|          | 0/2 [00:00<?, ?it/s]"
     ]
    },
    {
     "name": "stdout",
     "output_type": "stream",
     "text": [
      "Epoch: 102. Train Loss: 0.00767. Val Loss: 0.01209. Val DC LV: 0.93005. Val DC MYO: 0.82038.\n"
     ]
    },
    {
     "name": "stderr",
     "output_type": "stream",
     "text": [
      "100%|##########| 2/2 [00:00<00:00,  5.52it/s]\n",
      "100%|##########| 20/20 [00:00<00:00, 78.61it/s]\n",
      "  0%|          | 0/2 [00:00<?, ?it/s]"
     ]
    },
    {
     "name": "stdout",
     "output_type": "stream",
     "text": [
      "Epoch: 103. Train Loss: 0.00439. Val Loss: 0.01208. Val DC LV: 0.93017. Val DC MYO: 0.82059.\n"
     ]
    },
    {
     "name": "stderr",
     "output_type": "stream",
     "text": [
      "100%|##########| 2/2 [00:00<00:00,  5.33it/s]\n",
      "100%|##########| 20/20 [00:00<00:00, 78.59it/s]\n",
      "  0%|          | 0/2 [00:00<?, ?it/s]"
     ]
    },
    {
     "name": "stdout",
     "output_type": "stream",
     "text": [
      "Epoch: 104. Train Loss: 0.00918. Val Loss: 0.01207. Val DC LV: 0.93026. Val DC MYO: 0.82072.\n"
     ]
    },
    {
     "name": "stderr",
     "output_type": "stream",
     "text": [
      "100%|##########| 2/2 [00:00<00:00,  5.44it/s]\n",
      "100%|##########| 20/20 [00:00<00:00, 78.46it/s]\n",
      "  0%|          | 0/2 [00:00<?, ?it/s]"
     ]
    },
    {
     "name": "stdout",
     "output_type": "stream",
     "text": [
      "Epoch: 105. Train Loss: 0.00685. Val Loss: 0.01206. Val DC LV: 0.93032. Val DC MYO: 0.82085.\n"
     ]
    },
    {
     "name": "stderr",
     "output_type": "stream",
     "text": [
      "100%|##########| 2/2 [00:00<00:00,  5.15it/s]\n",
      "100%|##########| 20/20 [00:00<00:00, 78.48it/s]\n",
      "  0%|          | 0/2 [00:00<?, ?it/s]"
     ]
    },
    {
     "name": "stdout",
     "output_type": "stream",
     "text": [
      "Epoch: 106. Train Loss: 0.00850. Val Loss: 0.01205. Val DC LV: 0.93034. Val DC MYO: 0.82103.\n"
     ]
    },
    {
     "name": "stderr",
     "output_type": "stream",
     "text": [
      "100%|##########| 2/2 [00:00<00:00,  5.44it/s]\n",
      "100%|##########| 20/20 [00:00<00:00, 77.55it/s]\n",
      "  0%|          | 0/2 [00:00<?, ?it/s]"
     ]
    },
    {
     "name": "stdout",
     "output_type": "stream",
     "text": [
      "Epoch: 107. Train Loss: 0.00705. Val Loss: 0.01204. Val DC LV: 0.93040. Val DC MYO: 0.82127.\n"
     ]
    },
    {
     "name": "stderr",
     "output_type": "stream",
     "text": [
      "100%|##########| 2/2 [00:00<00:00,  5.09it/s]\n",
      "100%|##########| 20/20 [00:00<00:00, 78.65it/s]\n",
      "  0%|          | 0/2 [00:00<?, ?it/s]"
     ]
    },
    {
     "name": "stdout",
     "output_type": "stream",
     "text": [
      "Epoch: 108. Train Loss: 0.00780. Val Loss: 0.01203. Val DC LV: 0.93044. Val DC MYO: 0.82141.\n"
     ]
    },
    {
     "name": "stderr",
     "output_type": "stream",
     "text": [
      "100%|##########| 2/2 [00:00<00:00,  5.07it/s]\n",
      "100%|##########| 20/20 [00:00<00:00, 78.81it/s]\n",
      "  0%|          | 0/2 [00:00<?, ?it/s]"
     ]
    },
    {
     "name": "stdout",
     "output_type": "stream",
     "text": [
      "Epoch: 109. Train Loss: 0.00701. Val Loss: 0.01202. Val DC LV: 0.93047. Val DC MYO: 0.82156.\n"
     ]
    },
    {
     "name": "stderr",
     "output_type": "stream",
     "text": [
      "100%|##########| 2/2 [00:00<00:00,  5.23it/s]\n",
      "100%|##########| 20/20 [00:00<00:00, 79.13it/s]\n",
      "  0%|          | 0/2 [00:00<?, ?it/s]"
     ]
    },
    {
     "name": "stdout",
     "output_type": "stream",
     "text": [
      "Epoch: 110. Train Loss: 0.00936. Val Loss: 0.01201. Val DC LV: 0.93054. Val DC MYO: 0.82189.\n"
     ]
    },
    {
     "name": "stderr",
     "output_type": "stream",
     "text": [
      "100%|##########| 2/2 [00:00<00:00,  5.42it/s]\n",
      "100%|##########| 20/20 [00:00<00:00, 79.18it/s]\n",
      "  0%|          | 0/2 [00:00<?, ?it/s]"
     ]
    },
    {
     "name": "stdout",
     "output_type": "stream",
     "text": [
      "Epoch: 111. Train Loss: 0.01529. Val Loss: 0.01205. Val DC LV: 0.93039. Val DC MYO: 0.82145.\n"
     ]
    },
    {
     "name": "stderr",
     "output_type": "stream",
     "text": [
      "100%|##########| 2/2 [00:00<00:00,  5.07it/s]\n",
      "100%|##########| 20/20 [00:00<00:00, 74.95it/s]\n",
      "  0%|          | 0/2 [00:00<?, ?it/s]"
     ]
    },
    {
     "name": "stdout",
     "output_type": "stream",
     "text": [
      "Epoch: 112. Train Loss: 0.00729. Val Loss: 0.01207. Val DC LV: 0.93029. Val DC MYO: 0.82119.\n"
     ]
    },
    {
     "name": "stderr",
     "output_type": "stream",
     "text": [
      "100%|##########| 2/2 [00:00<00:00,  5.08it/s]\n",
      "100%|##########| 20/20 [00:00<00:00, 76.10it/s]\n",
      "  0%|          | 0/2 [00:00<?, ?it/s]"
     ]
    },
    {
     "name": "stdout",
     "output_type": "stream",
     "text": [
      "Epoch: 113. Train Loss: 0.00717. Val Loss: 0.01208. Val DC LV: 0.93023. Val DC MYO: 0.82105.\n"
     ]
    },
    {
     "name": "stderr",
     "output_type": "stream",
     "text": [
      "100%|##########| 2/2 [00:00<00:00,  5.03it/s]\n",
      "100%|##########| 20/20 [00:00<00:00, 79.16it/s]\n",
      "  0%|          | 0/2 [00:00<?, ?it/s]"
     ]
    },
    {
     "name": "stdout",
     "output_type": "stream",
     "text": [
      "Epoch: 114. Train Loss: 0.00654. Val Loss: 0.01209. Val DC LV: 0.93020. Val DC MYO: 0.82099.\n"
     ]
    },
    {
     "name": "stderr",
     "output_type": "stream",
     "text": [
      "100%|##########| 2/2 [00:00<00:00,  5.03it/s]\n",
      "100%|##########| 20/20 [00:00<00:00, 78.40it/s]\n",
      "  0%|          | 0/2 [00:00<?, ?it/s]"
     ]
    },
    {
     "name": "stdout",
     "output_type": "stream",
     "text": [
      "Epoch: 115. Train Loss: 0.00653. Val Loss: 0.01209. Val DC LV: 0.93024. Val DC MYO: 0.82105.\n"
     ]
    },
    {
     "name": "stderr",
     "output_type": "stream",
     "text": [
      "100%|##########| 2/2 [00:00<00:00,  5.05it/s]\n",
      "100%|##########| 20/20 [00:00<00:00, 79.19it/s]\n",
      "  0%|          | 0/2 [00:00<?, ?it/s]"
     ]
    },
    {
     "name": "stdout",
     "output_type": "stream",
     "text": [
      "Epoch: 116. Train Loss: 0.01899. Val Loss: 0.01215. Val DC LV: 0.92996. Val DC MYO: 0.82051.\n"
     ]
    },
    {
     "name": "stderr",
     "output_type": "stream",
     "text": [
      "100%|##########| 2/2 [00:00<00:00,  5.06it/s]\n",
      "100%|##########| 20/20 [00:00<00:00, 77.96it/s]\n",
      "  0%|          | 0/2 [00:00<?, ?it/s]"
     ]
    },
    {
     "name": "stdout",
     "output_type": "stream",
     "text": [
      "Epoch: 117. Train Loss: 0.00946. Val Loss: 0.01227. Val DC LV: 0.92941. Val DC MYO: 0.81936.\n"
     ]
    },
    {
     "name": "stderr",
     "output_type": "stream",
     "text": [
      "100%|##########| 2/2 [00:00<00:00,  5.20it/s]\n",
      "100%|##########| 20/20 [00:00<00:00, 76.83it/s]\n",
      "  0%|          | 0/2 [00:00<?, ?it/s]"
     ]
    },
    {
     "name": "stdout",
     "output_type": "stream",
     "text": [
      "Epoch: 118. Train Loss: 0.00642. Val Loss: 0.01237. Val DC LV: 0.92896. Val DC MYO: 0.81839.\n"
     ]
    },
    {
     "name": "stderr",
     "output_type": "stream",
     "text": [
      "100%|##########| 2/2 [00:00<00:00,  5.05it/s]\n",
      "100%|##########| 20/20 [00:00<00:00, 74.19it/s]\n",
      "  0%|          | 0/2 [00:00<?, ?it/s]"
     ]
    },
    {
     "name": "stdout",
     "output_type": "stream",
     "text": [
      "Epoch: 119. Train Loss: 0.01119. Val Loss: 0.01243. Val DC LV: 0.92866. Val DC MYO: 0.81781.\n"
     ]
    },
    {
     "name": "stderr",
     "output_type": "stream",
     "text": [
      "100%|##########| 2/2 [00:00<00:00,  5.11it/s]\n",
      "100%|##########| 20/20 [00:00<00:00, 76.22it/s]\n",
      "  0%|          | 0/2 [00:00<?, ?it/s]"
     ]
    },
    {
     "name": "stdout",
     "output_type": "stream",
     "text": [
      "Epoch: 120. Train Loss: 0.00880. Val Loss: 0.01246. Val DC LV: 0.92853. Val DC MYO: 0.81765.\n"
     ]
    },
    {
     "name": "stderr",
     "output_type": "stream",
     "text": [
      "100%|##########| 2/2 [00:00<00:00,  5.23it/s]\n",
      "100%|##########| 20/20 [00:00<00:00, 78.67it/s]\n",
      "  0%|          | 0/2 [00:00<?, ?it/s]"
     ]
    },
    {
     "name": "stdout",
     "output_type": "stream",
     "text": [
      "Epoch: 121. Train Loss: 0.00673. Val Loss: 0.01247. Val DC LV: 0.92849. Val DC MYO: 0.81771.\n"
     ]
    },
    {
     "name": "stderr",
     "output_type": "stream",
     "text": [
      "100%|##########| 2/2 [00:00<00:00,  5.31it/s]\n",
      "100%|##########| 20/20 [00:00<00:00, 78.09it/s]\n",
      "  0%|          | 0/2 [00:00<?, ?it/s]"
     ]
    },
    {
     "name": "stdout",
     "output_type": "stream",
     "text": [
      "Epoch: 122. Train Loss: 0.01270. Val Loss: 0.01246. Val DC LV: 0.92858. Val DC MYO: 0.81802.\n"
     ]
    },
    {
     "name": "stderr",
     "output_type": "stream",
     "text": [
      "100%|##########| 2/2 [00:00<00:00,  5.11it/s]\n",
      "100%|##########| 20/20 [00:00<00:00, 79.07it/s]\n",
      "  0%|          | 0/2 [00:00<?, ?it/s]"
     ]
    },
    {
     "name": "stdout",
     "output_type": "stream",
     "text": [
      "Epoch: 123. Train Loss: 0.00754. Val Loss: 0.01243. Val DC LV: 0.92877. Val DC MYO: 0.81851.\n"
     ]
    },
    {
     "name": "stderr",
     "output_type": "stream",
     "text": [
      "100%|##########| 2/2 [00:00<00:00,  5.01it/s]\n",
      "100%|##########| 20/20 [00:00<00:00, 79.01it/s]\n",
      "  0%|          | 0/2 [00:00<?, ?it/s]"
     ]
    },
    {
     "name": "stdout",
     "output_type": "stream",
     "text": [
      "Epoch: 124. Train Loss: 0.01691. Val Loss: 0.01238. Val DC LV: 0.92897. Val DC MYO: 0.81917.\n"
     ]
    },
    {
     "name": "stderr",
     "output_type": "stream",
     "text": [
      "100%|##########| 2/2 [00:00<00:00,  4.91it/s]\n",
      "100%|##########| 20/20 [00:00<00:00, 74.24it/s]\n",
      "  0%|          | 0/2 [00:00<?, ?it/s]"
     ]
    },
    {
     "name": "stdout",
     "output_type": "stream",
     "text": [
      "Epoch: 125. Train Loss: 0.00898. Val Loss: 0.01233. Val DC LV: 0.92919. Val DC MYO: 0.81979.\n"
     ]
    },
    {
     "name": "stderr",
     "output_type": "stream",
     "text": [
      "100%|##########| 2/2 [00:00<00:00,  5.06it/s]\n",
      "100%|##########| 20/20 [00:00<00:00, 78.40it/s]\n",
      "  0%|          | 0/2 [00:00<?, ?it/s]"
     ]
    },
    {
     "name": "stdout",
     "output_type": "stream",
     "text": [
      "Epoch: 126. Train Loss: 0.00446. Val Loss: 0.01229. Val DC LV: 0.92940. Val DC MYO: 0.82036.\n"
     ]
    },
    {
     "name": "stderr",
     "output_type": "stream",
     "text": [
      "100%|##########| 2/2 [00:00<00:00,  5.21it/s]\n",
      "100%|##########| 20/20 [00:00<00:00, 74.78it/s]\n",
      "  0%|          | 0/2 [00:00<?, ?it/s]"
     ]
    },
    {
     "name": "stdout",
     "output_type": "stream",
     "text": [
      "Epoch: 127. Train Loss: 0.00759. Val Loss: 0.01226. Val DC LV: 0.92960. Val DC MYO: 0.82086.\n"
     ]
    },
    {
     "name": "stderr",
     "output_type": "stream",
     "text": [
      "100%|##########| 2/2 [00:00<00:00,  5.44it/s]\n",
      "100%|##########| 20/20 [00:00<00:00, 78.52it/s]\n",
      "  0%|          | 0/2 [00:00<?, ?it/s]"
     ]
    },
    {
     "name": "stdout",
     "output_type": "stream",
     "text": [
      "Epoch: 128. Train Loss: 0.00498. Val Loss: 0.01223. Val DC LV: 0.92976. Val DC MYO: 0.82129.\n"
     ]
    },
    {
     "name": "stderr",
     "output_type": "stream",
     "text": [
      "100%|##########| 2/2 [00:00<00:00,  5.10it/s]\n",
      "100%|##########| 20/20 [00:00<00:00, 79.25it/s]\n",
      "  0%|          | 0/2 [00:00<?, ?it/s]"
     ]
    },
    {
     "name": "stdout",
     "output_type": "stream",
     "text": [
      "Epoch: 129. Train Loss: 0.00678. Val Loss: 0.01220. Val DC LV: 0.92988. Val DC MYO: 0.82165.\n"
     ]
    },
    {
     "name": "stderr",
     "output_type": "stream",
     "text": [
      "100%|##########| 2/2 [00:00<00:00,  5.27it/s]\n",
      "100%|##########| 20/20 [00:00<00:00, 77.19it/s]\n",
      "  0%|          | 0/2 [00:00<?, ?it/s]"
     ]
    },
    {
     "name": "stdout",
     "output_type": "stream",
     "text": [
      "Epoch: 130. Train Loss: 0.00434. Val Loss: 0.01218. Val DC LV: 0.92996. Val DC MYO: 0.82197.\n"
     ]
    },
    {
     "name": "stderr",
     "output_type": "stream",
     "text": [
      "100%|##########| 2/2 [00:00<00:00,  5.37it/s]\n",
      "100%|##########| 20/20 [00:00<00:00, 78.68it/s]\n",
      "  0%|          | 0/2 [00:00<?, ?it/s]"
     ]
    },
    {
     "name": "stdout",
     "output_type": "stream",
     "text": [
      "Epoch: 131. Train Loss: 0.00443. Val Loss: 0.01216. Val DC LV: 0.93006. Val DC MYO: 0.82228.\n"
     ]
    },
    {
     "name": "stderr",
     "output_type": "stream",
     "text": [
      "100%|##########| 2/2 [00:00<00:00,  5.04it/s]\n",
      "100%|##########| 20/20 [00:00<00:00, 78.15it/s]\n",
      "  0%|          | 0/2 [00:00<?, ?it/s]"
     ]
    },
    {
     "name": "stdout",
     "output_type": "stream",
     "text": [
      "Epoch: 132. Train Loss: 0.00733. Val Loss: 0.01215. Val DC LV: 0.93012. Val DC MYO: 0.82245.\n"
     ]
    },
    {
     "name": "stderr",
     "output_type": "stream",
     "text": [
      "100%|##########| 2/2 [00:00<00:00,  5.38it/s]\n",
      "100%|##########| 20/20 [00:00<00:00, 77.64it/s]\n",
      "  0%|          | 0/2 [00:00<?, ?it/s]"
     ]
    },
    {
     "name": "stdout",
     "output_type": "stream",
     "text": [
      "Epoch: 133. Train Loss: 0.00987. Val Loss: 0.01215. Val DC LV: 0.93010. Val DC MYO: 0.82243.\n"
     ]
    },
    {
     "name": "stderr",
     "output_type": "stream",
     "text": [
      "100%|##########| 2/2 [00:00<00:00,  5.21it/s]\n",
      "100%|##########| 20/20 [00:00<00:00, 78.95it/s]\n",
      "  0%|          | 0/2 [00:00<?, ?it/s]"
     ]
    },
    {
     "name": "stdout",
     "output_type": "stream",
     "text": [
      "Epoch: 134. Train Loss: 0.00528. Val Loss: 0.01215. Val DC LV: 0.93007. Val DC MYO: 0.82237.\n"
     ]
    },
    {
     "name": "stderr",
     "output_type": "stream",
     "text": [
      "100%|##########| 2/2 [00:00<00:00,  4.86it/s]\n",
      "100%|##########| 20/20 [00:00<00:00, 79.24it/s]\n",
      "  0%|          | 0/2 [00:00<?, ?it/s]"
     ]
    },
    {
     "name": "stdout",
     "output_type": "stream",
     "text": [
      "Epoch: 135. Train Loss: 0.01043. Val Loss: 0.01216. Val DC LV: 0.93003. Val DC MYO: 0.82231.\n"
     ]
    },
    {
     "name": "stderr",
     "output_type": "stream",
     "text": [
      "100%|##########| 2/2 [00:00<00:00,  5.33it/s]\n",
      "100%|##########| 20/20 [00:00<00:00, 78.88it/s]\n",
      "  0%|          | 0/2 [00:00<?, ?it/s]"
     ]
    },
    {
     "name": "stdout",
     "output_type": "stream",
     "text": [
      "Epoch: 136. Train Loss: 0.00721. Val Loss: 0.01216. Val DC LV: 0.93002. Val DC MYO: 0.82231.\n"
     ]
    },
    {
     "name": "stderr",
     "output_type": "stream",
     "text": [
      "100%|##########| 2/2 [00:00<00:00,  5.08it/s]\n",
      "100%|##########| 20/20 [00:00<00:00, 75.69it/s]\n",
      "  0%|          | 0/2 [00:00<?, ?it/s]"
     ]
    },
    {
     "name": "stdout",
     "output_type": "stream",
     "text": [
      "Epoch: 137. Train Loss: 0.00570. Val Loss: 0.01215. Val DC LV: 0.93001. Val DC MYO: 0.82238.\n"
     ]
    },
    {
     "name": "stderr",
     "output_type": "stream",
     "text": [
      "100%|##########| 2/2 [00:00<00:00,  5.01it/s]\n",
      "100%|##########| 20/20 [00:00<00:00, 77.28it/s]\n",
      "  0%|          | 0/2 [00:00<?, ?it/s]"
     ]
    },
    {
     "name": "stdout",
     "output_type": "stream",
     "text": [
      "Epoch: 138. Train Loss: 0.00766. Val Loss: 0.01216. Val DC LV: 0.92991. Val DC MYO: 0.82229.\n"
     ]
    },
    {
     "name": "stderr",
     "output_type": "stream",
     "text": [
      "100%|##########| 2/2 [00:00<00:00,  5.17it/s]\n",
      "100%|##########| 20/20 [00:00<00:00, 78.58it/s]\n",
      "  0%|          | 0/2 [00:00<?, ?it/s]"
     ]
    },
    {
     "name": "stdout",
     "output_type": "stream",
     "text": [
      "Epoch: 139. Train Loss: 0.00931. Val Loss: 0.01218. Val DC LV: 0.92974. Val DC MYO: 0.82214.\n"
     ]
    },
    {
     "name": "stderr",
     "output_type": "stream",
     "text": [
      "100%|##########| 2/2 [00:00<00:00,  5.03it/s]\n",
      "100%|##########| 20/20 [00:00<00:00, 77.38it/s]\n",
      "  0%|          | 0/2 [00:00<?, ?it/s]"
     ]
    },
    {
     "name": "stdout",
     "output_type": "stream",
     "text": [
      "Epoch: 140. Train Loss: 0.00523. Val Loss: 0.01218. Val DC LV: 0.92963. Val DC MYO: 0.82209.\n"
     ]
    },
    {
     "name": "stderr",
     "output_type": "stream",
     "text": [
      "100%|##########| 2/2 [00:00<00:00,  4.97it/s]\n",
      "100%|##########| 20/20 [00:00<00:00, 74.88it/s]\n",
      "  0%|          | 0/2 [00:00<?, ?it/s]"
     ]
    },
    {
     "name": "stdout",
     "output_type": "stream",
     "text": [
      "Epoch: 141. Train Loss: 0.00711. Val Loss: 0.01219. Val DC LV: 0.92955. Val DC MYO: 0.82209.\n"
     ]
    },
    {
     "name": "stderr",
     "output_type": "stream",
     "text": [
      "100%|##########| 2/2 [00:00<00:00,  5.27it/s]\n",
      "100%|##########| 20/20 [00:00<00:00, 78.71it/s]\n",
      "  0%|          | 0/2 [00:00<?, ?it/s]"
     ]
    },
    {
     "name": "stdout",
     "output_type": "stream",
     "text": [
      "Epoch: 142. Train Loss: 0.00575. Val Loss: 0.01218. Val DC LV: 0.92951. Val DC MYO: 0.82211.\n"
     ]
    },
    {
     "name": "stderr",
     "output_type": "stream",
     "text": [
      "100%|##########| 2/2 [00:00<00:00,  5.05it/s]\n",
      "100%|##########| 20/20 [00:00<00:00, 79.01it/s]\n",
      "  0%|          | 0/2 [00:00<?, ?it/s]"
     ]
    },
    {
     "name": "stdout",
     "output_type": "stream",
     "text": [
      "Epoch: 143. Train Loss: 0.01184. Val Loss: 0.01217. Val DC LV: 0.92949. Val DC MYO: 0.82220.\n"
     ]
    },
    {
     "name": "stderr",
     "output_type": "stream",
     "text": [
      "100%|##########| 2/2 [00:00<00:00,  5.33it/s]\n",
      "100%|##########| 20/20 [00:00<00:00, 76.46it/s]\n",
      "  0%|          | 0/2 [00:00<?, ?it/s]"
     ]
    },
    {
     "name": "stdout",
     "output_type": "stream",
     "text": [
      "Epoch: 144. Train Loss: 0.00718. Val Loss: 0.01216. Val DC LV: 0.92952. Val DC MYO: 0.82241.\n"
     ]
    },
    {
     "name": "stderr",
     "output_type": "stream",
     "text": [
      "100%|##########| 2/2 [00:00<00:00,  5.26it/s]\n",
      "100%|##########| 20/20 [00:00<00:00, 78.68it/s]\n",
      "  0%|          | 0/2 [00:00<?, ?it/s]"
     ]
    },
    {
     "name": "stdout",
     "output_type": "stream",
     "text": [
      "Epoch: 145. Train Loss: 0.00707. Val Loss: 0.01217. Val DC LV: 0.92938. Val DC MYO: 0.82236.\n"
     ]
    },
    {
     "name": "stderr",
     "output_type": "stream",
     "text": [
      "100%|##########| 2/2 [00:00<00:00,  5.29it/s]\n",
      "100%|##########| 20/20 [00:00<00:00, 74.60it/s]\n",
      "  0%|          | 0/2 [00:00<?, ?it/s]"
     ]
    },
    {
     "name": "stdout",
     "output_type": "stream",
     "text": [
      "Epoch: 146. Train Loss: 0.00715. Val Loss: 0.01217. Val DC LV: 0.92930. Val DC MYO: 0.82242.\n"
     ]
    },
    {
     "name": "stderr",
     "output_type": "stream",
     "text": [
      "100%|##########| 2/2 [00:00<00:00,  5.10it/s]\n",
      "100%|##########| 20/20 [00:00<00:00, 76.99it/s]\n",
      "  0%|          | 0/2 [00:00<?, ?it/s]"
     ]
    },
    {
     "name": "stdout",
     "output_type": "stream",
     "text": [
      "Epoch: 147. Train Loss: 0.00592. Val Loss: 0.01217. Val DC LV: 0.92933. Val DC MYO: 0.82258.\n"
     ]
    },
    {
     "name": "stderr",
     "output_type": "stream",
     "text": [
      "100%|##########| 2/2 [00:00<00:00,  5.17it/s]\n",
      "100%|##########| 20/20 [00:00<00:00, 78.79it/s]\n",
      "  0%|          | 0/2 [00:00<?, ?it/s]"
     ]
    },
    {
     "name": "stdout",
     "output_type": "stream",
     "text": [
      "Epoch: 148. Train Loss: 0.00734. Val Loss: 0.01216. Val DC LV: 0.92937. Val DC MYO: 0.82280.\n"
     ]
    },
    {
     "name": "stderr",
     "output_type": "stream",
     "text": [
      "100%|##########| 2/2 [00:00<00:00,  5.20it/s]\n",
      "100%|##########| 20/20 [00:00<00:00, 75.31it/s]\n",
      "  0%|          | 0/2 [00:00<?, ?it/s]"
     ]
    },
    {
     "name": "stdout",
     "output_type": "stream",
     "text": [
      "Epoch: 149. Train Loss: 0.00832. Val Loss: 0.01214. Val DC LV: 0.92944. Val DC MYO: 0.82309.\n"
     ]
    },
    {
     "name": "stderr",
     "output_type": "stream",
     "text": [
      "100%|##########| 2/2 [00:00<00:00,  5.26it/s]\n",
      "100%|##########| 20/20 [00:00<00:00, 79.39it/s]\n",
      "  0%|          | 0/2 [00:00<?, ?it/s]"
     ]
    },
    {
     "name": "stdout",
     "output_type": "stream",
     "text": [
      "Epoch: 150. Train Loss: 0.00942. Val Loss: 0.01212. Val DC LV: 0.92953. Val DC MYO: 0.82335.\n"
     ]
    },
    {
     "name": "stderr",
     "output_type": "stream",
     "text": [
      "100%|##########| 2/2 [00:00<00:00,  5.19it/s]\n",
      "100%|##########| 20/20 [00:00<00:00, 76.03it/s]\n",
      "  0%|          | 0/2 [00:00<?, ?it/s]"
     ]
    },
    {
     "name": "stdout",
     "output_type": "stream",
     "text": [
      "Epoch: 151. Train Loss: 0.00654. Val Loss: 0.01210. Val DC LV: 0.92960. Val DC MYO: 0.82362.\n"
     ]
    },
    {
     "name": "stderr",
     "output_type": "stream",
     "text": [
      "100%|##########| 2/2 [00:00<00:00,  5.15it/s]\n",
      "100%|##########| 20/20 [00:00<00:00, 78.62it/s]\n",
      "  0%|          | 0/2 [00:00<?, ?it/s]"
     ]
    },
    {
     "name": "stdout",
     "output_type": "stream",
     "text": [
      "Epoch: 152. Train Loss: 0.00650. Val Loss: 0.01209. Val DC LV: 0.92963. Val DC MYO: 0.82387.\n"
     ]
    },
    {
     "name": "stderr",
     "output_type": "stream",
     "text": [
      "100%|##########| 2/2 [00:00<00:00,  5.22it/s]\n",
      "100%|##########| 20/20 [00:00<00:00, 78.54it/s]\n",
      "  0%|          | 0/2 [00:00<?, ?it/s]"
     ]
    },
    {
     "name": "stdout",
     "output_type": "stream",
     "text": [
      "Epoch: 153. Train Loss: 0.01125. Val Loss: 0.01209. Val DC LV: 0.92960. Val DC MYO: 0.82405.\n"
     ]
    },
    {
     "name": "stderr",
     "output_type": "stream",
     "text": [
      "100%|##########| 2/2 [00:00<00:00,  5.34it/s]\n",
      "100%|##########| 20/20 [00:00<00:00, 79.12it/s]\n",
      "  0%|          | 0/2 [00:00<?, ?it/s]"
     ]
    },
    {
     "name": "stdout",
     "output_type": "stream",
     "text": [
      "Epoch: 154. Train Loss: 0.01050. Val Loss: 0.01208. Val DC LV: 0.92957. Val DC MYO: 0.82422.\n"
     ]
    },
    {
     "name": "stderr",
     "output_type": "stream",
     "text": [
      "100%|##########| 2/2 [00:00<00:00,  5.36it/s]\n",
      "100%|##########| 20/20 [00:00<00:00, 75.48it/s]\n",
      "  0%|          | 0/2 [00:00<?, ?it/s]"
     ]
    },
    {
     "name": "stdout",
     "output_type": "stream",
     "text": [
      "Epoch: 155. Train Loss: 0.00464. Val Loss: 0.01207. Val DC LV: 0.92959. Val DC MYO: 0.82448.\n"
     ]
    },
    {
     "name": "stderr",
     "output_type": "stream",
     "text": [
      "100%|##########| 2/2 [00:00<00:00,  5.31it/s]\n",
      "100%|##########| 20/20 [00:00<00:00, 78.33it/s]\n",
      "  0%|          | 0/2 [00:00<?, ?it/s]"
     ]
    },
    {
     "name": "stdout",
     "output_type": "stream",
     "text": [
      "Epoch: 156. Train Loss: 0.00706. Val Loss: 0.01206. Val DC LV: 0.92956. Val DC MYO: 0.82464.\n"
     ]
    },
    {
     "name": "stderr",
     "output_type": "stream",
     "text": [
      "100%|##########| 2/2 [00:00<00:00,  4.95it/s]\n",
      "100%|##########| 20/20 [00:00<00:00, 78.79it/s]\n",
      "  0%|          | 0/2 [00:00<?, ?it/s]"
     ]
    },
    {
     "name": "stdout",
     "output_type": "stream",
     "text": [
      "Epoch: 157. Train Loss: 0.01005. Val Loss: 0.01206. Val DC LV: 0.92953. Val DC MYO: 0.82473.\n"
     ]
    },
    {
     "name": "stderr",
     "output_type": "stream",
     "text": [
      "100%|##########| 2/2 [00:00<00:00,  5.30it/s]\n",
      "100%|##########| 20/20 [00:00<00:00, 75.49it/s]\n",
      "  0%|          | 0/2 [00:00<?, ?it/s]"
     ]
    },
    {
     "name": "stdout",
     "output_type": "stream",
     "text": [
      "Epoch: 158. Train Loss: 0.01064. Val Loss: 0.01206. Val DC LV: 0.92953. Val DC MYO: 0.82483.\n"
     ]
    },
    {
     "name": "stderr",
     "output_type": "stream",
     "text": [
      "100%|##########| 2/2 [00:00<00:00,  5.42it/s]\n",
      "100%|##########| 20/20 [00:00<00:00, 78.19it/s]\n",
      "  0%|          | 0/2 [00:00<?, ?it/s]"
     ]
    },
    {
     "name": "stdout",
     "output_type": "stream",
     "text": [
      "Epoch: 159. Train Loss: 0.00562. Val Loss: 0.01205. Val DC LV: 0.92955. Val DC MYO: 0.82491.\n"
     ]
    },
    {
     "name": "stderr",
     "output_type": "stream",
     "text": [
      "100%|##########| 2/2 [00:00<00:00,  5.24it/s]\n",
      "100%|##########| 20/20 [00:00<00:00, 76.28it/s]\n",
      "  0%|          | 0/2 [00:00<?, ?it/s]"
     ]
    },
    {
     "name": "stdout",
     "output_type": "stream",
     "text": [
      "Epoch: 160. Train Loss: 0.00726. Val Loss: 0.01205. Val DC LV: 0.92955. Val DC MYO: 0.82500.\n"
     ]
    },
    {
     "name": "stderr",
     "output_type": "stream",
     "text": [
      "100%|##########| 2/2 [00:00<00:00,  5.35it/s]\n",
      "100%|##########| 20/20 [00:00<00:00, 75.51it/s]\n",
      "  0%|          | 0/2 [00:00<?, ?it/s]"
     ]
    },
    {
     "name": "stdout",
     "output_type": "stream",
     "text": [
      "Epoch: 161. Train Loss: 0.00686. Val Loss: 0.01205. Val DC LV: 0.92954. Val DC MYO: 0.82511.\n"
     ]
    },
    {
     "name": "stderr",
     "output_type": "stream",
     "text": [
      "100%|##########| 2/2 [00:00<00:00,  4.99it/s]\n",
      "100%|##########| 20/20 [00:00<00:00, 75.48it/s]\n",
      "  0%|          | 0/2 [00:00<?, ?it/s]"
     ]
    },
    {
     "name": "stdout",
     "output_type": "stream",
     "text": [
      "Epoch: 162. Train Loss: 0.00498. Val Loss: 0.01203. Val DC LV: 0.92959. Val DC MYO: 0.82533.\n"
     ]
    },
    {
     "name": "stderr",
     "output_type": "stream",
     "text": [
      "100%|##########| 2/2 [00:00<00:00,  5.40it/s]\n",
      "100%|##########| 20/20 [00:00<00:00, 78.57it/s]\n",
      "  0%|          | 0/2 [00:00<?, ?it/s]"
     ]
    },
    {
     "name": "stdout",
     "output_type": "stream",
     "text": [
      "Epoch: 163. Train Loss: 0.00725. Val Loss: 0.01201. Val DC LV: 0.92972. Val DC MYO: 0.82566.\n"
     ]
    },
    {
     "name": "stderr",
     "output_type": "stream",
     "text": [
      "100%|##########| 2/2 [00:00<00:00,  4.97it/s]\n",
      "100%|##########| 20/20 [00:00<00:00, 76.50it/s]\n",
      "  0%|          | 0/2 [00:00<?, ?it/s]"
     ]
    },
    {
     "name": "stdout",
     "output_type": "stream",
     "text": [
      "Epoch: 164. Train Loss: 0.00536. Val Loss: 0.01200. Val DC LV: 0.92981. Val DC MYO: 0.82590.\n"
     ]
    },
    {
     "name": "stderr",
     "output_type": "stream",
     "text": [
      "100%|##########| 2/2 [00:00<00:00,  5.36it/s]\n",
      "100%|##########| 20/20 [00:00<00:00, 79.23it/s]\n",
      "  0%|          | 0/2 [00:00<?, ?it/s]"
     ]
    },
    {
     "name": "stdout",
     "output_type": "stream",
     "text": [
      "Epoch: 165. Train Loss: 0.00700. Val Loss: 0.01199. Val DC LV: 0.92988. Val DC MYO: 0.82607.\n"
     ]
    },
    {
     "name": "stderr",
     "output_type": "stream",
     "text": [
      "100%|##########| 2/2 [00:00<00:00,  5.06it/s]\n",
      "100%|##########| 20/20 [00:00<00:00, 78.41it/s]\n",
      "  0%|          | 0/2 [00:00<?, ?it/s]"
     ]
    },
    {
     "name": "stdout",
     "output_type": "stream",
     "text": [
      "Epoch: 166. Train Loss: 0.00617. Val Loss: 0.01197. Val DC LV: 0.92993. Val DC MYO: 0.82623.\n"
     ]
    },
    {
     "name": "stderr",
     "output_type": "stream",
     "text": [
      "100%|##########| 2/2 [00:00<00:00,  5.22it/s]\n",
      "100%|##########| 20/20 [00:00<00:00, 79.08it/s]\n",
      "  0%|          | 0/2 [00:00<?, ?it/s]"
     ]
    },
    {
     "name": "stdout",
     "output_type": "stream",
     "text": [
      "Epoch: 167. Train Loss: 0.00485. Val Loss: 0.01195. Val DC LV: 0.93001. Val DC MYO: 0.82645.\n"
     ]
    },
    {
     "name": "stderr",
     "output_type": "stream",
     "text": [
      "100%|##########| 2/2 [00:00<00:00,  5.24it/s]\n",
      "100%|##########| 20/20 [00:00<00:00, 78.44it/s]\n",
      "  0%|          | 0/2 [00:00<?, ?it/s]"
     ]
    },
    {
     "name": "stdout",
     "output_type": "stream",
     "text": [
      "Epoch: 168. Train Loss: 0.00609. Val Loss: 0.01193. Val DC LV: 0.93015. Val DC MYO: 0.82670.\n"
     ]
    },
    {
     "name": "stderr",
     "output_type": "stream",
     "text": [
      "100%|##########| 2/2 [00:00<00:00,  4.89it/s]\n",
      "100%|##########| 20/20 [00:00<00:00, 76.03it/s]\n",
      "  0%|          | 0/2 [00:00<?, ?it/s]"
     ]
    },
    {
     "name": "stdout",
     "output_type": "stream",
     "text": [
      "Epoch: 169. Train Loss: 0.00491. Val Loss: 0.01191. Val DC LV: 0.93028. Val DC MYO: 0.82695.\n"
     ]
    },
    {
     "name": "stderr",
     "output_type": "stream",
     "text": [
      "100%|##########| 2/2 [00:00<00:00,  4.90it/s]\n",
      "100%|##########| 20/20 [00:00<00:00, 79.03it/s]\n",
      "  0%|          | 0/2 [00:00<?, ?it/s]"
     ]
    },
    {
     "name": "stdout",
     "output_type": "stream",
     "text": [
      "Epoch: 170. Train Loss: 0.00601. Val Loss: 0.01188. Val DC LV: 0.93047. Val DC MYO: 0.82725.\n"
     ]
    },
    {
     "name": "stderr",
     "output_type": "stream",
     "text": [
      "100%|##########| 2/2 [00:00<00:00,  5.30it/s]\n",
      "100%|##########| 20/20 [00:00<00:00, 79.15it/s]\n",
      "  0%|          | 0/2 [00:00<?, ?it/s]"
     ]
    },
    {
     "name": "stdout",
     "output_type": "stream",
     "text": [
      "Epoch: 171. Train Loss: 0.00575. Val Loss: 0.01186. Val DC LV: 0.93062. Val DC MYO: 0.82748.\n"
     ]
    },
    {
     "name": "stderr",
     "output_type": "stream",
     "text": [
      "100%|##########| 2/2 [00:00<00:00,  4.84it/s]\n",
      "100%|##########| 20/20 [00:00<00:00, 77.61it/s]\n",
      "  0%|          | 0/2 [00:00<?, ?it/s]"
     ]
    },
    {
     "name": "stdout",
     "output_type": "stream",
     "text": [
      "Epoch: 172. Train Loss: 0.00635. Val Loss: 0.01184. Val DC LV: 0.93072. Val DC MYO: 0.82764.\n"
     ]
    },
    {
     "name": "stderr",
     "output_type": "stream",
     "text": [
      "100%|##########| 2/2 [00:00<00:00,  5.21it/s]\n",
      "100%|##########| 20/20 [00:00<00:00, 76.68it/s]\n",
      "  0%|          | 0/2 [00:00<?, ?it/s]"
     ]
    },
    {
     "name": "stdout",
     "output_type": "stream",
     "text": [
      "Epoch: 173. Train Loss: 0.00666. Val Loss: 0.01183. Val DC LV: 0.93079. Val DC MYO: 0.82777.\n"
     ]
    },
    {
     "name": "stderr",
     "output_type": "stream",
     "text": [
      "100%|##########| 2/2 [00:00<00:00,  4.99it/s]\n",
      "100%|##########| 20/20 [00:00<00:00, 77.40it/s]\n",
      "  0%|          | 0/2 [00:00<?, ?it/s]"
     ]
    },
    {
     "name": "stdout",
     "output_type": "stream",
     "text": [
      "Epoch: 174. Train Loss: 0.00597. Val Loss: 0.01181. Val DC LV: 0.93087. Val DC MYO: 0.82797.\n"
     ]
    },
    {
     "name": "stderr",
     "output_type": "stream",
     "text": [
      "100%|##########| 2/2 [00:00<00:00,  5.37it/s]\n",
      "100%|##########| 20/20 [00:00<00:00, 75.81it/s]\n",
      "  0%|          | 0/2 [00:00<?, ?it/s]"
     ]
    },
    {
     "name": "stdout",
     "output_type": "stream",
     "text": [
      "Epoch: 175. Train Loss: 0.00784. Val Loss: 0.01180. Val DC LV: 0.93097. Val DC MYO: 0.82817.\n"
     ]
    },
    {
     "name": "stderr",
     "output_type": "stream",
     "text": [
      "100%|##########| 2/2 [00:00<00:00,  5.15it/s]\n",
      "100%|##########| 20/20 [00:00<00:00, 78.34it/s]\n",
      "  0%|          | 0/2 [00:00<?, ?it/s]"
     ]
    },
    {
     "name": "stdout",
     "output_type": "stream",
     "text": [
      "Epoch: 176. Train Loss: 0.00686. Val Loss: 0.01178. Val DC LV: 0.93107. Val DC MYO: 0.82837.\n"
     ]
    },
    {
     "name": "stderr",
     "output_type": "stream",
     "text": [
      "100%|##########| 2/2 [00:00<00:00,  5.28it/s]\n",
      "100%|##########| 20/20 [00:00<00:00, 76.50it/s]\n",
      "  0%|          | 0/2 [00:00<?, ?it/s]"
     ]
    },
    {
     "name": "stdout",
     "output_type": "stream",
     "text": [
      "Epoch: 177. Train Loss: 0.00925. Val Loss: 0.01177. Val DC LV: 0.93113. Val DC MYO: 0.82850.\n"
     ]
    },
    {
     "name": "stderr",
     "output_type": "stream",
     "text": [
      "100%|##########| 2/2 [00:00<00:00,  4.95it/s]\n",
      "100%|##########| 20/20 [00:00<00:00, 79.37it/s]\n",
      "  0%|          | 0/2 [00:00<?, ?it/s]"
     ]
    },
    {
     "name": "stdout",
     "output_type": "stream",
     "text": [
      "Epoch: 178. Train Loss: 0.00674. Val Loss: 0.01177. Val DC LV: 0.93118. Val DC MYO: 0.82860.\n"
     ]
    },
    {
     "name": "stderr",
     "output_type": "stream",
     "text": [
      "100%|##########| 2/2 [00:00<00:00,  5.04it/s]\n",
      "100%|##########| 20/20 [00:00<00:00, 79.12it/s]\n",
      "  0%|          | 0/2 [00:00<?, ?it/s]"
     ]
    },
    {
     "name": "stdout",
     "output_type": "stream",
     "text": [
      "Epoch: 179. Train Loss: 0.01245. Val Loss: 0.01176. Val DC LV: 0.93123. Val DC MYO: 0.82863.\n"
     ]
    },
    {
     "name": "stderr",
     "output_type": "stream",
     "text": [
      "100%|##########| 2/2 [00:00<00:00,  5.00it/s]\n",
      "100%|##########| 20/20 [00:00<00:00, 78.53it/s]\n",
      "  0%|          | 0/2 [00:00<?, ?it/s]"
     ]
    },
    {
     "name": "stdout",
     "output_type": "stream",
     "text": [
      "Epoch: 180. Train Loss: 0.00832. Val Loss: 0.01176. Val DC LV: 0.93128. Val DC MYO: 0.82871.\n"
     ]
    },
    {
     "name": "stderr",
     "output_type": "stream",
     "text": [
      "100%|##########| 2/2 [00:00<00:00,  5.09it/s]\n",
      "100%|##########| 20/20 [00:00<00:00, 77.85it/s]\n",
      "  0%|          | 0/2 [00:00<?, ?it/s]"
     ]
    },
    {
     "name": "stdout",
     "output_type": "stream",
     "text": [
      "Epoch: 181. Train Loss: 0.00762. Val Loss: 0.01175. Val DC LV: 0.93136. Val DC MYO: 0.82885.\n"
     ]
    },
    {
     "name": "stderr",
     "output_type": "stream",
     "text": [
      "100%|##########| 2/2 [00:00<00:00,  3.82it/s]\n",
      "100%|##########| 20/20 [00:00<00:00, 78.78it/s]\n",
      "  0%|          | 0/2 [00:00<?, ?it/s]"
     ]
    },
    {
     "name": "stdout",
     "output_type": "stream",
     "text": [
      "Epoch: 182. Train Loss: 0.00717. Val Loss: 0.01173. Val DC LV: 0.93151. Val DC MYO: 0.82907.\n"
     ]
    },
    {
     "name": "stderr",
     "output_type": "stream",
     "text": [
      "100%|##########| 2/2 [00:00<00:00,  5.00it/s]\n",
      "100%|##########| 20/20 [00:00<00:00, 78.76it/s]\n",
      "  0%|          | 0/2 [00:00<?, ?it/s]"
     ]
    },
    {
     "name": "stdout",
     "output_type": "stream",
     "text": [
      "Epoch: 183. Train Loss: 0.00694. Val Loss: 0.01171. Val DC LV: 0.93167. Val DC MYO: 0.82925.\n"
     ]
    },
    {
     "name": "stderr",
     "output_type": "stream",
     "text": [
      "100%|##########| 2/2 [00:00<00:00,  5.30it/s]\n",
      "100%|##########| 20/20 [00:00<00:00, 78.90it/s]\n",
      "  0%|          | 0/2 [00:00<?, ?it/s]"
     ]
    },
    {
     "name": "stdout",
     "output_type": "stream",
     "text": [
      "Epoch: 184. Train Loss: 0.01141. Val Loss: 0.01170. Val DC LV: 0.93185. Val DC MYO: 0.82942.\n"
     ]
    },
    {
     "name": "stderr",
     "output_type": "stream",
     "text": [
      "100%|##########| 2/2 [00:00<00:00,  5.43it/s]\n",
      "100%|##########| 20/20 [00:00<00:00, 78.32it/s]\n",
      "  0%|          | 0/2 [00:00<?, ?it/s]"
     ]
    },
    {
     "name": "stdout",
     "output_type": "stream",
     "text": [
      "Epoch: 185. Train Loss: 0.00732. Val Loss: 0.01168. Val DC LV: 0.93205. Val DC MYO: 0.82960.\n"
     ]
    },
    {
     "name": "stderr",
     "output_type": "stream",
     "text": [
      "100%|##########| 2/2 [00:00<00:00,  4.96it/s]\n",
      "100%|##########| 20/20 [00:00<00:00, 78.53it/s]\n",
      "  0%|          | 0/2 [00:00<?, ?it/s]"
     ]
    },
    {
     "name": "stdout",
     "output_type": "stream",
     "text": [
      "Epoch: 186. Train Loss: 0.00845. Val Loss: 0.01166. Val DC LV: 0.93223. Val DC MYO: 0.82975.\n"
     ]
    },
    {
     "name": "stderr",
     "output_type": "stream",
     "text": [
      "100%|##########| 2/2 [00:00<00:00,  5.22it/s]\n",
      "100%|##########| 20/20 [00:00<00:00, 78.83it/s]\n",
      "  0%|          | 0/2 [00:00<?, ?it/s]"
     ]
    },
    {
     "name": "stdout",
     "output_type": "stream",
     "text": [
      "Epoch: 187. Train Loss: 0.00457. Val Loss: 0.01165. Val DC LV: 0.93237. Val DC MYO: 0.82993.\n"
     ]
    },
    {
     "name": "stderr",
     "output_type": "stream",
     "text": [
      "100%|##########| 2/2 [00:00<00:00,  5.17it/s]\n",
      "100%|##########| 20/20 [00:00<00:00, 78.81it/s]\n",
      "  0%|          | 0/2 [00:00<?, ?it/s]"
     ]
    },
    {
     "name": "stdout",
     "output_type": "stream",
     "text": [
      "Epoch: 188. Train Loss: 0.00715. Val Loss: 0.01164. Val DC LV: 0.93247. Val DC MYO: 0.83004.\n"
     ]
    },
    {
     "name": "stderr",
     "output_type": "stream",
     "text": [
      "100%|##########| 2/2 [00:00<00:00,  5.19it/s]\n",
      "100%|##########| 20/20 [00:00<00:00, 79.11it/s]\n",
      "  0%|          | 0/2 [00:00<?, ?it/s]"
     ]
    },
    {
     "name": "stdout",
     "output_type": "stream",
     "text": [
      "Epoch: 189. Train Loss: 0.01052. Val Loss: 0.01166. Val DC LV: 0.93238. Val DC MYO: 0.82977.\n"
     ]
    },
    {
     "name": "stderr",
     "output_type": "stream",
     "text": [
      "100%|##########| 2/2 [00:00<00:00,  4.86it/s]\n",
      "100%|##########| 20/20 [00:00<00:00, 76.76it/s]\n",
      "  0%|          | 0/2 [00:00<?, ?it/s]"
     ]
    },
    {
     "name": "stdout",
     "output_type": "stream",
     "text": [
      "Epoch: 190. Train Loss: 0.00497. Val Loss: 0.01167. Val DC LV: 0.93232. Val DC MYO: 0.82957.\n"
     ]
    },
    {
     "name": "stderr",
     "output_type": "stream",
     "text": [
      "100%|##########| 2/2 [00:00<00:00,  5.20it/s]\n",
      "100%|##########| 20/20 [00:00<00:00, 78.42it/s]\n",
      "  0%|          | 0/2 [00:00<?, ?it/s]"
     ]
    },
    {
     "name": "stdout",
     "output_type": "stream",
     "text": [
      "Epoch: 191. Train Loss: 0.00700. Val Loss: 0.01167. Val DC LV: 0.93233. Val DC MYO: 0.82952.\n"
     ]
    },
    {
     "name": "stderr",
     "output_type": "stream",
     "text": [
      "100%|##########| 2/2 [00:00<00:00,  5.06it/s]\n",
      "100%|##########| 20/20 [00:00<00:00, 78.93it/s]\n",
      "  0%|          | 0/2 [00:00<?, ?it/s]"
     ]
    },
    {
     "name": "stdout",
     "output_type": "stream",
     "text": [
      "Epoch: 192. Train Loss: 0.00572. Val Loss: 0.01168. Val DC LV: 0.93234. Val DC MYO: 0.82943.\n"
     ]
    },
    {
     "name": "stderr",
     "output_type": "stream",
     "text": [
      "100%|##########| 2/2 [00:00<00:00,  5.34it/s]\n",
      "100%|##########| 20/20 [00:00<00:00, 78.98it/s]\n",
      "  0%|          | 0/2 [00:00<?, ?it/s]"
     ]
    },
    {
     "name": "stdout",
     "output_type": "stream",
     "text": [
      "Epoch: 193. Train Loss: 0.00848. Val Loss: 0.01168. Val DC LV: 0.93235. Val DC MYO: 0.82938.\n"
     ]
    },
    {
     "name": "stderr",
     "output_type": "stream",
     "text": [
      "100%|##########| 2/2 [00:00<00:00,  5.32it/s]\n",
      "100%|##########| 20/20 [00:00<00:00, 78.69it/s]\n",
      "  0%|          | 0/2 [00:00<?, ?it/s]"
     ]
    },
    {
     "name": "stdout",
     "output_type": "stream",
     "text": [
      "Epoch: 194. Train Loss: 0.00526. Val Loss: 0.01168. Val DC LV: 0.93235. Val DC MYO: 0.82939.\n"
     ]
    },
    {
     "name": "stderr",
     "output_type": "stream",
     "text": [
      "100%|##########| 2/2 [00:00<00:00,  5.13it/s]\n",
      "100%|##########| 20/20 [00:00<00:00, 79.02it/s]\n",
      "  0%|          | 0/2 [00:00<?, ?it/s]"
     ]
    },
    {
     "name": "stdout",
     "output_type": "stream",
     "text": [
      "Epoch: 195. Train Loss: 0.00888. Val Loss: 0.01167. Val DC LV: 0.93239. Val DC MYO: 0.82956.\n"
     ]
    },
    {
     "name": "stderr",
     "output_type": "stream",
     "text": [
      "100%|##########| 2/2 [00:00<00:00,  5.02it/s]\n",
      "100%|##########| 20/20 [00:00<00:00, 77.18it/s]\n",
      "  0%|          | 0/2 [00:00<?, ?it/s]"
     ]
    },
    {
     "name": "stdout",
     "output_type": "stream",
     "text": [
      "Epoch: 196. Train Loss: 0.00902. Val Loss: 0.01165. Val DC LV: 0.93248. Val DC MYO: 0.82981.\n"
     ]
    },
    {
     "name": "stderr",
     "output_type": "stream",
     "text": [
      "100%|##########| 2/2 [00:00<00:00,  5.14it/s]\n",
      "100%|##########| 20/20 [00:00<00:00, 78.99it/s]\n",
      "  0%|          | 0/2 [00:00<?, ?it/s]"
     ]
    },
    {
     "name": "stdout",
     "output_type": "stream",
     "text": [
      "Epoch: 197. Train Loss: 0.01181. Val Loss: 0.01163. Val DC LV: 0.93259. Val DC MYO: 0.83008.\n"
     ]
    },
    {
     "name": "stderr",
     "output_type": "stream",
     "text": [
      "100%|##########| 2/2 [00:00<00:00,  5.21it/s]\n",
      "100%|##########| 20/20 [00:00<00:00, 77.41it/s]\n",
      "  0%|          | 0/2 [00:00<?, ?it/s]"
     ]
    },
    {
     "name": "stdout",
     "output_type": "stream",
     "text": [
      "Epoch: 198. Train Loss: 0.01056. Val Loss: 0.01161. Val DC LV: 0.93274. Val DC MYO: 0.83038.\n"
     ]
    },
    {
     "name": "stderr",
     "output_type": "stream",
     "text": [
      "100%|##########| 2/2 [00:00<00:00,  5.16it/s]\n",
      "100%|##########| 20/20 [00:00<00:00, 76.07it/s]\n",
      "  0%|          | 0/2 [00:00<?, ?it/s]"
     ]
    },
    {
     "name": "stdout",
     "output_type": "stream",
     "text": [
      "Epoch: 199. Train Loss: 0.00870. Val Loss: 0.01160. Val DC LV: 0.93290. Val DC MYO: 0.83061.\n"
     ]
    },
    {
     "name": "stderr",
     "output_type": "stream",
     "text": [
      "100%|##########| 2/2 [00:00<00:00,  5.45it/s]\n",
      "100%|##########| 20/20 [00:00<00:00, 78.58it/s]\n",
      "  0%|          | 0/2 [00:00<?, ?it/s]"
     ]
    },
    {
     "name": "stdout",
     "output_type": "stream",
     "text": [
      "Epoch: 200. Train Loss: 0.01045. Val Loss: 0.01159. Val DC LV: 0.93307. Val DC MYO: 0.83076.\n"
     ]
    },
    {
     "name": "stderr",
     "output_type": "stream",
     "text": [
      "100%|##########| 2/2 [00:00<00:00,  5.41it/s]\n",
      "100%|##########| 20/20 [00:00<00:00, 78.41it/s]\n",
      "  0%|          | 0/2 [00:00<?, ?it/s]"
     ]
    },
    {
     "name": "stdout",
     "output_type": "stream",
     "text": [
      "Epoch: 201. Train Loss: 0.00630. Val Loss: 0.01159. Val DC LV: 0.93320. Val DC MYO: 0.83086.\n"
     ]
    },
    {
     "name": "stderr",
     "output_type": "stream",
     "text": [
      "100%|##########| 2/2 [00:00<00:00,  4.85it/s]\n",
      "100%|##########| 20/20 [00:00<00:00, 79.31it/s]\n",
      "  0%|          | 0/2 [00:00<?, ?it/s]"
     ]
    },
    {
     "name": "stdout",
     "output_type": "stream",
     "text": [
      "Epoch: 202. Train Loss: 0.00756. Val Loss: 0.01157. Val DC LV: 0.93336. Val DC MYO: 0.83104.\n"
     ]
    },
    {
     "name": "stderr",
     "output_type": "stream",
     "text": [
      "100%|##########| 2/2 [00:00<00:00,  5.33it/s]\n",
      "100%|##########| 20/20 [00:00<00:00, 78.89it/s]\n",
      "  0%|          | 0/2 [00:00<?, ?it/s]"
     ]
    },
    {
     "name": "stdout",
     "output_type": "stream",
     "text": [
      "Epoch: 203. Train Loss: 0.00618. Val Loss: 0.01156. Val DC LV: 0.93350. Val DC MYO: 0.83123.\n"
     ]
    },
    {
     "name": "stderr",
     "output_type": "stream",
     "text": [
      "100%|##########| 2/2 [00:00<00:00,  5.36it/s]\n",
      "100%|##########| 20/20 [00:00<00:00, 74.97it/s]\n",
      "  0%|          | 0/2 [00:00<?, ?it/s]"
     ]
    },
    {
     "name": "stdout",
     "output_type": "stream",
     "text": [
      "Epoch: 204. Train Loss: 0.00664. Val Loss: 0.01156. Val DC LV: 0.93365. Val DC MYO: 0.83139.\n"
     ]
    },
    {
     "name": "stderr",
     "output_type": "stream",
     "text": [
      "100%|##########| 2/2 [00:00<00:00,  5.12it/s]\n",
      "100%|##########| 20/20 [00:00<00:00, 76.14it/s]\n",
      "  0%|          | 0/2 [00:00<?, ?it/s]"
     ]
    },
    {
     "name": "stdout",
     "output_type": "stream",
     "text": [
      "Epoch: 205. Train Loss: 0.00519. Val Loss: 0.01155. Val DC LV: 0.93380. Val DC MYO: 0.83152.\n"
     ]
    },
    {
     "name": "stderr",
     "output_type": "stream",
     "text": [
      "100%|##########| 2/2 [00:00<00:00,  5.27it/s]\n",
      "100%|##########| 20/20 [00:00<00:00, 78.15it/s]\n",
      "  0%|          | 0/2 [00:00<?, ?it/s]"
     ]
    },
    {
     "name": "stdout",
     "output_type": "stream",
     "text": [
      "Epoch: 206. Train Loss: 0.00563. Val Loss: 0.01155. Val DC LV: 0.93394. Val DC MYO: 0.83168.\n"
     ]
    },
    {
     "name": "stderr",
     "output_type": "stream",
     "text": [
      "100%|##########| 2/2 [00:00<00:00,  5.17it/s]\n",
      "100%|##########| 20/20 [00:00<00:00, 78.73it/s]\n",
      "  0%|          | 0/2 [00:00<?, ?it/s]"
     ]
    },
    {
     "name": "stdout",
     "output_type": "stream",
     "text": [
      "Epoch: 207. Train Loss: 0.00655. Val Loss: 0.01154. Val DC LV: 0.93406. Val DC MYO: 0.83180.\n"
     ]
    },
    {
     "name": "stderr",
     "output_type": "stream",
     "text": [
      "100%|##########| 2/2 [00:00<00:00,  5.01it/s]\n",
      "100%|##########| 20/20 [00:00<00:00, 78.45it/s]\n",
      "  0%|          | 0/2 [00:00<?, ?it/s]"
     ]
    },
    {
     "name": "stdout",
     "output_type": "stream",
     "text": [
      "Epoch: 208. Train Loss: 0.00664. Val Loss: 0.01154. Val DC LV: 0.93411. Val DC MYO: 0.83186.\n"
     ]
    },
    {
     "name": "stderr",
     "output_type": "stream",
     "text": [
      "100%|##########| 2/2 [00:00<00:00,  5.24it/s]\n",
      "100%|##########| 20/20 [00:00<00:00, 76.94it/s]\n",
      "  0%|          | 0/2 [00:00<?, ?it/s]"
     ]
    },
    {
     "name": "stdout",
     "output_type": "stream",
     "text": [
      "Epoch: 209. Train Loss: 0.00585. Val Loss: 0.01153. Val DC LV: 0.93413. Val DC MYO: 0.83196.\n"
     ]
    },
    {
     "name": "stderr",
     "output_type": "stream",
     "text": [
      "100%|##########| 2/2 [00:00<00:00,  5.15it/s]\n",
      "100%|##########| 20/20 [00:00<00:00, 76.59it/s]\n",
      "  0%|          | 0/2 [00:00<?, ?it/s]"
     ]
    },
    {
     "name": "stdout",
     "output_type": "stream",
     "text": [
      "Epoch: 210. Train Loss: 0.00565. Val Loss: 0.01152. Val DC LV: 0.93418. Val DC MYO: 0.83207.\n"
     ]
    },
    {
     "name": "stderr",
     "output_type": "stream",
     "text": [
      "100%|##########| 2/2 [00:00<00:00,  5.43it/s]\n",
      "100%|##########| 20/20 [00:00<00:00, 75.99it/s]\n",
      "  0%|          | 0/2 [00:00<?, ?it/s]"
     ]
    },
    {
     "name": "stdout",
     "output_type": "stream",
     "text": [
      "Epoch: 211. Train Loss: 0.00540. Val Loss: 0.01151. Val DC LV: 0.93423. Val DC MYO: 0.83222.\n"
     ]
    },
    {
     "name": "stderr",
     "output_type": "stream",
     "text": [
      "100%|##########| 2/2 [00:00<00:00,  5.20it/s]\n",
      "100%|##########| 20/20 [00:00<00:00, 79.41it/s]\n",
      "  0%|          | 0/2 [00:00<?, ?it/s]"
     ]
    },
    {
     "name": "stdout",
     "output_type": "stream",
     "text": [
      "Epoch: 212. Train Loss: 0.00425. Val Loss: 0.01150. Val DC LV: 0.93428. Val DC MYO: 0.83238.\n"
     ]
    },
    {
     "name": "stderr",
     "output_type": "stream",
     "text": [
      "100%|##########| 2/2 [00:00<00:00,  5.39it/s]\n",
      "100%|##########| 20/20 [00:00<00:00, 78.90it/s]\n",
      "  0%|          | 0/2 [00:00<?, ?it/s]"
     ]
    },
    {
     "name": "stdout",
     "output_type": "stream",
     "text": [
      "Epoch: 213. Train Loss: 0.00782. Val Loss: 0.01149. Val DC LV: 0.93434. Val DC MYO: 0.83256.\n"
     ]
    },
    {
     "name": "stderr",
     "output_type": "stream",
     "text": [
      "100%|##########| 2/2 [00:00<00:00,  5.19it/s]\n",
      "100%|##########| 20/20 [00:00<00:00, 78.38it/s]\n",
      "  0%|          | 0/2 [00:00<?, ?it/s]"
     ]
    },
    {
     "name": "stdout",
     "output_type": "stream",
     "text": [
      "Epoch: 214. Train Loss: 0.00813. Val Loss: 0.01147. Val DC LV: 0.93437. Val DC MYO: 0.83271.\n"
     ]
    },
    {
     "name": "stderr",
     "output_type": "stream",
     "text": [
      "100%|##########| 2/2 [00:00<00:00,  4.94it/s]\n",
      "100%|##########| 20/20 [00:00<00:00, 79.17it/s]\n",
      "  0%|          | 0/2 [00:00<?, ?it/s]"
     ]
    },
    {
     "name": "stdout",
     "output_type": "stream",
     "text": [
      "Epoch: 215. Train Loss: 0.00751. Val Loss: 0.01148. Val DC LV: 0.93429. Val DC MYO: 0.83253.\n"
     ]
    },
    {
     "name": "stderr",
     "output_type": "stream",
     "text": [
      "100%|##########| 2/2 [00:00<00:00,  5.11it/s]\n",
      "100%|##########| 20/20 [00:00<00:00, 78.16it/s]\n",
      "  0%|          | 0/2 [00:00<?, ?it/s]"
     ]
    },
    {
     "name": "stdout",
     "output_type": "stream",
     "text": [
      "Epoch: 216. Train Loss: 0.00535. Val Loss: 0.01149. Val DC LV: 0.93425. Val DC MYO: 0.83245.\n"
     ]
    },
    {
     "name": "stderr",
     "output_type": "stream",
     "text": [
      "100%|##########| 2/2 [00:00<00:00,  5.03it/s]\n",
      "100%|##########| 20/20 [00:00<00:00, 78.79it/s]\n",
      "  0%|          | 0/2 [00:00<?, ?it/s]"
     ]
    },
    {
     "name": "stdout",
     "output_type": "stream",
     "text": [
      "Epoch: 217. Train Loss: 0.00751. Val Loss: 0.01149. Val DC LV: 0.93421. Val DC MYO: 0.83240.\n"
     ]
    },
    {
     "name": "stderr",
     "output_type": "stream",
     "text": [
      "100%|##########| 2/2 [00:00<00:00,  5.15it/s]\n",
      "100%|##########| 20/20 [00:00<00:00, 78.06it/s]\n",
      "  0%|          | 0/2 [00:00<?, ?it/s]"
     ]
    },
    {
     "name": "stdout",
     "output_type": "stream",
     "text": [
      "Epoch: 218. Train Loss: 0.00559. Val Loss: 0.01148. Val DC LV: 0.93420. Val DC MYO: 0.83238.\n"
     ]
    },
    {
     "name": "stderr",
     "output_type": "stream",
     "text": [
      "100%|##########| 2/2 [00:00<00:00,  5.25it/s]\n",
      "100%|##########| 20/20 [00:00<00:00, 79.01it/s]\n",
      "  0%|          | 0/2 [00:00<?, ?it/s]"
     ]
    },
    {
     "name": "stdout",
     "output_type": "stream",
     "text": [
      "Epoch: 219. Train Loss: 0.00796. Val Loss: 0.01148. Val DC LV: 0.93421. Val DC MYO: 0.83242.\n"
     ]
    },
    {
     "name": "stderr",
     "output_type": "stream",
     "text": [
      "100%|##########| 2/2 [00:00<00:00,  5.06it/s]\n",
      "100%|##########| 20/20 [00:00<00:00, 78.38it/s]\n",
      "  0%|          | 0/2 [00:00<?, ?it/s]"
     ]
    },
    {
     "name": "stdout",
     "output_type": "stream",
     "text": [
      "Epoch: 220. Train Loss: 0.00675. Val Loss: 0.01147. Val DC LV: 0.93428. Val DC MYO: 0.83257.\n"
     ]
    },
    {
     "name": "stderr",
     "output_type": "stream",
     "text": [
      "100%|##########| 2/2 [00:00<00:00,  5.10it/s]\n",
      "100%|##########| 20/20 [00:00<00:00, 78.58it/s]\n",
      "  0%|          | 0/2 [00:00<?, ?it/s]"
     ]
    },
    {
     "name": "stdout",
     "output_type": "stream",
     "text": [
      "Epoch: 221. Train Loss: 0.00689. Val Loss: 0.01147. Val DC LV: 0.93434. Val DC MYO: 0.83270.\n"
     ]
    },
    {
     "name": "stderr",
     "output_type": "stream",
     "text": [
      "100%|##########| 2/2 [00:00<00:00,  5.22it/s]\n",
      "100%|##########| 20/20 [00:00<00:00, 77.08it/s]\n",
      "  0%|          | 0/2 [00:00<?, ?it/s]"
     ]
    },
    {
     "name": "stdout",
     "output_type": "stream",
     "text": [
      "Epoch: 222. Train Loss: 0.00642. Val Loss: 0.01146. Val DC LV: 0.93441. Val DC MYO: 0.83280.\n"
     ]
    },
    {
     "name": "stderr",
     "output_type": "stream",
     "text": [
      "100%|##########| 2/2 [00:00<00:00,  5.08it/s]\n",
      "100%|##########| 20/20 [00:00<00:00, 79.06it/s]\n",
      "  0%|          | 0/2 [00:00<?, ?it/s]"
     ]
    },
    {
     "name": "stdout",
     "output_type": "stream",
     "text": [
      "Epoch: 223. Train Loss: 0.00651. Val Loss: 0.01145. Val DC LV: 0.93448. Val DC MYO: 0.83287.\n"
     ]
    },
    {
     "name": "stderr",
     "output_type": "stream",
     "text": [
      "100%|##########| 2/2 [00:00<00:00,  5.31it/s]\n",
      "100%|##########| 20/20 [00:00<00:00, 78.65it/s]\n",
      "  0%|          | 0/2 [00:00<?, ?it/s]"
     ]
    },
    {
     "name": "stdout",
     "output_type": "stream",
     "text": [
      "Epoch: 224. Train Loss: 0.00895. Val Loss: 0.01145. Val DC LV: 0.93454. Val DC MYO: 0.83290.\n"
     ]
    },
    {
     "name": "stderr",
     "output_type": "stream",
     "text": [
      "100%|##########| 2/2 [00:00<00:00,  4.76it/s]\n",
      "100%|##########| 20/20 [00:00<00:00, 78.83it/s]\n",
      "  0%|          | 0/2 [00:00<?, ?it/s]"
     ]
    },
    {
     "name": "stdout",
     "output_type": "stream",
     "text": [
      "Epoch: 225. Train Loss: 0.00527. Val Loss: 0.01145. Val DC LV: 0.93453. Val DC MYO: 0.83284.\n"
     ]
    },
    {
     "name": "stderr",
     "output_type": "stream",
     "text": [
      "100%|##########| 2/2 [00:00<00:00,  4.99it/s]\n",
      "100%|##########| 20/20 [00:00<00:00, 77.85it/s]\n",
      "  0%|          | 0/2 [00:00<?, ?it/s]"
     ]
    },
    {
     "name": "stdout",
     "output_type": "stream",
     "text": [
      "Epoch: 226. Train Loss: 0.00712. Val Loss: 0.01144. Val DC LV: 0.93453. Val DC MYO: 0.83279.\n"
     ]
    },
    {
     "name": "stderr",
     "output_type": "stream",
     "text": [
      "100%|##########| 2/2 [00:00<00:00,  5.00it/s]\n",
      "100%|##########| 20/20 [00:00<00:00, 75.65it/s]\n",
      "  0%|          | 0/2 [00:00<?, ?it/s]"
     ]
    },
    {
     "name": "stdout",
     "output_type": "stream",
     "text": [
      "Epoch: 227. Train Loss: 0.00898. Val Loss: 0.01143. Val DC LV: 0.93452. Val DC MYO: 0.83274.\n"
     ]
    },
    {
     "name": "stderr",
     "output_type": "stream",
     "text": [
      "100%|##########| 2/2 [00:00<00:00,  5.25it/s]\n",
      "100%|##########| 20/20 [00:00<00:00, 78.91it/s]\n",
      "  0%|          | 0/2 [00:00<?, ?it/s]"
     ]
    },
    {
     "name": "stdout",
     "output_type": "stream",
     "text": [
      "Epoch: 228. Train Loss: 0.01146. Val Loss: 0.01141. Val DC LV: 0.93463. Val DC MYO: 0.83294.\n"
     ]
    },
    {
     "name": "stderr",
     "output_type": "stream",
     "text": [
      "100%|##########| 2/2 [00:00<00:00,  5.20it/s]\n",
      "100%|##########| 20/20 [00:00<00:00, 78.41it/s]\n",
      "  0%|          | 0/2 [00:00<?, ?it/s]"
     ]
    },
    {
     "name": "stdout",
     "output_type": "stream",
     "text": [
      "Epoch: 229. Train Loss: 0.00633. Val Loss: 0.01139. Val DC LV: 0.93479. Val DC MYO: 0.83319.\n"
     ]
    },
    {
     "name": "stderr",
     "output_type": "stream",
     "text": [
      "100%|##########| 2/2 [00:00<00:00,  5.06it/s]\n",
      "100%|##########| 20/20 [00:00<00:00, 76.32it/s]\n",
      "  0%|          | 0/2 [00:00<?, ?it/s]"
     ]
    },
    {
     "name": "stdout",
     "output_type": "stream",
     "text": [
      "Epoch: 230. Train Loss: 0.00365. Val Loss: 0.01138. Val DC LV: 0.93492. Val DC MYO: 0.83339.\n"
     ]
    },
    {
     "name": "stderr",
     "output_type": "stream",
     "text": [
      "100%|##########| 2/2 [00:00<00:00,  5.17it/s]\n",
      "100%|##########| 20/20 [00:00<00:00, 78.85it/s]\n",
      "  0%|          | 0/2 [00:00<?, ?it/s]"
     ]
    },
    {
     "name": "stdout",
     "output_type": "stream",
     "text": [
      "Epoch: 231. Train Loss: 0.01189. Val Loss: 0.01136. Val DC LV: 0.93505. Val DC MYO: 0.83370.\n"
     ]
    },
    {
     "name": "stderr",
     "output_type": "stream",
     "text": [
      "100%|##########| 2/2 [00:00<00:00,  4.91it/s]\n",
      "100%|##########| 20/20 [00:00<00:00, 78.80it/s]\n",
      "  0%|          | 0/2 [00:00<?, ?it/s]"
     ]
    },
    {
     "name": "stdout",
     "output_type": "stream",
     "text": [
      "Epoch: 232. Train Loss: 0.00563. Val Loss: 0.01133. Val DC LV: 0.93517. Val DC MYO: 0.83411.\n"
     ]
    },
    {
     "name": "stderr",
     "output_type": "stream",
     "text": [
      "100%|##########| 2/2 [00:00<00:00,  5.18it/s]\n",
      "100%|##########| 20/20 [00:00<00:00, 77.33it/s]\n",
      "  0%|          | 0/2 [00:00<?, ?it/s]"
     ]
    },
    {
     "name": "stdout",
     "output_type": "stream",
     "text": [
      "Epoch: 233. Train Loss: 0.00662. Val Loss: 0.01133. Val DC LV: 0.93512. Val DC MYO: 0.83426.\n"
     ]
    },
    {
     "name": "stderr",
     "output_type": "stream",
     "text": [
      "100%|##########| 2/2 [00:00<00:00,  5.29it/s]\n",
      "100%|##########| 20/20 [00:00<00:00, 79.19it/s]\n",
      "  0%|          | 0/2 [00:00<?, ?it/s]"
     ]
    },
    {
     "name": "stdout",
     "output_type": "stream",
     "text": [
      "Epoch: 234. Train Loss: 0.00569. Val Loss: 0.01132. Val DC LV: 0.93507. Val DC MYO: 0.83439.\n"
     ]
    },
    {
     "name": "stderr",
     "output_type": "stream",
     "text": [
      "100%|##########| 2/2 [00:00<00:00,  5.32it/s]\n",
      "100%|##########| 20/20 [00:00<00:00, 79.15it/s]\n",
      "  0%|          | 0/2 [00:00<?, ?it/s]"
     ]
    },
    {
     "name": "stdout",
     "output_type": "stream",
     "text": [
      "Epoch: 235. Train Loss: 0.00619. Val Loss: 0.01132. Val DC LV: 0.93492. Val DC MYO: 0.83449.\n"
     ]
    },
    {
     "name": "stderr",
     "output_type": "stream",
     "text": [
      "100%|##########| 2/2 [00:00<00:00,  5.06it/s]\n",
      "100%|##########| 20/20 [00:00<00:00, 75.18it/s]\n",
      "  0%|          | 0/2 [00:00<?, ?it/s]"
     ]
    },
    {
     "name": "stdout",
     "output_type": "stream",
     "text": [
      "Epoch: 236. Train Loss: 0.02071. Val Loss: 0.01133. Val DC LV: 0.93462. Val DC MYO: 0.83441.\n"
     ]
    },
    {
     "name": "stderr",
     "output_type": "stream",
     "text": [
      "100%|##########| 2/2 [00:00<00:00,  5.28it/s]\n",
      "100%|##########| 20/20 [00:00<00:00, 78.49it/s]\n",
      "  0%|          | 0/2 [00:00<?, ?it/s]"
     ]
    },
    {
     "name": "stdout",
     "output_type": "stream",
     "text": [
      "Epoch: 237. Train Loss: 0.00478. Val Loss: 0.01135. Val DC LV: 0.93433. Val DC MYO: 0.83429.\n"
     ]
    },
    {
     "name": "stderr",
     "output_type": "stream",
     "text": [
      "100%|##########| 2/2 [00:00<00:00,  5.29it/s]\n",
      "100%|##########| 20/20 [00:00<00:00, 78.64it/s]\n",
      "  0%|          | 0/2 [00:00<?, ?it/s]"
     ]
    },
    {
     "name": "stdout",
     "output_type": "stream",
     "text": [
      "Epoch: 238. Train Loss: 0.00822. Val Loss: 0.01136. Val DC LV: 0.93408. Val DC MYO: 0.83417.\n"
     ]
    },
    {
     "name": "stderr",
     "output_type": "stream",
     "text": [
      "100%|##########| 2/2 [00:00<00:00,  5.25it/s]\n",
      "100%|##########| 20/20 [00:00<00:00, 77.39it/s]\n",
      "  0%|          | 0/2 [00:00<?, ?it/s]"
     ]
    },
    {
     "name": "stdout",
     "output_type": "stream",
     "text": [
      "Epoch: 239. Train Loss: 0.00561. Val Loss: 0.01138. Val DC LV: 0.93378. Val DC MYO: 0.83394.\n"
     ]
    },
    {
     "name": "stderr",
     "output_type": "stream",
     "text": [
      "100%|##########| 2/2 [00:00<00:00,  5.26it/s]\n",
      "100%|##########| 20/20 [00:00<00:00, 79.27it/s]\n",
      "  0%|          | 0/2 [00:00<?, ?it/s]"
     ]
    },
    {
     "name": "stdout",
     "output_type": "stream",
     "text": [
      "Epoch: 240. Train Loss: 0.00401. Val Loss: 0.01140. Val DC LV: 0.93356. Val DC MYO: 0.83381.\n"
     ]
    },
    {
     "name": "stderr",
     "output_type": "stream",
     "text": [
      "100%|##########| 2/2 [00:00<00:00,  5.24it/s]\n",
      "100%|##########| 20/20 [00:00<00:00, 78.59it/s]\n",
      "  0%|          | 0/2 [00:00<?, ?it/s]"
     ]
    },
    {
     "name": "stdout",
     "output_type": "stream",
     "text": [
      "Epoch: 241. Train Loss: 0.00559. Val Loss: 0.01141. Val DC LV: 0.93337. Val DC MYO: 0.83368.\n"
     ]
    },
    {
     "name": "stderr",
     "output_type": "stream",
     "text": [
      "100%|##########| 2/2 [00:00<00:00,  5.19it/s]\n",
      "100%|##########| 20/20 [00:00<00:00, 78.41it/s]\n",
      "  0%|          | 0/2 [00:00<?, ?it/s]"
     ]
    },
    {
     "name": "stdout",
     "output_type": "stream",
     "text": [
      "Epoch: 242. Train Loss: 0.01419. Val Loss: 0.01150. Val DC LV: 0.93261. Val DC MYO: 0.83249.\n"
     ]
    },
    {
     "name": "stderr",
     "output_type": "stream",
     "text": [
      "100%|##########| 2/2 [00:00<00:00,  5.08it/s]\n",
      "100%|##########| 20/20 [00:00<00:00, 78.47it/s]\n",
      "  0%|          | 0/2 [00:00<?, ?it/s]"
     ]
    },
    {
     "name": "stdout",
     "output_type": "stream",
     "text": [
      "Epoch: 243. Train Loss: 0.00716. Val Loss: 0.01158. Val DC LV: 0.93205. Val DC MYO: 0.83155.\n"
     ]
    },
    {
     "name": "stderr",
     "output_type": "stream",
     "text": [
      "100%|##########| 2/2 [00:00<00:00,  5.02it/s]\n",
      "100%|##########| 20/20 [00:00<00:00, 79.10it/s]\n",
      "  0%|          | 0/2 [00:00<?, ?it/s]"
     ]
    },
    {
     "name": "stdout",
     "output_type": "stream",
     "text": [
      "Epoch: 244. Train Loss: 0.00447. Val Loss: 0.01164. Val DC LV: 0.93162. Val DC MYO: 0.83084.\n"
     ]
    },
    {
     "name": "stderr",
     "output_type": "stream",
     "text": [
      "100%|##########| 2/2 [00:00<00:00,  4.86it/s]\n",
      "100%|##########| 20/20 [00:00<00:00, 78.62it/s]\n",
      "  0%|          | 0/2 [00:00<?, ?it/s]"
     ]
    },
    {
     "name": "stdout",
     "output_type": "stream",
     "text": [
      "Epoch: 245. Train Loss: 0.01072. Val Loss: 0.01169. Val DC LV: 0.93130. Val DC MYO: 0.83025.\n"
     ]
    },
    {
     "name": "stderr",
     "output_type": "stream",
     "text": [
      "100%|##########| 2/2 [00:00<00:00,  5.18it/s]\n",
      "100%|##########| 20/20 [00:00<00:00, 78.60it/s]\n",
      "  0%|          | 0/2 [00:00<?, ?it/s]"
     ]
    },
    {
     "name": "stdout",
     "output_type": "stream",
     "text": [
      "Epoch: 246. Train Loss: 0.00649. Val Loss: 0.01172. Val DC LV: 0.93111. Val DC MYO: 0.82992.\n"
     ]
    },
    {
     "name": "stderr",
     "output_type": "stream",
     "text": [
      "100%|##########| 2/2 [00:00<00:00,  5.14it/s]\n",
      "100%|##########| 20/20 [00:00<00:00, 78.74it/s]\n",
      "  0%|          | 0/2 [00:00<?, ?it/s]"
     ]
    },
    {
     "name": "stdout",
     "output_type": "stream",
     "text": [
      "Epoch: 247. Train Loss: 0.00744. Val Loss: 0.01174. Val DC LV: 0.93098. Val DC MYO: 0.82973.\n"
     ]
    },
    {
     "name": "stderr",
     "output_type": "stream",
     "text": [
      "100%|##########| 2/2 [00:00<00:00,  5.28it/s]\n",
      "100%|##########| 20/20 [00:00<00:00, 77.36it/s]\n",
      "  0%|          | 0/2 [00:00<?, ?it/s]"
     ]
    },
    {
     "name": "stdout",
     "output_type": "stream",
     "text": [
      "Epoch: 248. Train Loss: 0.00972. Val Loss: 0.01175. Val DC LV: 0.93091. Val DC MYO: 0.82960.\n"
     ]
    },
    {
     "name": "stderr",
     "output_type": "stream",
     "text": [
      "100%|##########| 2/2 [00:00<00:00,  5.29it/s]\n",
      "100%|##########| 20/20 [00:00<00:00, 78.39it/s]"
     ]
    },
    {
     "name": "stdout",
     "output_type": "stream",
     "text": [
      "Epoch: 249. Train Loss: 0.00515. Val Loss: 0.01175. Val DC LV: 0.93098. Val DC MYO: 0.82963.\n"
     ]
    },
    {
     "name": "stderr",
     "output_type": "stream",
     "text": [
      "\n"
     ]
    }
   ],
   "source": [
    "epochs = 250\n",
    "losses_train_epochs = []\n",
    "losses_val_epochs = []\n",
    "dcs_lv_epochs = []\n",
    "dcs_myo_epochs = []\n",
    "dc_max = 0\n",
    "\n",
    "for epoch in range(epochs):\n",
    "    #training\n",
    "    model.train()\n",
    "    losses_train = []\n",
    "    for img, gt in tqdm(dataloader['train'], ascii=True): \n",
    "        optimizer.zero_grad()\n",
    "        output = model(img.to(device))\n",
    "        loss = criterion(output, gt.to(device))\n",
    "        losses_train.append(loss.item())\n",
    "        loss.backward()\n",
    "        optimizer.step()\n",
    "    losses_train_epochs.append(np.mean(losses_train))\n",
    "    \n",
    "    #validation\n",
    "    model.eval()\n",
    "    losses_val = []\n",
    "    dcs_lv = []\n",
    "    dcs_myo = []\n",
    "    for img, gt in tqdm(dataloader['val'], ascii=True):\n",
    "        pred = model(img.to(device))\n",
    "        loss = criterion(pred, gt.to(device))\n",
    "        losses_val.append(loss.item())\n",
    "        (dc_myo, dc_lv) = dice_batch_multiclass(pred.detach().cpu(), gt.detach().cpu())\n",
    "        dcs_lv.append(dc_lv)\n",
    "        dcs_myo.append(dc_myo)\n",
    "    dc_mean = np.mean([np.mean(dcs_lv), np.mean(dcs_myo)])\n",
    "    \n",
    "    #save the model with the best DC on the validation\n",
    "    if dc_max < dc_mean:\n",
    "        dc_max = dc_mean\n",
    "        torch.save({'model_state_dict': model.state_dict()}, \"../../Models/state_dict_tl.pth\")\n",
    "    \n",
    "    dcs_lv_epochs.append(np.mean(dcs_lv))\n",
    "    dcs_myo_epochs.append(np.mean(dcs_myo))\n",
    "    losses_val_epochs.append(np.mean(losses_val))\n",
    "    print('Epoch: {}. Train Loss: {:.5f}. Val Loss: {:.5f}. Val DC LV: {:.5f}. Val DC MYO: {:.5f}.'.format(epoch, np.mean(losses_train), np.mean(losses_val), np.mean(dcs_lv), np.mean(dcs_myo)))"
   ]
  },
  {
   "cell_type": "markdown",
   "metadata": {},
   "source": [
    "Plot of the loss and metric during training and validation: "
   ]
  },
  {
   "cell_type": "code",
   "execution_count": 30,
   "metadata": {},
   "outputs": [
    {
     "data": {
      "text/plain": [
       "<matplotlib.legend.Legend at 0x7f3c1c51a8e0>"
      ]
     },
     "execution_count": 30,
     "metadata": {},
     "output_type": "execute_result"
    },
    {
     "data": {
      "image/png": "[encoded data removed]",
      "text/plain": [
       "<Figure size 720x1080 with 2 Axes>"
      ]
     },
     "metadata": {
      "needs_background": "light"
     },
     "output_type": "display_data"
    }
   ],
   "source": [
    "f, (ax1, ax2) = plt.subplots(2, 1, figsize=(10,15))\n",
    "ax1.plot(losses_train_epochs, label='training loss')\n",
    "ax1.plot(losses_val_epochs, label='validation loss')\n",
    "ax2.plot(dcs_lv_epochs, label='validation DC LV')\n",
    "ax2.plot(dcs_myo_epochs, label='validation DC MYO')\n",
    "ax1.legend(loc='upper right')\n",
    "ax2.legend(loc='upper right')"
   ]
  },
  {
   "cell_type": "code",
   "execution_count": null,
   "metadata": {},
   "outputs": [],
   "source": []
  }
 ],
 "metadata": {
  "accelerator": "GPU",
  "colab": {
   "authorship_tag": "ABX9TyOeDEtaPrMwCwJDKvIa/OAQ",
   "collapsed_sections": [],
   "name": "U-Net.ipynb",
   "provenance": []
  },
  "kernelspec": {
   "display_name": "Python 3",
   "language": "python",
   "name": "python3"
  },
  "language_info": {
   "codemirror_mode": {
    "name": "ipython",
    "version": 3
   },
   "file_extension": ".py",
   "mimetype": "text/x-python",
   "name": "python",
   "nbconvert_exporter": "python",
   "pygments_lexer": "ipython3",
   "version": "3.8.3"
  }
 },
 "nbformat": 4,
 "nbformat_minor": 1
}
