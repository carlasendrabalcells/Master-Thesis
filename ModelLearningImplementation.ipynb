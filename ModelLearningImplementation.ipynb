{
 "cells": [
  {
   "cell_type": "markdown",
   "metadata": {
    "colab": {
     "base_uri": "https://localhost:8080/",
     "height": 17
    },
    "colab_type": "code",
    "executionInfo": {
     "elapsed": 3813,
     "status": "ok",
     "timestamp": 1600433980331,
     "user": {
      "displayName": "Carla Sendra Balcells",
      "photoUrl": "https://lh5.googleusercontent.com/-M_Gw7n6lBfA/AAAAAAAAAAI/AAAAAAAAFwA/PeCXexgY6_8/s64/photo.jpg",
      "userId": "01855518481907913222"
     },
     "user_tz": -120
    },
    "id": "39l1p_BsLOgz",
    "outputId": "311d6d8c-57b2-47ac-e058-2bf41dab5135"
   },
   "source": [
    "## Model learning workflow"
   ]
  },
  {
   "cell_type": "markdown",
   "metadata": {},
   "source": [
    "Here the data preparation and data processing is implemented. Then, the training and validation of the model is performed, using a data augmentation pipeline, which includes spatial and intensity-based techniques. The GOAL is to build a model to segment the left ventricle and the myocardium using LGE-MRI images. "
   ]
  },
  {
   "cell_type": "markdown",
   "metadata": {},
   "source": [
    "##### Import libraries:"
   ]
  },
  {
   "cell_type": "code",
   "execution_count": 1,
   "metadata": {},
   "outputs": [],
   "source": [
    "import nibabel as nib\n",
    "import matplotlib.pyplot as plt\n",
    "import random\n",
    "import torch\n",
    "import torch.nn as nn\n",
    "import numpy as np\n",
    "from tqdm import tqdm\n",
    "import torch.nn.functional as F\n",
    "import os \n",
    "import pandas as pd\n",
    "from torch.utils.data import Dataset\n",
    "from torch.utils.data import DataLoader\n",
    "from albumentations.augmentations.transforms import HorizontalFlip, VerticalFlip, Rotate, RandomScale, GaussNoise, RandomGamma, RandomBrightnessContrast, Resize\n",
    "import re\n",
    "import cv2\n",
    "from skimage import measure, exposure\n",
    "import torchvision"
   ]
  },
  {
   "cell_type": "markdown",
   "metadata": {},
   "source": [
    "##### Data preparation: "
   ]
  },
  {
   "cell_type": "code",
   "execution_count": 2,
   "metadata": {
    "colab": {},
    "colab_type": "code",
    "executionInfo": {
     "elapsed": 3761,
     "status": "ok",
     "timestamp": 1600433980339,
     "user": {
      "displayName": "Carla Sendra Balcells",
      "photoUrl": "https://lh5.googleusercontent.com/-M_Gw7n6lBfA/AAAAAAAAAAI/AAAAAAAAFwA/PeCXexgY6_8/s64/photo.jpg",
      "userId": "01855518481907913222"
     },
     "user_tz": -120
    },
    "id": "Ne5ooydHyQFk"
   },
   "outputs": [],
   "source": [
    "#Function to load nifti files\n",
    "\n",
    "def load_nii(path): \n",
    "    data = nib.load(path)\n",
    "    return data.get_fdata()"
   ]
  },
  {
   "cell_type": "markdown",
   "metadata": {},
   "source": [
    "Define paths to the training and validation folders to access LGE-MRI volumes and the corresponding masks: "
   ]
  },
  {
   "cell_type": "code",
   "execution_count": 3,
   "metadata": {
    "colab": {
     "base_uri": "https://localhost:8080/",
     "height": 110
    },
    "colab_type": "code",
    "executionInfo": {
     "elapsed": 3723,
     "status": "ok",
     "timestamp": 1600433980345,
     "user": {
      "displayName": "Carla Sendra Balcells",
      "photoUrl": "https://lh5.googleusercontent.com/-M_Gw7n6lBfA/AAAAAAAAAAI/AAAAAAAAFwA/PeCXexgY6_8/s64/photo.jpg",
      "userId": "01855518481907913222"
     },
     "user_tz": -120
    },
    "id": "57p4sAO-OvWb",
    "outputId": "4ccd1402-2682-4418-c975-8d61f0543b0e"
   },
   "outputs": [
    {
     "data": {
      "text/html": [
       "<div>\n",
       "<style scoped>\n",
       "    .dataframe tbody tr th:only-of-type {\n",
       "        vertical-align: middle;\n",
       "    }\n",
       "\n",
       "    .dataframe tbody tr th {\n",
       "        vertical-align: top;\n",
       "    }\n",
       "\n",
       "    .dataframe thead th {\n",
       "        text-align: right;\n",
       "    }\n",
       "</style>\n",
       "<table border=\"1\" class=\"dataframe\">\n",
       "  <thead>\n",
       "    <tr style=\"text-align: right;\">\n",
       "      <th></th>\n",
       "      <th>patient</th>\n",
       "    </tr>\n",
       "  </thead>\n",
       "  <tbody>\n",
       "    <tr>\n",
       "      <th>0</th>\n",
       "      <td>patient56_EMIDEC</td>\n",
       "    </tr>\n",
       "    <tr>\n",
       "      <th>1</th>\n",
       "      <td>patient2_EMIDEC</td>\n",
       "    </tr>\n",
       "    <tr>\n",
       "      <th>2</th>\n",
       "      <td>patient33_EMIDEC</td>\n",
       "    </tr>\n",
       "    <tr>\n",
       "      <th>3</th>\n",
       "      <td>patient8_EMIDEC</td>\n",
       "    </tr>\n",
       "    <tr>\n",
       "      <th>4</th>\n",
       "      <td>patient6_EMIDEC</td>\n",
       "    </tr>\n",
       "    <tr>\n",
       "      <th>...</th>\n",
       "      <td>...</td>\n",
       "    </tr>\n",
       "    <tr>\n",
       "      <th>63</th>\n",
       "      <td>patient15_EMIDEC</td>\n",
       "    </tr>\n",
       "    <tr>\n",
       "      <th>64</th>\n",
       "      <td>patient43_EMIDEC</td>\n",
       "    </tr>\n",
       "    <tr>\n",
       "      <th>65</th>\n",
       "      <td>patient26_EMIDEC</td>\n",
       "    </tr>\n",
       "    <tr>\n",
       "      <th>66</th>\n",
       "      <td>patient18_EMIDEC</td>\n",
       "    </tr>\n",
       "    <tr>\n",
       "      <th>67</th>\n",
       "      <td>patient41_EMIDEC</td>\n",
       "    </tr>\n",
       "  </tbody>\n",
       "</table>\n",
       "<p>68 rows × 1 columns</p>\n",
       "</div>"
      ],
      "text/plain": [
       "             patient\n",
       "0   patient56_EMIDEC\n",
       "1    patient2_EMIDEC\n",
       "2   patient33_EMIDEC\n",
       "3    patient8_EMIDEC\n",
       "4    patient6_EMIDEC\n",
       "..               ...\n",
       "63  patient15_EMIDEC\n",
       "64  patient43_EMIDEC\n",
       "65  patient26_EMIDEC\n",
       "66  patient18_EMIDEC\n",
       "67  patient41_EMIDEC\n",
       "\n",
       "[68 rows x 1 columns]"
      ]
     },
     "execution_count": 3,
     "metadata": {},
     "output_type": "execute_result"
    }
   ],
   "source": [
    "#Training data \n",
    "\n",
    "data_path_train = '/home/carla/Desktop/euCanSHare/Datasets/training/training_EMIDEC'\n",
    "listdir_train = os.listdir(data_path_train)\n",
    "df_train = pd.DataFrame({'patient': listdir_train})\n",
    "df_train"
   ]
  },
  {
   "cell_type": "code",
   "execution_count": 4,
   "metadata": {},
   "outputs": [],
   "source": [
    "imgs_path_train = [d + '/' + 'patient' + re.findall(r'\\d+', d)[0] + '_LGE.nii.gz' for d in df_train.patient]\n",
    "masks_path_train = [d + '/' + 'patient' + re.findall(r'\\d+', d)[0] + '_LGE_gt.nii.gz' for d in df_train.patient]"
   ]
  },
  {
   "cell_type": "code",
   "execution_count": 5,
   "metadata": {},
   "outputs": [
    {
     "data": {
      "text/html": [
       "<div>\n",
       "<style scoped>\n",
       "    .dataframe tbody tr th:only-of-type {\n",
       "        vertical-align: middle;\n",
       "    }\n",
       "\n",
       "    .dataframe tbody tr th {\n",
       "        vertical-align: top;\n",
       "    }\n",
       "\n",
       "    .dataframe thead th {\n",
       "        text-align: right;\n",
       "    }\n",
       "</style>\n",
       "<table border=\"1\" class=\"dataframe\">\n",
       "  <thead>\n",
       "    <tr style=\"text-align: right;\">\n",
       "      <th></th>\n",
       "      <th>patient</th>\n",
       "    </tr>\n",
       "  </thead>\n",
       "  <tbody>\n",
       "    <tr>\n",
       "      <th>0</th>\n",
       "      <td>patient68_EMIDEC</td>\n",
       "    </tr>\n",
       "    <tr>\n",
       "      <th>1</th>\n",
       "      <td>patient54_EMIDEC</td>\n",
       "    </tr>\n",
       "    <tr>\n",
       "      <th>2</th>\n",
       "      <td>patient72_EMIDEC</td>\n",
       "    </tr>\n",
       "    <tr>\n",
       "      <th>3</th>\n",
       "      <td>patient69_EMIDEC</td>\n",
       "    </tr>\n",
       "    <tr>\n",
       "      <th>4</th>\n",
       "      <td>patient81_EMIDEC</td>\n",
       "    </tr>\n",
       "    <tr>\n",
       "      <th>5</th>\n",
       "      <td>patient65_EMIDEC</td>\n",
       "    </tr>\n",
       "    <tr>\n",
       "      <th>6</th>\n",
       "      <td>patient76_EMIDEC</td>\n",
       "    </tr>\n",
       "    <tr>\n",
       "      <th>7</th>\n",
       "      <td>patient77_EMIDEC</td>\n",
       "    </tr>\n",
       "    <tr>\n",
       "      <th>8</th>\n",
       "      <td>patient70_EMIDEC</td>\n",
       "    </tr>\n",
       "    <tr>\n",
       "      <th>9</th>\n",
       "      <td>patient52_EMIDEC</td>\n",
       "    </tr>\n",
       "    <tr>\n",
       "      <th>10</th>\n",
       "      <td>patient73_EMIDEC</td>\n",
       "    </tr>\n",
       "    <tr>\n",
       "      <th>11</th>\n",
       "      <td>patient74_EMIDEC</td>\n",
       "    </tr>\n",
       "    <tr>\n",
       "      <th>12</th>\n",
       "      <td>patient58_EMIDEC</td>\n",
       "    </tr>\n",
       "    <tr>\n",
       "      <th>13</th>\n",
       "      <td>patient71_EMIDEC</td>\n",
       "    </tr>\n",
       "    <tr>\n",
       "      <th>14</th>\n",
       "      <td>patient80_EMIDEC</td>\n",
       "    </tr>\n",
       "    <tr>\n",
       "      <th>15</th>\n",
       "      <td>patient100_EMIDEC</td>\n",
       "    </tr>\n",
       "    <tr>\n",
       "      <th>16</th>\n",
       "      <td>patient78_EMIDEC</td>\n",
       "    </tr>\n",
       "  </tbody>\n",
       "</table>\n",
       "</div>"
      ],
      "text/plain": [
       "              patient\n",
       "0    patient68_EMIDEC\n",
       "1    patient54_EMIDEC\n",
       "2    patient72_EMIDEC\n",
       "3    patient69_EMIDEC\n",
       "4    patient81_EMIDEC\n",
       "5    patient65_EMIDEC\n",
       "6    patient76_EMIDEC\n",
       "7    patient77_EMIDEC\n",
       "8    patient70_EMIDEC\n",
       "9    patient52_EMIDEC\n",
       "10   patient73_EMIDEC\n",
       "11   patient74_EMIDEC\n",
       "12   patient58_EMIDEC\n",
       "13   patient71_EMIDEC\n",
       "14   patient80_EMIDEC\n",
       "15  patient100_EMIDEC\n",
       "16   patient78_EMIDEC"
      ]
     },
     "execution_count": 5,
     "metadata": {},
     "output_type": "execute_result"
    }
   ],
   "source": [
    "#Validation data \n",
    "\n",
    "data_path_val = '/home/carla/Desktop/euCanSHare/Datasets/validation/validation_EMIDEC'\n",
    "listdir_val = os.listdir(data_path_val)\n",
    "df_val = pd.DataFrame({'patient': listdir_val})\n",
    "df_val"
   ]
  },
  {
   "cell_type": "code",
   "execution_count": 6,
   "metadata": {},
   "outputs": [],
   "source": [
    "imgs_path_val = [d + '/' + 'patient' + re.findall(r'\\d+', d)[0] + '_LGE.nii.gz' for d in df_val.patient]\n",
    "masks_path_val = [d + '/' + 'patient' + re.findall(r'\\d+', d)[0] + '_LGE_gt.nii.gz' for d in df_val.patient]"
   ]
  },
  {
   "cell_type": "code",
   "execution_count": 7,
   "metadata": {
    "colab": {},
    "colab_type": "code",
    "executionInfo": {
     "elapsed": 845,
     "status": "ok",
     "timestamp": 1600433982901,
     "user": {
      "displayName": "Carla Sendra Balcells",
      "photoUrl": "https://lh5.googleusercontent.com/-M_Gw7n6lBfA/AAAAAAAAAAI/AAAAAAAAFwA/PeCXexgY6_8/s64/photo.jpg",
      "userId": "01855518481907913222"
     },
     "user_tz": -120
    },
    "id": "6SuM5HCmg2sk"
   },
   "outputs": [],
   "source": [
    "#Function to load the data volumes and masks to save each slice in .npy format and in separate folders\n",
    "\n",
    "def generate_slices(data_path, df_path, imgs_path, masks_path): \n",
    "    \n",
    "    for ix, p in enumerate (tqdm(df_path.patient)): \n",
    "        if \"VH\" in imgs_path[ix] or \"STPAU\" in imgs_path[ix]:\n",
    "            v_lge = load_nii('{}/{}'.format(data_path, imgs_path[ix]))[:,:,:,0]\n",
    "            v_gt = load_nii('{}/{}'.format(data_path, masks_path[ix]))[:,:,:,0]\n",
    "        else: \n",
    "            v_lge = load_nii('{}/{}'.format(data_path, imgs_path[ix]))\n",
    "            v_gt = load_nii('{}/{}'.format(data_path, masks_path[ix]))\n",
    "            \n",
    "        img_folder = '{}/{}/img_slices'.format(data_path, p)\n",
    "        if not os.path.exists(img_folder): \n",
    "            os.mkdir(img_folder) #create folder for each subject to save image slices \n",
    "        channels = v_lge.shape[2]\n",
    "        for c in range (channels):\n",
    "            img = v_lge[:, :, c]\n",
    "            if img.shape[0] < img.shape[1]: \n",
    "                img = np.rot90(img)  \n",
    "            np.save('{}/img_{}'.format(img_folder,c) + '.npy', img)\n",
    "\n",
    "        mask_folder = '{}/{}/gt_slices'.format(data_path, p)\n",
    "        if not os.path.exists(mask_folder): \n",
    "            os.mkdir(mask_folder) #create folder for each subject to save segmentation slices\n",
    "        channels = v_gt.shape[2]\n",
    "        for c in range (channels):\n",
    "            gt = np.array(v_gt[:, :, c], dtype=np.uint8)\n",
    "            if gt.shape[0] < gt.shape[1]:\n",
    "                gt = np.rot90(gt)\n",
    "            np.save('{}/gt_{}'.format(mask_folder,c) + '.npy', gt)"
   ]
  },
  {
   "cell_type": "markdown",
   "metadata": {},
   "source": [
    "Load volumes and masks and save each slice as .npy file in separate folders:"
   ]
  },
  {
   "cell_type": "code",
   "execution_count": 8,
   "metadata": {
    "colab": {
     "base_uri": "https://localhost:8080/",
     "height": 35
    },
    "colab_type": "code",
    "executionInfo": {
     "elapsed": 454,
     "status": "ok",
     "timestamp": 1600433983206,
     "user": {
      "displayName": "Carla Sendra Balcells",
      "photoUrl": "https://lh5.googleusercontent.com/-M_Gw7n6lBfA/AAAAAAAAAAI/AAAAAAAAFwA/PeCXexgY6_8/s64/photo.jpg",
      "userId": "01855518481907913222"
     },
     "user_tz": -120
    },
    "id": "2CZaqTFdwbQR",
    "outputId": "b1564355-d548-48b3-832d-d8eca07c40b5"
   },
   "outputs": [
    {
     "name": "stderr",
     "output_type": "stream",
     "text": [
      "100%|██████████| 68/68 [00:01<00:00, 48.43it/s]\n"
     ]
    }
   ],
   "source": [
    "generate_slices(data_path_train, df_train, imgs_path_train, masks_path_train)"
   ]
  },
  {
   "cell_type": "code",
   "execution_count": 9,
   "metadata": {},
   "outputs": [
    {
     "name": "stderr",
     "output_type": "stream",
     "text": [
      "100%|██████████| 17/17 [00:00<00:00, 46.23it/s]\n"
     ]
    }
   ],
   "source": [
    "generate_slices(data_path_val, df_val, imgs_path_val, masks_path_val)"
   ]
  },
  {
   "cell_type": "code",
   "execution_count": 10,
   "metadata": {},
   "outputs": [
    {
     "data": {
      "text/plain": [
       "(68, 17)"
      ]
     },
     "execution_count": 10,
     "metadata": {},
     "output_type": "execute_result"
    }
   ],
   "source": [
    "len(df_train), len(df_val) #number of training and validation subjects"
   ]
  },
  {
   "cell_type": "markdown",
   "metadata": {},
   "source": [
    "Define paths to call folder with .npy slices: "
   ]
  },
  {
   "cell_type": "code",
   "execution_count": 11,
   "metadata": {
    "colab": {},
    "colab_type": "code",
    "executionInfo": {
     "elapsed": 701,
     "status": "ok",
     "timestamp": 1600433986165,
     "user": {
      "displayName": "Carla Sendra Balcells",
      "photoUrl": "https://lh5.googleusercontent.com/-M_Gw7n6lBfA/AAAAAAAAAAI/AAAAAAAAFwA/PeCXexgY6_8/s64/photo.jpg",
      "userId": "01855518481907913222"
     },
     "user_tz": -120
    },
    "id": "EgUDJIf2ZbWY"
   },
   "outputs": [],
   "source": [
    "img_path_train = [d + '/img_slices' for d in df_train.patient]\n",
    "gt_path_train = [d + '/gt_slices' for d in df_train.patient]\n",
    "\n",
    "img_path_val = [d + '/img_slices' for d in df_val.patient]\n",
    "gt_path_val = [d + '/gt_slices' for d in df_val.patient]"
   ]
  },
  {
   "cell_type": "markdown",
   "metadata": {},
   "source": [
    "Visualisation of images and groundtruths of the training data to make sure that the data is loaded properly: "
   ]
  },
  {
   "cell_type": "code",
   "execution_count": 12,
   "metadata": {
    "colab": {
     "base_uri": "https://localhost:8080/",
     "height": 263
    },
    "colab_type": "code",
    "executionInfo": {
     "elapsed": 2221,
     "status": "ok",
     "timestamp": 1600433988279,
     "user": {
      "displayName": "Carla Sendra Balcells",
      "photoUrl": "https://lh5.googleusercontent.com/-M_Gw7n6lBfA/AAAAAAAAAAI/AAAAAAAAFwA/PeCXexgY6_8/s64/photo.jpg",
      "userId": "01855518481907913222"
     },
     "user_tz": -120
    },
    "id": "p43E62LxRLj4",
    "outputId": "2840992e-de70-417b-d442-6508bafb276c"
   },
   "outputs": [
    {
     "name": "stdout",
     "output_type": "stream",
     "text": [
      "2\n",
      "(308, 141) float64 4095.0 0.0\n",
      "(308, 141) uint8 3 0\n"
     ]
    },
    {
     "data": {
      "image/png": "[encoded data removed]",
      "text/plain": [
       "<Figure size 2160x720 with 3 Axes>"
      ]
     },
     "metadata": {
      "needs_background": "light"
     },
     "output_type": "display_data"
    }
   ],
   "source": [
    "fig, (ax1, ax2, ax3) = plt.subplots(1, 3,figsize=(30,10))\n",
    "ix = random.randint(0, len(gt_path_train)-1)\n",
    "channel = random.randint(0, 5)\n",
    "img = np.load('{}/{}/img_{}.npy'.format(data_path_train, img_path_train[ix], channel))\n",
    "gt = np.load('{}/{}/gt_{}.npy'.format(data_path_train, gt_path_train[ix], channel))\n",
    "ax1.imshow(img[:,:], cmap='gist_gray')\n",
    "ax2.imshow(gt[:,:], cmap='nipy_spectral')\n",
    "ax3.imshow(img[:,:], cmap='gist_gray')\n",
    "ax3.imshow(gt[:,:], alpha=0.5, cmap='nipy_spectral')\n",
    "\n",
    "print(channel)\n",
    "print(img.shape, img.dtype, img.max(), img.min())\n",
    "print(gt.shape, gt.dtype, gt.max(), gt.min())"
   ]
  },
  {
   "cell_type": "code",
   "execution_count": 13,
   "metadata": {},
   "outputs": [],
   "source": [
    "#Function to obtain center coordinates\n",
    "\n",
    "def get_center_crop_coords(width, height, crop_width, crop_height):\n",
    "    y1 = (width - crop_width) // 2\n",
    "    y2 = y1 + crop_width\n",
    "    x1 = (height - crop_height) // 2\n",
    "    x2 = x1 + crop_height\n",
    "    return x1, y1, x2, y2\n",
    "\n",
    "#Function to implement a center cropping\n",
    "\n",
    "def center_crop(img, gt, crop_width, crop_height):\n",
    "    width, height = img.shape[:2]\n",
    "    case = 0\n",
    "    \n",
    "    if width <= 256 and height >= 256: #crop height\n",
    "        crop = 256\n",
    "        x1 = (height - crop) // 2\n",
    "        x2 = x1 + crop\n",
    "        y1 = 0\n",
    "        y2 = width\n",
    "        case = 1\n",
    "    \n",
    "    if width >= 256 and height <= 256: #crop width\n",
    "        crop = 256\n",
    "        y1 = (width - crop) // 2\n",
    "        y2 = y1 + crop \n",
    "        x1 = 0\n",
    "        x2 = height\n",
    "        case = 2\n",
    "        \n",
    "    if width >= 256 and height >= 256: #crop both \n",
    "        x1, y1, x2, y2 = get_center_crop_coords(width, height, crop_width, crop_height)\n",
    "        case = 3\n",
    "    \n",
    "    if width <= 256 and height <= 256: #crop none of them\n",
    "        case = 4\n",
    "\n",
    "    sum_MYO_LV = gt.sum() #make sure the gt is not removed\n",
    "    count = 0\n",
    "    while True:\n",
    "        if case == 1: \n",
    "            y1 = 0\n",
    "            y2 = width\n",
    "            img_cropped = img[y1:y2, x1:x2]\n",
    "            gt_cropped = gt[y1:y2, x1:x2]\n",
    "        if case == 2: \n",
    "            x1 = 0\n",
    "            x2 = height \n",
    "            img_cropped = img[y1:y2, x1:x2]\n",
    "            gt_cropped = gt[y1:y2, x1:x2]\n",
    "        if case == 3: \n",
    "            img_cropped = img[y1:y2, x1:x2]\n",
    "            gt_cropped = gt[y1:y2, x1:x2]\n",
    "        else: \n",
    "            img_cropped = img\n",
    "            gt_cropped = gt\n",
    "        \n",
    "        if gt_cropped.sum() == sum_MYO_LV: \n",
    "            #gt is not removed\n",
    "            break\n",
    "        \n",
    "        #gt is removed\n",
    "        \n",
    "        #go for a center cropping \n",
    "        if count == 0:   \n",
    "            x1, y1, x2, y2 = get_center_crop_coords(width, height, crop_width, crop_height)\n",
    "        #else:\n",
    "        if count > 0 and count < 30: #shorten height \n",
    "            x1 += 10\n",
    "            x2 -= 10\n",
    "        if count == 30: \n",
    "            x1, y1, x2, y2 = get_center_crop_coords(width, height, crop_width, crop_height)\n",
    "        \n",
    "        if count > 30 and count < 60: #lengthen height \n",
    "            x2 += 10\n",
    "            x1 -= 10\n",
    "        if count == 60: \n",
    "            x1, y1, x2, y2 = get_center_crop_coords(width, height, crop_width, crop_height)            \n",
    "        \n",
    "        if count > 60 and count < 90: #shorten width \n",
    "            y1 += 10\n",
    "            y2 -= 10\n",
    "        if count == 90: \n",
    "            x1, y1, x2, y2 = get_center_crop_coords(width, height, crop_width, crop_height) \n",
    "        \n",
    "        if count > 90 and count < 120: #lengthen width \n",
    "            y2 += 10\n",
    "            y1 -= 10\n",
    "        if count == 120: \n",
    "            x1, y1, x2, y2 = get_center_crop_coords(width, height, crop_width, crop_height)            \n",
    "        \n",
    "        if count > 120 and count < 150: #lengthen width and height\n",
    "            y2 += 10\n",
    "            y1 -= 10\n",
    "            x2 += 10\n",
    "            x1 -= 10\n",
    "        if count == 150: \n",
    "            x1, y1, x2, y2 = get_center_crop_coords(width, height, crop_width, crop_height)            \n",
    "        \n",
    "        if count > 150 and count < 180: #legthen width and shorten height\n",
    "            y2 += 10\n",
    "            y1 -= 10\n",
    "            x2 -= 10\n",
    "            x1 += 10\n",
    "        if count == 180: \n",
    "            x1, y1, x2, y2 = get_center_crop_coords(width, height, crop_width, crop_height)            \n",
    "        \n",
    "        if count > 180 and count < 210: #shorten width and height\n",
    "            y2 -= 10\n",
    "            y1 += 10\n",
    "            x2 -= 10\n",
    "            x1 += 10\n",
    "        if count == 210: \n",
    "            x1, y1, x2, y2 = get_center_crop_coords(width, height, crop_width, crop_height)            \n",
    "        \n",
    "        if count > 210: #shorten width and lengthen height\n",
    "            y2 -= 10\n",
    "            y1 += 10\n",
    "            x2 += 10\n",
    "            x1 -= 10\n",
    "        count += 1\n",
    "    \n",
    "    if img_cropped.shape[0] != 256 or img_cropped.shape[1] != 256: #if the size is not the desired one resize\n",
    "        resize = Resize(256, 256)\n",
    "        img_cropped = resize(image=img_cropped)['image']\n",
    "        gt_cropped = resize(image=gt_cropped)['image']\n",
    "               \n",
    "    return img_cropped, gt_cropped"
   ]
  },
  {
   "cell_type": "code",
   "execution_count": 14,
   "metadata": {},
   "outputs": [],
   "source": [
    "#Function to obtain random coordinates\n",
    "\n",
    "def get_random_crop_coords(width, height, crop_width, crop_height, h_start, w_start):\n",
    "    y1 = int((width - crop_width) * h_start)\n",
    "    y2 = y1 + crop_width\n",
    "    x1 = int((height - crop_height) * w_start)\n",
    "    x2 = x1 + crop_height\n",
    "    return x1, y1, x2, y2\n",
    "\n",
    "\n",
    "#Function to implement a random cropping\n",
    "\n",
    "def random_crop(img, gt, crop_width, crop_height):\n",
    "    width, height = img.shape[:2]\n",
    "    case = 0\n",
    "    \n",
    "    if width <= 256 and height >= 256: #crop height\n",
    "        crop = 256\n",
    "        x1 = (height - crop) // 2\n",
    "        x2 = x1 + crop\n",
    "        y1 = 0\n",
    "        y2 = width\n",
    "        case = 1\n",
    "    \n",
    "    if width >= 256 and height <= 256: #crop width\n",
    "        crop = 256\n",
    "        y1 = (width - crop) // 2\n",
    "        y2 = y1 + crop \n",
    "        x1 = 0\n",
    "        x2 = height\n",
    "        case = 2\n",
    "        \n",
    "    if width >= 256 and height >= 256: #crop both \n",
    "        h_start = random.random()\n",
    "        w_start = random.random()\n",
    "        x1, y1, x2, y2 = get_random_crop_coords(width, height, crop_width, crop_height, h_start, w_start)\n",
    "        case = 3\n",
    "    \n",
    "    if width <= 256 and height <= 256: #crop none of them\n",
    "        case = 4\n",
    "\n",
    "    sum_MYO_LV = gt.sum() #make sure the gt is not removed\n",
    "    count = 0\n",
    "    while True:\n",
    "        if case == 1: \n",
    "            y1 = 0\n",
    "            y2 = width\n",
    "            img_cropped = img[y1:y2, x1:x2]\n",
    "            gt_cropped = gt[y1:y2, x1:x2]\n",
    "        if case == 2: \n",
    "            x1 = 0\n",
    "            x2 = height \n",
    "            img_cropped = img[y1:y2, x1:x2]\n",
    "            gt_cropped = gt[y1:y2, x1:x2]\n",
    "        if case == 3: \n",
    "            img_cropped = img[y1:y2, x1:x2]\n",
    "            gt_cropped = gt[y1:y2, x1:x2]\n",
    "        else: \n",
    "            img_cropped = img\n",
    "            gt_cropped = gt\n",
    "        \n",
    "        if gt_cropped.sum() == sum_MYO_LV: \n",
    "            #gt is not removed\n",
    "            break\n",
    "        \n",
    "        #gt is removed\n",
    "        if count<15: #try random coordinates 14 times more    \n",
    "            h_start = random.random()\n",
    "            w_start = random.random()\n",
    "            x1, y1, x2, y2 = get_random_crop_coords(width, height, crop_width, crop_height, h_start, w_start)     \n",
    "        \n",
    "        #otherwise go for a center cropping \n",
    "        if count == 15:   \n",
    "            x1, y1, x2, y2 = get_center_crop_coords(width, height, crop_width, crop_height)\n",
    "        #else:\n",
    "        if count > 15 and count < 45: #shorten height \n",
    "            x1 += 10\n",
    "            x2 -= 10\n",
    "        if count == 45: \n",
    "            x1, y1, x2, y2 = get_center_crop_coords(width, height, crop_width, crop_height)\n",
    "        \n",
    "        if count > 45 and count < 75: #lengthen height \n",
    "            x2 += 10\n",
    "            x1 -= 10\n",
    "        if count == 75: \n",
    "            x1, y1, x2, y2 = get_center_crop_coords(width, height, crop_width, crop_height)            \n",
    "        \n",
    "        if count > 75 and count < 105: #shorten width \n",
    "            y1 += 10\n",
    "            y2 -= 10\n",
    "        if count == 105: \n",
    "            x1, y1, x2, y2 = get_center_crop_coords(width, height, crop_width, crop_height) \n",
    "        \n",
    "        if count > 105 and count < 135: #lengthen width \n",
    "            y2 += 10\n",
    "            y1 -= 10\n",
    "        if count == 135: \n",
    "            x1, y1, x2, y2 = get_center_crop_coords(width, height, crop_width, crop_height)            \n",
    "        \n",
    "        if count > 135 and count < 165: #lengthen width and height\n",
    "            y2 += 10\n",
    "            y1 -= 10\n",
    "            x2 += 10\n",
    "            x1 -= 10\n",
    "        if count == 165: \n",
    "            x1, y1, x2, y2 = get_center_crop_coords(width, height, crop_width, crop_height)            \n",
    "        \n",
    "        if count > 165 and count < 195: #legthen width and shorten height\n",
    "            y2 += 10\n",
    "            y1 -= 10\n",
    "            x2 -= 10\n",
    "            x1 += 10\n",
    "        if count == 195: \n",
    "            x1, y1, x2, y2 = get_center_crop_coords(width, height, crop_width, crop_height)            \n",
    "        \n",
    "        if count > 195 and count < 225: #shorten width and height\n",
    "            y2 -= 10\n",
    "            y1 += 10\n",
    "            x2 -= 10\n",
    "            x1 += 10\n",
    "        if count == 225: \n",
    "            x1, y1, x2, y2 = get_center_crop_coords(width, height, crop_width, crop_height)            \n",
    "        \n",
    "        if count > 225: #shorten width and lengthen height\n",
    "            y2 -= 10\n",
    "            y1 += 10\n",
    "            x2 += 10\n",
    "            x1 -= 10\n",
    "        count += 1\n",
    "    \n",
    "    if img_cropped.shape[0] != 256 or img_cropped.shape[1] != 256: #if the size is not the desired one resize\n",
    "        resize = Resize(256, 256)\n",
    "        img_cropped = resize(image=img_cropped)['image']\n",
    "        gt_cropped = resize(image=gt_cropped)['image']\n",
    "               \n",
    "    return img_cropped, gt_cropped"
   ]
  },
  {
   "cell_type": "code",
   "execution_count": 15,
   "metadata": {},
   "outputs": [],
   "source": [
    "#Function to apply inverse gamma\n",
    "\n",
    "def gamma_inverse(img, gamma_limit):\n",
    "    gamma = random.randint(gamma_limit[0], gamma_limit[1]) / 100.0\n",
    "    if img.dtype == np.uint8:\n",
    "        table = (np.arange(0, 256.0 / 255, 1.0 / 255) ** (1/gamma)) * 255\n",
    "        img = cv2.LUT(img, table.astype(np.uint8))\n",
    "    else:\n",
    "        img = np.power(img, gamma)\n",
    "\n",
    "    return img"
   ]
  },
  {
   "cell_type": "code",
   "execution_count": 16,
   "metadata": {},
   "outputs": [],
   "source": [
    "#Funtion to keep only the largest connected components in the mask  \n",
    "\n",
    "def keep_largest_connected_components(mask):\n",
    "\n",
    "    out_img = np.zeros(mask.shape, dtype=np.uint8)\n",
    "\n",
    "    for struc_id in [1, 2, 3]:\n",
    "\n",
    "        binary_img = mask == struc_id\n",
    "        blobs = measure.label(binary_img, connectivity=1)\n",
    "\n",
    "        props = measure.regionprops(blobs)\n",
    "\n",
    "        if not props:\n",
    "            continue\n",
    "\n",
    "        area = [ele.area for ele in props]\n",
    "        largest_blob_ind = np.argmax(area)\n",
    "        largest_blob_label = props[largest_blob_ind].label\n",
    "\n",
    "        out_img[blobs == largest_blob_label] = struc_id\n",
    "\n",
    "    return out_img"
   ]
  },
  {
   "cell_type": "markdown",
   "metadata": {},
   "source": [
    "Create the DataLoader:"
   ]
  },
  {
   "cell_type": "code",
   "execution_count": 18,
   "metadata": {},
   "outputs": [],
   "source": [
    "class MRIDataset(Dataset): \n",
    "    def __init__(self, data_path, img_path, gt_path, augmentation=True, num_classes=3):\n",
    "        self.data_path = data_path\n",
    "        self.img_path = img_path\n",
    "        self.gt_path = gt_path\n",
    "        self.augmentation = augmentation\n",
    "        self.num_classes = num_classes\n",
    "    def __len__(self):\n",
    "        return len(self.img_path) \n",
    "    def __getitem__(self, ix): #slice by slice \n",
    "                \n",
    "        img = np.load('{}/{}'.format(self.data_path, self.img_path[ix]))\n",
    "                \n",
    "        gt = np.load('{}/{}'.format(self.data_path, self.gt_path[ix]))\n",
    "                                         \n",
    "        if \"MSCMR\" in self.img_path[ix]: \n",
    "            self.num_classes = 4 \n",
    "        if \"EMIDEC\" in self.img_path[ix]:\n",
    "            mask = img>0 #remove black background\n",
    "            img = img[np.ix_(mask.any(1),mask.any(0))]\n",
    "            gt = gt[np.ix_(mask.any(1),mask.any(0))]\n",
    "            self.num_classes = 5\n",
    "        if \"VH\" in self.img_path[ix]: \n",
    "            mask = img>0 #remove black background\n",
    "            img = img[np.ix_(mask.any(1),mask.any(0))]\n",
    "            gt = gt[np.ix_(mask.any(1),mask.any(0))]\n",
    "        \n",
    "        if self.augmentation: #spatial-based data augmentation\n",
    "                \n",
    "            horizontal_flip = HorizontalFlip(p=0.2)\n",
    "            vertical_flip = VerticalFlip(p=0.2)\n",
    "            rotation = Rotate(p=0.2, limit=[-30, 30])\n",
    "            rescale = RandomScale(scale_limit=[0.75, 1.88], p=0.2) \n",
    "            \n",
    "            data = horizontal_flip(image=img, mask=gt) #horizational flip\n",
    "            img = data['image']\n",
    "            gt = data['mask']\n",
    "\n",
    "            data = vertical_flip(image=img, mask=gt) #vertical flip\n",
    "            img = data['image']\n",
    "            gt = data['mask']\n",
    "            \n",
    "            data = rotation(image=img, mask=gt) #rotation\n",
    "            img = data['image']\n",
    "            gt = data['mask'] \n",
    "\n",
    "            data = rescale(image=img, mask=gt) #rescaling\n",
    "            img = data['image']\n",
    "            gt = data['mask']\n",
    "            \n",
    "            [img, gt] = random_crop(img, gt, 256, 256) #cropping\n",
    "        \n",
    "        else: #baseline\n",
    "            [img, gt] = center_crop(img, gt, 256, 256) #cropping\n",
    "            \n",
    "        img = np.array((img-np.min(img))/(np.max(img)-np.min(img)), dtype=np.float32) #min-max normalisation\n",
    "               \n",
    "        if self.augmentation: #intensity-based data augmentation\n",
    "        \n",
    "            gaussian = GaussNoise(var_limit=(0, 0.001), p=0.2)\n",
    "            gamma = RandomGamma(gamma_limit=(70, 150), p=0.2)\n",
    "            brightness = RandomBrightnessContrast(brightness_limit=(0.5), contrast_limit=0, p=0.2)\n",
    "            contrast = RandomBrightnessContrast(brightness_limit=0, contrast_limit=(0.5), p=0.2)\n",
    "            \n",
    "            img = img.astype('float32')\n",
    "            if random.uniform(0,1) < 0.2: \n",
    "                img = cv2.bilateralFilter(img,7,75,75) #bilateral filtering\n",
    "            \n",
    "            img = gaussian(image=img)['image'] #gaussian\n",
    "            \n",
    "            img = gamma(image=img)['image'] #gamma\n",
    "            \n",
    "            if random.uniform(0,1) < 0.2:\n",
    "                img = gamma_inverse(img=img, gamma_limit=(70, 150)) #inverse gamma\n",
    "            \n",
    "            img = brightness(image=img)['image'] #brightness\n",
    "            \n",
    "            img = contrast(image=img)['image'] #contrast\n",
    "                    \n",
    "        gt = (np.arange(self.num_classes) == gt[...,None]).astype(int) #create binary gt\n",
    "        \n",
    "        if \"MSCMR\" in self.img_path[ix]: #remove noise from the resize of the groundtruth\n",
    "            gt[:,:,3] = keep_largest_connected_components(gt[:,:,3])\n",
    "        else:\n",
    "            gt[:,:,1] = keep_largest_connected_components(gt[:,:,1])        \n",
    "        \n",
    "        #keep only 3 labels: BG (0), MYO(1) and LV(2)\n",
    "        if \"MSCMR\" in self.img_path[ix]:\n",
    "            gt[:, :, 0] += gt[:, :, 1] #0:BG\n",
    "            gt[:, :, 1] = gt[:, :, 2] #1:MYO\n",
    "            gt[:, :, 2] = gt[:, :, 3] #2:LV\n",
    "            gt = gt[:, :, 0:3] \n",
    "            \n",
    "        if \"EMIDEC\" in self.img_path[ix]:            \n",
    "            gt[:,:,3] += gt[:,:,2] #1:MYO\n",
    "            gt[:,:,3] += gt[:,:,4] #1:MYO\n",
    "            gt[:,:,2] = gt[:,:,1] #2:LV\n",
    "            gt[:,:,1] = gt[:,:,3] #1:MYO\n",
    "            gt = gt [:,:,0:3]\n",
    "            \n",
    "        if \"VH\" in self.img_path[ix] or \"STPAU\" in self.img_path[ix]: \n",
    "            gt_ = np.zeros((gt.shape))\n",
    "            gt_[:,:,0] = gt[:,:,0] #0:BG\n",
    "            gt_[:,:,1] = gt[:,:,2] #1:MYO\n",
    "            gt_[:,:,2] = gt[:,:,1] #2:LV\n",
    "            gt = gt_\n",
    "                 \n",
    "        gt[:,:,0] = np.ones((gt.shape[0], gt.shape[1])) - gt[:, :, 1] - gt[:, :, 2]\n",
    "                \n",
    "        return torch.from_numpy(img).unsqueeze(0).float(), torch.from_numpy(gt.transpose((2,0,1))).float()"
   ]
  },
  {
   "cell_type": "markdown",
   "metadata": {},
   "source": [
    "Define paths to call .npy slices:"
   ]
  },
  {
   "cell_type": "code",
   "execution_count": 19,
   "metadata": {},
   "outputs": [],
   "source": [
    "#Training\n",
    "\n",
    "img_train = []\n",
    "gt_train = []\n",
    "for patient in img_path_train:\n",
    "\n",
    "    img_train += ['{}/{}'.format(patient,i) for i in sorted(os.listdir('{}/{}'.format(data_path_train, patient)))]\n",
    "\n",
    "for patient in gt_path_train:\n",
    "\n",
    "    gt_train += ['{}/{}'.format(patient,i) for i in sorted(os.listdir('{}/{}'.format(data_path_train, patient)))]\n",
    "\n",
    "#Validation\n",
    "\n",
    "img_val = []\n",
    "gt_val = []\n",
    "for patient in img_path_val:\n",
    "\n",
    "    img_val += ['{}/{}'.format(patient,i) for i in sorted(os.listdir('{}/{}'.format(data_path_val, patient)))]\n",
    "\n",
    "for patient in gt_path_val:\n",
    "\n",
    "    gt_val += ['{}/{}'.format(patient,i) for i in sorted(os.listdir('{}/{}'.format(data_path_val, patient)))]"
   ]
  },
  {
   "cell_type": "markdown",
   "metadata": {},
   "source": [
    "Define DataLoader for the training and validation data:"
   ]
  },
  {
   "cell_type": "code",
   "execution_count": 20,
   "metadata": {
    "colab": {
     "base_uri": "https://localhost:8080/",
     "height": 35
    },
    "colab_type": "code",
    "executionInfo": {
     "elapsed": 468,
     "status": "ok",
     "timestamp": 1600433988294,
     "user": {
      "displayName": "Carla Sendra Balcells",
      "photoUrl": "https://lh5.googleusercontent.com/-M_Gw7n6lBfA/AAAAAAAAAAI/AAAAAAAAFwA/PeCXexgY6_8/s64/photo.jpg",
      "userId": "01855518481907913222"
     },
     "user_tz": -120
    },
    "id": "pTuQ6Nc1H8lX",
    "outputId": "8eed7f2d-bf7e-4a14-f5cc-41e4c949cda3"
   },
   "outputs": [
    {
     "data": {
      "text/plain": [
       "(488, 114)"
      ]
     },
     "execution_count": 20,
     "metadata": {},
     "output_type": "execute_result"
    }
   ],
   "source": [
    "dataset = {\n",
    "    'train': MRIDataset(data_path_train, img_train, gt_train, augmentation=True),\n",
    "    'val': MRIDataset(data_path_val, img_val, gt_val, augmentation=False), \n",
    "}\n",
    "\n",
    "len(dataset['train']), len(dataset['val']) #number of samples"
   ]
  },
  {
   "cell_type": "markdown",
   "metadata": {},
   "source": [
    "Visualisation of images and groundtruths of the training data to make sure that the data is processed properly: "
   ]
  },
  {
   "cell_type": "code",
   "execution_count": 21,
   "metadata": {
    "colab": {
     "base_uri": "https://localhost:8080/",
     "height": 263
    },
    "colab_type": "code",
    "executionInfo": {
     "elapsed": 3122,
     "status": "ok",
     "timestamp": 1600433991501,
     "user": {
      "displayName": "Carla Sendra Balcells",
      "photoUrl": "https://lh5.googleusercontent.com/-M_Gw7n6lBfA/AAAAAAAAAAI/AAAAAAAAFwA/PeCXexgY6_8/s64/photo.jpg",
      "userId": "01855518481907913222"
     },
     "user_tz": -120
    },
    "id": "OBgCbJRxJXR5",
    "outputId": "ebfffb41-9b26-49a3-eac9-8d0d4f46438c"
   },
   "outputs": [
    {
     "name": "stdout",
     "output_type": "stream",
     "text": [
      "torch.Size([1, 256, 256]) torch.float32 tensor(0.8586) tensor(0.)\n",
      "torch.Size([3, 256, 256]) torch.float32 tensor(1.) tensor(0.) True\n"
     ]
    },
    {
     "data": {
      "text/plain": [
       "<matplotlib.image.AxesImage at 0x7fe4bbaf1ca0>"
      ]
     },
     "execution_count": 21,
     "metadata": {},
     "output_type": "execute_result"
    },
    {
     "data": {
      "image/png": "[encoded data removed]",
      "text/plain": [
       "<Figure size 2160x720 with 3 Axes>"
      ]
     },
     "metadata": {
      "needs_background": "light"
     },
     "output_type": "display_data"
    }
   ],
   "source": [
    "ds = dataset['train']\n",
    "fig, (ax1, ax2, ax3) = plt.subplots(1, 3,figsize=(30,10))\n",
    "img, gt = ds[ix]\n",
    "print(img.shape, img.dtype, img.max(), img.min())\n",
    "print(gt.shape, gt.dtype, gt.max\n",
    "      (), gt.min(), gt.sum().item() == gt.shape[1]*gt.shape[2])\n",
    "_img = img.numpy().transpose((1,2,0))\n",
    "ax1.imshow(_img[:, :, 0].squeeze(), cmap='gist_gray') \n",
    "ax2.imshow(_img[:, :, 0].squeeze(), cmap='gist_gray')\n",
    "ax3.imshow(_img[:, :, 0].squeeze(), cmap='gist_gray')\n",
    "_gt = gt.numpy().transpose((1,2,0))\n",
    "ax1.imshow(_gt[:,:,1], alpha=0.6, cmap='nipy_spectral')\n",
    "ax2.imshow(_gt[:,:,2], alpha=0.6, cmap='nipy_spectral')"
   ]
  },
  {
   "cell_type": "markdown",
   "metadata": {},
   "source": [
    "Define batch size for each DataLoader:"
   ]
  },
  {
   "cell_type": "code",
   "execution_count": 22,
   "metadata": {
    "colab": {},
    "colab_type": "code",
    "executionInfo": {
     "elapsed": 2301,
     "status": "ok",
     "timestamp": 1600433991510,
     "user": {
      "displayName": "Carla Sendra Balcells",
      "photoUrl": "https://lh5.googleusercontent.com/-M_Gw7n6lBfA/AAAAAAAAAAI/AAAAAAAAFwA/PeCXexgY6_8/s64/photo.jpg",
      "userId": "01855518481907913222"
     },
     "user_tz": -120
    },
    "id": "BnHtPKQ6ODXx"
   },
   "outputs": [],
   "source": [
    "bs = 16\n",
    "dataloader = {\n",
    "    'train': DataLoader(dataset['train'], batch_size=bs, shuffle=True, num_workers=4),\n",
    "    'val': DataLoader(dataset['val'], batch_size=1, shuffle=False, num_workers=4), \n",
    "}"
   ]
  },
  {
   "cell_type": "markdown",
   "metadata": {},
   "source": [
    "##### Training implementation: "
   ]
  },
  {
   "cell_type": "markdown",
   "metadata": {},
   "source": [
    "Model:"
   ]
  },
  {
   "cell_type": "code",
   "execution_count": 23,
   "metadata": {},
   "outputs": [],
   "source": [
    "class DoubleConvNN(nn.Module):\n",
    "\n",
    "    def __init__(self, in_channels, out_channels):\n",
    "        super().__init__()\n",
    "        self.double_conv = nn.Sequential(\n",
    "            nn.Conv2d(in_channels, out_channels, kernel_size=3, padding=1),\n",
    "            nn.InstanceNorm2d(out_channels),\n",
    "            nn.LeakyReLU(inplace=True),\n",
    "            nn.Conv2d(out_channels, out_channels, kernel_size=3, padding=1),\n",
    "            nn.InstanceNorm2d(out_channels),\n",
    "            nn.LeakyReLU(inplace=True)\n",
    "        )\n",
    "\n",
    "    def forward(self, x):\n",
    "        return self.double_conv(x)     \n",
    "\n",
    "class UpsampleNN(nn.Module):\n",
    "\n",
    "    def __init__(self, in_channels, out_channels, bilinear=True):\n",
    "        super().__init__()\n",
    "\n",
    "        self.upsample = nn.ConvTranspose2d(in_channels , out_channels, kernel_size=3, stride=2)\n",
    "        self.conv = DoubleConvNN(in_channels, out_channels)\n",
    "\n",
    "\n",
    "    def forward(self, x1, x2):\n",
    "        x1 = self.upsample(x1)\n",
    "        diffY = x2.size()[2] - x1.size()[2]\n",
    "        diffX = x2.size()[3] - x1.size()[3]\n",
    "\n",
    "        x1 = F.pad(x1, [diffX // 2, diffX - diffX // 2,\n",
    "                      diffY // 2, diffY - diffY // 2])\n",
    "        x = torch.cat([x2, x1], dim=1)\n",
    "        return self.conv(x) \n",
    "\n",
    "class nnUNet(nn.Module):\n",
    "    def __init__(self, num_labels): \n",
    "        super().__init__()\n",
    "\n",
    "        self.inconv = DoubleConvNN(1, 32)\n",
    "\n",
    "        self.maxpool1 = nn.MaxPool2d(2)\n",
    "        self.conv1 = DoubleConvNN(32, 64)\n",
    "        self.maxpool2 = nn.MaxPool2d(2)\n",
    "        self.conv2 = DoubleConvNN(64, 128)\n",
    "        self.maxpool3 = nn.MaxPool2d(2)\n",
    "        self.conv3 = DoubleConvNN(128, 256)\n",
    "        self.maxpool4 = nn.MaxPool2d(2)\n",
    "        self.conv4 = DoubleConvNN(256, 512)\n",
    "        self.maxpool5 = nn.MaxPool2d(2)\n",
    "        self.conv5 = DoubleConvNN(512, 1024)\n",
    "        \n",
    "        self.upsample1 = UpsampleNN(1024, 512)\n",
    "        self.upsample2 = UpsampleNN(512, 256)\n",
    "        self.upsample3 = UpsampleNN(256, 128)\n",
    "        self.upsample4 = UpsampleNN(128, 64)\n",
    "        self.upsample5 = UpsampleNN(64, 32)\n",
    "\n",
    "        self.outconv = nn.Conv2d(32, num_labels, kernel_size=1)\n",
    "\n",
    "        self.deep_conv1 = nn.Conv2d(512, num_labels, kernel_size=1)\n",
    "        self.deep_conv2 = nn.Conv2d(256, num_labels, kernel_size=1)\n",
    "        self.deep_conv3 = nn.Conv2d(128, num_labels, kernel_size=1)\n",
    "        self.deep_conv4 = nn.Conv2d(64, num_labels, kernel_size=1)\n",
    "\n",
    "        self.deep_deconv = nn.ConvTranspose2d(num_labels, num_labels, kernel_size=3, stride=2)\n",
    "\n",
    "    def forward(self, x):\n",
    "        x1 = self.inconv(x)\n",
    "\n",
    "        x2 = self.maxpool1(x1)\n",
    "        x2 = self.conv1(x2)\n",
    "        x3 = self.maxpool2(x2)\n",
    "        x3 = self.conv2(x3)\n",
    "        x4 = self.maxpool3(x3)\n",
    "        x4 = self.conv3(x4)\n",
    "        x5 = self.maxpool4(x4)\n",
    "        x5 = self.conv4(x5)\n",
    "        x6 = self.maxpool5(x5)\n",
    "        x6 = self.conv5(x6)\n",
    "\n",
    "        x  = self.upsample1(x6, x5)\n",
    "        x_ = self.deep_conv1(x)\n",
    "        x1_deep = self.deep_deconv(x_)\n",
    "        \n",
    "        x = self.upsample2(x, x4)\n",
    "        x_ = self.deep_conv2(x)\n",
    "        diffY = x_.size()[2] - x1_deep.size()[2]\n",
    "        diffX = x_.size()[3] - x1_deep.size()[3]\n",
    "        x1_deep = F.pad(x1_deep, [diffX // 2, diffX - diffX // 2,\n",
    "                      diffY // 2, diffY - diffY // 2])\n",
    "        x_ = torch.add(x1_deep, x_)\n",
    "        x2_deep = self.deep_deconv(x_)\n",
    "\n",
    "        x = self.upsample3(x, x3)\n",
    "        x_ = self.deep_conv3(x)\n",
    "        diffY = x_.size()[2] - x2_deep.size()[2]\n",
    "        diffX = x_.size()[3] - x2_deep.size()[3]\n",
    "        x2_deep = F.pad(x2_deep, [diffX // 2, diffX - diffX // 2,\n",
    "                      diffY // 2, diffY - diffY // 2])\n",
    "        x_ = torch.add(x2_deep, x_)\n",
    "        x3_deep = self.deep_deconv(x_)\n",
    "\n",
    "        x = self.upsample4(x, x2)     \n",
    "        x_ = self.deep_conv4(x)\n",
    "        diffY = x_.size()[2] - x3_deep.size()[2]\n",
    "        diffX = x_.size()[3] - x3_deep.size()[3]\n",
    "        x3_deep = F.pad(x3_deep, [diffX // 2, diffX - diffX // 2,\n",
    "                      diffY // 2, diffY - diffY // 2])\n",
    "        x_ = torch.add(x3_deep, x_)\n",
    "        x4_deep = self.deep_deconv(x_)\n",
    "\n",
    "        x = self.upsample5(x, x1)\n",
    "\n",
    "        x = self.outconv(x)\n",
    "\n",
    "        diffY = x.size()[2] - x4_deep.size()[2]\n",
    "        diffX = x.size()[3] - x4_deep.size()[3]\n",
    "        x4_deep = F.pad(x4_deep, [diffX // 2, diffX - diffX // 2,\n",
    "                      diffY // 2, diffY - diffY // 2])\n",
    "\n",
    "        x = torch.add(x4_deep, x)\n",
    "        return x"
   ]
  },
  {
   "cell_type": "code",
   "execution_count": 26,
   "metadata": {
    "colab": {
     "base_uri": "https://localhost:8080/",
     "height": 35
    },
    "colab_type": "code",
    "executionInfo": {
     "elapsed": 45736,
     "status": "ok",
     "timestamp": 1600434036781,
     "user": {
      "displayName": "Carla Sendra Balcells",
      "photoUrl": "https://lh5.googleusercontent.com/-M_Gw7n6lBfA/AAAAAAAAAAI/AAAAAAAAFwA/PeCXexgY6_8/s64/photo.jpg",
      "userId": "01855518481907913222"
     },
     "user_tz": -120
    },
    "id": "gq4440kVRa0f",
    "outputId": "accb26da-af22-41db-f087-ba9f732b3760"
   },
   "outputs": [
    {
     "name": "stdout",
     "output_type": "stream",
     "text": [
      "torch.Size([8, 3, 256, 256])\n"
     ]
    }
   ],
   "source": [
    "device = torch.device(\"cuda:0\" if torch.cuda.is_available() else \"cpu\")\n",
    "\n",
    "model = nnUNet(num_labels=3)\n",
    "\n",
    "input_image = torch.randn((8,1,256,256))\n",
    "output = model(input_image)\n",
    "print(output.shape) # Batches x Classes x Height x Width"
   ]
  },
  {
   "cell_type": "markdown",
   "metadata": {},
   "source": [
    "Loss: "
   ]
  },
  {
   "cell_type": "code",
   "execution_count": 27,
   "metadata": {},
   "outputs": [],
   "source": [
    "class DiceBCELoss(nn.Module): #Dice and cross-entropy loss\n",
    "    def __init__(self):\n",
    "        super(DiceBCELoss, self).__init__()\n",
    "        self.BCE_loss = nn.BCEWithLogitsLoss()\n",
    "\n",
    "    def forward(self, outputs, target):\n",
    "        smooth = 1.\n",
    "        pred = torch.sigmoid(outputs)\n",
    "        \n",
    "        iflat = pred.contiguous().view(-1)\n",
    "        tflat = target.contiguous().view(-1)\n",
    "        intersection = (iflat * tflat).sum()\n",
    "        A_sum = torch.sum(iflat * iflat)\n",
    "        B_sum = torch.sum(tflat * tflat)\n",
    "        dice_loss = 1 - ((2. * intersection + smooth) / (A_sum + B_sum + smooth))\n",
    "        \n",
    "        BCE = self.BCE_loss(outputs, target)\n",
    "        Dice_BCE = (dice_loss + BCE)/2\n",
    "\n",
    "        return Dice_BCE"
   ]
  },
  {
   "cell_type": "code",
   "execution_count": 28,
   "metadata": {},
   "outputs": [],
   "source": [
    "criterion = DiceBCELoss()"
   ]
  },
  {
   "cell_type": "code",
   "execution_count": 29,
   "metadata": {
    "colab": {
     "base_uri": "https://localhost:8080/",
     "height": 1000
    },
    "colab_type": "code",
    "executionInfo": {
     "elapsed": 54990,
     "status": "ok",
     "timestamp": 1600434049574,
     "user": {
      "displayName": "Carla Sendra Balcells",
      "photoUrl": "https://lh5.googleusercontent.com/-M_Gw7n6lBfA/AAAAAAAAAAI/AAAAAAAAFwA/PeCXexgY6_8/s64/photo.jpg",
      "userId": "01855518481907913222"
     },
     "user_tz": -120
    },
    "id": "cJbu4Tru-LSK",
    "outputId": "49b8addf-a01a-4925-fe1d-641fe9e02262",
    "scrolled": false
   },
   "outputs": [
    {
     "data": {
      "text/plain": [
       "nnUNet(\n",
       "  (inconv): DoubleConvNN(\n",
       "    (double_conv): Sequential(\n",
       "      (0): Conv2d(1, 32, kernel_size=(3, 3), stride=(1, 1), padding=(1, 1))\n",
       "      (1): InstanceNorm2d(32, eps=1e-05, momentum=0.1, affine=False, track_running_stats=False)\n",
       "      (2): LeakyReLU(negative_slope=0.01, inplace=True)\n",
       "      (3): Conv2d(32, 32, kernel_size=(3, 3), stride=(1, 1), padding=(1, 1))\n",
       "      (4): InstanceNorm2d(32, eps=1e-05, momentum=0.1, affine=False, track_running_stats=False)\n",
       "      (5): LeakyReLU(negative_slope=0.01, inplace=True)\n",
       "    )\n",
       "  )\n",
       "  (maxpool1): MaxPool2d(kernel_size=2, stride=2, padding=0, dilation=1, ceil_mode=False)\n",
       "  (conv1): DoubleConvNN(\n",
       "    (double_conv): Sequential(\n",
       "      (0): Conv2d(32, 64, kernel_size=(3, 3), stride=(1, 1), padding=(1, 1))\n",
       "      (1): InstanceNorm2d(64, eps=1e-05, momentum=0.1, affine=False, track_running_stats=False)\n",
       "      (2): LeakyReLU(negative_slope=0.01, inplace=True)\n",
       "      (3): Conv2d(64, 64, kernel_size=(3, 3), stride=(1, 1), padding=(1, 1))\n",
       "      (4): InstanceNorm2d(64, eps=1e-05, momentum=0.1, affine=False, track_running_stats=False)\n",
       "      (5): LeakyReLU(negative_slope=0.01, inplace=True)\n",
       "    )\n",
       "  )\n",
       "  (maxpool2): MaxPool2d(kernel_size=2, stride=2, padding=0, dilation=1, ceil_mode=False)\n",
       "  (conv2): DoubleConvNN(\n",
       "    (double_conv): Sequential(\n",
       "      (0): Conv2d(64, 128, kernel_size=(3, 3), stride=(1, 1), padding=(1, 1))\n",
       "      (1): InstanceNorm2d(128, eps=1e-05, momentum=0.1, affine=False, track_running_stats=False)\n",
       "      (2): LeakyReLU(negative_slope=0.01, inplace=True)\n",
       "      (3): Conv2d(128, 128, kernel_size=(3, 3), stride=(1, 1), padding=(1, 1))\n",
       "      (4): InstanceNorm2d(128, eps=1e-05, momentum=0.1, affine=False, track_running_stats=False)\n",
       "      (5): LeakyReLU(negative_slope=0.01, inplace=True)\n",
       "    )\n",
       "  )\n",
       "  (maxpool3): MaxPool2d(kernel_size=2, stride=2, padding=0, dilation=1, ceil_mode=False)\n",
       "  (conv3): DoubleConvNN(\n",
       "    (double_conv): Sequential(\n",
       "      (0): Conv2d(128, 256, kernel_size=(3, 3), stride=(1, 1), padding=(1, 1))\n",
       "      (1): InstanceNorm2d(256, eps=1e-05, momentum=0.1, affine=False, track_running_stats=False)\n",
       "      (2): LeakyReLU(negative_slope=0.01, inplace=True)\n",
       "      (3): Conv2d(256, 256, kernel_size=(3, 3), stride=(1, 1), padding=(1, 1))\n",
       "      (4): InstanceNorm2d(256, eps=1e-05, momentum=0.1, affine=False, track_running_stats=False)\n",
       "      (5): LeakyReLU(negative_slope=0.01, inplace=True)\n",
       "    )\n",
       "  )\n",
       "  (maxpool4): MaxPool2d(kernel_size=2, stride=2, padding=0, dilation=1, ceil_mode=False)\n",
       "  (conv4): DoubleConvNN(\n",
       "    (double_conv): Sequential(\n",
       "      (0): Conv2d(256, 512, kernel_size=(3, 3), stride=(1, 1), padding=(1, 1))\n",
       "      (1): InstanceNorm2d(512, eps=1e-05, momentum=0.1, affine=False, track_running_stats=False)\n",
       "      (2): LeakyReLU(negative_slope=0.01, inplace=True)\n",
       "      (3): Conv2d(512, 512, kernel_size=(3, 3), stride=(1, 1), padding=(1, 1))\n",
       "      (4): InstanceNorm2d(512, eps=1e-05, momentum=0.1, affine=False, track_running_stats=False)\n",
       "      (5): LeakyReLU(negative_slope=0.01, inplace=True)\n",
       "    )\n",
       "  )\n",
       "  (maxpool5): MaxPool2d(kernel_size=2, stride=2, padding=0, dilation=1, ceil_mode=False)\n",
       "  (conv5): DoubleConvNN(\n",
       "    (double_conv): Sequential(\n",
       "      (0): Conv2d(512, 1024, kernel_size=(3, 3), stride=(1, 1), padding=(1, 1))\n",
       "      (1): InstanceNorm2d(1024, eps=1e-05, momentum=0.1, affine=False, track_running_stats=False)\n",
       "      (2): LeakyReLU(negative_slope=0.01, inplace=True)\n",
       "      (3): Conv2d(1024, 1024, kernel_size=(3, 3), stride=(1, 1), padding=(1, 1))\n",
       "      (4): InstanceNorm2d(1024, eps=1e-05, momentum=0.1, affine=False, track_running_stats=False)\n",
       "      (5): LeakyReLU(negative_slope=0.01, inplace=True)\n",
       "    )\n",
       "  )\n",
       "  (upsample1): UpsampleNN(\n",
       "    (upsample): ConvTranspose2d(1024, 512, kernel_size=(3, 3), stride=(2, 2))\n",
       "    (conv): DoubleConvNN(\n",
       "      (double_conv): Sequential(\n",
       "        (0): Conv2d(1024, 512, kernel_size=(3, 3), stride=(1, 1), padding=(1, 1))\n",
       "        (1): InstanceNorm2d(512, eps=1e-05, momentum=0.1, affine=False, track_running_stats=False)\n",
       "        (2): LeakyReLU(negative_slope=0.01, inplace=True)\n",
       "        (3): Conv2d(512, 512, kernel_size=(3, 3), stride=(1, 1), padding=(1, 1))\n",
       "        (4): InstanceNorm2d(512, eps=1e-05, momentum=0.1, affine=False, track_running_stats=False)\n",
       "        (5): LeakyReLU(negative_slope=0.01, inplace=True)\n",
       "      )\n",
       "    )\n",
       "  )\n",
       "  (upsample2): UpsampleNN(\n",
       "    (upsample): ConvTranspose2d(512, 256, kernel_size=(3, 3), stride=(2, 2))\n",
       "    (conv): DoubleConvNN(\n",
       "      (double_conv): Sequential(\n",
       "        (0): Conv2d(512, 256, kernel_size=(3, 3), stride=(1, 1), padding=(1, 1))\n",
       "        (1): InstanceNorm2d(256, eps=1e-05, momentum=0.1, affine=False, track_running_stats=False)\n",
       "        (2): LeakyReLU(negative_slope=0.01, inplace=True)\n",
       "        (3): Conv2d(256, 256, kernel_size=(3, 3), stride=(1, 1), padding=(1, 1))\n",
       "        (4): InstanceNorm2d(256, eps=1e-05, momentum=0.1, affine=False, track_running_stats=False)\n",
       "        (5): LeakyReLU(negative_slope=0.01, inplace=True)\n",
       "      )\n",
       "    )\n",
       "  )\n",
       "  (upsample3): UpsampleNN(\n",
       "    (upsample): ConvTranspose2d(256, 128, kernel_size=(3, 3), stride=(2, 2))\n",
       "    (conv): DoubleConvNN(\n",
       "      (double_conv): Sequential(\n",
       "        (0): Conv2d(256, 128, kernel_size=(3, 3), stride=(1, 1), padding=(1, 1))\n",
       "        (1): InstanceNorm2d(128, eps=1e-05, momentum=0.1, affine=False, track_running_stats=False)\n",
       "        (2): LeakyReLU(negative_slope=0.01, inplace=True)\n",
       "        (3): Conv2d(128, 128, kernel_size=(3, 3), stride=(1, 1), padding=(1, 1))\n",
       "        (4): InstanceNorm2d(128, eps=1e-05, momentum=0.1, affine=False, track_running_stats=False)\n",
       "        (5): LeakyReLU(negative_slope=0.01, inplace=True)\n",
       "      )\n",
       "    )\n",
       "  )\n",
       "  (upsample4): UpsampleNN(\n",
       "    (upsample): ConvTranspose2d(128, 64, kernel_size=(3, 3), stride=(2, 2))\n",
       "    (conv): DoubleConvNN(\n",
       "      (double_conv): Sequential(\n",
       "        (0): Conv2d(128, 64, kernel_size=(3, 3), stride=(1, 1), padding=(1, 1))\n",
       "        (1): InstanceNorm2d(64, eps=1e-05, momentum=0.1, affine=False, track_running_stats=False)\n",
       "        (2): LeakyReLU(negative_slope=0.01, inplace=True)\n",
       "        (3): Conv2d(64, 64, kernel_size=(3, 3), stride=(1, 1), padding=(1, 1))\n",
       "        (4): InstanceNorm2d(64, eps=1e-05, momentum=0.1, affine=False, track_running_stats=False)\n",
       "        (5): LeakyReLU(negative_slope=0.01, inplace=True)\n",
       "      )\n",
       "    )\n",
       "  )\n",
       "  (upsample5): UpsampleNN(\n",
       "    (upsample): ConvTranspose2d(64, 32, kernel_size=(3, 3), stride=(2, 2))\n",
       "    (conv): DoubleConvNN(\n",
       "      (double_conv): Sequential(\n",
       "        (0): Conv2d(64, 32, kernel_size=(3, 3), stride=(1, 1), padding=(1, 1))\n",
       "        (1): InstanceNorm2d(32, eps=1e-05, momentum=0.1, affine=False, track_running_stats=False)\n",
       "        (2): LeakyReLU(negative_slope=0.01, inplace=True)\n",
       "        (3): Conv2d(32, 32, kernel_size=(3, 3), stride=(1, 1), padding=(1, 1))\n",
       "        (4): InstanceNorm2d(32, eps=1e-05, momentum=0.1, affine=False, track_running_stats=False)\n",
       "        (5): LeakyReLU(negative_slope=0.01, inplace=True)\n",
       "      )\n",
       "    )\n",
       "  )\n",
       "  (outconv): Conv2d(32, 3, kernel_size=(1, 1), stride=(1, 1))\n",
       "  (deep_conv1): Conv2d(512, 3, kernel_size=(1, 1), stride=(1, 1))\n",
       "  (deep_conv2): Conv2d(256, 3, kernel_size=(1, 1), stride=(1, 1))\n",
       "  (deep_conv3): Conv2d(128, 3, kernel_size=(1, 1), stride=(1, 1))\n",
       "  (deep_conv4): Conv2d(64, 3, kernel_size=(1, 1), stride=(1, 1))\n",
       "  (deep_deconv): ConvTranspose2d(3, 3, kernel_size=(3, 3), stride=(2, 2))\n",
       ")"
      ]
     },
     "execution_count": 29,
     "metadata": {},
     "output_type": "execute_result"
    }
   ],
   "source": [
    "optimizer = torch.optim.Adam(model.parameters(), lr=1e-3) #optimizer\n",
    "model.to(device)"
   ]
  },
  {
   "cell_type": "markdown",
   "metadata": {},
   "source": [
    "Dice coefficient:"
   ]
  },
  {
   "cell_type": "code",
   "execution_count": 30,
   "metadata": {},
   "outputs": [],
   "source": [
    "def dice_batch_multiclass(outputs, target, numpy=False): #metric \n",
    "    smooth = 1.\n",
    "    \n",
    "    if numpy: #input is a numpy\n",
    "        \n",
    "        iflat = outputs[:,:,:,1].reshape(-1)\n",
    "        tflat = target[:,:,:,1].reshape(-1)\n",
    "        intersection = (iflat * tflat).sum()\n",
    "        A_sum = np.sum(iflat * iflat)\n",
    "        B_sum = np.sum(tflat * tflat)\n",
    "        dice_1 = ((2. * intersection + smooth) / (A_sum + B_sum + smooth))\n",
    "        \n",
    "        iflat = outputs[:,:,:,2].reshape(-1)\n",
    "        tflat = target[:,:,:,2].reshape(-1)\n",
    "        intersection = (iflat * tflat).sum()\n",
    "        A_sum = np.sum(iflat * iflat)\n",
    "        B_sum = np.sum(tflat * tflat)\n",
    "        dice_2 = ((2. * intersection + smooth) / (A_sum + B_sum + smooth))\n",
    "        \n",
    "        \n",
    "    else: #input is a tensor\n",
    "        \n",
    "        pred = torch.sigmoid(outputs)\n",
    "        \n",
    "        iflat = pred[:,1,:,:].contiguous().view(-1)\n",
    "        tflat = target[:,1,:,:].contiguous().view(-1)\n",
    "        intersection = (iflat * tflat).sum()\n",
    "        A_sum = torch.sum(iflat * iflat)\n",
    "        B_sum = torch.sum(tflat * tflat)\n",
    "        dice_1 = ((2. * intersection + smooth) / (A_sum + B_sum + smooth))\n",
    "        \n",
    "        iflat = pred[:,2,:,:].contiguous().view(-1)\n",
    "        tflat = target[:,2,:,:].contiguous().view(-1)\n",
    "        intersection = (iflat * tflat).sum()\n",
    "        A_sum = torch.sum(iflat * iflat)\n",
    "        B_sum = torch.sum(tflat * tflat)\n",
    "        dice_2 = ((2. * intersection + smooth) / (A_sum + B_sum + smooth))\n",
    "        \n",
    "    return dice_1, dice_2"
   ]
  },
  {
   "cell_type": "markdown",
   "metadata": {},
   "source": [
    "Model learning: "
   ]
  },
  {
   "cell_type": "code",
   "execution_count": 31,
   "metadata": {
    "colab": {
     "base_uri": "https://localhost:8080/",
     "height": 450
    },
    "colab_type": "code",
    "executionInfo": {
     "elapsed": 54649,
     "status": "error",
     "timestamp": 1600434053874,
     "user": {
      "displayName": "Carla Sendra Balcells",
      "photoUrl": "https://lh5.googleusercontent.com/-M_Gw7n6lBfA/AAAAAAAAAAI/AAAAAAAAFwA/PeCXexgY6_8/s64/photo.jpg",
      "userId": "01855518481907913222"
     },
     "user_tz": -120
    },
    "id": "5_VEWGvsi8-I",
    "outputId": "c9012464-6932-4f06-c622-36c2f13814d6",
    "scrolled": true
   },
   "outputs": [
    {
     "name": "stderr",
     "output_type": "stream",
     "text": [
      "100%|##########| 31/31 [00:08<00:00,  3.56it/s]\n",
      "100%|##########| 114/114 [00:01<00:00, 108.74it/s]\n",
      "  0%|          | 0/31 [00:00<?, ?it/s]"
     ]
    },
    {
     "name": "stdout",
     "output_type": "stream",
     "text": [
      "Epoch: 0. Train Loss: 0.33012. Val Loss: 0.16239. Val DC LV: 0.14174. Val DC MYO: 0.13442.\n"
     ]
    },
    {
     "name": "stderr",
     "output_type": "stream",
     "text": [
      "100%|##########| 31/31 [00:08<00:00,  3.83it/s]\n",
      "100%|##########| 114/114 [00:01<00:00, 108.42it/s]\n",
      "  0%|          | 0/31 [00:00<?, ?it/s]"
     ]
    },
    {
     "name": "stdout",
     "output_type": "stream",
     "text": [
      "Epoch: 1. Train Loss: 0.11039. Val Loss: 0.04938. Val DC LV: 0.45066. Val DC MYO: 0.34312.\n"
     ]
    },
    {
     "name": "stderr",
     "output_type": "stream",
     "text": [
      "100%|##########| 31/31 [00:08<00:00,  3.82it/s]\n",
      "100%|##########| 114/114 [00:01<00:00, 108.69it/s]\n",
      "  0%|          | 0/31 [00:00<?, ?it/s]"
     ]
    },
    {
     "name": "stdout",
     "output_type": "stream",
     "text": [
      "Epoch: 2. Train Loss: 0.06993. Val Loss: 0.03561. Val DC LV: 0.61600. Val DC MYO: 0.39590.\n"
     ]
    },
    {
     "name": "stderr",
     "output_type": "stream",
     "text": [
      "100%|##########| 31/31 [00:08<00:00,  3.82it/s]\n",
      "100%|##########| 114/114 [00:01<00:00, 107.49it/s]\n",
      "  0%|          | 0/31 [00:00<?, ?it/s]"
     ]
    },
    {
     "name": "stdout",
     "output_type": "stream",
     "text": [
      "Epoch: 3. Train Loss: 0.06256. Val Loss: 0.03649. Val DC LV: 0.61009. Val DC MYO: 0.37577.\n"
     ]
    },
    {
     "name": "stderr",
     "output_type": "stream",
     "text": [
      "100%|##########| 31/31 [00:08<00:00,  3.81it/s]\n",
      "100%|##########| 114/114 [00:01<00:00, 106.89it/s]\n",
      "  0%|          | 0/31 [00:00<?, ?it/s]"
     ]
    },
    {
     "name": "stdout",
     "output_type": "stream",
     "text": [
      "Epoch: 4. Train Loss: 0.06132. Val Loss: 0.03631. Val DC LV: 0.62439. Val DC MYO: 0.47268.\n"
     ]
    },
    {
     "name": "stderr",
     "output_type": "stream",
     "text": [
      "100%|##########| 31/31 [00:08<00:00,  3.80it/s]\n",
      "100%|##########| 114/114 [00:01<00:00, 107.87it/s]\n",
      "  0%|          | 0/31 [00:00<?, ?it/s]"
     ]
    },
    {
     "name": "stdout",
     "output_type": "stream",
     "text": [
      "Epoch: 5. Train Loss: 0.05545. Val Loss: 0.03430. Val DC LV: 0.57045. Val DC MYO: 0.35924.\n"
     ]
    },
    {
     "name": "stderr",
     "output_type": "stream",
     "text": [
      "100%|##########| 31/31 [00:08<00:00,  3.81it/s]\n",
      "100%|##########| 114/114 [00:01<00:00, 108.14it/s]\n",
      "  0%|          | 0/31 [00:00<?, ?it/s]"
     ]
    },
    {
     "name": "stdout",
     "output_type": "stream",
     "text": [
      "Epoch: 6. Train Loss: 0.05062. Val Loss: 0.03098. Val DC LV: 0.66451. Val DC MYO: 0.50780.\n"
     ]
    },
    {
     "name": "stderr",
     "output_type": "stream",
     "text": [
      "100%|##########| 31/31 [00:08<00:00,  3.80it/s]\n",
      "100%|##########| 114/114 [00:01<00:00, 107.99it/s]\n",
      "  0%|          | 0/31 [00:00<?, ?it/s]"
     ]
    },
    {
     "name": "stdout",
     "output_type": "stream",
     "text": [
      "Epoch: 7. Train Loss: 0.04655. Val Loss: 0.03089. Val DC LV: 0.68715. Val DC MYO: 0.55135.\n"
     ]
    },
    {
     "name": "stderr",
     "output_type": "stream",
     "text": [
      "100%|##########| 31/31 [00:08<00:00,  3.79it/s]\n",
      "100%|##########| 114/114 [00:01<00:00, 107.78it/s]\n",
      "  0%|          | 0/31 [00:00<?, ?it/s]"
     ]
    },
    {
     "name": "stdout",
     "output_type": "stream",
     "text": [
      "Epoch: 8. Train Loss: 0.03962. Val Loss: 0.02751. Val DC LV: 0.70298. Val DC MYO: 0.49495.\n"
     ]
    },
    {
     "name": "stderr",
     "output_type": "stream",
     "text": [
      "100%|##########| 31/31 [00:08<00:00,  3.77it/s]\n",
      "100%|##########| 114/114 [00:01<00:00, 107.74it/s]\n",
      "  0%|          | 0/31 [00:00<?, ?it/s]"
     ]
    },
    {
     "name": "stdout",
     "output_type": "stream",
     "text": [
      "Epoch: 9. Train Loss: 0.04571. Val Loss: 0.02545. Val DC LV: 0.73229. Val DC MYO: 0.55458.\n"
     ]
    },
    {
     "name": "stderr",
     "output_type": "stream",
     "text": [
      "100%|##########| 31/31 [00:08<00:00,  3.80it/s]\n",
      "100%|##########| 114/114 [00:01<00:00, 108.18it/s]\n",
      "  0%|          | 0/31 [00:00<?, ?it/s]"
     ]
    },
    {
     "name": "stdout",
     "output_type": "stream",
     "text": [
      "Epoch: 10. Train Loss: 0.03914. Val Loss: 0.02208. Val DC LV: 0.70037. Val DC MYO: 0.54090.\n"
     ]
    },
    {
     "name": "stderr",
     "output_type": "stream",
     "text": [
      "100%|##########| 31/31 [00:08<00:00,  3.78it/s]\n",
      "100%|##########| 114/114 [00:01<00:00, 107.92it/s]\n",
      "  0%|          | 0/31 [00:00<?, ?it/s]"
     ]
    },
    {
     "name": "stdout",
     "output_type": "stream",
     "text": [
      "Epoch: 11. Train Loss: 0.03567. Val Loss: 0.02613. Val DC LV: 0.79151. Val DC MYO: 0.58711.\n"
     ]
    },
    {
     "name": "stderr",
     "output_type": "stream",
     "text": [
      "100%|##########| 31/31 [00:08<00:00,  3.80it/s]\n",
      "100%|##########| 114/114 [00:01<00:00, 106.10it/s]\n",
      "  0%|          | 0/31 [00:00<?, ?it/s]"
     ]
    },
    {
     "name": "stdout",
     "output_type": "stream",
     "text": [
      "Epoch: 12. Train Loss: 0.03202. Val Loss: 0.02039. Val DC LV: 0.81407. Val DC MYO: 0.61447.\n"
     ]
    },
    {
     "name": "stderr",
     "output_type": "stream",
     "text": [
      "100%|##########| 31/31 [00:08<00:00,  3.77it/s]\n",
      "100%|##########| 114/114 [00:01<00:00, 107.49it/s]\n",
      "  0%|          | 0/31 [00:00<?, ?it/s]"
     ]
    },
    {
     "name": "stdout",
     "output_type": "stream",
     "text": [
      "Epoch: 13. Train Loss: 0.03228. Val Loss: 0.02369. Val DC LV: 0.76138. Val DC MYO: 0.54006.\n"
     ]
    },
    {
     "name": "stderr",
     "output_type": "stream",
     "text": [
      "100%|##########| 31/31 [00:08<00:00,  3.77it/s]\n",
      "100%|##########| 114/114 [00:01<00:00, 107.56it/s]\n",
      "  0%|          | 0/31 [00:00<?, ?it/s]"
     ]
    },
    {
     "name": "stdout",
     "output_type": "stream",
     "text": [
      "Epoch: 14. Train Loss: 0.02889. Val Loss: 0.02093. Val DC LV: 0.80152. Val DC MYO: 0.57579.\n"
     ]
    },
    {
     "name": "stderr",
     "output_type": "stream",
     "text": [
      "100%|##########| 31/31 [00:08<00:00,  3.79it/s]\n",
      "100%|##########| 114/114 [00:01<00:00, 107.37it/s]\n",
      "  0%|          | 0/31 [00:00<?, ?it/s]"
     ]
    },
    {
     "name": "stdout",
     "output_type": "stream",
     "text": [
      "Epoch: 15. Train Loss: 0.02489. Val Loss: 0.01884. Val DC LV: 0.81330. Val DC MYO: 0.62765.\n"
     ]
    },
    {
     "name": "stderr",
     "output_type": "stream",
     "text": [
      "100%|##########| 31/31 [00:08<00:00,  3.78it/s]\n",
      "100%|##########| 114/114 [00:01<00:00, 107.08it/s]\n",
      "  0%|          | 0/31 [00:00<?, ?it/s]"
     ]
    },
    {
     "name": "stdout",
     "output_type": "stream",
     "text": [
      "Epoch: 16. Train Loss: 0.02234. Val Loss: 0.02395. Val DC LV: 0.81277. Val DC MYO: 0.62864.\n"
     ]
    },
    {
     "name": "stderr",
     "output_type": "stream",
     "text": [
      "100%|##########| 31/31 [00:08<00:00,  3.78it/s]\n",
      "100%|##########| 114/114 [00:01<00:00, 106.70it/s]\n",
      "  0%|          | 0/31 [00:00<?, ?it/s]"
     ]
    },
    {
     "name": "stdout",
     "output_type": "stream",
     "text": [
      "Epoch: 17. Train Loss: 0.02256. Val Loss: 0.01850. Val DC LV: 0.81630. Val DC MYO: 0.64887.\n"
     ]
    },
    {
     "name": "stderr",
     "output_type": "stream",
     "text": [
      "100%|##########| 31/31 [00:08<00:00,  3.78it/s]\n",
      "100%|##########| 114/114 [00:01<00:00, 107.87it/s]\n",
      "  0%|          | 0/31 [00:00<?, ?it/s]"
     ]
    },
    {
     "name": "stdout",
     "output_type": "stream",
     "text": [
      "Epoch: 18. Train Loss: 0.02503. Val Loss: 0.02332. Val DC LV: 0.81868. Val DC MYO: 0.66431.\n"
     ]
    },
    {
     "name": "stderr",
     "output_type": "stream",
     "text": [
      "100%|##########| 31/31 [00:08<00:00,  3.77it/s]\n",
      "100%|##########| 114/114 [00:01<00:00, 107.53it/s]\n",
      "  0%|          | 0/31 [00:00<?, ?it/s]"
     ]
    },
    {
     "name": "stdout",
     "output_type": "stream",
     "text": [
      "Epoch: 19. Train Loss: 0.02297. Val Loss: 0.01722. Val DC LV: 0.81452. Val DC MYO: 0.60490.\n"
     ]
    },
    {
     "name": "stderr",
     "output_type": "stream",
     "text": [
      "100%|##########| 31/31 [00:08<00:00,  3.78it/s]\n",
      "100%|##########| 114/114 [00:01<00:00, 106.99it/s]\n",
      "  0%|          | 0/31 [00:00<?, ?it/s]"
     ]
    },
    {
     "name": "stdout",
     "output_type": "stream",
     "text": [
      "Epoch: 20. Train Loss: 0.02138. Val Loss: 0.01447. Val DC LV: 0.86267. Val DC MYO: 0.68706.\n"
     ]
    },
    {
     "name": "stderr",
     "output_type": "stream",
     "text": [
      "100%|##########| 31/31 [00:08<00:00,  3.77it/s]\n",
      "100%|##########| 114/114 [00:01<00:00, 107.30it/s]\n",
      "  0%|          | 0/31 [00:00<?, ?it/s]"
     ]
    },
    {
     "name": "stdout",
     "output_type": "stream",
     "text": [
      "Epoch: 21. Train Loss: 0.02109. Val Loss: 0.01629. Val DC LV: 0.82314. Val DC MYO: 0.63510.\n"
     ]
    },
    {
     "name": "stderr",
     "output_type": "stream",
     "text": [
      "100%|##########| 31/31 [00:08<00:00,  3.78it/s]\n",
      "100%|##########| 114/114 [00:01<00:00, 107.40it/s]\n",
      "  0%|          | 0/31 [00:00<?, ?it/s]"
     ]
    },
    {
     "name": "stdout",
     "output_type": "stream",
     "text": [
      "Epoch: 22. Train Loss: 0.02152. Val Loss: 0.01521. Val DC LV: 0.80206. Val DC MYO: 0.67416.\n"
     ]
    },
    {
     "name": "stderr",
     "output_type": "stream",
     "text": [
      "100%|##########| 31/31 [00:08<00:00,  3.75it/s]\n",
      "100%|##########| 114/114 [00:01<00:00, 106.51it/s]\n",
      "  0%|          | 0/31 [00:00<?, ?it/s]"
     ]
    },
    {
     "name": "stdout",
     "output_type": "stream",
     "text": [
      "Epoch: 23. Train Loss: 0.02086. Val Loss: 0.01403. Val DC LV: 0.84102. Val DC MYO: 0.66747.\n"
     ]
    },
    {
     "name": "stderr",
     "output_type": "stream",
     "text": [
      "100%|##########| 31/31 [00:08<00:00,  3.77it/s]\n",
      "100%|##########| 114/114 [00:01<00:00, 107.62it/s]\n",
      "  0%|          | 0/31 [00:00<?, ?it/s]"
     ]
    },
    {
     "name": "stdout",
     "output_type": "stream",
     "text": [
      "Epoch: 24. Train Loss: 0.01879. Val Loss: 0.01751. Val DC LV: 0.85039. Val DC MYO: 0.69520.\n"
     ]
    },
    {
     "name": "stderr",
     "output_type": "stream",
     "text": [
      "100%|##########| 31/31 [00:08<00:00,  3.77it/s]\n",
      "100%|##########| 114/114 [00:01<00:00, 106.80it/s]\n",
      "  0%|          | 0/31 [00:00<?, ?it/s]"
     ]
    },
    {
     "name": "stdout",
     "output_type": "stream",
     "text": [
      "Epoch: 25. Train Loss: 0.02088. Val Loss: 0.01318. Val DC LV: 0.86234. Val DC MYO: 0.71816.\n"
     ]
    },
    {
     "name": "stderr",
     "output_type": "stream",
     "text": [
      "100%|##########| 31/31 [00:08<00:00,  3.76it/s]\n",
      "100%|##########| 114/114 [00:01<00:00, 106.41it/s]\n",
      "  0%|          | 0/31 [00:00<?, ?it/s]"
     ]
    },
    {
     "name": "stdout",
     "output_type": "stream",
     "text": [
      "Epoch: 26. Train Loss: 0.02001. Val Loss: 0.01664. Val DC LV: 0.83073. Val DC MYO: 0.71270.\n"
     ]
    },
    {
     "name": "stderr",
     "output_type": "stream",
     "text": [
      "100%|##########| 31/31 [00:08<00:00,  3.77it/s]\n",
      "100%|##########| 114/114 [00:01<00:00, 106.36it/s]\n",
      "  0%|          | 0/31 [00:00<?, ?it/s]"
     ]
    },
    {
     "name": "stdout",
     "output_type": "stream",
     "text": [
      "Epoch: 27. Train Loss: 0.01842. Val Loss: 0.01613. Val DC LV: 0.87229. Val DC MYO: 0.70590.\n"
     ]
    },
    {
     "name": "stderr",
     "output_type": "stream",
     "text": [
      "100%|##########| 31/31 [00:08<00:00,  3.75it/s]\n",
      "100%|##########| 114/114 [00:01<00:00, 106.23it/s]\n",
      "  0%|          | 0/31 [00:00<?, ?it/s]"
     ]
    },
    {
     "name": "stdout",
     "output_type": "stream",
     "text": [
      "Epoch: 28. Train Loss: 0.01607. Val Loss: 0.01513. Val DC LV: 0.86747. Val DC MYO: 0.70895.\n"
     ]
    },
    {
     "name": "stderr",
     "output_type": "stream",
     "text": [
      "100%|##########| 31/31 [00:08<00:00,  3.77it/s]\n",
      "100%|##########| 114/114 [00:01<00:00, 105.61it/s]\n",
      "  0%|          | 0/31 [00:00<?, ?it/s]"
     ]
    },
    {
     "name": "stdout",
     "output_type": "stream",
     "text": [
      "Epoch: 29. Train Loss: 0.01848. Val Loss: 0.01198. Val DC LV: 0.86539. Val DC MYO: 0.70859.\n"
     ]
    },
    {
     "name": "stderr",
     "output_type": "stream",
     "text": [
      "100%|##########| 31/31 [00:08<00:00,  3.76it/s]\n",
      "100%|##########| 114/114 [00:01<00:00, 106.79it/s]\n",
      "  0%|          | 0/31 [00:00<?, ?it/s]"
     ]
    },
    {
     "name": "stdout",
     "output_type": "stream",
     "text": [
      "Epoch: 30. Train Loss: 0.02254. Val Loss: 0.01239. Val DC LV: 0.86207. Val DC MYO: 0.71487.\n"
     ]
    },
    {
     "name": "stderr",
     "output_type": "stream",
     "text": [
      "100%|##########| 31/31 [00:08<00:00,  3.76it/s]\n",
      "100%|##########| 114/114 [00:01<00:00, 105.97it/s]\n",
      "  0%|          | 0/31 [00:00<?, ?it/s]"
     ]
    },
    {
     "name": "stdout",
     "output_type": "stream",
     "text": [
      "Epoch: 31. Train Loss: 0.02071. Val Loss: 0.01178. Val DC LV: 0.87827. Val DC MYO: 0.73903.\n"
     ]
    },
    {
     "name": "stderr",
     "output_type": "stream",
     "text": [
      "100%|##########| 31/31 [00:08<00:00,  3.74it/s]\n",
      "100%|##########| 114/114 [00:01<00:00, 106.75it/s]\n",
      "  0%|          | 0/31 [00:00<?, ?it/s]"
     ]
    },
    {
     "name": "stdout",
     "output_type": "stream",
     "text": [
      "Epoch: 32. Train Loss: 0.01780. Val Loss: 0.01370. Val DC LV: 0.86539. Val DC MYO: 0.71713.\n"
     ]
    },
    {
     "name": "stderr",
     "output_type": "stream",
     "text": [
      "100%|##########| 31/31 [00:08<00:00,  3.75it/s]\n",
      "100%|##########| 114/114 [00:01<00:00, 106.75it/s]\n",
      "  0%|          | 0/31 [00:00<?, ?it/s]"
     ]
    },
    {
     "name": "stdout",
     "output_type": "stream",
     "text": [
      "Epoch: 33. Train Loss: 0.01718. Val Loss: 0.01296. Val DC LV: 0.86393. Val DC MYO: 0.70143.\n"
     ]
    },
    {
     "name": "stderr",
     "output_type": "stream",
     "text": [
      "100%|##########| 31/31 [00:08<00:00,  3.76it/s]\n",
      "100%|##########| 114/114 [00:01<00:00, 106.75it/s]\n",
      "  0%|          | 0/31 [00:00<?, ?it/s]"
     ]
    },
    {
     "name": "stdout",
     "output_type": "stream",
     "text": [
      "Epoch: 34. Train Loss: 0.01727. Val Loss: 0.01134. Val DC LV: 0.87107. Val DC MYO: 0.74484.\n"
     ]
    },
    {
     "name": "stderr",
     "output_type": "stream",
     "text": [
      "100%|##########| 31/31 [00:08<00:00,  3.74it/s]\n",
      "100%|##########| 114/114 [00:01<00:00, 104.86it/s]\n",
      "  0%|          | 0/31 [00:00<?, ?it/s]"
     ]
    },
    {
     "name": "stdout",
     "output_type": "stream",
     "text": [
      "Epoch: 35. Train Loss: 0.01578. Val Loss: 0.01060. Val DC LV: 0.89256. Val DC MYO: 0.76812.\n"
     ]
    },
    {
     "name": "stderr",
     "output_type": "stream",
     "text": [
      "100%|##########| 31/31 [00:08<00:00,  3.74it/s]\n",
      "100%|##########| 114/114 [00:01<00:00, 106.63it/s]\n",
      "  0%|          | 0/31 [00:00<?, ?it/s]"
     ]
    },
    {
     "name": "stdout",
     "output_type": "stream",
     "text": [
      "Epoch: 36. Train Loss: 0.01524. Val Loss: 0.01025. Val DC LV: 0.87897. Val DC MYO: 0.75516.\n"
     ]
    },
    {
     "name": "stderr",
     "output_type": "stream",
     "text": [
      "100%|##########| 31/31 [00:08<00:00,  3.77it/s]\n",
      "100%|##########| 114/114 [00:01<00:00, 107.72it/s]\n",
      "  0%|          | 0/31 [00:00<?, ?it/s]"
     ]
    },
    {
     "name": "stdout",
     "output_type": "stream",
     "text": [
      "Epoch: 37. Train Loss: 0.01438. Val Loss: 0.01139. Val DC LV: 0.87562. Val DC MYO: 0.73753.\n"
     ]
    },
    {
     "name": "stderr",
     "output_type": "stream",
     "text": [
      "100%|##########| 31/31 [00:08<00:00,  3.76it/s]\n",
      "100%|##########| 114/114 [00:01<00:00, 106.58it/s]\n",
      "  0%|          | 0/31 [00:00<?, ?it/s]"
     ]
    },
    {
     "name": "stdout",
     "output_type": "stream",
     "text": [
      "Epoch: 38. Train Loss: 0.01334. Val Loss: 0.01017. Val DC LV: 0.85913. Val DC MYO: 0.73472.\n"
     ]
    },
    {
     "name": "stderr",
     "output_type": "stream",
     "text": [
      "100%|##########| 31/31 [00:08<00:00,  3.76it/s]\n",
      "100%|##########| 114/114 [00:01<00:00, 106.88it/s]\n",
      "  0%|          | 0/31 [00:00<?, ?it/s]"
     ]
    },
    {
     "name": "stdout",
     "output_type": "stream",
     "text": [
      "Epoch: 39. Train Loss: 0.01481. Val Loss: 0.01109. Val DC LV: 0.86980. Val DC MYO: 0.77178.\n"
     ]
    },
    {
     "name": "stderr",
     "output_type": "stream",
     "text": [
      "100%|##########| 31/31 [00:08<00:00,  3.76it/s]\n",
      "100%|##########| 114/114 [00:01<00:00, 106.95it/s]\n",
      "  0%|          | 0/31 [00:00<?, ?it/s]"
     ]
    },
    {
     "name": "stdout",
     "output_type": "stream",
     "text": [
      "Epoch: 40. Train Loss: 0.01573. Val Loss: 0.01109. Val DC LV: 0.88418. Val DC MYO: 0.75245.\n"
     ]
    },
    {
     "name": "stderr",
     "output_type": "stream",
     "text": [
      "100%|##########| 31/31 [00:08<00:00,  3.75it/s]\n",
      "100%|##########| 114/114 [00:01<00:00, 107.47it/s]\n",
      "  0%|          | 0/31 [00:00<?, ?it/s]"
     ]
    },
    {
     "name": "stdout",
     "output_type": "stream",
     "text": [
      "Epoch: 41. Train Loss: 0.01655. Val Loss: 0.01059. Val DC LV: 0.89084. Val DC MYO: 0.76316.\n"
     ]
    },
    {
     "name": "stderr",
     "output_type": "stream",
     "text": [
      "100%|##########| 31/31 [00:08<00:00,  3.75it/s]\n",
      "100%|##########| 114/114 [00:01<00:00, 107.17it/s]\n",
      "  0%|          | 0/31 [00:00<?, ?it/s]"
     ]
    },
    {
     "name": "stdout",
     "output_type": "stream",
     "text": [
      "Epoch: 42. Train Loss: 0.01511. Val Loss: 0.01386. Val DC LV: 0.84523. Val DC MYO: 0.73361.\n"
     ]
    },
    {
     "name": "stderr",
     "output_type": "stream",
     "text": [
      "100%|##########| 31/31 [00:08<00:00,  3.77it/s]\n",
      "100%|##########| 114/114 [00:01<00:00, 106.25it/s]\n",
      "  0%|          | 0/31 [00:00<?, ?it/s]"
     ]
    },
    {
     "name": "stdout",
     "output_type": "stream",
     "text": [
      "Epoch: 43. Train Loss: 0.01464. Val Loss: 0.01079. Val DC LV: 0.86845. Val DC MYO: 0.74250.\n"
     ]
    },
    {
     "name": "stderr",
     "output_type": "stream",
     "text": [
      "100%|##########| 31/31 [00:08<00:00,  3.77it/s]\n",
      "100%|##########| 114/114 [00:01<00:00, 107.46it/s]\n",
      "  0%|          | 0/31 [00:00<?, ?it/s]"
     ]
    },
    {
     "name": "stdout",
     "output_type": "stream",
     "text": [
      "Epoch: 44. Train Loss: 0.01389. Val Loss: 0.00871. Val DC LV: 0.90239. Val DC MYO: 0.78202.\n"
     ]
    },
    {
     "name": "stderr",
     "output_type": "stream",
     "text": [
      "100%|##########| 31/31 [00:08<00:00,  3.77it/s]\n",
      "100%|##########| 114/114 [00:01<00:00, 106.22it/s]\n",
      "  0%|          | 0/31 [00:00<?, ?it/s]"
     ]
    },
    {
     "name": "stdout",
     "output_type": "stream",
     "text": [
      "Epoch: 45. Train Loss: 0.01504. Val Loss: 0.01171. Val DC LV: 0.88358. Val DC MYO: 0.76710.\n"
     ]
    },
    {
     "name": "stderr",
     "output_type": "stream",
     "text": [
      "100%|##########| 31/31 [00:08<00:00,  3.76it/s]\n",
      "100%|##########| 114/114 [00:01<00:00, 106.94it/s]\n",
      "  0%|          | 0/31 [00:00<?, ?it/s]"
     ]
    },
    {
     "name": "stdout",
     "output_type": "stream",
     "text": [
      "Epoch: 46. Train Loss: 0.01322. Val Loss: 0.01017. Val DC LV: 0.86707. Val DC MYO: 0.74969.\n"
     ]
    },
    {
     "name": "stderr",
     "output_type": "stream",
     "text": [
      "100%|##########| 31/31 [00:08<00:00,  3.75it/s]\n",
      "100%|##########| 114/114 [00:01<00:00, 106.00it/s]\n",
      "  0%|          | 0/31 [00:00<?, ?it/s]"
     ]
    },
    {
     "name": "stdout",
     "output_type": "stream",
     "text": [
      "Epoch: 47. Train Loss: 0.01354. Val Loss: 0.01052. Val DC LV: 0.88574. Val DC MYO: 0.72749.\n"
     ]
    },
    {
     "name": "stderr",
     "output_type": "stream",
     "text": [
      "100%|##########| 31/31 [00:08<00:00,  3.77it/s]\n",
      "100%|##########| 114/114 [00:01<00:00, 106.94it/s]\n",
      "  0%|          | 0/31 [00:00<?, ?it/s]"
     ]
    },
    {
     "name": "stdout",
     "output_type": "stream",
     "text": [
      "Epoch: 48. Train Loss: 0.01590. Val Loss: 0.01194. Val DC LV: 0.88297. Val DC MYO: 0.70586.\n"
     ]
    },
    {
     "name": "stderr",
     "output_type": "stream",
     "text": [
      "100%|##########| 31/31 [00:08<00:00,  3.76it/s]\n",
      "100%|##########| 114/114 [00:01<00:00, 104.63it/s]\n",
      "  0%|          | 0/31 [00:00<?, ?it/s]"
     ]
    },
    {
     "name": "stdout",
     "output_type": "stream",
     "text": [
      "Epoch: 49. Train Loss: 0.01713. Val Loss: 0.01529. Val DC LV: 0.84299. Val DC MYO: 0.72351.\n"
     ]
    },
    {
     "name": "stderr",
     "output_type": "stream",
     "text": [
      "100%|##########| 31/31 [00:08<00:00,  3.73it/s]\n",
      "100%|##########| 114/114 [00:01<00:00, 106.89it/s]\n",
      "  0%|          | 0/31 [00:00<?, ?it/s]"
     ]
    },
    {
     "name": "stdout",
     "output_type": "stream",
     "text": [
      "Epoch: 50. Train Loss: 0.01743. Val Loss: 0.01348. Val DC LV: 0.84010. Val DC MYO: 0.73996.\n"
     ]
    },
    {
     "name": "stderr",
     "output_type": "stream",
     "text": [
      "100%|##########| 31/31 [00:08<00:00,  3.75it/s]\n",
      "100%|##########| 114/114 [00:01<00:00, 106.08it/s]\n",
      "  0%|          | 0/31 [00:00<?, ?it/s]"
     ]
    },
    {
     "name": "stdout",
     "output_type": "stream",
     "text": [
      "Epoch: 51. Train Loss: 0.01682. Val Loss: 0.01192. Val DC LV: 0.86918. Val DC MYO: 0.75784.\n"
     ]
    },
    {
     "name": "stderr",
     "output_type": "stream",
     "text": [
      "100%|##########| 31/31 [00:08<00:00,  3.74it/s]\n",
      "100%|##########| 114/114 [00:01<00:00, 106.94it/s]\n",
      "  0%|          | 0/31 [00:00<?, ?it/s]"
     ]
    },
    {
     "name": "stdout",
     "output_type": "stream",
     "text": [
      "Epoch: 52. Train Loss: 0.01537. Val Loss: 0.00890. Val DC LV: 0.88981. Val DC MYO: 0.78311.\n"
     ]
    },
    {
     "name": "stderr",
     "output_type": "stream",
     "text": [
      "100%|##########| 31/31 [00:08<00:00,  3.75it/s]\n",
      "100%|##########| 114/114 [00:01<00:00, 106.57it/s]\n",
      "  0%|          | 0/31 [00:00<?, ?it/s]"
     ]
    },
    {
     "name": "stdout",
     "output_type": "stream",
     "text": [
      "Epoch: 53. Train Loss: 0.01668. Val Loss: 0.00930. Val DC LV: 0.89233. Val DC MYO: 0.78192.\n"
     ]
    },
    {
     "name": "stderr",
     "output_type": "stream",
     "text": [
      "100%|##########| 31/31 [00:08<00:00,  3.77it/s]\n",
      "100%|##########| 114/114 [00:01<00:00, 107.17it/s]\n",
      "  0%|          | 0/31 [00:00<?, ?it/s]"
     ]
    },
    {
     "name": "stdout",
     "output_type": "stream",
     "text": [
      "Epoch: 54. Train Loss: 0.01423. Val Loss: 0.01126. Val DC LV: 0.85500. Val DC MYO: 0.74868.\n"
     ]
    },
    {
     "name": "stderr",
     "output_type": "stream",
     "text": [
      "100%|##########| 31/31 [00:08<00:00,  3.76it/s]\n",
      "100%|##########| 114/114 [00:01<00:00, 106.99it/s]\n",
      "  0%|          | 0/31 [00:00<?, ?it/s]"
     ]
    },
    {
     "name": "stdout",
     "output_type": "stream",
     "text": [
      "Epoch: 55. Train Loss: 0.01511. Val Loss: 0.00957. Val DC LV: 0.90231. Val DC MYO: 0.78103.\n"
     ]
    },
    {
     "name": "stderr",
     "output_type": "stream",
     "text": [
      "100%|##########| 31/31 [00:08<00:00,  3.77it/s]\n",
      "100%|##########| 114/114 [00:01<00:00, 107.37it/s]\n",
      "  0%|          | 0/31 [00:00<?, ?it/s]"
     ]
    },
    {
     "name": "stdout",
     "output_type": "stream",
     "text": [
      "Epoch: 56. Train Loss: 0.01385. Val Loss: 0.00986. Val DC LV: 0.89609. Val DC MYO: 0.77597.\n"
     ]
    },
    {
     "name": "stderr",
     "output_type": "stream",
     "text": [
      "100%|##########| 31/31 [00:08<00:00,  3.77it/s]\n",
      "100%|##########| 114/114 [00:01<00:00, 106.82it/s]\n",
      "  0%|          | 0/31 [00:00<?, ?it/s]"
     ]
    },
    {
     "name": "stdout",
     "output_type": "stream",
     "text": [
      "Epoch: 57. Train Loss: 0.01511. Val Loss: 0.01164. Val DC LV: 0.84965. Val DC MYO: 0.72867.\n"
     ]
    },
    {
     "name": "stderr",
     "output_type": "stream",
     "text": [
      "100%|##########| 31/31 [00:08<00:00,  3.75it/s]\n",
      "100%|##########| 114/114 [00:01<00:00, 106.30it/s]\n",
      "  0%|          | 0/31 [00:00<?, ?it/s]"
     ]
    },
    {
     "name": "stdout",
     "output_type": "stream",
     "text": [
      "Epoch: 58. Train Loss: 0.01500. Val Loss: 0.01026. Val DC LV: 0.87744. Val DC MYO: 0.76019.\n"
     ]
    },
    {
     "name": "stderr",
     "output_type": "stream",
     "text": [
      "100%|##########| 31/31 [00:08<00:00,  3.75it/s]\n",
      "100%|##########| 114/114 [00:01<00:00, 106.47it/s]\n",
      "  0%|          | 0/31 [00:00<?, ?it/s]"
     ]
    },
    {
     "name": "stdout",
     "output_type": "stream",
     "text": [
      "Epoch: 59. Train Loss: 0.01409. Val Loss: 0.00900. Val DC LV: 0.89784. Val DC MYO: 0.78839.\n"
     ]
    },
    {
     "name": "stderr",
     "output_type": "stream",
     "text": [
      "100%|##########| 31/31 [00:08<00:00,  3.75it/s]\n",
      "100%|##########| 114/114 [00:01<00:00, 107.43it/s]\n",
      "  0%|          | 0/31 [00:00<?, ?it/s]"
     ]
    },
    {
     "name": "stdout",
     "output_type": "stream",
     "text": [
      "Epoch: 60. Train Loss: 0.01383. Val Loss: 0.00999. Val DC LV: 0.88827. Val DC MYO: 0.77481.\n"
     ]
    },
    {
     "name": "stderr",
     "output_type": "stream",
     "text": [
      "100%|##########| 31/31 [00:08<00:00,  3.75it/s]\n",
      "100%|##########| 114/114 [00:01<00:00, 107.16it/s]\n",
      "  0%|          | 0/31 [00:00<?, ?it/s]"
     ]
    },
    {
     "name": "stdout",
     "output_type": "stream",
     "text": [
      "Epoch: 61. Train Loss: 0.01423. Val Loss: 0.00887. Val DC LV: 0.89011. Val DC MYO: 0.78119.\n"
     ]
    },
    {
     "name": "stderr",
     "output_type": "stream",
     "text": [
      "100%|##########| 31/31 [00:08<00:00,  3.76it/s]\n",
      "100%|##########| 114/114 [00:01<00:00, 106.68it/s]\n",
      "  0%|          | 0/31 [00:00<?, ?it/s]"
     ]
    },
    {
     "name": "stdout",
     "output_type": "stream",
     "text": [
      "Epoch: 62. Train Loss: 0.01855. Val Loss: 0.00987. Val DC LV: 0.89347. Val DC MYO: 0.76371.\n"
     ]
    },
    {
     "name": "stderr",
     "output_type": "stream",
     "text": [
      "100%|##########| 31/31 [00:08<00:00,  3.75it/s]\n",
      "100%|##########| 114/114 [00:01<00:00, 105.24it/s]\n",
      "  0%|          | 0/31 [00:00<?, ?it/s]"
     ]
    },
    {
     "name": "stdout",
     "output_type": "stream",
     "text": [
      "Epoch: 63. Train Loss: 0.01609. Val Loss: 0.00855. Val DC LV: 0.90643. Val DC MYO: 0.75962.\n"
     ]
    },
    {
     "name": "stderr",
     "output_type": "stream",
     "text": [
      "100%|##########| 31/31 [00:08<00:00,  3.77it/s]\n",
      "100%|##########| 114/114 [00:01<00:00, 107.09it/s]\n",
      "  0%|          | 0/31 [00:00<?, ?it/s]"
     ]
    },
    {
     "name": "stdout",
     "output_type": "stream",
     "text": [
      "Epoch: 64. Train Loss: 0.01375. Val Loss: 0.00934. Val DC LV: 0.90364. Val DC MYO: 0.74159.\n"
     ]
    },
    {
     "name": "stderr",
     "output_type": "stream",
     "text": [
      "100%|##########| 31/31 [00:08<00:00,  3.75it/s]\n",
      "100%|##########| 114/114 [00:01<00:00, 106.09it/s]\n",
      "  0%|          | 0/31 [00:00<?, ?it/s]"
     ]
    },
    {
     "name": "stdout",
     "output_type": "stream",
     "text": [
      "Epoch: 65. Train Loss: 0.01360. Val Loss: 0.00861. Val DC LV: 0.90313. Val DC MYO: 0.79417.\n"
     ]
    },
    {
     "name": "stderr",
     "output_type": "stream",
     "text": [
      "100%|##########| 31/31 [00:08<00:00,  3.75it/s]\n",
      "100%|##########| 114/114 [00:01<00:00, 107.24it/s]\n",
      "  0%|          | 0/31 [00:00<?, ?it/s]"
     ]
    },
    {
     "name": "stdout",
     "output_type": "stream",
     "text": [
      "Epoch: 66. Train Loss: 0.01515. Val Loss: 0.00952. Val DC LV: 0.90000. Val DC MYO: 0.77035.\n"
     ]
    },
    {
     "name": "stderr",
     "output_type": "stream",
     "text": [
      "100%|##########| 31/31 [00:08<00:00,  3.77it/s]\n",
      "100%|##########| 114/114 [00:01<00:00, 106.48it/s]\n",
      "  0%|          | 0/31 [00:00<?, ?it/s]"
     ]
    },
    {
     "name": "stdout",
     "output_type": "stream",
     "text": [
      "Epoch: 67. Train Loss: 0.01367. Val Loss: 0.00909. Val DC LV: 0.89660. Val DC MYO: 0.75475.\n"
     ]
    },
    {
     "name": "stderr",
     "output_type": "stream",
     "text": [
      "100%|##########| 31/31 [00:08<00:00,  3.75it/s]\n",
      "100%|##########| 114/114 [00:01<00:00, 107.22it/s]\n",
      "  0%|          | 0/31 [00:00<?, ?it/s]"
     ]
    },
    {
     "name": "stdout",
     "output_type": "stream",
     "text": [
      "Epoch: 68. Train Loss: 0.01377. Val Loss: 0.00933. Val DC LV: 0.88647. Val DC MYO: 0.76414.\n"
     ]
    },
    {
     "name": "stderr",
     "output_type": "stream",
     "text": [
      "100%|##########| 31/31 [00:08<00:00,  3.75it/s]\n",
      "100%|##########| 114/114 [00:01<00:00, 106.65it/s]\n",
      "  0%|          | 0/31 [00:00<?, ?it/s]"
     ]
    },
    {
     "name": "stdout",
     "output_type": "stream",
     "text": [
      "Epoch: 69. Train Loss: 0.01330. Val Loss: 0.00824. Val DC LV: 0.90735. Val DC MYO: 0.79880.\n"
     ]
    },
    {
     "name": "stderr",
     "output_type": "stream",
     "text": [
      "100%|##########| 31/31 [00:08<00:00,  3.76it/s]\n",
      "100%|##########| 114/114 [00:01<00:00, 107.03it/s]\n",
      "  0%|          | 0/31 [00:00<?, ?it/s]"
     ]
    },
    {
     "name": "stdout",
     "output_type": "stream",
     "text": [
      "Epoch: 70. Train Loss: 0.01280. Val Loss: 0.00958. Val DC LV: 0.89776. Val DC MYO: 0.79372.\n"
     ]
    },
    {
     "name": "stderr",
     "output_type": "stream",
     "text": [
      "100%|##########| 31/31 [00:08<00:00,  3.76it/s]\n",
      "100%|##########| 114/114 [00:01<00:00, 106.09it/s]\n",
      "  0%|          | 0/31 [00:00<?, ?it/s]"
     ]
    },
    {
     "name": "stdout",
     "output_type": "stream",
     "text": [
      "Epoch: 71. Train Loss: 0.01218. Val Loss: 0.00817. Val DC LV: 0.90841. Val DC MYO: 0.78422.\n"
     ]
    },
    {
     "name": "stderr",
     "output_type": "stream",
     "text": [
      "100%|##########| 31/31 [00:08<00:00,  3.76it/s]\n",
      "100%|##########| 114/114 [00:01<00:00, 105.93it/s]\n",
      "  0%|          | 0/31 [00:00<?, ?it/s]"
     ]
    },
    {
     "name": "stdout",
     "output_type": "stream",
     "text": [
      "Epoch: 72. Train Loss: 0.01295. Val Loss: 0.00973. Val DC LV: 0.90651. Val DC MYO: 0.78385.\n"
     ]
    },
    {
     "name": "stderr",
     "output_type": "stream",
     "text": [
      "100%|##########| 31/31 [00:08<00:00,  3.75it/s]\n",
      "100%|##########| 114/114 [00:01<00:00, 107.24it/s]\n",
      "  0%|          | 0/31 [00:00<?, ?it/s]"
     ]
    },
    {
     "name": "stdout",
     "output_type": "stream",
     "text": [
      "Epoch: 73. Train Loss: 0.01525. Val Loss: 0.01029. Val DC LV: 0.88399. Val DC MYO: 0.75961.\n"
     ]
    },
    {
     "name": "stderr",
     "output_type": "stream",
     "text": [
      "100%|##########| 31/31 [00:08<00:00,  3.74it/s]\n",
      "100%|##########| 114/114 [00:01<00:00, 106.60it/s]\n",
      "  0%|          | 0/31 [00:00<?, ?it/s]"
     ]
    },
    {
     "name": "stdout",
     "output_type": "stream",
     "text": [
      "Epoch: 74. Train Loss: 0.01323. Val Loss: 0.00942. Val DC LV: 0.89769. Val DC MYO: 0.77762.\n"
     ]
    },
    {
     "name": "stderr",
     "output_type": "stream",
     "text": [
      "100%|##########| 31/31 [00:08<00:00,  3.77it/s]\n",
      "100%|##########| 114/114 [00:01<00:00, 106.38it/s]\n",
      "  0%|          | 0/31 [00:00<?, ?it/s]"
     ]
    },
    {
     "name": "stdout",
     "output_type": "stream",
     "text": [
      "Epoch: 75. Train Loss: 0.01306. Val Loss: 0.00874. Val DC LV: 0.90432. Val DC MYO: 0.78500.\n"
     ]
    },
    {
     "name": "stderr",
     "output_type": "stream",
     "text": [
      "100%|##########| 31/31 [00:08<00:00,  3.77it/s]\n",
      "100%|##########| 114/114 [00:01<00:00, 106.64it/s]\n",
      "  0%|          | 0/31 [00:00<?, ?it/s]"
     ]
    },
    {
     "name": "stdout",
     "output_type": "stream",
     "text": [
      "Epoch: 76. Train Loss: 0.01458. Val Loss: 0.01004. Val DC LV: 0.88866. Val DC MYO: 0.73887.\n"
     ]
    },
    {
     "name": "stderr",
     "output_type": "stream",
     "text": [
      "100%|##########| 31/31 [00:08<00:00,  3.76it/s]\n",
      "100%|##########| 114/114 [00:01<00:00, 106.80it/s]\n",
      "  0%|          | 0/31 [00:00<?, ?it/s]"
     ]
    },
    {
     "name": "stdout",
     "output_type": "stream",
     "text": [
      "Epoch: 77. Train Loss: 0.01587. Val Loss: 0.00933. Val DC LV: 0.89335. Val DC MYO: 0.77691.\n"
     ]
    },
    {
     "name": "stderr",
     "output_type": "stream",
     "text": [
      "100%|##########| 31/31 [00:08<00:00,  3.75it/s]\n",
      "100%|##########| 114/114 [00:01<00:00, 107.50it/s]\n",
      "  0%|          | 0/31 [00:00<?, ?it/s]"
     ]
    },
    {
     "name": "stdout",
     "output_type": "stream",
     "text": [
      "Epoch: 78. Train Loss: 0.01306. Val Loss: 0.00787. Val DC LV: 0.91275. Val DC MYO: 0.80808.\n"
     ]
    },
    {
     "name": "stderr",
     "output_type": "stream",
     "text": [
      "100%|##########| 31/31 [00:08<00:00,  3.75it/s]\n",
      "100%|##########| 114/114 [00:01<00:00, 106.53it/s]\n",
      "  0%|          | 0/31 [00:00<?, ?it/s]"
     ]
    },
    {
     "name": "stdout",
     "output_type": "stream",
     "text": [
      "Epoch: 79. Train Loss: 0.01449. Val Loss: 0.00945. Val DC LV: 0.88634. Val DC MYO: 0.78249.\n"
     ]
    },
    {
     "name": "stderr",
     "output_type": "stream",
     "text": [
      "100%|##########| 31/31 [00:08<00:00,  3.75it/s]\n",
      "100%|##########| 114/114 [00:01<00:00, 107.24it/s]\n",
      "  0%|          | 0/31 [00:00<?, ?it/s]"
     ]
    },
    {
     "name": "stdout",
     "output_type": "stream",
     "text": [
      "Epoch: 80. Train Loss: 0.01293. Val Loss: 0.00757. Val DC LV: 0.91620. Val DC MYO: 0.80646.\n"
     ]
    },
    {
     "name": "stderr",
     "output_type": "stream",
     "text": [
      "100%|##########| 31/31 [00:08<00:00,  3.75it/s]\n",
      "100%|##########| 114/114 [00:01<00:00, 107.42it/s]\n",
      "  0%|          | 0/31 [00:00<?, ?it/s]"
     ]
    },
    {
     "name": "stdout",
     "output_type": "stream",
     "text": [
      "Epoch: 81. Train Loss: 0.01238. Val Loss: 0.00904. Val DC LV: 0.90602. Val DC MYO: 0.79085.\n"
     ]
    },
    {
     "name": "stderr",
     "output_type": "stream",
     "text": [
      "100%|##########| 31/31 [00:08<00:00,  3.74it/s]\n",
      "100%|##########| 114/114 [00:01<00:00, 106.45it/s]\n",
      "  0%|          | 0/31 [00:00<?, ?it/s]"
     ]
    },
    {
     "name": "stdout",
     "output_type": "stream",
     "text": [
      "Epoch: 82. Train Loss: 0.01156. Val Loss: 0.01042. Val DC LV: 0.90497. Val DC MYO: 0.76768.\n"
     ]
    },
    {
     "name": "stderr",
     "output_type": "stream",
     "text": [
      "100%|##########| 31/31 [00:08<00:00,  3.75it/s]\n",
      "100%|##########| 114/114 [00:01<00:00, 106.64it/s]\n",
      "  0%|          | 0/31 [00:00<?, ?it/s]"
     ]
    },
    {
     "name": "stdout",
     "output_type": "stream",
     "text": [
      "Epoch: 83. Train Loss: 0.01137. Val Loss: 0.00894. Val DC LV: 0.91401. Val DC MYO: 0.80584.\n"
     ]
    },
    {
     "name": "stderr",
     "output_type": "stream",
     "text": [
      "100%|##########| 31/31 [00:08<00:00,  3.75it/s]\n",
      "100%|##########| 114/114 [00:01<00:00, 106.15it/s]\n",
      "  0%|          | 0/31 [00:00<?, ?it/s]"
     ]
    },
    {
     "name": "stdout",
     "output_type": "stream",
     "text": [
      "Epoch: 84. Train Loss: 0.01043. Val Loss: 0.00795. Val DC LV: 0.90390. Val DC MYO: 0.81908.\n"
     ]
    },
    {
     "name": "stderr",
     "output_type": "stream",
     "text": [
      "100%|##########| 31/31 [00:08<00:00,  3.77it/s]\n",
      "100%|##########| 114/114 [00:01<00:00, 106.71it/s]\n",
      "  0%|          | 0/31 [00:00<?, ?it/s]"
     ]
    },
    {
     "name": "stdout",
     "output_type": "stream",
     "text": [
      "Epoch: 85. Train Loss: 0.01063. Val Loss: 0.00957. Val DC LV: 0.90033. Val DC MYO: 0.73597.\n"
     ]
    },
    {
     "name": "stderr",
     "output_type": "stream",
     "text": [
      "100%|##########| 31/31 [00:08<00:00,  3.76it/s]\n",
      "100%|##########| 114/114 [00:01<00:00, 107.08it/s]\n",
      "  0%|          | 0/31 [00:00<?, ?it/s]"
     ]
    },
    {
     "name": "stdout",
     "output_type": "stream",
     "text": [
      "Epoch: 86. Train Loss: 0.01253. Val Loss: 0.00830. Val DC LV: 0.91152. Val DC MYO: 0.80183.\n"
     ]
    },
    {
     "name": "stderr",
     "output_type": "stream",
     "text": [
      "100%|##########| 31/31 [00:08<00:00,  3.78it/s]\n",
      "100%|##########| 114/114 [00:01<00:00, 107.38it/s]\n",
      "  0%|          | 0/31 [00:00<?, ?it/s]"
     ]
    },
    {
     "name": "stdout",
     "output_type": "stream",
     "text": [
      "Epoch: 87. Train Loss: 0.01188. Val Loss: 0.00880. Val DC LV: 0.90812. Val DC MYO: 0.80346.\n"
     ]
    },
    {
     "name": "stderr",
     "output_type": "stream",
     "text": [
      "100%|##########| 31/31 [00:08<00:00,  3.75it/s]\n",
      "100%|##########| 114/114 [00:01<00:00, 106.98it/s]\n",
      "  0%|          | 0/31 [00:00<?, ?it/s]"
     ]
    },
    {
     "name": "stdout",
     "output_type": "stream",
     "text": [
      "Epoch: 88. Train Loss: 0.01488. Val Loss: 0.01179. Val DC LV: 0.89017. Val DC MYO: 0.77571.\n"
     ]
    },
    {
     "name": "stderr",
     "output_type": "stream",
     "text": [
      "100%|##########| 31/31 [00:08<00:00,  3.75it/s]\n",
      "100%|##########| 114/114 [00:01<00:00, 105.77it/s]\n",
      "  0%|          | 0/31 [00:00<?, ?it/s]"
     ]
    },
    {
     "name": "stdout",
     "output_type": "stream",
     "text": [
      "Epoch: 89. Train Loss: 0.01302. Val Loss: 0.00999. Val DC LV: 0.88417. Val DC MYO: 0.77362.\n"
     ]
    },
    {
     "name": "stderr",
     "output_type": "stream",
     "text": [
      "100%|##########| 31/31 [00:08<00:00,  3.77it/s]\n",
      "100%|##########| 114/114 [00:01<00:00, 107.36it/s]\n",
      "  0%|          | 0/31 [00:00<?, ?it/s]"
     ]
    },
    {
     "name": "stdout",
     "output_type": "stream",
     "text": [
      "Epoch: 90. Train Loss: 0.01383. Val Loss: 0.00874. Val DC LV: 0.91190. Val DC MYO: 0.78356.\n"
     ]
    },
    {
     "name": "stderr",
     "output_type": "stream",
     "text": [
      "100%|##########| 31/31 [00:08<00:00,  3.77it/s]\n",
      "100%|##########| 114/114 [00:01<00:00, 106.72it/s]\n",
      "  0%|          | 0/31 [00:00<?, ?it/s]"
     ]
    },
    {
     "name": "stdout",
     "output_type": "stream",
     "text": [
      "Epoch: 91. Train Loss: 0.01271. Val Loss: 0.00835. Val DC LV: 0.91464. Val DC MYO: 0.78309.\n"
     ]
    },
    {
     "name": "stderr",
     "output_type": "stream",
     "text": [
      "100%|##########| 31/31 [00:08<00:00,  3.75it/s]\n",
      "100%|##########| 114/114 [00:01<00:00, 106.12it/s]\n",
      "  0%|          | 0/31 [00:00<?, ?it/s]"
     ]
    },
    {
     "name": "stdout",
     "output_type": "stream",
     "text": [
      "Epoch: 92. Train Loss: 0.01396. Val Loss: 0.01244. Val DC LV: 0.86648. Val DC MYO: 0.74085.\n"
     ]
    },
    {
     "name": "stderr",
     "output_type": "stream",
     "text": [
      "100%|##########| 31/31 [00:08<00:00,  3.77it/s]\n",
      "100%|##########| 114/114 [00:01<00:00, 107.15it/s]\n",
      "  0%|          | 0/31 [00:00<?, ?it/s]"
     ]
    },
    {
     "name": "stdout",
     "output_type": "stream",
     "text": [
      "Epoch: 93. Train Loss: 0.01391. Val Loss: 0.00836. Val DC LV: 0.90507. Val DC MYO: 0.80595.\n"
     ]
    },
    {
     "name": "stderr",
     "output_type": "stream",
     "text": [
      "100%|##########| 31/31 [00:08<00:00,  3.77it/s]\n",
      "100%|##########| 114/114 [00:01<00:00, 107.31it/s]\n",
      "  0%|          | 0/31 [00:00<?, ?it/s]"
     ]
    },
    {
     "name": "stdout",
     "output_type": "stream",
     "text": [
      "Epoch: 94. Train Loss: 0.01308. Val Loss: 0.00853. Val DC LV: 0.90356. Val DC MYO: 0.81710.\n"
     ]
    },
    {
     "name": "stderr",
     "output_type": "stream",
     "text": [
      "100%|##########| 31/31 [00:08<00:00,  3.77it/s]\n",
      "100%|##########| 114/114 [00:01<00:00, 107.58it/s]\n",
      "  0%|          | 0/31 [00:00<?, ?it/s]"
     ]
    },
    {
     "name": "stdout",
     "output_type": "stream",
     "text": [
      "Epoch: 95. Train Loss: 0.01152. Val Loss: 0.01041. Val DC LV: 0.90002. Val DC MYO: 0.78998.\n"
     ]
    },
    {
     "name": "stderr",
     "output_type": "stream",
     "text": [
      "100%|##########| 31/31 [00:08<00:00,  3.77it/s]\n",
      "100%|##########| 114/114 [00:01<00:00, 106.74it/s]\n",
      "  0%|          | 0/31 [00:00<?, ?it/s]"
     ]
    },
    {
     "name": "stdout",
     "output_type": "stream",
     "text": [
      "Epoch: 96. Train Loss: 0.01244. Val Loss: 0.00764. Val DC LV: 0.91515. Val DC MYO: 0.80573.\n"
     ]
    },
    {
     "name": "stderr",
     "output_type": "stream",
     "text": [
      "100%|##########| 31/31 [00:08<00:00,  3.75it/s]\n",
      "100%|##########| 114/114 [00:01<00:00, 107.84it/s]\n",
      "  0%|          | 0/31 [00:00<?, ?it/s]"
     ]
    },
    {
     "name": "stdout",
     "output_type": "stream",
     "text": [
      "Epoch: 97. Train Loss: 0.01134. Val Loss: 0.00806. Val DC LV: 0.90535. Val DC MYO: 0.78130.\n"
     ]
    },
    {
     "name": "stderr",
     "output_type": "stream",
     "text": [
      "100%|##########| 31/31 [00:08<00:00,  3.75it/s]\n",
      "100%|##########| 114/114 [00:01<00:00, 106.22it/s]\n",
      "  0%|          | 0/31 [00:00<?, ?it/s]"
     ]
    },
    {
     "name": "stdout",
     "output_type": "stream",
     "text": [
      "Epoch: 98. Train Loss: 0.01110. Val Loss: 0.00796. Val DC LV: 0.89640. Val DC MYO: 0.81075.\n"
     ]
    },
    {
     "name": "stderr",
     "output_type": "stream",
     "text": [
      "100%|##########| 31/31 [00:08<00:00,  3.76it/s]\n",
      "100%|##########| 114/114 [00:01<00:00, 107.24it/s]\n",
      "  0%|          | 0/31 [00:00<?, ?it/s]"
     ]
    },
    {
     "name": "stdout",
     "output_type": "stream",
     "text": [
      "Epoch: 99. Train Loss: 0.01214. Val Loss: 0.00795. Val DC LV: 0.91072. Val DC MYO: 0.80995.\n"
     ]
    },
    {
     "name": "stderr",
     "output_type": "stream",
     "text": [
      "100%|##########| 31/31 [00:08<00:00,  3.77it/s]\n",
      "100%|##########| 114/114 [00:01<00:00, 107.05it/s]\n",
      "  0%|          | 0/31 [00:00<?, ?it/s]"
     ]
    },
    {
     "name": "stdout",
     "output_type": "stream",
     "text": [
      "Epoch: 100. Train Loss: 0.01138. Val Loss: 0.00809. Val DC LV: 0.91049. Val DC MYO: 0.77872.\n"
     ]
    },
    {
     "name": "stderr",
     "output_type": "stream",
     "text": [
      "100%|##########| 31/31 [00:08<00:00,  3.77it/s]\n",
      "100%|##########| 114/114 [00:01<00:00, 106.97it/s]\n",
      "  0%|          | 0/31 [00:00<?, ?it/s]"
     ]
    },
    {
     "name": "stdout",
     "output_type": "stream",
     "text": [
      "Epoch: 101. Train Loss: 0.01346. Val Loss: 0.00965. Val DC LV: 0.89757. Val DC MYO: 0.76808.\n"
     ]
    },
    {
     "name": "stderr",
     "output_type": "stream",
     "text": [
      "100%|##########| 31/31 [00:08<00:00,  3.75it/s]\n",
      "100%|##########| 114/114 [00:01<00:00, 104.94it/s]\n",
      "  0%|          | 0/31 [00:00<?, ?it/s]"
     ]
    },
    {
     "name": "stdout",
     "output_type": "stream",
     "text": [
      "Epoch: 102. Train Loss: 0.01143. Val Loss: 0.00835. Val DC LV: 0.90384. Val DC MYO: 0.80163.\n"
     ]
    },
    {
     "name": "stderr",
     "output_type": "stream",
     "text": [
      "100%|##########| 31/31 [00:08<00:00,  3.75it/s]\n",
      "100%|##########| 114/114 [00:01<00:00, 106.94it/s]\n",
      "  0%|          | 0/31 [00:00<?, ?it/s]"
     ]
    },
    {
     "name": "stdout",
     "output_type": "stream",
     "text": [
      "Epoch: 103. Train Loss: 0.01100. Val Loss: 0.00808. Val DC LV: 0.90523. Val DC MYO: 0.79609.\n"
     ]
    },
    {
     "name": "stderr",
     "output_type": "stream",
     "text": [
      "100%|##########| 31/31 [00:08<00:00,  3.77it/s]\n",
      "100%|##########| 114/114 [00:01<00:00, 107.05it/s]\n",
      "  0%|          | 0/31 [00:00<?, ?it/s]"
     ]
    },
    {
     "name": "stdout",
     "output_type": "stream",
     "text": [
      "Epoch: 104. Train Loss: 0.01253. Val Loss: 0.00995. Val DC LV: 0.90547. Val DC MYO: 0.79965.\n"
     ]
    },
    {
     "name": "stderr",
     "output_type": "stream",
     "text": [
      "100%|##########| 31/31 [00:08<00:00,  3.76it/s]\n",
      "100%|##########| 114/114 [00:01<00:00, 106.63it/s]\n",
      "  0%|          | 0/31 [00:00<?, ?it/s]"
     ]
    },
    {
     "name": "stdout",
     "output_type": "stream",
     "text": [
      "Epoch: 105. Train Loss: 0.01258. Val Loss: 0.00968. Val DC LV: 0.89388. Val DC MYO: 0.79469.\n"
     ]
    },
    {
     "name": "stderr",
     "output_type": "stream",
     "text": [
      "100%|##########| 31/31 [00:08<00:00,  3.75it/s]\n",
      "100%|##########| 114/114 [00:01<00:00, 106.52it/s]\n",
      "  0%|          | 0/31 [00:00<?, ?it/s]"
     ]
    },
    {
     "name": "stdout",
     "output_type": "stream",
     "text": [
      "Epoch: 106. Train Loss: 0.01175. Val Loss: 0.00980. Val DC LV: 0.89675. Val DC MYO: 0.78090.\n"
     ]
    },
    {
     "name": "stderr",
     "output_type": "stream",
     "text": [
      "100%|##########| 31/31 [00:08<00:00,  3.76it/s]\n",
      "100%|##########| 114/114 [00:01<00:00, 106.69it/s]\n",
      "  0%|          | 0/31 [00:00<?, ?it/s]"
     ]
    },
    {
     "name": "stdout",
     "output_type": "stream",
     "text": [
      "Epoch: 107. Train Loss: 0.01063. Val Loss: 0.00921. Val DC LV: 0.89879. Val DC MYO: 0.79138.\n"
     ]
    },
    {
     "name": "stderr",
     "output_type": "stream",
     "text": [
      "100%|##########| 31/31 [00:08<00:00,  3.76it/s]\n",
      "100%|##########| 114/114 [00:01<00:00, 107.38it/s]\n",
      "  0%|          | 0/31 [00:00<?, ?it/s]"
     ]
    },
    {
     "name": "stdout",
     "output_type": "stream",
     "text": [
      "Epoch: 108. Train Loss: 0.01055. Val Loss: 0.00872. Val DC LV: 0.91087. Val DC MYO: 0.79734.\n"
     ]
    },
    {
     "name": "stderr",
     "output_type": "stream",
     "text": [
      "100%|##########| 31/31 [00:08<00:00,  3.75it/s]\n",
      "100%|##########| 114/114 [00:01<00:00, 106.53it/s]\n",
      "  0%|          | 0/31 [00:00<?, ?it/s]"
     ]
    },
    {
     "name": "stdout",
     "output_type": "stream",
     "text": [
      "Epoch: 109. Train Loss: 0.01090. Val Loss: 0.00875. Val DC LV: 0.89254. Val DC MYO: 0.79017.\n"
     ]
    },
    {
     "name": "stderr",
     "output_type": "stream",
     "text": [
      "100%|##########| 31/31 [00:08<00:00,  3.75it/s]\n",
      "100%|##########| 114/114 [00:01<00:00, 107.44it/s]\n",
      "  0%|          | 0/31 [00:00<?, ?it/s]"
     ]
    },
    {
     "name": "stdout",
     "output_type": "stream",
     "text": [
      "Epoch: 110. Train Loss: 0.01104. Val Loss: 0.00913. Val DC LV: 0.88168. Val DC MYO: 0.77690.\n"
     ]
    },
    {
     "name": "stderr",
     "output_type": "stream",
     "text": [
      "100%|##########| 31/31 [00:08<00:00,  3.76it/s]\n",
      "100%|##########| 114/114 [00:01<00:00, 106.59it/s]\n",
      "  0%|          | 0/31 [00:00<?, ?it/s]"
     ]
    },
    {
     "name": "stdout",
     "output_type": "stream",
     "text": [
      "Epoch: 111. Train Loss: 0.01061. Val Loss: 0.00844. Val DC LV: 0.91252. Val DC MYO: 0.81768.\n"
     ]
    },
    {
     "name": "stderr",
     "output_type": "stream",
     "text": [
      "100%|##########| 31/31 [00:08<00:00,  3.73it/s]\n",
      "100%|##########| 114/114 [00:01<00:00, 106.96it/s]\n",
      "  0%|          | 0/31 [00:00<?, ?it/s]"
     ]
    },
    {
     "name": "stdout",
     "output_type": "stream",
     "text": [
      "Epoch: 112. Train Loss: 0.01071. Val Loss: 0.00854. Val DC LV: 0.91131. Val DC MYO: 0.80716.\n"
     ]
    },
    {
     "name": "stderr",
     "output_type": "stream",
     "text": [
      "100%|##########| 31/31 [00:08<00:00,  3.76it/s]\n",
      "100%|##########| 114/114 [00:01<00:00, 106.33it/s]\n",
      "  0%|          | 0/31 [00:00<?, ?it/s]"
     ]
    },
    {
     "name": "stdout",
     "output_type": "stream",
     "text": [
      "Epoch: 113. Train Loss: 0.01286. Val Loss: 0.01085. Val DC LV: 0.90853. Val DC MYO: 0.80629.\n"
     ]
    },
    {
     "name": "stderr",
     "output_type": "stream",
     "text": [
      "100%|##########| 31/31 [00:08<00:00,  3.77it/s]\n",
      "100%|##########| 114/114 [00:01<00:00, 106.64it/s]\n",
      "  0%|          | 0/31 [00:00<?, ?it/s]"
     ]
    },
    {
     "name": "stdout",
     "output_type": "stream",
     "text": [
      "Epoch: 114. Train Loss: 0.01070. Val Loss: 0.00963. Val DC LV: 0.88954. Val DC MYO: 0.80183.\n"
     ]
    },
    {
     "name": "stderr",
     "output_type": "stream",
     "text": [
      "100%|##########| 31/31 [00:08<00:00,  3.77it/s]\n",
      "100%|##########| 114/114 [00:01<00:00, 106.61it/s]\n",
      "  0%|          | 0/31 [00:00<?, ?it/s]"
     ]
    },
    {
     "name": "stdout",
     "output_type": "stream",
     "text": [
      "Epoch: 115. Train Loss: 0.01249. Val Loss: 0.00948. Val DC LV: 0.91020. Val DC MYO: 0.80210.\n"
     ]
    },
    {
     "name": "stderr",
     "output_type": "stream",
     "text": [
      "100%|##########| 31/31 [00:08<00:00,  3.75it/s]\n",
      "100%|##########| 114/114 [00:01<00:00, 106.89it/s]\n",
      "  0%|          | 0/31 [00:00<?, ?it/s]"
     ]
    },
    {
     "name": "stdout",
     "output_type": "stream",
     "text": [
      "Epoch: 116. Train Loss: 0.01183. Val Loss: 0.00865. Val DC LV: 0.90651. Val DC MYO: 0.80484.\n"
     ]
    },
    {
     "name": "stderr",
     "output_type": "stream",
     "text": [
      "100%|##########| 31/31 [00:08<00:00,  3.76it/s]\n",
      "100%|##########| 114/114 [00:01<00:00, 107.09it/s]\n",
      "  0%|          | 0/31 [00:00<?, ?it/s]"
     ]
    },
    {
     "name": "stdout",
     "output_type": "stream",
     "text": [
      "Epoch: 117. Train Loss: 0.01083. Val Loss: 0.01124. Val DC LV: 0.90212. Val DC MYO: 0.80852.\n"
     ]
    },
    {
     "name": "stderr",
     "output_type": "stream",
     "text": [
      "100%|##########| 31/31 [00:08<00:00,  3.77it/s]\n",
      "100%|##########| 114/114 [00:01<00:00, 106.98it/s]\n",
      "  0%|          | 0/31 [00:00<?, ?it/s]"
     ]
    },
    {
     "name": "stdout",
     "output_type": "stream",
     "text": [
      "Epoch: 118. Train Loss: 0.00925. Val Loss: 0.00846. Val DC LV: 0.89465. Val DC MYO: 0.79510.\n"
     ]
    },
    {
     "name": "stderr",
     "output_type": "stream",
     "text": [
      "100%|##########| 31/31 [00:08<00:00,  3.77it/s]\n",
      "100%|##########| 114/114 [00:01<00:00, 107.17it/s]\n",
      "  0%|          | 0/31 [00:00<?, ?it/s]"
     ]
    },
    {
     "name": "stdout",
     "output_type": "stream",
     "text": [
      "Epoch: 119. Train Loss: 0.00997. Val Loss: 0.01059. Val DC LV: 0.89949. Val DC MYO: 0.79037.\n"
     ]
    },
    {
     "name": "stderr",
     "output_type": "stream",
     "text": [
      "100%|##########| 31/31 [00:08<00:00,  3.77it/s]\n",
      "100%|##########| 114/114 [00:01<00:00, 107.22it/s]\n",
      "  0%|          | 0/31 [00:00<?, ?it/s]"
     ]
    },
    {
     "name": "stdout",
     "output_type": "stream",
     "text": [
      "Epoch: 120. Train Loss: 0.01114. Val Loss: 0.01092. Val DC LV: 0.90168. Val DC MYO: 0.78288.\n"
     ]
    },
    {
     "name": "stderr",
     "output_type": "stream",
     "text": [
      "100%|##########| 31/31 [00:08<00:00,  3.76it/s]\n",
      "100%|##########| 114/114 [00:01<00:00, 107.49it/s]\n",
      "  0%|          | 0/31 [00:00<?, ?it/s]"
     ]
    },
    {
     "name": "stdout",
     "output_type": "stream",
     "text": [
      "Epoch: 121. Train Loss: 0.01099. Val Loss: 0.00938. Val DC LV: 0.90613. Val DC MYO: 0.81191.\n"
     ]
    },
    {
     "name": "stderr",
     "output_type": "stream",
     "text": [
      "100%|##########| 31/31 [00:08<00:00,  3.76it/s]\n",
      "100%|##########| 114/114 [00:01<00:00, 106.56it/s]\n",
      "  0%|          | 0/31 [00:00<?, ?it/s]"
     ]
    },
    {
     "name": "stdout",
     "output_type": "stream",
     "text": [
      "Epoch: 122. Train Loss: 0.01117. Val Loss: 0.00805. Val DC LV: 0.89748. Val DC MYO: 0.78894.\n"
     ]
    },
    {
     "name": "stderr",
     "output_type": "stream",
     "text": [
      "100%|##########| 31/31 [00:08<00:00,  3.76it/s]\n",
      "100%|##########| 114/114 [00:01<00:00, 105.43it/s]\n",
      "  0%|          | 0/31 [00:00<?, ?it/s]"
     ]
    },
    {
     "name": "stdout",
     "output_type": "stream",
     "text": [
      "Epoch: 123. Train Loss: 0.01010. Val Loss: 0.00894. Val DC LV: 0.89359. Val DC MYO: 0.80590.\n"
     ]
    },
    {
     "name": "stderr",
     "output_type": "stream",
     "text": [
      "100%|##########| 31/31 [00:08<00:00,  3.77it/s]\n",
      "100%|##########| 114/114 [00:01<00:00, 106.61it/s]\n",
      "  0%|          | 0/31 [00:00<?, ?it/s]"
     ]
    },
    {
     "name": "stdout",
     "output_type": "stream",
     "text": [
      "Epoch: 124. Train Loss: 0.01346. Val Loss: 0.00965. Val DC LV: 0.88496. Val DC MYO: 0.75858.\n"
     ]
    },
    {
     "name": "stderr",
     "output_type": "stream",
     "text": [
      "100%|##########| 31/31 [00:08<00:00,  3.77it/s]\n",
      "100%|##########| 114/114 [00:01<00:00, 107.02it/s]\n",
      "  0%|          | 0/31 [00:00<?, ?it/s]"
     ]
    },
    {
     "name": "stdout",
     "output_type": "stream",
     "text": [
      "Epoch: 125. Train Loss: 0.01189. Val Loss: 0.00898. Val DC LV: 0.91076. Val DC MYO: 0.81704.\n"
     ]
    },
    {
     "name": "stderr",
     "output_type": "stream",
     "text": [
      "100%|##########| 31/31 [00:08<00:00,  3.75it/s]\n",
      "100%|##########| 114/114 [00:01<00:00, 107.18it/s]\n",
      "  0%|          | 0/31 [00:00<?, ?it/s]"
     ]
    },
    {
     "name": "stdout",
     "output_type": "stream",
     "text": [
      "Epoch: 126. Train Loss: 0.01232. Val Loss: 0.01131. Val DC LV: 0.86274. Val DC MYO: 0.78154.\n"
     ]
    },
    {
     "name": "stderr",
     "output_type": "stream",
     "text": [
      "100%|##########| 31/31 [00:08<00:00,  3.76it/s]\n",
      "100%|##########| 114/114 [00:01<00:00, 105.33it/s]\n",
      "  0%|          | 0/31 [00:00<?, ?it/s]"
     ]
    },
    {
     "name": "stdout",
     "output_type": "stream",
     "text": [
      "Epoch: 127. Train Loss: 0.01365. Val Loss: 0.00882. Val DC LV: 0.90522. Val DC MYO: 0.80530.\n"
     ]
    },
    {
     "name": "stderr",
     "output_type": "stream",
     "text": [
      "100%|##########| 31/31 [00:08<00:00,  3.77it/s]\n",
      "100%|##########| 114/114 [00:01<00:00, 106.72it/s]\n",
      "  0%|          | 0/31 [00:00<?, ?it/s]"
     ]
    },
    {
     "name": "stdout",
     "output_type": "stream",
     "text": [
      "Epoch: 128. Train Loss: 0.01185. Val Loss: 0.00765. Val DC LV: 0.91634. Val DC MYO: 0.81597.\n"
     ]
    },
    {
     "name": "stderr",
     "output_type": "stream",
     "text": [
      "100%|##########| 31/31 [00:08<00:00,  3.74it/s]\n",
      "100%|##########| 114/114 [00:01<00:00, 106.99it/s]\n",
      "  0%|          | 0/31 [00:00<?, ?it/s]"
     ]
    },
    {
     "name": "stdout",
     "output_type": "stream",
     "text": [
      "Epoch: 129. Train Loss: 0.01062. Val Loss: 0.00879. Val DC LV: 0.90071. Val DC MYO: 0.80764.\n"
     ]
    },
    {
     "name": "stderr",
     "output_type": "stream",
     "text": [
      "100%|##########| 31/31 [00:08<00:00,  3.76it/s]\n",
      "100%|##########| 114/114 [00:01<00:00, 107.43it/s]\n",
      "  0%|          | 0/31 [00:00<?, ?it/s]"
     ]
    },
    {
     "name": "stdout",
     "output_type": "stream",
     "text": [
      "Epoch: 130. Train Loss: 0.01077. Val Loss: 0.00834. Val DC LV: 0.90498. Val DC MYO: 0.80877.\n"
     ]
    },
    {
     "name": "stderr",
     "output_type": "stream",
     "text": [
      "100%|##########| 31/31 [00:08<00:00,  3.77it/s]\n",
      "100%|##########| 114/114 [00:01<00:00, 106.75it/s]\n",
      "  0%|          | 0/31 [00:00<?, ?it/s]"
     ]
    },
    {
     "name": "stdout",
     "output_type": "stream",
     "text": [
      "Epoch: 131. Train Loss: 0.01055. Val Loss: 0.00807. Val DC LV: 0.91307. Val DC MYO: 0.81959.\n"
     ]
    },
    {
     "name": "stderr",
     "output_type": "stream",
     "text": [
      "100%|##########| 31/31 [00:08<00:00,  3.77it/s]\n",
      "100%|##########| 114/114 [00:01<00:00, 106.04it/s]\n",
      "  0%|          | 0/31 [00:00<?, ?it/s]"
     ]
    },
    {
     "name": "stdout",
     "output_type": "stream",
     "text": [
      "Epoch: 132. Train Loss: 0.01065. Val Loss: 0.01010. Val DC LV: 0.90126. Val DC MYO: 0.79830.\n"
     ]
    },
    {
     "name": "stderr",
     "output_type": "stream",
     "text": [
      "100%|##########| 31/31 [00:08<00:00,  3.77it/s]\n",
      "100%|##########| 114/114 [00:01<00:00, 105.80it/s]\n",
      "  0%|          | 0/31 [00:00<?, ?it/s]"
     ]
    },
    {
     "name": "stdout",
     "output_type": "stream",
     "text": [
      "Epoch: 133. Train Loss: 0.01097. Val Loss: 0.00782. Val DC LV: 0.91343. Val DC MYO: 0.82376.\n"
     ]
    },
    {
     "name": "stderr",
     "output_type": "stream",
     "text": [
      "100%|##########| 31/31 [00:08<00:00,  3.76it/s]\n",
      "100%|##########| 114/114 [00:01<00:00, 106.00it/s]\n",
      "  0%|          | 0/31 [00:00<?, ?it/s]"
     ]
    },
    {
     "name": "stdout",
     "output_type": "stream",
     "text": [
      "Epoch: 134. Train Loss: 0.01033. Val Loss: 0.00849. Val DC LV: 0.90584. Val DC MYO: 0.81490.\n"
     ]
    },
    {
     "name": "stderr",
     "output_type": "stream",
     "text": [
      "100%|##########| 31/31 [00:08<00:00,  3.75it/s]\n",
      "100%|##########| 114/114 [00:01<00:00, 106.30it/s]\n",
      "  0%|          | 0/31 [00:00<?, ?it/s]"
     ]
    },
    {
     "name": "stdout",
     "output_type": "stream",
     "text": [
      "Epoch: 135. Train Loss: 0.01034. Val Loss: 0.00751. Val DC LV: 0.91321. Val DC MYO: 0.81291.\n"
     ]
    },
    {
     "name": "stderr",
     "output_type": "stream",
     "text": [
      "100%|##########| 31/31 [00:08<00:00,  3.75it/s]\n",
      "100%|##########| 114/114 [00:01<00:00, 106.74it/s]\n",
      "  0%|          | 0/31 [00:00<?, ?it/s]"
     ]
    },
    {
     "name": "stdout",
     "output_type": "stream",
     "text": [
      "Epoch: 136. Train Loss: 0.01047. Val Loss: 0.00740. Val DC LV: 0.91726. Val DC MYO: 0.80965.\n"
     ]
    },
    {
     "name": "stderr",
     "output_type": "stream",
     "text": [
      "100%|##########| 31/31 [00:08<00:00,  3.76it/s]\n",
      "100%|##########| 114/114 [00:01<00:00, 106.92it/s]\n",
      "  0%|          | 0/31 [00:00<?, ?it/s]"
     ]
    },
    {
     "name": "stdout",
     "output_type": "stream",
     "text": [
      "Epoch: 137. Train Loss: 0.01186. Val Loss: 0.00744. Val DC LV: 0.91100. Val DC MYO: 0.81134.\n"
     ]
    },
    {
     "name": "stderr",
     "output_type": "stream",
     "text": [
      "100%|##########| 31/31 [00:08<00:00,  3.77it/s]\n",
      "100%|##########| 114/114 [00:01<00:00, 106.45it/s]\n",
      "  0%|          | 0/31 [00:00<?, ?it/s]"
     ]
    },
    {
     "name": "stdout",
     "output_type": "stream",
     "text": [
      "Epoch: 138. Train Loss: 0.00928. Val Loss: 0.00749. Val DC LV: 0.91563. Val DC MYO: 0.81758.\n"
     ]
    },
    {
     "name": "stderr",
     "output_type": "stream",
     "text": [
      "100%|##########| 31/31 [00:08<00:00,  3.75it/s]\n",
      "100%|##########| 114/114 [00:01<00:00, 106.83it/s]\n",
      "  0%|          | 0/31 [00:00<?, ?it/s]"
     ]
    },
    {
     "name": "stdout",
     "output_type": "stream",
     "text": [
      "Epoch: 139. Train Loss: 0.00971. Val Loss: 0.00796. Val DC LV: 0.90866. Val DC MYO: 0.80964.\n"
     ]
    },
    {
     "name": "stderr",
     "output_type": "stream",
     "text": [
      "100%|##########| 31/31 [00:08<00:00,  3.77it/s]\n",
      "100%|##########| 114/114 [00:01<00:00, 106.60it/s]\n",
      "  0%|          | 0/31 [00:00<?, ?it/s]"
     ]
    },
    {
     "name": "stdout",
     "output_type": "stream",
     "text": [
      "Epoch: 140. Train Loss: 0.00897. Val Loss: 0.00723. Val DC LV: 0.91537. Val DC MYO: 0.81435.\n"
     ]
    },
    {
     "name": "stderr",
     "output_type": "stream",
     "text": [
      "100%|##########| 31/31 [00:08<00:00,  3.74it/s]\n",
      "100%|##########| 114/114 [00:01<00:00, 105.77it/s]\n",
      "  0%|          | 0/31 [00:00<?, ?it/s]"
     ]
    },
    {
     "name": "stdout",
     "output_type": "stream",
     "text": [
      "Epoch: 141. Train Loss: 0.01039. Val Loss: 0.00742. Val DC LV: 0.91469. Val DC MYO: 0.82126.\n"
     ]
    },
    {
     "name": "stderr",
     "output_type": "stream",
     "text": [
      "100%|##########| 31/31 [00:08<00:00,  3.77it/s]\n",
      "100%|##########| 114/114 [00:01<00:00, 107.43it/s]\n",
      "  0%|          | 0/31 [00:00<?, ?it/s]"
     ]
    },
    {
     "name": "stdout",
     "output_type": "stream",
     "text": [
      "Epoch: 142. Train Loss: 0.01081. Val Loss: 0.00752. Val DC LV: 0.91461. Val DC MYO: 0.80295.\n"
     ]
    },
    {
     "name": "stderr",
     "output_type": "stream",
     "text": [
      "100%|##########| 31/31 [00:08<00:00,  3.76it/s]\n",
      "100%|##########| 114/114 [00:01<00:00, 106.90it/s]\n",
      "  0%|          | 0/31 [00:00<?, ?it/s]"
     ]
    },
    {
     "name": "stdout",
     "output_type": "stream",
     "text": [
      "Epoch: 143. Train Loss: 0.01138. Val Loss: 0.00802. Val DC LV: 0.91074. Val DC MYO: 0.81487.\n"
     ]
    },
    {
     "name": "stderr",
     "output_type": "stream",
     "text": [
      "100%|##########| 31/31 [00:08<00:00,  3.77it/s]\n",
      "100%|##########| 114/114 [00:01<00:00, 106.32it/s]\n",
      "  0%|          | 0/31 [00:00<?, ?it/s]"
     ]
    },
    {
     "name": "stdout",
     "output_type": "stream",
     "text": [
      "Epoch: 144. Train Loss: 0.01208. Val Loss: 0.00766. Val DC LV: 0.91221. Val DC MYO: 0.79783.\n"
     ]
    },
    {
     "name": "stderr",
     "output_type": "stream",
     "text": [
      "100%|##########| 31/31 [00:08<00:00,  3.75it/s]\n",
      "100%|##########| 114/114 [00:01<00:00, 106.12it/s]\n",
      "  0%|          | 0/31 [00:00<?, ?it/s]"
     ]
    },
    {
     "name": "stdout",
     "output_type": "stream",
     "text": [
      "Epoch: 145. Train Loss: 0.01156. Val Loss: 0.00874. Val DC LV: 0.89857. Val DC MYO: 0.79531.\n"
     ]
    },
    {
     "name": "stderr",
     "output_type": "stream",
     "text": [
      "100%|##########| 31/31 [00:08<00:00,  3.74it/s]\n",
      "100%|##########| 114/114 [00:01<00:00, 107.02it/s]\n",
      "  0%|          | 0/31 [00:00<?, ?it/s]"
     ]
    },
    {
     "name": "stdout",
     "output_type": "stream",
     "text": [
      "Epoch: 146. Train Loss: 0.01355. Val Loss: 0.01077. Val DC LV: 0.89720. Val DC MYO: 0.78192.\n"
     ]
    },
    {
     "name": "stderr",
     "output_type": "stream",
     "text": [
      "100%|##########| 31/31 [00:08<00:00,  3.77it/s]\n",
      "100%|##########| 114/114 [00:01<00:00, 107.58it/s]\n",
      "  0%|          | 0/31 [00:00<?, ?it/s]"
     ]
    },
    {
     "name": "stdout",
     "output_type": "stream",
     "text": [
      "Epoch: 147. Train Loss: 0.01094. Val Loss: 0.00835. Val DC LV: 0.90615. Val DC MYO: 0.80701.\n"
     ]
    },
    {
     "name": "stderr",
     "output_type": "stream",
     "text": [
      "100%|##########| 31/31 [00:08<00:00,  3.77it/s]\n",
      "100%|##########| 114/114 [00:01<00:00, 106.71it/s]\n",
      "  0%|          | 0/31 [00:00<?, ?it/s]"
     ]
    },
    {
     "name": "stdout",
     "output_type": "stream",
     "text": [
      "Epoch: 148. Train Loss: 0.01070. Val Loss: 0.00728. Val DC LV: 0.91672. Val DC MYO: 0.81436.\n"
     ]
    },
    {
     "name": "stderr",
     "output_type": "stream",
     "text": [
      "100%|##########| 31/31 [00:08<00:00,  3.76it/s]\n",
      "100%|##########| 114/114 [00:01<00:00, 107.24it/s]\n",
      "  0%|          | 0/31 [00:00<?, ?it/s]"
     ]
    },
    {
     "name": "stdout",
     "output_type": "stream",
     "text": [
      "Epoch: 149. Train Loss: 0.01198. Val Loss: 0.00963. Val DC LV: 0.87421. Val DC MYO: 0.78279.\n"
     ]
    },
    {
     "name": "stderr",
     "output_type": "stream",
     "text": [
      "100%|##########| 31/31 [00:08<00:00,  3.74it/s]\n",
      "100%|##########| 114/114 [00:01<00:00, 107.38it/s]\n",
      "  0%|          | 0/31 [00:00<?, ?it/s]"
     ]
    },
    {
     "name": "stdout",
     "output_type": "stream",
     "text": [
      "Epoch: 150. Train Loss: 0.01091. Val Loss: 0.00715. Val DC LV: 0.92329. Val DC MYO: 0.82580.\n"
     ]
    },
    {
     "name": "stderr",
     "output_type": "stream",
     "text": [
      "100%|##########| 31/31 [00:08<00:00,  3.74it/s]\n",
      "100%|##########| 114/114 [00:01<00:00, 106.87it/s]\n",
      "  0%|          | 0/31 [00:00<?, ?it/s]"
     ]
    },
    {
     "name": "stdout",
     "output_type": "stream",
     "text": [
      "Epoch: 151. Train Loss: 0.00945. Val Loss: 0.00767. Val DC LV: 0.90067. Val DC MYO: 0.80933.\n"
     ]
    },
    {
     "name": "stderr",
     "output_type": "stream",
     "text": [
      "100%|##########| 31/31 [00:08<00:00,  3.77it/s]\n",
      "100%|##########| 114/114 [00:01<00:00, 106.44it/s]\n",
      "  0%|          | 0/31 [00:00<?, ?it/s]"
     ]
    },
    {
     "name": "stdout",
     "output_type": "stream",
     "text": [
      "Epoch: 152. Train Loss: 0.00954. Val Loss: 0.00697. Val DC LV: 0.91945. Val DC MYO: 0.83019.\n"
     ]
    },
    {
     "name": "stderr",
     "output_type": "stream",
     "text": [
      "100%|##########| 31/31 [00:08<00:00,  3.76it/s]\n",
      "100%|##########| 114/114 [00:01<00:00, 106.51it/s]\n",
      "  0%|          | 0/31 [00:00<?, ?it/s]"
     ]
    },
    {
     "name": "stdout",
     "output_type": "stream",
     "text": [
      "Epoch: 153. Train Loss: 0.01065. Val Loss: 0.00736. Val DC LV: 0.91435. Val DC MYO: 0.82313.\n"
     ]
    },
    {
     "name": "stderr",
     "output_type": "stream",
     "text": [
      "100%|##########| 31/31 [00:08<00:00,  3.75it/s]\n",
      "100%|##########| 114/114 [00:01<00:00, 106.99it/s]\n",
      "  0%|          | 0/31 [00:00<?, ?it/s]"
     ]
    },
    {
     "name": "stdout",
     "output_type": "stream",
     "text": [
      "Epoch: 154. Train Loss: 0.01013. Val Loss: 0.00860. Val DC LV: 0.91382. Val DC MYO: 0.82377.\n"
     ]
    },
    {
     "name": "stderr",
     "output_type": "stream",
     "text": [
      "100%|##########| 31/31 [00:08<00:00,  3.75it/s]\n",
      "100%|##########| 114/114 [00:01<00:00, 106.97it/s]\n",
      "  0%|          | 0/31 [00:00<?, ?it/s]"
     ]
    },
    {
     "name": "stdout",
     "output_type": "stream",
     "text": [
      "Epoch: 155. Train Loss: 0.01251. Val Loss: 0.00969. Val DC LV: 0.89136. Val DC MYO: 0.76849.\n"
     ]
    },
    {
     "name": "stderr",
     "output_type": "stream",
     "text": [
      "100%|##########| 31/31 [00:08<00:00,  3.76it/s]\n",
      "100%|##########| 114/114 [00:01<00:00, 106.85it/s]\n",
      "  0%|          | 0/31 [00:00<?, ?it/s]"
     ]
    },
    {
     "name": "stdout",
     "output_type": "stream",
     "text": [
      "Epoch: 156. Train Loss: 0.01170. Val Loss: 0.00742. Val DC LV: 0.91355. Val DC MYO: 0.79966.\n"
     ]
    },
    {
     "name": "stderr",
     "output_type": "stream",
     "text": [
      "100%|##########| 31/31 [00:08<00:00,  3.77it/s]\n",
      "100%|##########| 114/114 [00:01<00:00, 107.12it/s]\n",
      "  0%|          | 0/31 [00:00<?, ?it/s]"
     ]
    },
    {
     "name": "stdout",
     "output_type": "stream",
     "text": [
      "Epoch: 157. Train Loss: 0.01072. Val Loss: 0.00841. Val DC LV: 0.90958. Val DC MYO: 0.77926.\n"
     ]
    },
    {
     "name": "stderr",
     "output_type": "stream",
     "text": [
      "100%|##########| 31/31 [00:08<00:00,  3.76it/s]\n",
      "100%|##########| 114/114 [00:01<00:00, 107.28it/s]\n",
      "  0%|          | 0/31 [00:00<?, ?it/s]"
     ]
    },
    {
     "name": "stdout",
     "output_type": "stream",
     "text": [
      "Epoch: 158. Train Loss: 0.01264. Val Loss: 0.00839. Val DC LV: 0.89651. Val DC MYO: 0.81059.\n"
     ]
    },
    {
     "name": "stderr",
     "output_type": "stream",
     "text": [
      "100%|##########| 31/31 [00:08<00:00,  3.76it/s]\n",
      "100%|##########| 114/114 [00:01<00:00, 106.76it/s]\n",
      "  0%|          | 0/31 [00:00<?, ?it/s]"
     ]
    },
    {
     "name": "stdout",
     "output_type": "stream",
     "text": [
      "Epoch: 159. Train Loss: 0.01001. Val Loss: 0.00770. Val DC LV: 0.90923. Val DC MYO: 0.81053.\n"
     ]
    },
    {
     "name": "stderr",
     "output_type": "stream",
     "text": [
      "100%|##########| 31/31 [00:08<00:00,  3.75it/s]\n",
      "100%|##########| 114/114 [00:01<00:00, 106.30it/s]\n",
      "  0%|          | 0/31 [00:00<?, ?it/s]"
     ]
    },
    {
     "name": "stdout",
     "output_type": "stream",
     "text": [
      "Epoch: 160. Train Loss: 0.00976. Val Loss: 0.00781. Val DC LV: 0.90623. Val DC MYO: 0.81251.\n"
     ]
    },
    {
     "name": "stderr",
     "output_type": "stream",
     "text": [
      "100%|##########| 31/31 [00:08<00:00,  3.74it/s]\n",
      "100%|##########| 114/114 [00:01<00:00, 105.31it/s]\n",
      "  0%|          | 0/31 [00:00<?, ?it/s]"
     ]
    },
    {
     "name": "stdout",
     "output_type": "stream",
     "text": [
      "Epoch: 161. Train Loss: 0.00989. Val Loss: 0.00786. Val DC LV: 0.90877. Val DC MYO: 0.80310.\n"
     ]
    },
    {
     "name": "stderr",
     "output_type": "stream",
     "text": [
      "100%|##########| 31/31 [00:08<00:00,  3.77it/s]\n",
      "100%|##########| 114/114 [00:01<00:00, 106.92it/s]\n",
      "  0%|          | 0/31 [00:00<?, ?it/s]"
     ]
    },
    {
     "name": "stdout",
     "output_type": "stream",
     "text": [
      "Epoch: 162. Train Loss: 0.00896. Val Loss: 0.00765. Val DC LV: 0.90554. Val DC MYO: 0.78791.\n"
     ]
    },
    {
     "name": "stderr",
     "output_type": "stream",
     "text": [
      "100%|##########| 31/31 [00:08<00:00,  3.76it/s]\n",
      "100%|##########| 114/114 [00:01<00:00, 107.35it/s]\n",
      "  0%|          | 0/31 [00:00<?, ?it/s]"
     ]
    },
    {
     "name": "stdout",
     "output_type": "stream",
     "text": [
      "Epoch: 163. Train Loss: 0.00965. Val Loss: 0.00748. Val DC LV: 0.90655. Val DC MYO: 0.80597.\n"
     ]
    },
    {
     "name": "stderr",
     "output_type": "stream",
     "text": [
      "100%|##########| 31/31 [00:08<00:00,  3.74it/s]\n",
      "100%|##########| 114/114 [00:01<00:00, 106.57it/s]\n",
      "  0%|          | 0/31 [00:00<?, ?it/s]"
     ]
    },
    {
     "name": "stdout",
     "output_type": "stream",
     "text": [
      "Epoch: 164. Train Loss: 0.01004. Val Loss: 0.00752. Val DC LV: 0.90892. Val DC MYO: 0.80780.\n"
     ]
    },
    {
     "name": "stderr",
     "output_type": "stream",
     "text": [
      "100%|##########| 31/31 [00:08<00:00,  3.74it/s]\n",
      "100%|##########| 114/114 [00:01<00:00, 106.94it/s]\n",
      "  0%|          | 0/31 [00:00<?, ?it/s]"
     ]
    },
    {
     "name": "stdout",
     "output_type": "stream",
     "text": [
      "Epoch: 165. Train Loss: 0.01052. Val Loss: 0.00815. Val DC LV: 0.90621. Val DC MYO: 0.81137.\n"
     ]
    },
    {
     "name": "stderr",
     "output_type": "stream",
     "text": [
      "100%|##########| 31/31 [00:08<00:00,  3.75it/s]\n",
      "100%|##########| 114/114 [00:01<00:00, 105.62it/s]\n",
      "  0%|          | 0/31 [00:00<?, ?it/s]"
     ]
    },
    {
     "name": "stdout",
     "output_type": "stream",
     "text": [
      "Epoch: 166. Train Loss: 0.01005. Val Loss: 0.00772. Val DC LV: 0.90358. Val DC MYO: 0.81294.\n"
     ]
    },
    {
     "name": "stderr",
     "output_type": "stream",
     "text": [
      "100%|##########| 31/31 [00:08<00:00,  3.77it/s]\n",
      "100%|##########| 114/114 [00:01<00:00, 107.44it/s]\n",
      "  0%|          | 0/31 [00:00<?, ?it/s]"
     ]
    },
    {
     "name": "stdout",
     "output_type": "stream",
     "text": [
      "Epoch: 167. Train Loss: 0.01103. Val Loss: 0.00975. Val DC LV: 0.90099. Val DC MYO: 0.80839.\n"
     ]
    },
    {
     "name": "stderr",
     "output_type": "stream",
     "text": [
      "100%|##########| 31/31 [00:08<00:00,  3.76it/s]\n",
      "100%|##########| 114/114 [00:01<00:00, 107.02it/s]\n",
      "  0%|          | 0/31 [00:00<?, ?it/s]"
     ]
    },
    {
     "name": "stdout",
     "output_type": "stream",
     "text": [
      "Epoch: 168. Train Loss: 0.00998. Val Loss: 0.00789. Val DC LV: 0.90635. Val DC MYO: 0.82128.\n"
     ]
    },
    {
     "name": "stderr",
     "output_type": "stream",
     "text": [
      "100%|##########| 31/31 [00:08<00:00,  3.76it/s]\n",
      "100%|##########| 114/114 [00:01<00:00, 107.37it/s]\n",
      "  0%|          | 0/31 [00:00<?, ?it/s]"
     ]
    },
    {
     "name": "stdout",
     "output_type": "stream",
     "text": [
      "Epoch: 169. Train Loss: 0.00777. Val Loss: 0.00837. Val DC LV: 0.89980. Val DC MYO: 0.81515.\n"
     ]
    },
    {
     "name": "stderr",
     "output_type": "stream",
     "text": [
      "100%|##########| 31/31 [00:08<00:00,  3.76it/s]\n",
      "100%|##########| 114/114 [00:01<00:00, 107.26it/s]\n",
      "  0%|          | 0/31 [00:00<?, ?it/s]"
     ]
    },
    {
     "name": "stdout",
     "output_type": "stream",
     "text": [
      "Epoch: 170. Train Loss: 0.01023. Val Loss: 0.00784. Val DC LV: 0.91681. Val DC MYO: 0.79500.\n"
     ]
    },
    {
     "name": "stderr",
     "output_type": "stream",
     "text": [
      "100%|##########| 31/31 [00:08<00:00,  3.77it/s]\n",
      "100%|##########| 114/114 [00:01<00:00, 105.58it/s]\n",
      "  0%|          | 0/31 [00:00<?, ?it/s]"
     ]
    },
    {
     "name": "stdout",
     "output_type": "stream",
     "text": [
      "Epoch: 171. Train Loss: 0.01073. Val Loss: 0.00839. Val DC LV: 0.90562. Val DC MYO: 0.81386.\n"
     ]
    },
    {
     "name": "stderr",
     "output_type": "stream",
     "text": [
      "100%|##########| 31/31 [00:08<00:00,  3.76it/s]\n",
      "100%|##########| 114/114 [00:01<00:00, 105.39it/s]\n",
      "  0%|          | 0/31 [00:00<?, ?it/s]"
     ]
    },
    {
     "name": "stdout",
     "output_type": "stream",
     "text": [
      "Epoch: 172. Train Loss: 0.01001. Val Loss: 0.00806. Val DC LV: 0.90167. Val DC MYO: 0.81823.\n"
     ]
    },
    {
     "name": "stderr",
     "output_type": "stream",
     "text": [
      "100%|##########| 31/31 [00:08<00:00,  3.77it/s]\n",
      "100%|##########| 114/114 [00:01<00:00, 107.21it/s]\n",
      "  0%|          | 0/31 [00:00<?, ?it/s]"
     ]
    },
    {
     "name": "stdout",
     "output_type": "stream",
     "text": [
      "Epoch: 173. Train Loss: 0.01113. Val Loss: 0.00831. Val DC LV: 0.90026. Val DC MYO: 0.80218.\n"
     ]
    },
    {
     "name": "stderr",
     "output_type": "stream",
     "text": [
      "100%|##########| 31/31 [00:08<00:00,  3.76it/s]\n",
      "100%|##########| 114/114 [00:01<00:00, 104.52it/s]\n",
      "  0%|          | 0/31 [00:00<?, ?it/s]"
     ]
    },
    {
     "name": "stdout",
     "output_type": "stream",
     "text": [
      "Epoch: 174. Train Loss: 0.01108. Val Loss: 0.00705. Val DC LV: 0.91707. Val DC MYO: 0.82585.\n"
     ]
    },
    {
     "name": "stderr",
     "output_type": "stream",
     "text": [
      "100%|##########| 31/31 [00:08<00:00,  3.75it/s]\n",
      "100%|##########| 114/114 [00:01<00:00, 107.22it/s]\n",
      "  0%|          | 0/31 [00:00<?, ?it/s]"
     ]
    },
    {
     "name": "stdout",
     "output_type": "stream",
     "text": [
      "Epoch: 175. Train Loss: 0.00897. Val Loss: 0.00719. Val DC LV: 0.91355. Val DC MYO: 0.82640.\n"
     ]
    },
    {
     "name": "stderr",
     "output_type": "stream",
     "text": [
      "100%|##########| 31/31 [00:08<00:00,  3.75it/s]\n",
      "100%|##########| 114/114 [00:01<00:00, 107.19it/s]\n",
      "  0%|          | 0/31 [00:00<?, ?it/s]"
     ]
    },
    {
     "name": "stdout",
     "output_type": "stream",
     "text": [
      "Epoch: 176. Train Loss: 0.01061. Val Loss: 0.00764. Val DC LV: 0.91178. Val DC MYO: 0.81570.\n"
     ]
    },
    {
     "name": "stderr",
     "output_type": "stream",
     "text": [
      "100%|##########| 31/31 [00:08<00:00,  3.76it/s]\n",
      "100%|##########| 114/114 [00:01<00:00, 106.58it/s]\n",
      "  0%|          | 0/31 [00:00<?, ?it/s]"
     ]
    },
    {
     "name": "stdout",
     "output_type": "stream",
     "text": [
      "Epoch: 177. Train Loss: 0.01128. Val Loss: 0.01020. Val DC LV: 0.88317. Val DC MYO: 0.79800.\n"
     ]
    },
    {
     "name": "stderr",
     "output_type": "stream",
     "text": [
      "100%|##########| 31/31 [00:08<00:00,  3.77it/s]\n",
      "100%|##########| 114/114 [00:01<00:00, 105.23it/s]\n",
      "  0%|          | 0/31 [00:00<?, ?it/s]"
     ]
    },
    {
     "name": "stdout",
     "output_type": "stream",
     "text": [
      "Epoch: 178. Train Loss: 0.01195. Val Loss: 0.00823. Val DC LV: 0.90794. Val DC MYO: 0.79649.\n"
     ]
    },
    {
     "name": "stderr",
     "output_type": "stream",
     "text": [
      "100%|##########| 31/31 [00:08<00:00,  3.76it/s]\n",
      "100%|##########| 114/114 [00:01<00:00, 106.68it/s]\n",
      "  0%|          | 0/31 [00:00<?, ?it/s]"
     ]
    },
    {
     "name": "stdout",
     "output_type": "stream",
     "text": [
      "Epoch: 179. Train Loss: 0.00960. Val Loss: 0.00738. Val DC LV: 0.91037. Val DC MYO: 0.80520.\n"
     ]
    },
    {
     "name": "stderr",
     "output_type": "stream",
     "text": [
      "100%|##########| 31/31 [00:08<00:00,  3.76it/s]\n",
      "100%|##########| 114/114 [00:01<00:00, 107.06it/s]\n",
      "  0%|          | 0/31 [00:00<?, ?it/s]"
     ]
    },
    {
     "name": "stdout",
     "output_type": "stream",
     "text": [
      "Epoch: 180. Train Loss: 0.00950. Val Loss: 0.00756. Val DC LV: 0.91414. Val DC MYO: 0.81273.\n"
     ]
    },
    {
     "name": "stderr",
     "output_type": "stream",
     "text": [
      "100%|##########| 31/31 [00:08<00:00,  3.77it/s]\n",
      "100%|##########| 114/114 [00:01<00:00, 107.11it/s]\n",
      "  0%|          | 0/31 [00:00<?, ?it/s]"
     ]
    },
    {
     "name": "stdout",
     "output_type": "stream",
     "text": [
      "Epoch: 181. Train Loss: 0.00887. Val Loss: 0.00702. Val DC LV: 0.91361. Val DC MYO: 0.81846.\n"
     ]
    },
    {
     "name": "stderr",
     "output_type": "stream",
     "text": [
      "100%|##########| 31/31 [00:08<00:00,  3.76it/s]\n",
      "100%|##########| 114/114 [00:01<00:00, 105.79it/s]\n",
      "  0%|          | 0/31 [00:00<?, ?it/s]"
     ]
    },
    {
     "name": "stdout",
     "output_type": "stream",
     "text": [
      "Epoch: 182. Train Loss: 0.00845. Val Loss: 0.00707. Val DC LV: 0.91115. Val DC MYO: 0.81800.\n"
     ]
    },
    {
     "name": "stderr",
     "output_type": "stream",
     "text": [
      "100%|##########| 31/31 [00:08<00:00,  3.77it/s]\n",
      "100%|##########| 114/114 [00:01<00:00, 107.05it/s]\n",
      "  0%|          | 0/31 [00:00<?, ?it/s]"
     ]
    },
    {
     "name": "stdout",
     "output_type": "stream",
     "text": [
      "Epoch: 183. Train Loss: 0.01113. Val Loss: 0.00787. Val DC LV: 0.91207. Val DC MYO: 0.81162.\n"
     ]
    },
    {
     "name": "stderr",
     "output_type": "stream",
     "text": [
      "100%|##########| 31/31 [00:08<00:00,  3.76it/s]\n",
      "100%|##########| 114/114 [00:01<00:00, 107.35it/s]\n",
      "  0%|          | 0/31 [00:00<?, ?it/s]"
     ]
    },
    {
     "name": "stdout",
     "output_type": "stream",
     "text": [
      "Epoch: 184. Train Loss: 0.01013. Val Loss: 0.00987. Val DC LV: 0.88344. Val DC MYO: 0.76881.\n"
     ]
    },
    {
     "name": "stderr",
     "output_type": "stream",
     "text": [
      "100%|##########| 31/31 [00:08<00:00,  3.77it/s]\n",
      "100%|##########| 114/114 [00:01<00:00, 105.51it/s]\n",
      "  0%|          | 0/31 [00:00<?, ?it/s]"
     ]
    },
    {
     "name": "stdout",
     "output_type": "stream",
     "text": [
      "Epoch: 185. Train Loss: 0.01073. Val Loss: 0.00784. Val DC LV: 0.89325. Val DC MYO: 0.80698.\n"
     ]
    },
    {
     "name": "stderr",
     "output_type": "stream",
     "text": [
      "100%|##########| 31/31 [00:08<00:00,  3.76it/s]\n",
      "100%|##########| 114/114 [00:01<00:00, 106.74it/s]\n",
      "  0%|          | 0/31 [00:00<?, ?it/s]"
     ]
    },
    {
     "name": "stdout",
     "output_type": "stream",
     "text": [
      "Epoch: 186. Train Loss: 0.01037. Val Loss: 0.00779. Val DC LV: 0.91416. Val DC MYO: 0.82921.\n"
     ]
    },
    {
     "name": "stderr",
     "output_type": "stream",
     "text": [
      "100%|##########| 31/31 [00:08<00:00,  3.74it/s]\n",
      "100%|##########| 114/114 [00:01<00:00, 106.66it/s]\n",
      "  0%|          | 0/31 [00:00<?, ?it/s]"
     ]
    },
    {
     "name": "stdout",
     "output_type": "stream",
     "text": [
      "Epoch: 187. Train Loss: 0.00972. Val Loss: 0.00849. Val DC LV: 0.89498. Val DC MYO: 0.78162.\n"
     ]
    },
    {
     "name": "stderr",
     "output_type": "stream",
     "text": [
      "100%|##########| 31/31 [00:08<00:00,  3.77it/s]\n",
      "100%|##########| 114/114 [00:01<00:00, 106.43it/s]\n",
      "  0%|          | 0/31 [00:00<?, ?it/s]"
     ]
    },
    {
     "name": "stdout",
     "output_type": "stream",
     "text": [
      "Epoch: 188. Train Loss: 0.01006. Val Loss: 0.00711. Val DC LV: 0.91488. Val DC MYO: 0.83434.\n"
     ]
    },
    {
     "name": "stderr",
     "output_type": "stream",
     "text": [
      "100%|##########| 31/31 [00:08<00:00,  3.76it/s]\n",
      "100%|##########| 114/114 [00:01<00:00, 106.50it/s]\n",
      "  0%|          | 0/31 [00:00<?, ?it/s]"
     ]
    },
    {
     "name": "stdout",
     "output_type": "stream",
     "text": [
      "Epoch: 189. Train Loss: 0.00923. Val Loss: 0.00695. Val DC LV: 0.91717. Val DC MYO: 0.83163.\n"
     ]
    },
    {
     "name": "stderr",
     "output_type": "stream",
     "text": [
      "100%|##########| 31/31 [00:08<00:00,  3.76it/s]\n",
      "100%|##########| 114/114 [00:01<00:00, 106.33it/s]\n",
      "  0%|          | 0/31 [00:00<?, ?it/s]"
     ]
    },
    {
     "name": "stdout",
     "output_type": "stream",
     "text": [
      "Epoch: 190. Train Loss: 0.01055. Val Loss: 0.00829. Val DC LV: 0.89946. Val DC MYO: 0.80180.\n"
     ]
    },
    {
     "name": "stderr",
     "output_type": "stream",
     "text": [
      "100%|##########| 31/31 [00:08<00:00,  3.76it/s]\n",
      "100%|##########| 114/114 [00:01<00:00, 107.15it/s]\n",
      "  0%|          | 0/31 [00:00<?, ?it/s]"
     ]
    },
    {
     "name": "stdout",
     "output_type": "stream",
     "text": [
      "Epoch: 191. Train Loss: 0.00950. Val Loss: 0.00817. Val DC LV: 0.90482. Val DC MYO: 0.81599.\n"
     ]
    },
    {
     "name": "stderr",
     "output_type": "stream",
     "text": [
      "100%|##########| 31/31 [00:08<00:00,  3.75it/s]\n",
      "100%|##########| 114/114 [00:01<00:00, 106.54it/s]\n",
      "  0%|          | 0/31 [00:00<?, ?it/s]"
     ]
    },
    {
     "name": "stdout",
     "output_type": "stream",
     "text": [
      "Epoch: 192. Train Loss: 0.00908. Val Loss: 0.00820. Val DC LV: 0.90544. Val DC MYO: 0.79991.\n"
     ]
    },
    {
     "name": "stderr",
     "output_type": "stream",
     "text": [
      "100%|##########| 31/31 [00:08<00:00,  3.75it/s]\n",
      "100%|##########| 114/114 [00:01<00:00, 106.60it/s]\n",
      "  0%|          | 0/31 [00:00<?, ?it/s]"
     ]
    },
    {
     "name": "stdout",
     "output_type": "stream",
     "text": [
      "Epoch: 193. Train Loss: 0.00913. Val Loss: 0.00815. Val DC LV: 0.90879. Val DC MYO: 0.81135.\n"
     ]
    },
    {
     "name": "stderr",
     "output_type": "stream",
     "text": [
      "100%|##########| 31/31 [00:08<00:00,  3.76it/s]\n",
      "100%|##########| 114/114 [00:01<00:00, 106.64it/s]\n",
      "  0%|          | 0/31 [00:00<?, ?it/s]"
     ]
    },
    {
     "name": "stdout",
     "output_type": "stream",
     "text": [
      "Epoch: 194. Train Loss: 0.01071. Val Loss: 0.00954. Val DC LV: 0.90828. Val DC MYO: 0.81470.\n"
     ]
    },
    {
     "name": "stderr",
     "output_type": "stream",
     "text": [
      "100%|##########| 31/31 [00:08<00:00,  3.76it/s]\n",
      "100%|##########| 114/114 [00:01<00:00, 107.07it/s]\n",
      "  0%|          | 0/31 [00:00<?, ?it/s]"
     ]
    },
    {
     "name": "stdout",
     "output_type": "stream",
     "text": [
      "Epoch: 195. Train Loss: 0.01039. Val Loss: 0.00778. Val DC LV: 0.91101. Val DC MYO: 0.82129.\n"
     ]
    },
    {
     "name": "stderr",
     "output_type": "stream",
     "text": [
      "100%|##########| 31/31 [00:08<00:00,  3.76it/s]\n",
      "100%|##########| 114/114 [00:01<00:00, 106.66it/s]\n",
      "  0%|          | 0/31 [00:00<?, ?it/s]"
     ]
    },
    {
     "name": "stdout",
     "output_type": "stream",
     "text": [
      "Epoch: 196. Train Loss: 0.00919. Val Loss: 0.00894. Val DC LV: 0.90471. Val DC MYO: 0.79007.\n"
     ]
    },
    {
     "name": "stderr",
     "output_type": "stream",
     "text": [
      "100%|##########| 31/31 [00:08<00:00,  3.74it/s]\n",
      "100%|##########| 114/114 [00:01<00:00, 105.92it/s]\n",
      "  0%|          | 0/31 [00:00<?, ?it/s]"
     ]
    },
    {
     "name": "stdout",
     "output_type": "stream",
     "text": [
      "Epoch: 197. Train Loss: 0.01033. Val Loss: 0.00742. Val DC LV: 0.91872. Val DC MYO: 0.82970.\n"
     ]
    },
    {
     "name": "stderr",
     "output_type": "stream",
     "text": [
      "100%|##########| 31/31 [00:08<00:00,  3.75it/s]\n",
      "100%|##########| 114/114 [00:01<00:00, 106.87it/s]\n",
      "  0%|          | 0/31 [00:00<?, ?it/s]"
     ]
    },
    {
     "name": "stdout",
     "output_type": "stream",
     "text": [
      "Epoch: 198. Train Loss: 0.00921. Val Loss: 0.00758. Val DC LV: 0.90705. Val DC MYO: 0.82585.\n"
     ]
    },
    {
     "name": "stderr",
     "output_type": "stream",
     "text": [
      "100%|##########| 31/31 [00:08<00:00,  3.77it/s]\n",
      "100%|##########| 114/114 [00:01<00:00, 106.62it/s]\n",
      "  0%|          | 0/31 [00:00<?, ?it/s]"
     ]
    },
    {
     "name": "stdout",
     "output_type": "stream",
     "text": [
      "Epoch: 199. Train Loss: 0.01068. Val Loss: 0.00979. Val DC LV: 0.90655. Val DC MYO: 0.80757.\n"
     ]
    },
    {
     "name": "stderr",
     "output_type": "stream",
     "text": [
      "100%|##########| 31/31 [00:08<00:00,  3.77it/s]\n",
      "100%|##########| 114/114 [00:01<00:00, 106.03it/s]\n",
      "  0%|          | 0/31 [00:00<?, ?it/s]"
     ]
    },
    {
     "name": "stdout",
     "output_type": "stream",
     "text": [
      "Epoch: 200. Train Loss: 0.00904. Val Loss: 0.00716. Val DC LV: 0.91725. Val DC MYO: 0.81356.\n"
     ]
    },
    {
     "name": "stderr",
     "output_type": "stream",
     "text": [
      "100%|##########| 31/31 [00:08<00:00,  3.77it/s]\n",
      "100%|##########| 114/114 [00:01<00:00, 106.70it/s]\n",
      "  0%|          | 0/31 [00:00<?, ?it/s]"
     ]
    },
    {
     "name": "stdout",
     "output_type": "stream",
     "text": [
      "Epoch: 201. Train Loss: 0.01026. Val Loss: 0.00726. Val DC LV: 0.91514. Val DC MYO: 0.82623.\n"
     ]
    },
    {
     "name": "stderr",
     "output_type": "stream",
     "text": [
      "100%|##########| 31/31 [00:08<00:00,  3.76it/s]\n",
      "100%|##########| 114/114 [00:01<00:00, 105.88it/s]\n",
      "  0%|          | 0/31 [00:00<?, ?it/s]"
     ]
    },
    {
     "name": "stdout",
     "output_type": "stream",
     "text": [
      "Epoch: 202. Train Loss: 0.00966. Val Loss: 0.00800. Val DC LV: 0.91480. Val DC MYO: 0.78840.\n"
     ]
    },
    {
     "name": "stderr",
     "output_type": "stream",
     "text": [
      "100%|##########| 31/31 [00:08<00:00,  3.77it/s]\n",
      "100%|##########| 114/114 [00:01<00:00, 105.07it/s]\n",
      "  0%|          | 0/31 [00:00<?, ?it/s]"
     ]
    },
    {
     "name": "stdout",
     "output_type": "stream",
     "text": [
      "Epoch: 203. Train Loss: 0.00951. Val Loss: 0.00736. Val DC LV: 0.91038. Val DC MYO: 0.82761.\n"
     ]
    },
    {
     "name": "stderr",
     "output_type": "stream",
     "text": [
      "100%|##########| 31/31 [00:08<00:00,  3.75it/s]\n",
      "100%|##########| 114/114 [00:01<00:00, 106.46it/s]\n",
      "  0%|          | 0/31 [00:00<?, ?it/s]"
     ]
    },
    {
     "name": "stdout",
     "output_type": "stream",
     "text": [
      "Epoch: 204. Train Loss: 0.00876. Val Loss: 0.00767. Val DC LV: 0.91257. Val DC MYO: 0.82428.\n"
     ]
    },
    {
     "name": "stderr",
     "output_type": "stream",
     "text": [
      "100%|##########| 31/31 [00:08<00:00,  3.77it/s]\n",
      "100%|##########| 114/114 [00:01<00:00, 106.78it/s]\n",
      "  0%|          | 0/31 [00:00<?, ?it/s]"
     ]
    },
    {
     "name": "stdout",
     "output_type": "stream",
     "text": [
      "Epoch: 205. Train Loss: 0.00933. Val Loss: 0.00722. Val DC LV: 0.91203. Val DC MYO: 0.82362.\n"
     ]
    },
    {
     "name": "stderr",
     "output_type": "stream",
     "text": [
      "100%|##########| 31/31 [00:08<00:00,  3.74it/s]\n",
      "100%|##########| 114/114 [00:01<00:00, 107.59it/s]\n",
      "  0%|          | 0/31 [00:00<?, ?it/s]"
     ]
    },
    {
     "name": "stdout",
     "output_type": "stream",
     "text": [
      "Epoch: 206. Train Loss: 0.00954. Val Loss: 0.00738. Val DC LV: 0.91541. Val DC MYO: 0.82163.\n"
     ]
    },
    {
     "name": "stderr",
     "output_type": "stream",
     "text": [
      "100%|##########| 31/31 [00:08<00:00,  3.77it/s]\n",
      "100%|##########| 114/114 [00:01<00:00, 106.32it/s]\n",
      "  0%|          | 0/31 [00:00<?, ?it/s]"
     ]
    },
    {
     "name": "stdout",
     "output_type": "stream",
     "text": [
      "Epoch: 207. Train Loss: 0.01007. Val Loss: 0.00828. Val DC LV: 0.91049. Val DC MYO: 0.81622.\n"
     ]
    },
    {
     "name": "stderr",
     "output_type": "stream",
     "text": [
      "100%|##########| 31/31 [00:08<00:00,  3.76it/s]\n",
      "100%|##########| 114/114 [00:01<00:00, 106.17it/s]\n",
      "  0%|          | 0/31 [00:00<?, ?it/s]"
     ]
    },
    {
     "name": "stdout",
     "output_type": "stream",
     "text": [
      "Epoch: 208. Train Loss: 0.00884. Val Loss: 0.00706. Val DC LV: 0.90276. Val DC MYO: 0.82761.\n"
     ]
    },
    {
     "name": "stderr",
     "output_type": "stream",
     "text": [
      "100%|##########| 31/31 [00:08<00:00,  3.76it/s]\n",
      "100%|##########| 114/114 [00:01<00:00, 106.86it/s]\n",
      "  0%|          | 0/31 [00:00<?, ?it/s]"
     ]
    },
    {
     "name": "stdout",
     "output_type": "stream",
     "text": [
      "Epoch: 209. Train Loss: 0.01091. Val Loss: 0.00882. Val DC LV: 0.91056. Val DC MYO: 0.81727.\n"
     ]
    },
    {
     "name": "stderr",
     "output_type": "stream",
     "text": [
      "100%|##########| 31/31 [00:08<00:00,  3.77it/s]\n",
      "100%|##########| 114/114 [00:01<00:00, 106.52it/s]\n",
      "  0%|          | 0/31 [00:00<?, ?it/s]"
     ]
    },
    {
     "name": "stdout",
     "output_type": "stream",
     "text": [
      "Epoch: 210. Train Loss: 0.01022. Val Loss: 0.00771. Val DC LV: 0.91424. Val DC MYO: 0.81170.\n"
     ]
    },
    {
     "name": "stderr",
     "output_type": "stream",
     "text": [
      "100%|##########| 31/31 [00:08<00:00,  3.76it/s]\n",
      "100%|##########| 114/114 [00:01<00:00, 104.91it/s]\n",
      "  0%|          | 0/31 [00:00<?, ?it/s]"
     ]
    },
    {
     "name": "stdout",
     "output_type": "stream",
     "text": [
      "Epoch: 211. Train Loss: 0.01130. Val Loss: 0.00743. Val DC LV: 0.91738. Val DC MYO: 0.82076.\n"
     ]
    },
    {
     "name": "stderr",
     "output_type": "stream",
     "text": [
      "100%|##########| 31/31 [00:08<00:00,  3.76it/s]\n",
      "100%|##########| 114/114 [00:01<00:00, 106.36it/s]\n",
      "  0%|          | 0/31 [00:00<?, ?it/s]"
     ]
    },
    {
     "name": "stdout",
     "output_type": "stream",
     "text": [
      "Epoch: 212. Train Loss: 0.01008. Val Loss: 0.00781. Val DC LV: 0.91107. Val DC MYO: 0.82281.\n"
     ]
    },
    {
     "name": "stderr",
     "output_type": "stream",
     "text": [
      "100%|##########| 31/31 [00:08<00:00,  3.76it/s]\n",
      "100%|##########| 114/114 [00:01<00:00, 107.30it/s]\n",
      "  0%|          | 0/31 [00:00<?, ?it/s]"
     ]
    },
    {
     "name": "stdout",
     "output_type": "stream",
     "text": [
      "Epoch: 213. Train Loss: 0.01033. Val Loss: 0.01002. Val DC LV: 0.90348. Val DC MYO: 0.81094.\n"
     ]
    },
    {
     "name": "stderr",
     "output_type": "stream",
     "text": [
      "100%|##########| 31/31 [00:08<00:00,  3.77it/s]\n",
      "100%|##########| 114/114 [00:01<00:00, 107.25it/s]\n",
      "  0%|          | 0/31 [00:00<?, ?it/s]"
     ]
    },
    {
     "name": "stdout",
     "output_type": "stream",
     "text": [
      "Epoch: 214. Train Loss: 0.01038. Val Loss: 0.00737. Val DC LV: 0.91546. Val DC MYO: 0.82444.\n"
     ]
    },
    {
     "name": "stderr",
     "output_type": "stream",
     "text": [
      "100%|##########| 31/31 [00:08<00:00,  3.76it/s]\n",
      "100%|##########| 114/114 [00:01<00:00, 106.57it/s]\n",
      "  0%|          | 0/31 [00:00<?, ?it/s]"
     ]
    },
    {
     "name": "stdout",
     "output_type": "stream",
     "text": [
      "Epoch: 215. Train Loss: 0.00946. Val Loss: 0.00681. Val DC LV: 0.91957. Val DC MYO: 0.82605.\n"
     ]
    },
    {
     "name": "stderr",
     "output_type": "stream",
     "text": [
      "100%|##########| 31/31 [00:08<00:00,  3.76it/s]\n",
      "100%|##########| 114/114 [00:01<00:00, 107.00it/s]\n",
      "  0%|          | 0/31 [00:00<?, ?it/s]"
     ]
    },
    {
     "name": "stdout",
     "output_type": "stream",
     "text": [
      "Epoch: 216. Train Loss: 0.00953. Val Loss: 0.00700. Val DC LV: 0.92065. Val DC MYO: 0.82945.\n"
     ]
    },
    {
     "name": "stderr",
     "output_type": "stream",
     "text": [
      "100%|##########| 31/31 [00:08<00:00,  3.76it/s]\n",
      "100%|##########| 114/114 [00:01<00:00, 107.06it/s]\n",
      "  0%|          | 0/31 [00:00<?, ?it/s]"
     ]
    },
    {
     "name": "stdout",
     "output_type": "stream",
     "text": [
      "Epoch: 217. Train Loss: 0.01005. Val Loss: 0.00709. Val DC LV: 0.91500. Val DC MYO: 0.83403.\n"
     ]
    },
    {
     "name": "stderr",
     "output_type": "stream",
     "text": [
      "100%|##########| 31/31 [00:08<00:00,  3.76it/s]\n",
      "100%|##########| 114/114 [00:01<00:00, 107.04it/s]\n",
      "  0%|          | 0/31 [00:00<?, ?it/s]"
     ]
    },
    {
     "name": "stdout",
     "output_type": "stream",
     "text": [
      "Epoch: 218. Train Loss: 0.00964. Val Loss: 0.00763. Val DC LV: 0.91104. Val DC MYO: 0.82234.\n"
     ]
    },
    {
     "name": "stderr",
     "output_type": "stream",
     "text": [
      "100%|##########| 31/31 [00:08<00:00,  3.76it/s]\n",
      "100%|##########| 114/114 [00:01<00:00, 106.04it/s]\n",
      "  0%|          | 0/31 [00:00<?, ?it/s]"
     ]
    },
    {
     "name": "stdout",
     "output_type": "stream",
     "text": [
      "Epoch: 219. Train Loss: 0.01000. Val Loss: 0.00770. Val DC LV: 0.91295. Val DC MYO: 0.82389.\n"
     ]
    },
    {
     "name": "stderr",
     "output_type": "stream",
     "text": [
      "100%|##########| 31/31 [00:08<00:00,  3.77it/s]\n",
      "100%|##########| 114/114 [00:01<00:00, 106.75it/s]\n",
      "  0%|          | 0/31 [00:00<?, ?it/s]"
     ]
    },
    {
     "name": "stdout",
     "output_type": "stream",
     "text": [
      "Epoch: 220. Train Loss: 0.00966. Val Loss: 0.00790. Val DC LV: 0.91123. Val DC MYO: 0.81794.\n"
     ]
    },
    {
     "name": "stderr",
     "output_type": "stream",
     "text": [
      "100%|##########| 31/31 [00:08<00:00,  3.76it/s]\n",
      "100%|##########| 114/114 [00:01<00:00, 106.53it/s]\n",
      "  0%|          | 0/31 [00:00<?, ?it/s]"
     ]
    },
    {
     "name": "stdout",
     "output_type": "stream",
     "text": [
      "Epoch: 221. Train Loss: 0.00977. Val Loss: 0.00716. Val DC LV: 0.92055. Val DC MYO: 0.83029.\n"
     ]
    },
    {
     "name": "stderr",
     "output_type": "stream",
     "text": [
      "100%|##########| 31/31 [00:08<00:00,  3.75it/s]\n",
      "100%|##########| 114/114 [00:01<00:00, 106.40it/s]\n",
      "  0%|          | 0/31 [00:00<?, ?it/s]"
     ]
    },
    {
     "name": "stdout",
     "output_type": "stream",
     "text": [
      "Epoch: 222. Train Loss: 0.00950. Val Loss: 0.00698. Val DC LV: 0.91886. Val DC MYO: 0.82538.\n"
     ]
    },
    {
     "name": "stderr",
     "output_type": "stream",
     "text": [
      "100%|##########| 31/31 [00:08<00:00,  3.74it/s]\n",
      "100%|##########| 114/114 [00:01<00:00, 106.61it/s]\n",
      "  0%|          | 0/31 [00:00<?, ?it/s]"
     ]
    },
    {
     "name": "stdout",
     "output_type": "stream",
     "text": [
      "Epoch: 223. Train Loss: 0.00902. Val Loss: 0.00737. Val DC LV: 0.91837. Val DC MYO: 0.82281.\n"
     ]
    },
    {
     "name": "stderr",
     "output_type": "stream",
     "text": [
      "100%|##########| 31/31 [00:08<00:00,  3.74it/s]\n",
      "100%|##########| 114/114 [00:01<00:00, 106.63it/s]\n",
      "  0%|          | 0/31 [00:00<?, ?it/s]"
     ]
    },
    {
     "name": "stdout",
     "output_type": "stream",
     "text": [
      "Epoch: 224. Train Loss: 0.00896. Val Loss: 0.00696. Val DC LV: 0.91831. Val DC MYO: 0.82261.\n"
     ]
    },
    {
     "name": "stderr",
     "output_type": "stream",
     "text": [
      "100%|##########| 31/31 [00:08<00:00,  3.77it/s]\n",
      "100%|##########| 114/114 [00:01<00:00, 106.51it/s]\n",
      "  0%|          | 0/31 [00:00<?, ?it/s]"
     ]
    },
    {
     "name": "stdout",
     "output_type": "stream",
     "text": [
      "Epoch: 225. Train Loss: 0.00850. Val Loss: 0.00706. Val DC LV: 0.91958. Val DC MYO: 0.83045.\n"
     ]
    },
    {
     "name": "stderr",
     "output_type": "stream",
     "text": [
      "100%|##########| 31/31 [00:08<00:00,  3.77it/s]\n",
      "100%|##########| 114/114 [00:01<00:00, 106.77it/s]\n",
      "  0%|          | 0/31 [00:00<?, ?it/s]"
     ]
    },
    {
     "name": "stdout",
     "output_type": "stream",
     "text": [
      "Epoch: 226. Train Loss: 0.00785. Val Loss: 0.00811. Val DC LV: 0.91433. Val DC MYO: 0.81845.\n"
     ]
    },
    {
     "name": "stderr",
     "output_type": "stream",
     "text": [
      "100%|##########| 31/31 [00:08<00:00,  3.74it/s]\n",
      "100%|##########| 114/114 [00:01<00:00, 106.86it/s]\n",
      "  0%|          | 0/31 [00:00<?, ?it/s]"
     ]
    },
    {
     "name": "stdout",
     "output_type": "stream",
     "text": [
      "Epoch: 227. Train Loss: 0.00933. Val Loss: 0.00704. Val DC LV: 0.91816. Val DC MYO: 0.83408.\n"
     ]
    },
    {
     "name": "stderr",
     "output_type": "stream",
     "text": [
      "100%|##########| 31/31 [00:08<00:00,  3.76it/s]\n",
      "100%|##########| 114/114 [00:01<00:00, 105.60it/s]\n",
      "  0%|          | 0/31 [00:00<?, ?it/s]"
     ]
    },
    {
     "name": "stdout",
     "output_type": "stream",
     "text": [
      "Epoch: 228. Train Loss: 0.00886. Val Loss: 0.00691. Val DC LV: 0.92125. Val DC MYO: 0.82658.\n"
     ]
    },
    {
     "name": "stderr",
     "output_type": "stream",
     "text": [
      "100%|##########| 31/31 [00:08<00:00,  3.76it/s]\n",
      "100%|##########| 114/114 [00:01<00:00, 105.15it/s]\n",
      "  0%|          | 0/31 [00:00<?, ?it/s]"
     ]
    },
    {
     "name": "stdout",
     "output_type": "stream",
     "text": [
      "Epoch: 229. Train Loss: 0.00943. Val Loss: 0.00766. Val DC LV: 0.91044. Val DC MYO: 0.81809.\n"
     ]
    },
    {
     "name": "stderr",
     "output_type": "stream",
     "text": [
      "100%|##########| 31/31 [00:08<00:00,  3.76it/s]\n",
      "100%|##########| 114/114 [00:01<00:00, 106.70it/s]\n",
      "  0%|          | 0/31 [00:00<?, ?it/s]"
     ]
    },
    {
     "name": "stdout",
     "output_type": "stream",
     "text": [
      "Epoch: 230. Train Loss: 0.00927. Val Loss: 0.00741. Val DC LV: 0.91824. Val DC MYO: 0.82215.\n"
     ]
    },
    {
     "name": "stderr",
     "output_type": "stream",
     "text": [
      "100%|##########| 31/31 [00:08<00:00,  3.71it/s]\n",
      "100%|##########| 114/114 [00:01<00:00, 106.18it/s]\n",
      "  0%|          | 0/31 [00:00<?, ?it/s]"
     ]
    },
    {
     "name": "stdout",
     "output_type": "stream",
     "text": [
      "Epoch: 231. Train Loss: 0.00979. Val Loss: 0.00785. Val DC LV: 0.91137. Val DC MYO: 0.82282.\n"
     ]
    },
    {
     "name": "stderr",
     "output_type": "stream",
     "text": [
      "100%|##########| 31/31 [00:08<00:00,  3.74it/s]\n",
      "100%|##########| 114/114 [00:01<00:00, 106.83it/s]\n",
      "  0%|          | 0/31 [00:00<?, ?it/s]"
     ]
    },
    {
     "name": "stdout",
     "output_type": "stream",
     "text": [
      "Epoch: 232. Train Loss: 0.01010. Val Loss: 0.00716. Val DC LV: 0.91813. Val DC MYO: 0.82576.\n"
     ]
    },
    {
     "name": "stderr",
     "output_type": "stream",
     "text": [
      "100%|##########| 31/31 [00:08<00:00,  3.73it/s]\n",
      "100%|##########| 114/114 [00:01<00:00, 97.31it/s]\n",
      "  0%|          | 0/31 [00:00<?, ?it/s]"
     ]
    },
    {
     "name": "stdout",
     "output_type": "stream",
     "text": [
      "Epoch: 233. Train Loss: 0.00926. Val Loss: 0.00734. Val DC LV: 0.91489. Val DC MYO: 0.82892.\n"
     ]
    },
    {
     "name": "stderr",
     "output_type": "stream",
     "text": [
      "100%|##########| 31/31 [00:08<00:00,  3.72it/s]\n",
      "100%|##########| 114/114 [00:01<00:00, 101.09it/s]\n",
      "  0%|          | 0/31 [00:00<?, ?it/s]"
     ]
    },
    {
     "name": "stdout",
     "output_type": "stream",
     "text": [
      "Epoch: 234. Train Loss: 0.00895. Val Loss: 0.00747. Val DC LV: 0.91404. Val DC MYO: 0.82815.\n"
     ]
    },
    {
     "name": "stderr",
     "output_type": "stream",
     "text": [
      "100%|##########| 31/31 [00:08<00:00,  3.73it/s]\n",
      "100%|##########| 114/114 [00:01<00:00, 100.65it/s]\n",
      "  0%|          | 0/31 [00:00<?, ?it/s]"
     ]
    },
    {
     "name": "stdout",
     "output_type": "stream",
     "text": [
      "Epoch: 235. Train Loss: 0.00926. Val Loss: 0.00755. Val DC LV: 0.91638. Val DC MYO: 0.80949.\n"
     ]
    },
    {
     "name": "stderr",
     "output_type": "stream",
     "text": [
      "100%|##########| 31/31 [00:08<00:00,  3.72it/s]\n",
      "100%|##########| 114/114 [00:01<00:00, 100.80it/s]\n",
      "  0%|          | 0/31 [00:00<?, ?it/s]"
     ]
    },
    {
     "name": "stdout",
     "output_type": "stream",
     "text": [
      "Epoch: 236. Train Loss: 0.01265. Val Loss: 0.01535. Val DC LV: 0.87140. Val DC MYO: 0.76345.\n"
     ]
    },
    {
     "name": "stderr",
     "output_type": "stream",
     "text": [
      "100%|##########| 31/31 [00:08<00:00,  3.73it/s]\n",
      "100%|##########| 114/114 [00:01<00:00, 106.96it/s]\n",
      "  0%|          | 0/31 [00:00<?, ?it/s]"
     ]
    },
    {
     "name": "stdout",
     "output_type": "stream",
     "text": [
      "Epoch: 237. Train Loss: 0.01162. Val Loss: 0.00881. Val DC LV: 0.89330. Val DC MYO: 0.80256.\n"
     ]
    },
    {
     "name": "stderr",
     "output_type": "stream",
     "text": [
      "100%|##########| 31/31 [00:08<00:00,  3.77it/s]\n",
      "100%|##########| 114/114 [00:01<00:00, 106.91it/s]\n",
      "  0%|          | 0/31 [00:00<?, ?it/s]"
     ]
    },
    {
     "name": "stdout",
     "output_type": "stream",
     "text": [
      "Epoch: 238. Train Loss: 0.01009. Val Loss: 0.00813. Val DC LV: 0.90821. Val DC MYO: 0.81525.\n"
     ]
    },
    {
     "name": "stderr",
     "output_type": "stream",
     "text": [
      "100%|##########| 31/31 [00:08<00:00,  3.76it/s]\n",
      "100%|##########| 114/114 [00:01<00:00, 106.89it/s]\n",
      "  0%|          | 0/31 [00:00<?, ?it/s]"
     ]
    },
    {
     "name": "stdout",
     "output_type": "stream",
     "text": [
      "Epoch: 239. Train Loss: 0.00949. Val Loss: 0.00949. Val DC LV: 0.89340. Val DC MYO: 0.81193.\n"
     ]
    },
    {
     "name": "stderr",
     "output_type": "stream",
     "text": [
      "100%|##########| 31/31 [00:08<00:00,  3.76it/s]\n",
      "100%|##########| 114/114 [00:01<00:00, 106.68it/s]\n",
      "  0%|          | 0/31 [00:00<?, ?it/s]"
     ]
    },
    {
     "name": "stdout",
     "output_type": "stream",
     "text": [
      "Epoch: 240. Train Loss: 0.01256. Val Loss: 0.01088. Val DC LV: 0.88306. Val DC MYO: 0.79350.\n"
     ]
    },
    {
     "name": "stderr",
     "output_type": "stream",
     "text": [
      "100%|##########| 31/31 [00:08<00:00,  3.77it/s]\n",
      "100%|##########| 114/114 [00:01<00:00, 106.70it/s]\n",
      "  0%|          | 0/31 [00:00<?, ?it/s]"
     ]
    },
    {
     "name": "stdout",
     "output_type": "stream",
     "text": [
      "Epoch: 241. Train Loss: 0.01106. Val Loss: 0.00862. Val DC LV: 0.91221. Val DC MYO: 0.81497.\n"
     ]
    },
    {
     "name": "stderr",
     "output_type": "stream",
     "text": [
      "100%|##########| 31/31 [00:08<00:00,  3.76it/s]\n",
      "100%|##########| 114/114 [00:01<00:00, 106.74it/s]\n",
      "  0%|          | 0/31 [00:00<?, ?it/s]"
     ]
    },
    {
     "name": "stdout",
     "output_type": "stream",
     "text": [
      "Epoch: 242. Train Loss: 0.01010. Val Loss: 0.00747. Val DC LV: 0.91774. Val DC MYO: 0.82447.\n"
     ]
    },
    {
     "name": "stderr",
     "output_type": "stream",
     "text": [
      "100%|##########| 31/31 [00:08<00:00,  3.74it/s]\n",
      "100%|##########| 114/114 [00:01<00:00, 106.90it/s]\n",
      "  0%|          | 0/31 [00:00<?, ?it/s]"
     ]
    },
    {
     "name": "stdout",
     "output_type": "stream",
     "text": [
      "Epoch: 243. Train Loss: 0.01053. Val Loss: 0.00962. Val DC LV: 0.90280. Val DC MYO: 0.80750.\n"
     ]
    },
    {
     "name": "stderr",
     "output_type": "stream",
     "text": [
      "100%|##########| 31/31 [00:08<00:00,  3.77it/s]\n",
      "100%|##########| 114/114 [00:01<00:00, 106.75it/s]\n",
      "  0%|          | 0/31 [00:00<?, ?it/s]"
     ]
    },
    {
     "name": "stdout",
     "output_type": "stream",
     "text": [
      "Epoch: 244. Train Loss: 0.01070. Val Loss: 0.00773. Val DC LV: 0.91058. Val DC MYO: 0.82450.\n"
     ]
    },
    {
     "name": "stderr",
     "output_type": "stream",
     "text": [
      "100%|##########| 31/31 [00:08<00:00,  3.75it/s]\n",
      "100%|##########| 114/114 [00:01<00:00, 105.57it/s]\n",
      "  0%|          | 0/31 [00:00<?, ?it/s]"
     ]
    },
    {
     "name": "stdout",
     "output_type": "stream",
     "text": [
      "Epoch: 245. Train Loss: 0.00889. Val Loss: 0.00716. Val DC LV: 0.91796. Val DC MYO: 0.82780.\n"
     ]
    },
    {
     "name": "stderr",
     "output_type": "stream",
     "text": [
      "100%|##########| 31/31 [00:08<00:00,  3.76it/s]\n",
      "100%|##########| 114/114 [00:01<00:00, 106.67it/s]\n",
      "  0%|          | 0/31 [00:00<?, ?it/s]"
     ]
    },
    {
     "name": "stdout",
     "output_type": "stream",
     "text": [
      "Epoch: 246. Train Loss: 0.00859. Val Loss: 0.00848. Val DC LV: 0.90558. Val DC MYO: 0.78546.\n"
     ]
    },
    {
     "name": "stderr",
     "output_type": "stream",
     "text": [
      "100%|##########| 31/31 [00:08<00:00,  3.76it/s]\n",
      "100%|##########| 114/114 [00:01<00:00, 106.55it/s]\n",
      "  0%|          | 0/31 [00:00<?, ?it/s]"
     ]
    },
    {
     "name": "stdout",
     "output_type": "stream",
     "text": [
      "Epoch: 247. Train Loss: 0.00900. Val Loss: 0.00718. Val DC LV: 0.91418. Val DC MYO: 0.82156.\n"
     ]
    },
    {
     "name": "stderr",
     "output_type": "stream",
     "text": [
      "100%|##########| 31/31 [00:08<00:00,  3.77it/s]\n",
      "100%|##########| 114/114 [00:01<00:00, 106.88it/s]\n",
      "  0%|          | 0/31 [00:00<?, ?it/s]"
     ]
    },
    {
     "name": "stdout",
     "output_type": "stream",
     "text": [
      "Epoch: 248. Train Loss: 0.00961. Val Loss: 0.00756. Val DC LV: 0.91504. Val DC MYO: 0.82430.\n"
     ]
    },
    {
     "name": "stderr",
     "output_type": "stream",
     "text": [
      "100%|##########| 31/31 [00:08<00:00,  3.76it/s]\n",
      "100%|##########| 114/114 [00:01<00:00, 105.63it/s]"
     ]
    },
    {
     "name": "stdout",
     "output_type": "stream",
     "text": [
      "Epoch: 249. Train Loss: 0.01065. Val Loss: 0.00721. Val DC LV: 0.91739. Val DC MYO: 0.82161.\n"
     ]
    },
    {
     "name": "stderr",
     "output_type": "stream",
     "text": [
      "\n"
     ]
    }
   ],
   "source": [
    "epochs = 250\n",
    "losses_train_epochs = []\n",
    "losses_val_epochs = []\n",
    "dcs_lv_epochs = []\n",
    "dcs_myo_epochs = []\n",
    "dc_max = 0\n",
    "\n",
    "for epoch in range(epochs):\n",
    "    #training\n",
    "    model.train()\n",
    "    losses_train = []\n",
    "    for img, gt in tqdm(dataloader['train'], ascii=True): \n",
    "        optimizer.zero_grad()\n",
    "        output = model(img.to(device))\n",
    "        loss = criterion(output, gt.to(device))\n",
    "        losses_train.append(loss.item())\n",
    "        loss.backward()\n",
    "        optimizer.step()\n",
    "    losses_train_epochs.append(np.mean(losses_train))\n",
    "    \n",
    "    #validation\n",
    "    model.eval()\n",
    "    losses_val = []\n",
    "    dcs_lv = []\n",
    "    dcs_myo = []\n",
    "    for img, gt in tqdm(dataloader['val'], ascii=True):\n",
    "        pred = model(img.to(device))\n",
    "        loss = criterion(pred, gt.to(device))\n",
    "        losses_val.append(loss.item())\n",
    "        (dc_myo, dc_lv) = dice_batch_multiclass(pred.detach().cpu(), gt.detach().cpu())\n",
    "        dcs_lv.append(dc_lv)\n",
    "        dcs_myo.append(dc_myo)\n",
    "    dc_mean = np.mean([np.mean(dcs_lv), np.mean(dcs_myo)])\n",
    "    \n",
    "    #save the model with the best DC on the validation\n",
    "    if dc_max < dc_mean:\n",
    "        dc_max = dc_mean\n",
    "        torch.save({'model_state_dict': model.state_dict()}, \"../../Models/state_dict.pth\")\n",
    "    \n",
    "    dcs_lv_epochs.append(np.mean(dcs_lv))\n",
    "    dcs_myo_epochs.append(np.mean(dcs_myo))\n",
    "    losses_val_epochs.append(np.mean(losses_val))\n",
    "    print('Epoch: {}. Train Loss: {:.5f}. Val Loss: {:.5f}. Val DC LV: {:.5f}. Val DC MYO: {:.5f}.'.format(epoch, np.mean(losses_train), np.mean(losses_val), np.mean(dcs_lv), np.mean(dcs_myo)))"
   ]
  },
  {
   "cell_type": "markdown",
   "metadata": {},
   "source": [
    "Plot of the loss and metric during training and validation: "
   ]
  },
  {
   "cell_type": "code",
   "execution_count": 32,
   "metadata": {},
   "outputs": [
    {
     "data": {
      "text/plain": [
       "<matplotlib.legend.Legend at 0x7f0419475a60>"
      ]
     },
     "execution_count": 32,
     "metadata": {},
     "output_type": "execute_result"
    },
    {
     "data": {
      "image/png": "[encoded data removed]",
      "text/plain": [
       "<Figure size 720x1080 with 2 Axes>"
      ]
     },
     "metadata": {
      "needs_background": "light"
     },
     "output_type": "display_data"
    }
   ],
   "source": [
    "f, (ax1, ax2) = plt.subplots(2, 1, figsize=(10,15))\n",
    "ax1.plot(losses_train_epochs, label='training loss')\n",
    "ax1.plot(losses_val_epochs, label='validation loss')\n",
    "ax2.plot(dcs_lv_epochs, label='validation DC LV')\n",
    "ax2.plot(dcs_myo_epochs, label='validation DC MYO')\n",
    "ax1.legend(loc='upper right')\n",
    "ax2.legend(loc='upper right')"
   ]
  },
  {
   "cell_type": "code",
   "execution_count": null,
   "metadata": {},
   "outputs": [],
   "source": []
  }
 ],
 "metadata": {
  "accelerator": "GPU",
  "colab": {
   "authorship_tag": "ABX9TyOeDEtaPrMwCwJDKvIa/OAQ",
   "collapsed_sections": [],
   "name": "U-Net.ipynb",
   "provenance": []
  },
  "kernelspec": {
   "display_name": "Python 3",
   "language": "python",
   "name": "python3"
  },
  "language_info": {
   "codemirror_mode": {
    "name": "ipython",
    "version": 3
   },
   "file_extension": ".py",
   "mimetype": "text/x-python",
   "name": "python",
   "nbconvert_exporter": "python",
   "pygments_lexer": "ipython3",
   "version": "3.8.3"
  }
 },
 "nbformat": 4,
 "nbformat_minor": 1
}
